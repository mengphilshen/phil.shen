{
 "cells": [
  {
   "cell_type": "markdown",
   "metadata": {},
   "source": [
    "# Introduction"
   ]
  },
  {
   "cell_type": "code",
   "execution_count": null,
   "metadata": {},
   "outputs": [],
   "source": []
  },
  {
   "cell_type": "markdown",
   "metadata": {},
   "source": [
    "# Data Import"
   ]
  },
  {
   "cell_type": "code",
   "execution_count": 137,
   "metadata": {},
   "outputs": [],
   "source": [
    "# import modules\n",
    "import numpy as np\n",
    "import pandas as pd\n",
    "import matplotlib.pyplot as plt\n",
    "import seaborn as sns\n",
    "import scikitplot as skplt\n",
    "from sklearn.preprocessing import StandardScaler\n",
    "from sklearn.decomposition import PCA\n",
    "from sklearn.model_selection import train_test_split, GridSearchCV\n",
    "from sklearn.linear_model import LogisticRegression\n",
    "from sklearn.ensemble import RandomForestClassifier\n",
    "from sklearn.metrics import confusion_matrix, classification_report\n",
    "import warnings\n",
    "warnings.filterwarnings('ignore')"
   ]
  },
  {
   "cell_type": "code",
   "execution_count": 2,
   "metadata": {},
   "outputs": [],
   "source": [
    "# load data\n",
    "Cirrhosis_DS0 = pd.read_csv('/Users/mengphilshen/Dropbox/Project/Data_Challenges/Proj_Cirrhosis/data/cir_mortality.csv')"
   ]
  },
  {
   "cell_type": "code",
   "execution_count": 3,
   "metadata": {},
   "outputs": [
    {
     "name": "stdout",
     "output_type": "stream",
     "text": [
      "<class 'pandas.core.frame.DataFrame'>\n",
      "RangeIndex: 86432 entries, 0 to 86431\n",
      "Data columns (total 31 columns):\n",
      "VISIT_ID2                   86432 non-null int64\n",
      "MORTALITY                   86432 non-null int64\n",
      "AKI_CATEGORY2               86432 non-null object\n",
      "ARDS                        86432 non-null object\n",
      "ABX                         86432 non-null int64\n",
      "BETA_BLOCKER                86432 non-null int64\n",
      "CRYST_RES_VOL_CATEGORY      86432 non-null object\n",
      "DIURETIC                    86432 non-null int64\n",
      "GIDX_BLEEDING               86432 non-null int64\n",
      "GLYCEMIA                    86432 non-null object\n",
      "HE                          86432 non-null int64\n",
      "HRS                         86432 non-null int64\n",
      "LVP                         86432 non-null int64\n",
      "SBP                         86432 non-null int64\n",
      "SEPSIS                      86432 non-null int64\n",
      "STEROIDS                    86432 non-null int64\n",
      "TIME_TO_ALB_CATEGORY_LOS    86432 non-null object\n",
      "VENTILATION                 86432 non-null int64\n",
      "VASOPRESSOR                 86432 non-null int64\n",
      "ADMISSION_TYPE_GROUP        86432 non-null object\n",
      "AGE_GROUP                   86432 non-null object\n",
      "BED_SIZE                    86432 non-null object\n",
      "CENSUS_REGION               86432 non-null object\n",
      "FEMALE                      86432 non-null int64\n",
      "INDEX_YEAR                  86432 non-null int64\n",
      "PAYER_GROUP                 86432 non-null object\n",
      "RACE_GROUP                  86432 non-null object\n",
      "TEACHING_FACILITY           86432 non-null object\n",
      "URBAN                       86432 non-null int64\n",
      "ELIXHAUSER_INDEX            86400 non-null float64\n",
      "MELD_Na                     83206 non-null float64\n",
      "dtypes: float64(2), int64(17), object(12)\n",
      "memory usage: 20.4+ MB\n"
     ]
    }
   ],
   "source": [
    "# check metadata\n",
    "Cirrhosis_DS0.info()"
   ]
  },
  {
   "cell_type": "code",
   "execution_count": 4,
   "metadata": {},
   "outputs": [],
   "source": [
    "# set index\n",
    "Cirrhosis_DS0.set_index(['VISIT_ID2'], inplace = True)"
   ]
  },
  {
   "cell_type": "markdown",
   "metadata": {},
   "source": [
    "# Data Cleaning"
   ]
  },
  {
   "cell_type": "markdown",
   "metadata": {},
   "source": [
    "## Delete Missing Values"
   ]
  },
  {
   "cell_type": "code",
   "execution_count": 52,
   "metadata": {},
   "outputs": [
    {
     "data": {
      "text/html": [
       "<div>\n",
       "<style scoped>\n",
       "    .dataframe tbody tr th:only-of-type {\n",
       "        vertical-align: middle;\n",
       "    }\n",
       "\n",
       "    .dataframe tbody tr th {\n",
       "        vertical-align: top;\n",
       "    }\n",
       "\n",
       "    .dataframe thead th {\n",
       "        text-align: right;\n",
       "    }\n",
       "</style>\n",
       "<table border=\"1\" class=\"dataframe\">\n",
       "  <thead>\n",
       "    <tr style=\"text-align: right;\">\n",
       "      <th></th>\n",
       "      <th>variable</th>\n",
       "      <th>missing values</th>\n",
       "      <th>missing %</th>\n",
       "    </tr>\n",
       "  </thead>\n",
       "  <tbody>\n",
       "    <tr>\n",
       "      <th>0</th>\n",
       "      <td>MORTALITY</td>\n",
       "      <td>0</td>\n",
       "      <td>0.000000</td>\n",
       "    </tr>\n",
       "    <tr>\n",
       "      <th>1</th>\n",
       "      <td>URBAN</td>\n",
       "      <td>0</td>\n",
       "      <td>0.000000</td>\n",
       "    </tr>\n",
       "    <tr>\n",
       "      <th>2</th>\n",
       "      <td>TEACHING_FACILITY</td>\n",
       "      <td>0</td>\n",
       "      <td>0.000000</td>\n",
       "    </tr>\n",
       "    <tr>\n",
       "      <th>3</th>\n",
       "      <td>RACE_GROUP</td>\n",
       "      <td>0</td>\n",
       "      <td>0.000000</td>\n",
       "    </tr>\n",
       "    <tr>\n",
       "      <th>4</th>\n",
       "      <td>PAYER_GROUP</td>\n",
       "      <td>0</td>\n",
       "      <td>0.000000</td>\n",
       "    </tr>\n",
       "    <tr>\n",
       "      <th>5</th>\n",
       "      <td>INDEX_YEAR</td>\n",
       "      <td>0</td>\n",
       "      <td>0.000000</td>\n",
       "    </tr>\n",
       "    <tr>\n",
       "      <th>6</th>\n",
       "      <td>FEMALE</td>\n",
       "      <td>0</td>\n",
       "      <td>0.000000</td>\n",
       "    </tr>\n",
       "    <tr>\n",
       "      <th>7</th>\n",
       "      <td>CENSUS_REGION</td>\n",
       "      <td>0</td>\n",
       "      <td>0.000000</td>\n",
       "    </tr>\n",
       "    <tr>\n",
       "      <th>8</th>\n",
       "      <td>BED_SIZE</td>\n",
       "      <td>0</td>\n",
       "      <td>0.000000</td>\n",
       "    </tr>\n",
       "    <tr>\n",
       "      <th>9</th>\n",
       "      <td>AGE_GROUP</td>\n",
       "      <td>0</td>\n",
       "      <td>0.000000</td>\n",
       "    </tr>\n",
       "    <tr>\n",
       "      <th>10</th>\n",
       "      <td>ADMISSION_TYPE_GROUP</td>\n",
       "      <td>0</td>\n",
       "      <td>0.000000</td>\n",
       "    </tr>\n",
       "    <tr>\n",
       "      <th>11</th>\n",
       "      <td>VASOPRESSOR</td>\n",
       "      <td>0</td>\n",
       "      <td>0.000000</td>\n",
       "    </tr>\n",
       "    <tr>\n",
       "      <th>12</th>\n",
       "      <td>VENTILATION</td>\n",
       "      <td>0</td>\n",
       "      <td>0.000000</td>\n",
       "    </tr>\n",
       "    <tr>\n",
       "      <th>13</th>\n",
       "      <td>TIME_TO_ALB_CATEGORY_LOS</td>\n",
       "      <td>0</td>\n",
       "      <td>0.000000</td>\n",
       "    </tr>\n",
       "    <tr>\n",
       "      <th>14</th>\n",
       "      <td>STEROIDS</td>\n",
       "      <td>0</td>\n",
       "      <td>0.000000</td>\n",
       "    </tr>\n",
       "    <tr>\n",
       "      <th>15</th>\n",
       "      <td>SEPSIS</td>\n",
       "      <td>0</td>\n",
       "      <td>0.000000</td>\n",
       "    </tr>\n",
       "    <tr>\n",
       "      <th>16</th>\n",
       "      <td>SBP</td>\n",
       "      <td>0</td>\n",
       "      <td>0.000000</td>\n",
       "    </tr>\n",
       "    <tr>\n",
       "      <th>17</th>\n",
       "      <td>LVP</td>\n",
       "      <td>0</td>\n",
       "      <td>0.000000</td>\n",
       "    </tr>\n",
       "    <tr>\n",
       "      <th>18</th>\n",
       "      <td>HRS</td>\n",
       "      <td>0</td>\n",
       "      <td>0.000000</td>\n",
       "    </tr>\n",
       "    <tr>\n",
       "      <th>19</th>\n",
       "      <td>HE</td>\n",
       "      <td>0</td>\n",
       "      <td>0.000000</td>\n",
       "    </tr>\n",
       "    <tr>\n",
       "      <th>20</th>\n",
       "      <td>GLYCEMIA</td>\n",
       "      <td>0</td>\n",
       "      <td>0.000000</td>\n",
       "    </tr>\n",
       "    <tr>\n",
       "      <th>21</th>\n",
       "      <td>GIDX_BLEEDING</td>\n",
       "      <td>0</td>\n",
       "      <td>0.000000</td>\n",
       "    </tr>\n",
       "    <tr>\n",
       "      <th>22</th>\n",
       "      <td>DIURETIC</td>\n",
       "      <td>0</td>\n",
       "      <td>0.000000</td>\n",
       "    </tr>\n",
       "    <tr>\n",
       "      <th>23</th>\n",
       "      <td>CRYST_RES_VOL_CATEGORY</td>\n",
       "      <td>0</td>\n",
       "      <td>0.000000</td>\n",
       "    </tr>\n",
       "    <tr>\n",
       "      <th>24</th>\n",
       "      <td>BETA_BLOCKER</td>\n",
       "      <td>0</td>\n",
       "      <td>0.000000</td>\n",
       "    </tr>\n",
       "    <tr>\n",
       "      <th>25</th>\n",
       "      <td>ABX</td>\n",
       "      <td>0</td>\n",
       "      <td>0.000000</td>\n",
       "    </tr>\n",
       "    <tr>\n",
       "      <th>26</th>\n",
       "      <td>ARDS</td>\n",
       "      <td>0</td>\n",
       "      <td>0.000000</td>\n",
       "    </tr>\n",
       "    <tr>\n",
       "      <th>27</th>\n",
       "      <td>AKI_CATEGORY2</td>\n",
       "      <td>0</td>\n",
       "      <td>0.000000</td>\n",
       "    </tr>\n",
       "    <tr>\n",
       "      <th>28</th>\n",
       "      <td>ELIXHAUSER_INDEX</td>\n",
       "      <td>32</td>\n",
       "      <td>0.037023</td>\n",
       "    </tr>\n",
       "    <tr>\n",
       "      <th>29</th>\n",
       "      <td>MELD_Na</td>\n",
       "      <td>3226</td>\n",
       "      <td>3.732414</td>\n",
       "    </tr>\n",
       "  </tbody>\n",
       "</table>\n",
       "</div>"
      ],
      "text/plain": [
       "                    variable  missing values  missing %\n",
       "0                  MORTALITY               0   0.000000\n",
       "1                      URBAN               0   0.000000\n",
       "2          TEACHING_FACILITY               0   0.000000\n",
       "3                 RACE_GROUP               0   0.000000\n",
       "4                PAYER_GROUP               0   0.000000\n",
       "5                 INDEX_YEAR               0   0.000000\n",
       "6                     FEMALE               0   0.000000\n",
       "7              CENSUS_REGION               0   0.000000\n",
       "8                   BED_SIZE               0   0.000000\n",
       "9                  AGE_GROUP               0   0.000000\n",
       "10      ADMISSION_TYPE_GROUP               0   0.000000\n",
       "11               VASOPRESSOR               0   0.000000\n",
       "12               VENTILATION               0   0.000000\n",
       "13  TIME_TO_ALB_CATEGORY_LOS               0   0.000000\n",
       "14                  STEROIDS               0   0.000000\n",
       "15                    SEPSIS               0   0.000000\n",
       "16                       SBP               0   0.000000\n",
       "17                       LVP               0   0.000000\n",
       "18                       HRS               0   0.000000\n",
       "19                        HE               0   0.000000\n",
       "20                  GLYCEMIA               0   0.000000\n",
       "21             GIDX_BLEEDING               0   0.000000\n",
       "22                  DIURETIC               0   0.000000\n",
       "23    CRYST_RES_VOL_CATEGORY               0   0.000000\n",
       "24              BETA_BLOCKER               0   0.000000\n",
       "25                       ABX               0   0.000000\n",
       "26                      ARDS               0   0.000000\n",
       "27             AKI_CATEGORY2               0   0.000000\n",
       "28          ELIXHAUSER_INDEX              32   0.037023\n",
       "29                   MELD_Na            3226   3.732414"
      ]
     },
     "execution_count": 52,
     "metadata": {},
     "output_type": "execute_result"
    }
   ],
   "source": [
    "# check missing values\n",
    "missing_data = Cirrhosis_DS0.isnull().sum(axis = 0).reset_index()\n",
    "missing_data.columns = ['variable', 'missing values']\n",
    "missing_data['missing %'] = missing_data['missing values'] / Cirrhosis_DS0.shape[0] * 100\n",
    "missing_data.sort_values('missing %').reset_index(drop = True)"
   ]
  },
  {
   "cell_type": "code",
   "execution_count": 6,
   "metadata": {},
   "outputs": [
    {
     "name": "stdout",
     "output_type": "stream",
     "text": [
      "<class 'pandas.core.frame.DataFrame'>\n",
      "Int64Index: 83179 entries, 326305398 to 283396498\n",
      "Data columns (total 30 columns):\n",
      "MORTALITY                   83179 non-null int64\n",
      "AKI_CATEGORY2               83179 non-null object\n",
      "ARDS                        83179 non-null object\n",
      "ABX                         83179 non-null int64\n",
      "BETA_BLOCKER                83179 non-null int64\n",
      "CRYST_RES_VOL_CATEGORY      83179 non-null object\n",
      "DIURETIC                    83179 non-null int64\n",
      "GIDX_BLEEDING               83179 non-null int64\n",
      "GLYCEMIA                    83179 non-null object\n",
      "HE                          83179 non-null int64\n",
      "HRS                         83179 non-null int64\n",
      "LVP                         83179 non-null int64\n",
      "SBP                         83179 non-null int64\n",
      "SEPSIS                      83179 non-null int64\n",
      "STEROIDS                    83179 non-null int64\n",
      "TIME_TO_ALB_CATEGORY_LOS    83179 non-null object\n",
      "VENTILATION                 83179 non-null int64\n",
      "VASOPRESSOR                 83179 non-null int64\n",
      "ADMISSION_TYPE_GROUP        83179 non-null object\n",
      "AGE_GROUP                   83179 non-null object\n",
      "BED_SIZE                    83179 non-null object\n",
      "CENSUS_REGION               83179 non-null object\n",
      "FEMALE                      83179 non-null int64\n",
      "INDEX_YEAR                  83179 non-null int64\n",
      "PAYER_GROUP                 83179 non-null object\n",
      "RACE_GROUP                  83179 non-null object\n",
      "TEACHING_FACILITY           83179 non-null object\n",
      "URBAN                       83179 non-null int64\n",
      "ELIXHAUSER_INDEX            83179 non-null float64\n",
      "MELD_Na                     83179 non-null float64\n",
      "dtypes: float64(2), int64(16), object(12)\n",
      "memory usage: 19.7+ MB\n"
     ]
    }
   ],
   "source": [
    "# delete missing values\n",
    "Cirrhosis_DS1 = Cirrhosis_DS0.dropna()\n",
    "Cirrhosis_DS1.info()"
   ]
  },
  {
   "cell_type": "markdown",
   "metadata": {},
   "source": [
    "## Encode Categorical Features"
   ]
  },
  {
   "cell_type": "code",
   "execution_count": 7,
   "metadata": {},
   "outputs": [
    {
     "name": "stdout",
     "output_type": "stream",
     "text": [
      "<class 'pandas.core.frame.DataFrame'>\n",
      "Int64Index: 83179 entries, 326305398 to 283396498\n",
      "Data columns (total 68 columns):\n",
      "MORTALITY                             83179 non-null int64\n",
      "ABX                                   83179 non-null int64\n",
      "BETA_BLOCKER                          83179 non-null int64\n",
      "DIURETIC                              83179 non-null int64\n",
      "GIDX_BLEEDING                         83179 non-null int64\n",
      "HE                                    83179 non-null int64\n",
      "HRS                                   83179 non-null int64\n",
      "LVP                                   83179 non-null int64\n",
      "SBP                                   83179 non-null int64\n",
      "SEPSIS                                83179 non-null int64\n",
      "STEROIDS                              83179 non-null int64\n",
      "VENTILATION                           83179 non-null int64\n",
      "VASOPRESSOR                           83179 non-null int64\n",
      "FEMALE                                83179 non-null int64\n",
      "INDEX_YEAR                            83179 non-null int64\n",
      "URBAN                                 83179 non-null int64\n",
      "ELIXHAUSER_INDEX                      83179 non-null float64\n",
      "MELD_Na                               83179 non-null float64\n",
      "AKI_CATEGORY2_MILD                    83179 non-null uint8\n",
      "AKI_CATEGORY2_NONE                    83179 non-null uint8\n",
      "AKI_CATEGORY2_SEVERE                  83179 non-null uint8\n",
      "ARDS_MILD ARDS                        83179 non-null uint8\n",
      "ARDS_MODERATE ARDS                    83179 non-null uint8\n",
      "ARDS_NONE                             83179 non-null uint8\n",
      "ARDS_SEVERE ARDS                      83179 non-null uint8\n",
      "CRYST_RES_VOL_CATEGORY_(0, 500]       83179 non-null uint8\n",
      "CRYST_RES_VOL_CATEGORY_(500, 1250]    83179 non-null uint8\n",
      "CRYST_RES_VOL_CATEGORY_>1250          83179 non-null uint8\n",
      "CRYST_RES_VOL_CATEGORY_NONE           83179 non-null uint8\n",
      "GLYCEMIA_BOTH                         83179 non-null uint8\n",
      "GLYCEMIA_HYPERGLYCEMIA                83179 non-null uint8\n",
      "GLYCEMIA_HYPOGLYCEMIA                 83179 non-null uint8\n",
      "GLYCEMIA_NEITHER                      83179 non-null uint8\n",
      "TIME_TO_ALB_CATEGORY_LOS_(0, 24]      83179 non-null uint8\n",
      "TIME_TO_ALB_CATEGORY_LOS_>24          83179 non-null uint8\n",
      "TIME_TO_ALB_CATEGORY_LOS_NONE         83179 non-null uint8\n",
      "ADMISSION_TYPE_GROUP_Elective         83179 non-null uint8\n",
      "ADMISSION_TYPE_GROUP_Emergency        83179 non-null uint8\n",
      "ADMISSION_TYPE_GROUP_Urgent           83179 non-null uint8\n",
      "AGE_GROUP_18-29                       83179 non-null uint8\n",
      "AGE_GROUP_30-49                       83179 non-null uint8\n",
      "AGE_GROUP_50-64                       83179 non-null uint8\n",
      "AGE_GROUP_65+                         83179 non-null uint8\n",
      "BED_SIZE_0-99                         83179 non-null uint8\n",
      "BED_SIZE_100-199                      83179 non-null uint8\n",
      "BED_SIZE_200-299                      83179 non-null uint8\n",
      "BED_SIZE_300-499                      83179 non-null uint8\n",
      "BED_SIZE_500+                         83179 non-null uint8\n",
      "CENSUS_REGION_Midwest                 83179 non-null uint8\n",
      "CENSUS_REGION_Northeast               83179 non-null uint8\n",
      "CENSUS_REGION_South                   83179 non-null uint8\n",
      "CENSUS_REGION_West                    83179 non-null uint8\n",
      "PAYER_GROUP_Commercial                83179 non-null uint8\n",
      "PAYER_GROUP_Medicaid                  83179 non-null uint8\n",
      "PAYER_GROUP_Medicare                  83179 non-null uint8\n",
      "PAYER_GROUP_Null or Exclude           83179 non-null uint8\n",
      "PAYER_GROUP_Oth. Govt. or Mil.        83179 non-null uint8\n",
      "PAYER_GROUP_Oth. NGO or Work Comp.    83179 non-null uint8\n",
      "PAYER_GROUP_Self                      83179 non-null uint8\n",
      "RACE_GROUP_African American           83179 non-null uint8\n",
      "RACE_GROUP_Asian/Pacific Islander     83179 non-null uint8\n",
      "RACE_GROUP_Caucasian                  83179 non-null uint8\n",
      "RACE_GROUP_Hispanic                   83179 non-null uint8\n",
      "RACE_GROUP_Not Specified              83179 non-null uint8\n",
      "RACE_GROUP_Other                      83179 non-null uint8\n",
      "TEACHING_FACILITY_No                  83179 non-null uint8\n",
      "TEACHING_FACILITY_Not Specified       83179 non-null uint8\n",
      "TEACHING_FACILITY_Yes                 83179 non-null uint8\n",
      "dtypes: float64(2), int64(16), uint8(50)\n",
      "memory usage: 16.0 MB\n"
     ]
    }
   ],
   "source": [
    "# encode categorical features\n",
    "Cirrhosis_DS2 = pd.get_dummies(Cirrhosis_DS1)\n",
    "Cirrhosis_DS2.info()"
   ]
  },
  {
   "cell_type": "code",
   "execution_count": 8,
   "metadata": {},
   "outputs": [
    {
     "name": "stdout",
     "output_type": "stream",
     "text": [
      "<class 'pandas.core.frame.DataFrame'>\n",
      "Int64Index: 83179 entries, 326305398 to 283396498\n",
      "Data columns (total 56 columns):\n",
      "MORTALITY                             83179 non-null int64\n",
      "ABX                                   83179 non-null int64\n",
      "BETA_BLOCKER                          83179 non-null int64\n",
      "DIURETIC                              83179 non-null int64\n",
      "GIDX_BLEEDING                         83179 non-null int64\n",
      "HE                                    83179 non-null int64\n",
      "HRS                                   83179 non-null int64\n",
      "LVP                                   83179 non-null int64\n",
      "SBP                                   83179 non-null int64\n",
      "SEPSIS                                83179 non-null int64\n",
      "STEROIDS                              83179 non-null int64\n",
      "VENTILATION                           83179 non-null int64\n",
      "VASOPRESSOR                           83179 non-null int64\n",
      "FEMALE                                83179 non-null int64\n",
      "INDEX_YEAR                            83179 non-null int64\n",
      "URBAN                                 83179 non-null int64\n",
      "ELIXHAUSER_INDEX                      83179 non-null float64\n",
      "MELD_Na                               83179 non-null float64\n",
      "AKI_CATEGORY2_MILD                    83179 non-null uint8\n",
      "AKI_CATEGORY2_SEVERE                  83179 non-null uint8\n",
      "ARDS_MILD ARDS                        83179 non-null uint8\n",
      "ARDS_MODERATE ARDS                    83179 non-null uint8\n",
      "ARDS_SEVERE ARDS                      83179 non-null uint8\n",
      "CRYST_RES_VOL_CATEGORY_(0, 500]       83179 non-null uint8\n",
      "CRYST_RES_VOL_CATEGORY_(500, 1250]    83179 non-null uint8\n",
      "CRYST_RES_VOL_CATEGORY_NONE           83179 non-null uint8\n",
      "GLYCEMIA_BOTH                         83179 non-null uint8\n",
      "GLYCEMIA_HYPERGLYCEMIA                83179 non-null uint8\n",
      "GLYCEMIA_HYPOGLYCEMIA                 83179 non-null uint8\n",
      "TIME_TO_ALB_CATEGORY_LOS_(0, 24]      83179 non-null uint8\n",
      "TIME_TO_ALB_CATEGORY_LOS_>24          83179 non-null uint8\n",
      "ADMISSION_TYPE_GROUP_Elective         83179 non-null uint8\n",
      "ADMISSION_TYPE_GROUP_Urgent           83179 non-null uint8\n",
      "AGE_GROUP_30-49                       83179 non-null uint8\n",
      "AGE_GROUP_50-64                       83179 non-null uint8\n",
      "AGE_GROUP_65+                         83179 non-null uint8\n",
      "BED_SIZE_100-199                      83179 non-null uint8\n",
      "BED_SIZE_200-299                      83179 non-null uint8\n",
      "BED_SIZE_300-499                      83179 non-null uint8\n",
      "BED_SIZE_500+                         83179 non-null uint8\n",
      "CENSUS_REGION_Midwest                 83179 non-null uint8\n",
      "CENSUS_REGION_Northeast               83179 non-null uint8\n",
      "CENSUS_REGION_West                    83179 non-null uint8\n",
      "PAYER_GROUP_Medicaid                  83179 non-null uint8\n",
      "PAYER_GROUP_Medicare                  83179 non-null uint8\n",
      "PAYER_GROUP_Null or Exclude           83179 non-null uint8\n",
      "PAYER_GROUP_Oth. Govt. or Mil.        83179 non-null uint8\n",
      "PAYER_GROUP_Oth. NGO or Work Comp.    83179 non-null uint8\n",
      "PAYER_GROUP_Self                      83179 non-null uint8\n",
      "RACE_GROUP_African American           83179 non-null uint8\n",
      "RACE_GROUP_Asian/Pacific Islander     83179 non-null uint8\n",
      "RACE_GROUP_Hispanic                   83179 non-null uint8\n",
      "RACE_GROUP_Not Specified              83179 non-null uint8\n",
      "RACE_GROUP_Other                      83179 non-null uint8\n",
      "TEACHING_FACILITY_Not Specified       83179 non-null uint8\n",
      "TEACHING_FACILITY_Yes                 83179 non-null uint8\n",
      "dtypes: float64(2), int64(16), uint8(38)\n",
      "memory usage: 15.1 MB\n"
     ]
    }
   ],
   "source": [
    "# drop one level to avoid collinearity\n",
    "variables_to_drop = ['AKI_CATEGORY2_NONE', 'ARDS_NONE', 'CRYST_RES_VOL_CATEGORY_>1250', \n",
    "                     'GLYCEMIA_NEITHER', 'TIME_TO_ALB_CATEGORY_LOS_NONE', 'ADMISSION_TYPE_GROUP_Emergency', \n",
    "                     'AGE_GROUP_18-29', 'BED_SIZE_0-99', 'CENSUS_REGION_South', \n",
    "                     'PAYER_GROUP_Commercial', 'RACE_GROUP_Caucasian', 'TEACHING_FACILITY_No']\n",
    "Cirrhosis_DS3 = Cirrhosis_DS2.drop(variables_to_drop, axis = 1)\n",
    "Cirrhosis_DS3.info()"
   ]
  },
  {
   "cell_type": "code",
   "execution_count": 9,
   "metadata": {},
   "outputs": [
    {
     "data": {
      "text/html": [
       "<div>\n",
       "<style scoped>\n",
       "    .dataframe tbody tr th:only-of-type {\n",
       "        vertical-align: middle;\n",
       "    }\n",
       "\n",
       "    .dataframe tbody tr th {\n",
       "        vertical-align: top;\n",
       "    }\n",
       "\n",
       "    .dataframe thead th {\n",
       "        text-align: right;\n",
       "    }\n",
       "</style>\n",
       "<table border=\"1\" class=\"dataframe\">\n",
       "  <thead>\n",
       "    <tr style=\"text-align: right;\">\n",
       "      <th></th>\n",
       "      <th>MORTALITY</th>\n",
       "      <th>ABX</th>\n",
       "      <th>BETA_BLOCKER</th>\n",
       "      <th>DIURETIC</th>\n",
       "      <th>GIDX_BLEEDING</th>\n",
       "      <th>HE</th>\n",
       "      <th>HRS</th>\n",
       "      <th>LVP</th>\n",
       "      <th>SBP</th>\n",
       "      <th>SEPSIS</th>\n",
       "      <th>...</th>\n",
       "      <th>PAYER_GROUP_Oth. Govt. or Mil.</th>\n",
       "      <th>PAYER_GROUP_Oth. NGO or Work Comp.</th>\n",
       "      <th>PAYER_GROUP_Self</th>\n",
       "      <th>RACE_GROUP_African American</th>\n",
       "      <th>RACE_GROUP_Asian/Pacific Islander</th>\n",
       "      <th>RACE_GROUP_Hispanic</th>\n",
       "      <th>RACE_GROUP_Not Specified</th>\n",
       "      <th>RACE_GROUP_Other</th>\n",
       "      <th>TEACHING_FACILITY_Not Specified</th>\n",
       "      <th>TEACHING_FACILITY_Yes</th>\n",
       "    </tr>\n",
       "    <tr>\n",
       "      <th>VISIT_ID2</th>\n",
       "      <th></th>\n",
       "      <th></th>\n",
       "      <th></th>\n",
       "      <th></th>\n",
       "      <th></th>\n",
       "      <th></th>\n",
       "      <th></th>\n",
       "      <th></th>\n",
       "      <th></th>\n",
       "      <th></th>\n",
       "      <th></th>\n",
       "      <th></th>\n",
       "      <th></th>\n",
       "      <th></th>\n",
       "      <th></th>\n",
       "      <th></th>\n",
       "      <th></th>\n",
       "      <th></th>\n",
       "      <th></th>\n",
       "      <th></th>\n",
       "      <th></th>\n",
       "    </tr>\n",
       "  </thead>\n",
       "  <tbody>\n",
       "    <tr>\n",
       "      <th>326305398</th>\n",
       "      <td>0</td>\n",
       "      <td>1</td>\n",
       "      <td>0</td>\n",
       "      <td>1</td>\n",
       "      <td>0</td>\n",
       "      <td>0</td>\n",
       "      <td>0</td>\n",
       "      <td>0</td>\n",
       "      <td>0</td>\n",
       "      <td>0</td>\n",
       "      <td>...</td>\n",
       "      <td>0</td>\n",
       "      <td>0</td>\n",
       "      <td>0</td>\n",
       "      <td>0</td>\n",
       "      <td>0</td>\n",
       "      <td>0</td>\n",
       "      <td>0</td>\n",
       "      <td>0</td>\n",
       "      <td>1</td>\n",
       "      <td>0</td>\n",
       "    </tr>\n",
       "    <tr>\n",
       "      <th>326305419</th>\n",
       "      <td>0</td>\n",
       "      <td>1</td>\n",
       "      <td>0</td>\n",
       "      <td>0</td>\n",
       "      <td>0</td>\n",
       "      <td>0</td>\n",
       "      <td>0</td>\n",
       "      <td>0</td>\n",
       "      <td>0</td>\n",
       "      <td>0</td>\n",
       "      <td>...</td>\n",
       "      <td>0</td>\n",
       "      <td>0</td>\n",
       "      <td>0</td>\n",
       "      <td>0</td>\n",
       "      <td>0</td>\n",
       "      <td>0</td>\n",
       "      <td>0</td>\n",
       "      <td>0</td>\n",
       "      <td>1</td>\n",
       "      <td>0</td>\n",
       "    </tr>\n",
       "    <tr>\n",
       "      <th>340607531</th>\n",
       "      <td>0</td>\n",
       "      <td>0</td>\n",
       "      <td>0</td>\n",
       "      <td>1</td>\n",
       "      <td>0</td>\n",
       "      <td>0</td>\n",
       "      <td>0</td>\n",
       "      <td>1</td>\n",
       "      <td>0</td>\n",
       "      <td>0</td>\n",
       "      <td>...</td>\n",
       "      <td>0</td>\n",
       "      <td>0</td>\n",
       "      <td>0</td>\n",
       "      <td>0</td>\n",
       "      <td>0</td>\n",
       "      <td>0</td>\n",
       "      <td>0</td>\n",
       "      <td>0</td>\n",
       "      <td>1</td>\n",
       "      <td>0</td>\n",
       "    </tr>\n",
       "    <tr>\n",
       "      <th>340607536</th>\n",
       "      <td>0</td>\n",
       "      <td>0</td>\n",
       "      <td>0</td>\n",
       "      <td>0</td>\n",
       "      <td>1</td>\n",
       "      <td>0</td>\n",
       "      <td>0</td>\n",
       "      <td>0</td>\n",
       "      <td>0</td>\n",
       "      <td>0</td>\n",
       "      <td>...</td>\n",
       "      <td>0</td>\n",
       "      <td>0</td>\n",
       "      <td>0</td>\n",
       "      <td>0</td>\n",
       "      <td>0</td>\n",
       "      <td>0</td>\n",
       "      <td>0</td>\n",
       "      <td>0</td>\n",
       "      <td>1</td>\n",
       "      <td>0</td>\n",
       "    </tr>\n",
       "    <tr>\n",
       "      <th>269544789</th>\n",
       "      <td>1</td>\n",
       "      <td>1</td>\n",
       "      <td>0</td>\n",
       "      <td>1</td>\n",
       "      <td>0</td>\n",
       "      <td>0</td>\n",
       "      <td>0</td>\n",
       "      <td>0</td>\n",
       "      <td>0</td>\n",
       "      <td>0</td>\n",
       "      <td>...</td>\n",
       "      <td>0</td>\n",
       "      <td>0</td>\n",
       "      <td>0</td>\n",
       "      <td>0</td>\n",
       "      <td>0</td>\n",
       "      <td>0</td>\n",
       "      <td>0</td>\n",
       "      <td>0</td>\n",
       "      <td>1</td>\n",
       "      <td>0</td>\n",
       "    </tr>\n",
       "  </tbody>\n",
       "</table>\n",
       "<p>5 rows × 56 columns</p>\n",
       "</div>"
      ],
      "text/plain": [
       "           MORTALITY  ABX  BETA_BLOCKER  DIURETIC  GIDX_BLEEDING  HE  HRS  \\\n",
       "VISIT_ID2                                                                   \n",
       "326305398          0    1             0         1              0   0    0   \n",
       "326305419          0    1             0         0              0   0    0   \n",
       "340607531          0    0             0         1              0   0    0   \n",
       "340607536          0    0             0         0              1   0    0   \n",
       "269544789          1    1             0         1              0   0    0   \n",
       "\n",
       "           LVP  SBP  SEPSIS          ...            \\\n",
       "VISIT_ID2                            ...             \n",
       "326305398    0    0       0          ...             \n",
       "326305419    0    0       0          ...             \n",
       "340607531    1    0       0          ...             \n",
       "340607536    0    0       0          ...             \n",
       "269544789    0    0       0          ...             \n",
       "\n",
       "           PAYER_GROUP_Oth. Govt. or Mil.  PAYER_GROUP_Oth. NGO or Work Comp.  \\\n",
       "VISIT_ID2                                                                       \n",
       "326305398                               0                                   0   \n",
       "326305419                               0                                   0   \n",
       "340607531                               0                                   0   \n",
       "340607536                               0                                   0   \n",
       "269544789                               0                                   0   \n",
       "\n",
       "           PAYER_GROUP_Self  RACE_GROUP_African American  \\\n",
       "VISIT_ID2                                                  \n",
       "326305398                 0                            0   \n",
       "326305419                 0                            0   \n",
       "340607531                 0                            0   \n",
       "340607536                 0                            0   \n",
       "269544789                 0                            0   \n",
       "\n",
       "           RACE_GROUP_Asian/Pacific Islander  RACE_GROUP_Hispanic  \\\n",
       "VISIT_ID2                                                           \n",
       "326305398                                  0                    0   \n",
       "326305419                                  0                    0   \n",
       "340607531                                  0                    0   \n",
       "340607536                                  0                    0   \n",
       "269544789                                  0                    0   \n",
       "\n",
       "           RACE_GROUP_Not Specified  RACE_GROUP_Other  \\\n",
       "VISIT_ID2                                               \n",
       "326305398                         0                 0   \n",
       "326305419                         0                 0   \n",
       "340607531                         0                 0   \n",
       "340607536                         0                 0   \n",
       "269544789                         0                 0   \n",
       "\n",
       "           TEACHING_FACILITY_Not Specified  TEACHING_FACILITY_Yes  \n",
       "VISIT_ID2                                                          \n",
       "326305398                                1                      0  \n",
       "326305419                                1                      0  \n",
       "340607531                                1                      0  \n",
       "340607536                                1                      0  \n",
       "269544789                                1                      0  \n",
       "\n",
       "[5 rows x 56 columns]"
      ]
     },
     "execution_count": 9,
     "metadata": {},
     "output_type": "execute_result"
    }
   ],
   "source": [
    "# check table\n",
    "Cirrhosis_DS3.head()"
   ]
  },
  {
   "cell_type": "markdown",
   "metadata": {},
   "source": [
    "# Data Preparation"
   ]
  },
  {
   "cell_type": "markdown",
   "metadata": {},
   "source": [
    "## Seperate Features and Targets"
   ]
  },
  {
   "cell_type": "code",
   "execution_count": 10,
   "metadata": {},
   "outputs": [
    {
     "data": {
      "text/plain": [
       "0    74275\n",
       "1     8904\n",
       "Name: MORTALITY, dtype: int64"
      ]
     },
     "execution_count": 10,
     "metadata": {},
     "output_type": "execute_result"
    }
   ],
   "source": [
    "# create the target vector\n",
    "y = Cirrhosis_DS3.iloc[:, Cirrhosis_DS3.columns == 'MORTALITY']\n",
    "y['MORTALITY'].value_counts()"
   ]
  },
  {
   "cell_type": "code",
   "execution_count": 11,
   "metadata": {},
   "outputs": [
    {
     "data": {
      "text/html": [
       "<div>\n",
       "<style scoped>\n",
       "    .dataframe tbody tr th:only-of-type {\n",
       "        vertical-align: middle;\n",
       "    }\n",
       "\n",
       "    .dataframe tbody tr th {\n",
       "        vertical-align: top;\n",
       "    }\n",
       "\n",
       "    .dataframe thead th {\n",
       "        text-align: right;\n",
       "    }\n",
       "</style>\n",
       "<table border=\"1\" class=\"dataframe\">\n",
       "  <thead>\n",
       "    <tr style=\"text-align: right;\">\n",
       "      <th></th>\n",
       "      <th>ABX</th>\n",
       "      <th>BETA_BLOCKER</th>\n",
       "      <th>DIURETIC</th>\n",
       "      <th>GIDX_BLEEDING</th>\n",
       "      <th>HE</th>\n",
       "      <th>HRS</th>\n",
       "      <th>LVP</th>\n",
       "      <th>SBP</th>\n",
       "      <th>SEPSIS</th>\n",
       "      <th>STEROIDS</th>\n",
       "      <th>...</th>\n",
       "      <th>PAYER_GROUP_Oth. Govt. or Mil.</th>\n",
       "      <th>PAYER_GROUP_Oth. NGO or Work Comp.</th>\n",
       "      <th>PAYER_GROUP_Self</th>\n",
       "      <th>RACE_GROUP_African American</th>\n",
       "      <th>RACE_GROUP_Asian/Pacific Islander</th>\n",
       "      <th>RACE_GROUP_Hispanic</th>\n",
       "      <th>RACE_GROUP_Not Specified</th>\n",
       "      <th>RACE_GROUP_Other</th>\n",
       "      <th>TEACHING_FACILITY_Not Specified</th>\n",
       "      <th>TEACHING_FACILITY_Yes</th>\n",
       "    </tr>\n",
       "  </thead>\n",
       "  <tbody>\n",
       "    <tr>\n",
       "      <th>count</th>\n",
       "      <td>83179.000000</td>\n",
       "      <td>83179.000000</td>\n",
       "      <td>83179.000000</td>\n",
       "      <td>83179.000000</td>\n",
       "      <td>83179.000000</td>\n",
       "      <td>83179.000000</td>\n",
       "      <td>83179.000000</td>\n",
       "      <td>83179.000000</td>\n",
       "      <td>83179.000000</td>\n",
       "      <td>83179.000000</td>\n",
       "      <td>...</td>\n",
       "      <td>83179.000000</td>\n",
       "      <td>83179.000000</td>\n",
       "      <td>83179.000000</td>\n",
       "      <td>83179.000000</td>\n",
       "      <td>83179.000000</td>\n",
       "      <td>83179.000000</td>\n",
       "      <td>83179.000000</td>\n",
       "      <td>83179.000000</td>\n",
       "      <td>83179.000000</td>\n",
       "      <td>83179.000000</td>\n",
       "    </tr>\n",
       "    <tr>\n",
       "      <th>mean</th>\n",
       "      <td>0.616382</td>\n",
       "      <td>0.164092</td>\n",
       "      <td>0.440436</td>\n",
       "      <td>0.144964</td>\n",
       "      <td>0.192188</td>\n",
       "      <td>0.045576</td>\n",
       "      <td>0.264526</td>\n",
       "      <td>0.035838</td>\n",
       "      <td>0.110785</td>\n",
       "      <td>0.137883</td>\n",
       "      <td>...</td>\n",
       "      <td>0.025920</td>\n",
       "      <td>0.014835</td>\n",
       "      <td>0.053174</td>\n",
       "      <td>0.138665</td>\n",
       "      <td>0.014306</td>\n",
       "      <td>0.013549</td>\n",
       "      <td>0.015304</td>\n",
       "      <td>0.071388</td>\n",
       "      <td>0.170812</td>\n",
       "      <td>0.675435</td>\n",
       "    </tr>\n",
       "    <tr>\n",
       "      <th>std</th>\n",
       "      <td>0.486270</td>\n",
       "      <td>0.370361</td>\n",
       "      <td>0.496442</td>\n",
       "      <td>0.352067</td>\n",
       "      <td>0.394022</td>\n",
       "      <td>0.208566</td>\n",
       "      <td>0.441083</td>\n",
       "      <td>0.185888</td>\n",
       "      <td>0.313868</td>\n",
       "      <td>0.344780</td>\n",
       "      <td>...</td>\n",
       "      <td>0.158898</td>\n",
       "      <td>0.120895</td>\n",
       "      <td>0.224383</td>\n",
       "      <td>0.345598</td>\n",
       "      <td>0.118752</td>\n",
       "      <td>0.115610</td>\n",
       "      <td>0.122761</td>\n",
       "      <td>0.257474</td>\n",
       "      <td>0.376347</td>\n",
       "      <td>0.468215</td>\n",
       "    </tr>\n",
       "    <tr>\n",
       "      <th>min</th>\n",
       "      <td>0.000000</td>\n",
       "      <td>0.000000</td>\n",
       "      <td>0.000000</td>\n",
       "      <td>0.000000</td>\n",
       "      <td>0.000000</td>\n",
       "      <td>0.000000</td>\n",
       "      <td>0.000000</td>\n",
       "      <td>0.000000</td>\n",
       "      <td>0.000000</td>\n",
       "      <td>0.000000</td>\n",
       "      <td>...</td>\n",
       "      <td>0.000000</td>\n",
       "      <td>0.000000</td>\n",
       "      <td>0.000000</td>\n",
       "      <td>0.000000</td>\n",
       "      <td>0.000000</td>\n",
       "      <td>0.000000</td>\n",
       "      <td>0.000000</td>\n",
       "      <td>0.000000</td>\n",
       "      <td>0.000000</td>\n",
       "      <td>0.000000</td>\n",
       "    </tr>\n",
       "    <tr>\n",
       "      <th>25%</th>\n",
       "      <td>0.000000</td>\n",
       "      <td>0.000000</td>\n",
       "      <td>0.000000</td>\n",
       "      <td>0.000000</td>\n",
       "      <td>0.000000</td>\n",
       "      <td>0.000000</td>\n",
       "      <td>0.000000</td>\n",
       "      <td>0.000000</td>\n",
       "      <td>0.000000</td>\n",
       "      <td>0.000000</td>\n",
       "      <td>...</td>\n",
       "      <td>0.000000</td>\n",
       "      <td>0.000000</td>\n",
       "      <td>0.000000</td>\n",
       "      <td>0.000000</td>\n",
       "      <td>0.000000</td>\n",
       "      <td>0.000000</td>\n",
       "      <td>0.000000</td>\n",
       "      <td>0.000000</td>\n",
       "      <td>0.000000</td>\n",
       "      <td>0.000000</td>\n",
       "    </tr>\n",
       "    <tr>\n",
       "      <th>50%</th>\n",
       "      <td>1.000000</td>\n",
       "      <td>0.000000</td>\n",
       "      <td>0.000000</td>\n",
       "      <td>0.000000</td>\n",
       "      <td>0.000000</td>\n",
       "      <td>0.000000</td>\n",
       "      <td>0.000000</td>\n",
       "      <td>0.000000</td>\n",
       "      <td>0.000000</td>\n",
       "      <td>0.000000</td>\n",
       "      <td>...</td>\n",
       "      <td>0.000000</td>\n",
       "      <td>0.000000</td>\n",
       "      <td>0.000000</td>\n",
       "      <td>0.000000</td>\n",
       "      <td>0.000000</td>\n",
       "      <td>0.000000</td>\n",
       "      <td>0.000000</td>\n",
       "      <td>0.000000</td>\n",
       "      <td>0.000000</td>\n",
       "      <td>1.000000</td>\n",
       "    </tr>\n",
       "    <tr>\n",
       "      <th>75%</th>\n",
       "      <td>1.000000</td>\n",
       "      <td>0.000000</td>\n",
       "      <td>1.000000</td>\n",
       "      <td>0.000000</td>\n",
       "      <td>0.000000</td>\n",
       "      <td>0.000000</td>\n",
       "      <td>1.000000</td>\n",
       "      <td>0.000000</td>\n",
       "      <td>0.000000</td>\n",
       "      <td>0.000000</td>\n",
       "      <td>...</td>\n",
       "      <td>0.000000</td>\n",
       "      <td>0.000000</td>\n",
       "      <td>0.000000</td>\n",
       "      <td>0.000000</td>\n",
       "      <td>0.000000</td>\n",
       "      <td>0.000000</td>\n",
       "      <td>0.000000</td>\n",
       "      <td>0.000000</td>\n",
       "      <td>0.000000</td>\n",
       "      <td>1.000000</td>\n",
       "    </tr>\n",
       "    <tr>\n",
       "      <th>max</th>\n",
       "      <td>1.000000</td>\n",
       "      <td>1.000000</td>\n",
       "      <td>1.000000</td>\n",
       "      <td>1.000000</td>\n",
       "      <td>1.000000</td>\n",
       "      <td>1.000000</td>\n",
       "      <td>1.000000</td>\n",
       "      <td>1.000000</td>\n",
       "      <td>1.000000</td>\n",
       "      <td>1.000000</td>\n",
       "      <td>...</td>\n",
       "      <td>1.000000</td>\n",
       "      <td>1.000000</td>\n",
       "      <td>1.000000</td>\n",
       "      <td>1.000000</td>\n",
       "      <td>1.000000</td>\n",
       "      <td>1.000000</td>\n",
       "      <td>1.000000</td>\n",
       "      <td>1.000000</td>\n",
       "      <td>1.000000</td>\n",
       "      <td>1.000000</td>\n",
       "    </tr>\n",
       "  </tbody>\n",
       "</table>\n",
       "<p>8 rows × 55 columns</p>\n",
       "</div>"
      ],
      "text/plain": [
       "                ABX  BETA_BLOCKER      DIURETIC  GIDX_BLEEDING            HE  \\\n",
       "count  83179.000000  83179.000000  83179.000000   83179.000000  83179.000000   \n",
       "mean       0.616382      0.164092      0.440436       0.144964      0.192188   \n",
       "std        0.486270      0.370361      0.496442       0.352067      0.394022   \n",
       "min        0.000000      0.000000      0.000000       0.000000      0.000000   \n",
       "25%        0.000000      0.000000      0.000000       0.000000      0.000000   \n",
       "50%        1.000000      0.000000      0.000000       0.000000      0.000000   \n",
       "75%        1.000000      0.000000      1.000000       0.000000      0.000000   \n",
       "max        1.000000      1.000000      1.000000       1.000000      1.000000   \n",
       "\n",
       "                HRS           LVP           SBP        SEPSIS      STEROIDS  \\\n",
       "count  83179.000000  83179.000000  83179.000000  83179.000000  83179.000000   \n",
       "mean       0.045576      0.264526      0.035838      0.110785      0.137883   \n",
       "std        0.208566      0.441083      0.185888      0.313868      0.344780   \n",
       "min        0.000000      0.000000      0.000000      0.000000      0.000000   \n",
       "25%        0.000000      0.000000      0.000000      0.000000      0.000000   \n",
       "50%        0.000000      0.000000      0.000000      0.000000      0.000000   \n",
       "75%        0.000000      1.000000      0.000000      0.000000      0.000000   \n",
       "max        1.000000      1.000000      1.000000      1.000000      1.000000   \n",
       "\n",
       "               ...            PAYER_GROUP_Oth. Govt. or Mil.  \\\n",
       "count          ...                              83179.000000   \n",
       "mean           ...                                  0.025920   \n",
       "std            ...                                  0.158898   \n",
       "min            ...                                  0.000000   \n",
       "25%            ...                                  0.000000   \n",
       "50%            ...                                  0.000000   \n",
       "75%            ...                                  0.000000   \n",
       "max            ...                                  1.000000   \n",
       "\n",
       "       PAYER_GROUP_Oth. NGO or Work Comp.  PAYER_GROUP_Self  \\\n",
       "count                        83179.000000      83179.000000   \n",
       "mean                             0.014835          0.053174   \n",
       "std                              0.120895          0.224383   \n",
       "min                              0.000000          0.000000   \n",
       "25%                              0.000000          0.000000   \n",
       "50%                              0.000000          0.000000   \n",
       "75%                              0.000000          0.000000   \n",
       "max                              1.000000          1.000000   \n",
       "\n",
       "       RACE_GROUP_African American  RACE_GROUP_Asian/Pacific Islander  \\\n",
       "count                 83179.000000                       83179.000000   \n",
       "mean                      0.138665                           0.014306   \n",
       "std                       0.345598                           0.118752   \n",
       "min                       0.000000                           0.000000   \n",
       "25%                       0.000000                           0.000000   \n",
       "50%                       0.000000                           0.000000   \n",
       "75%                       0.000000                           0.000000   \n",
       "max                       1.000000                           1.000000   \n",
       "\n",
       "       RACE_GROUP_Hispanic  RACE_GROUP_Not Specified  RACE_GROUP_Other  \\\n",
       "count         83179.000000              83179.000000      83179.000000   \n",
       "mean              0.013549                  0.015304          0.071388   \n",
       "std               0.115610                  0.122761          0.257474   \n",
       "min               0.000000                  0.000000          0.000000   \n",
       "25%               0.000000                  0.000000          0.000000   \n",
       "50%               0.000000                  0.000000          0.000000   \n",
       "75%               0.000000                  0.000000          0.000000   \n",
       "max               1.000000                  1.000000          1.000000   \n",
       "\n",
       "       TEACHING_FACILITY_Not Specified  TEACHING_FACILITY_Yes  \n",
       "count                     83179.000000           83179.000000  \n",
       "mean                          0.170812               0.675435  \n",
       "std                           0.376347               0.468215  \n",
       "min                           0.000000               0.000000  \n",
       "25%                           0.000000               0.000000  \n",
       "50%                           0.000000               1.000000  \n",
       "75%                           0.000000               1.000000  \n",
       "max                           1.000000               1.000000  \n",
       "\n",
       "[8 rows x 55 columns]"
      ]
     },
     "execution_count": 11,
     "metadata": {},
     "output_type": "execute_result"
    }
   ],
   "source": [
    "# create the features matrix\n",
    "X = Cirrhosis_DS3.iloc[:, Cirrhosis_DS3.columns != 'MORTALITY']\n",
    "X.describe()"
   ]
  },
  {
   "cell_type": "markdown",
   "metadata": {},
   "source": [
    "## Split Data into Training and Test Sets"
   ]
  },
  {
   "cell_type": "code",
   "execution_count": 13,
   "metadata": {},
   "outputs": [
    {
     "name": "stdout",
     "output_type": "stream",
     "text": [
      "Training Features Shape: (58225, 55)\n",
      "Training Lable Shape: (58225, 1)\n",
      "Test Features Shape: (24954, 55)\n",
      "Test Lable Shape: (24954, 1)\n"
     ]
    }
   ],
   "source": [
    "# split data into training and test sets\n",
    "X_train, X_test, y_train, y_test = train_test_split(X, y, test_size = 0.30, random_state = 12345)\n",
    "print('Training Features Shape:', X_train.shape)\n",
    "print('Training Lable Shape:', y_train.shape)\n",
    "print('Test Features Shape:', X_test.shape)\n",
    "print('Test Lable Shape:', y_test.shape)"
   ]
  },
  {
   "cell_type": "code",
   "execution_count": 14,
   "metadata": {},
   "outputs": [
    {
     "data": {
      "text/plain": [
       "StandardScaler(copy=True, with_mean=True, with_std=True)"
      ]
     },
     "execution_count": 14,
     "metadata": {},
     "output_type": "execute_result"
    }
   ],
   "source": [
    "# fit standardizer to training set\n",
    "standardizer = StandardScaler()\n",
    "standardizer.fit(X_train)"
   ]
  },
  {
   "cell_type": "code",
   "execution_count": 15,
   "metadata": {},
   "outputs": [],
   "source": [
    "# apply to both training and test sets\n",
    "X_trian_std = standardizer.transform(X_train)\n",
    "X_test_std = standardizer.transform(X_test)"
   ]
  },
  {
   "cell_type": "code",
   "execution_count": 16,
   "metadata": {},
   "outputs": [],
   "source": [
    "# covert labels to arrays\n",
    "y_train = y_train.values.ravel()\n",
    "y_test = y_test.values.ravel()"
   ]
  },
  {
   "cell_type": "markdown",
   "metadata": {},
   "source": [
    "# Logistic Regression"
   ]
  },
  {
   "cell_type": "markdown",
   "metadata": {},
   "source": [
    "## Train Model"
   ]
  },
  {
   "cell_type": "code",
   "execution_count": 124,
   "metadata": {},
   "outputs": [],
   "source": [
    "# create a base Logistic model\n",
    "base_logit = LogisticRegression(class_weight = 'balanced', random_state = 12345)"
   ]
  },
  {
   "cell_type": "code",
   "execution_count": 125,
   "metadata": {},
   "outputs": [
    {
     "data": {
      "text/plain": [
       "LogisticRegression(C=1.0, class_weight='balanced', dual=False,\n",
       "          fit_intercept=True, intercept_scaling=1, max_iter=100,\n",
       "          multi_class='warn', n_jobs=None, penalty='l2',\n",
       "          random_state=12345, solver='warn', tol=0.0001, verbose=0,\n",
       "          warm_start=False)"
      ]
     },
     "execution_count": 125,
     "metadata": {},
     "output_type": "execute_result"
    }
   ],
   "source": [
    "# train the model on training data\n",
    "base_logit.fit(X_trian_std , y_train)"
   ]
  },
  {
   "cell_type": "markdown",
   "metadata": {},
   "source": [
    "## Predict Test Data"
   ]
  },
  {
   "cell_type": "code",
   "execution_count": 126,
   "metadata": {},
   "outputs": [],
   "source": [
    "# predict test data\n",
    "y_pred_logit = base_logit.predict(X_test_std)\n",
    "y_pred_prob_logit = base_logit.predict_proba(X_test_std)"
   ]
  },
  {
   "cell_type": "markdown",
   "metadata": {},
   "source": [
    "## Evaulate Performance"
   ]
  },
  {
   "cell_type": "code",
   "execution_count": 127,
   "metadata": {},
   "outputs": [
    {
     "data": {
      "image/png": "[encoded data removed]",
      "text/plain": [
       "<Figure size 432x288 with 2 Axes>"
      ]
     },
     "metadata": {
      "needs_background": "light"
     },
     "output_type": "display_data"
    }
   ],
   "source": [
    "# plot confusion matrix\n",
    "skplt.metrics.plot_confusion_matrix(y_test, y_pred_logit)\n",
    "plt.show()"
   ]
  },
  {
   "cell_type": "code",
   "execution_count": 128,
   "metadata": {},
   "outputs": [
    {
     "name": "stdout",
     "output_type": "stream",
     "text": [
      "True Negatives:  18619\n",
      "False Positives:  3601\n",
      "False Negatives:  568\n",
      "True Positives:  2166\n"
     ]
    }
   ],
   "source": [
    "# extract true_positives, false_positives, true_negatives, false_negatives\n",
    "cm_matrix = confusion_matrix(y_test, y_pred_logit)\n",
    "tn, fp, fn, tp = cm_matrix.ravel()\n",
    "print('True Negatives: ', tn)\n",
    "print('False Positives: ', fp)\n",
    "print('False Negatives: ', fn)\n",
    "print('True Positives: ', tp)"
   ]
  },
  {
   "cell_type": "code",
   "execution_count": 129,
   "metadata": {},
   "outputs": [
    {
     "name": "stdout",
     "output_type": "stream",
     "text": [
      "Accuracy 0.83:\n"
     ]
    }
   ],
   "source": [
    "# accuracy\n",
    "accuracy = (tn+tp)/(tp+tn+fp+fn)\n",
    "print(\"Accuracy {:0.2f}:\".format(accuracy))"
   ]
  },
  {
   "cell_type": "code",
   "execution_count": 130,
   "metadata": {},
   "outputs": [
    {
     "name": "stdout",
     "output_type": "stream",
     "text": [
      "Precision 0.38:\n"
     ]
    }
   ],
   "source": [
    "# precision\n",
    "precision = tp/(tp+fp)\n",
    "print(\"Precision {:0.2f}:\".format(precision))"
   ]
  },
  {
   "cell_type": "code",
   "execution_count": 131,
   "metadata": {},
   "outputs": [
    {
     "name": "stdout",
     "output_type": "stream",
     "text": [
      "# Recall 0.79:\n"
     ]
    }
   ],
   "source": [
    "# recall\n",
    "recall = tp /(tp+fn)\n",
    "print(\"# Recall {:0.2f}:\".format(recall))"
   ]
  },
  {
   "cell_type": "code",
   "execution_count": 132,
   "metadata": {},
   "outputs": [
    {
     "name": "stdout",
     "output_type": "stream",
     "text": [
      "# F1 Score 0.51:\n"
     ]
    }
   ],
   "source": [
    "# f1 score\n",
    "f1 = (2*precision*recall)/(precision+recall)\n",
    "print(\"# F1 Score {:0.2f}:\".format(f1))"
   ]
  },
  {
   "cell_type": "code",
   "execution_count": 133,
   "metadata": {},
   "outputs": [
    {
     "name": "stdout",
     "output_type": "stream",
     "text": [
      "              precision    recall  f1-score   support\n",
      "\n",
      "           0       0.97      0.84      0.90     22220\n",
      "           1       0.38      0.79      0.51      2734\n",
      "\n",
      "   micro avg       0.83      0.83      0.83     24954\n",
      "   macro avg       0.67      0.82      0.70     24954\n",
      "weighted avg       0.91      0.83      0.86     24954\n",
      "\n"
     ]
    }
   ],
   "source": [
    "# print classification report\n",
    "print(classification_report(y_test, y_pred_logit))"
   ]
  },
  {
   "cell_type": "code",
   "execution_count": 134,
   "metadata": {},
   "outputs": [
    {
     "data": {
      "image/png": "[encoded data removed]",
      "text/plain": [
       "<Figure size 432x288 with 1 Axes>"
      ]
     },
     "metadata": {
      "needs_background": "light"
     },
     "output_type": "display_data"
    }
   ],
   "source": [
    "# plot ROC curves\n",
    "skplt.metrics.plot_roc_curve(y_test, y_pred_prob_logit, curves = ('each_class'))\n",
    "plt.show()"
   ]
  },
  {
   "cell_type": "code",
   "execution_count": 135,
   "metadata": {},
   "outputs": [
    {
     "data": {
      "image/png": "[encoded data removed]",
      "text/plain": [
       "<Figure size 432x288 with 1 Axes>"
      ]
     },
     "metadata": {
      "needs_background": "light"
     },
     "output_type": "display_data"
    }
   ],
   "source": [
    "# plot Precision-Recall curve\n",
    "skplt.metrics.plot_precision_recall_curve(y_test, y_pred_prob_logit, curves = ('each_class'))\n",
    "plt.show()"
   ]
  },
  {
   "cell_type": "markdown",
   "metadata": {},
   "source": [
    "# Random Forests"
   ]
  },
  {
   "cell_type": "markdown",
   "metadata": {},
   "source": [
    "## Train Model"
   ]
  },
  {
   "cell_type": "code",
   "execution_count": 17,
   "metadata": {},
   "outputs": [],
   "source": [
    "# create a base Random Forest model\n",
    "base_rf = RandomForestClassifier(n_estimators = 1000, class_weight = 'balanced', random_state = 12345)"
   ]
  },
  {
   "cell_type": "code",
   "execution_count": 18,
   "metadata": {},
   "outputs": [
    {
     "data": {
      "text/plain": [
       "RandomForestClassifier(bootstrap=True, class_weight='balanced',\n",
       "            criterion='gini', max_depth=None, max_features='auto',\n",
       "            max_leaf_nodes=None, min_impurity_decrease=0.0,\n",
       "            min_impurity_split=None, min_samples_leaf=1,\n",
       "            min_samples_split=2, min_weight_fraction_leaf=0.0,\n",
       "            n_estimators=1000, n_jobs=None, oob_score=False,\n",
       "            random_state=12345, verbose=0, warm_start=False)"
      ]
     },
     "execution_count": 18,
     "metadata": {},
     "output_type": "execute_result"
    }
   ],
   "source": [
    "# train the model on training data\n",
    "base_rf.fit(X_trian_std , y_train)"
   ]
  },
  {
   "cell_type": "markdown",
   "metadata": {},
   "source": [
    "## Predict Test Data"
   ]
  },
  {
   "cell_type": "code",
   "execution_count": 27,
   "metadata": {},
   "outputs": [],
   "source": [
    "# predict test data\n",
    "y_pred_rf = base_rf.predict(X_test_std)\n",
    "y_pred_prob_rf = base_rf.predict_proba(X_test_std)"
   ]
  },
  {
   "cell_type": "markdown",
   "metadata": {},
   "source": [
    "## Evaulate Performance"
   ]
  },
  {
   "cell_type": "code",
   "execution_count": 47,
   "metadata": {},
   "outputs": [
    {
     "data": {
      "image/png": "[encoded data removed]",
      "text/plain": [
       "<Figure size 432x288 with 2 Axes>"
      ]
     },
     "metadata": {
      "needs_background": "light"
     },
     "output_type": "display_data"
    }
   ],
   "source": [
    "# plot confusion matrix\n",
    "skplt.metrics.plot_confusion_matrix(y_test, y_pred_rf)\n",
    "plt.show()"
   ]
  },
  {
   "cell_type": "code",
   "execution_count": 29,
   "metadata": {},
   "outputs": [
    {
     "name": "stdout",
     "output_type": "stream",
     "text": [
      "True Negatives:  21975\n",
      "False Positives:  245\n",
      "False Negatives:  2043\n",
      "True Positives:  691\n"
     ]
    }
   ],
   "source": [
    "# extract true_positives, false_positives, true_negatives, false_negatives\n",
    "cm_matrix = confusion_matrix(y_test, y_pred_rf)\n",
    "tn, fp, fn, tp = cm_matrix.ravel()\n",
    "print('True Negatives: ', tn)\n",
    "print('False Positives: ', fp)\n",
    "print('False Negatives: ', fn)\n",
    "print('True Positives: ', tp)"
   ]
  },
  {
   "cell_type": "code",
   "execution_count": 30,
   "metadata": {},
   "outputs": [
    {
     "name": "stdout",
     "output_type": "stream",
     "text": [
      "Accuracy 0.91:\n"
     ]
    }
   ],
   "source": [
    "# accuracy\n",
    "accuracy = (tn+tp)/(tp+tn+fp+fn)\n",
    "print(\"Accuracy {:0.2f}:\".format(accuracy))"
   ]
  },
  {
   "cell_type": "code",
   "execution_count": 31,
   "metadata": {},
   "outputs": [
    {
     "name": "stdout",
     "output_type": "stream",
     "text": [
      "Precision 0.74:\n"
     ]
    }
   ],
   "source": [
    "# precision\n",
    "precision = tp/(tp+fp)\n",
    "print(\"Precision {:0.2f}:\".format(precision))"
   ]
  },
  {
   "cell_type": "code",
   "execution_count": 32,
   "metadata": {},
   "outputs": [
    {
     "name": "stdout",
     "output_type": "stream",
     "text": [
      "# Recall 0.25:\n"
     ]
    }
   ],
   "source": [
    "# recall\n",
    "recall = tp /(tp+fn)\n",
    "print(\"# Recall {:0.2f}:\".format(recall))"
   ]
  },
  {
   "cell_type": "code",
   "execution_count": 33,
   "metadata": {},
   "outputs": [
    {
     "name": "stdout",
     "output_type": "stream",
     "text": [
      "# F1 Score 0.38:\n"
     ]
    }
   ],
   "source": [
    "# f1 score\n",
    "f1 = (2*precision*recall)/(precision+recall)\n",
    "print(\"# F1 Score {:0.2f}:\".format(f1))"
   ]
  },
  {
   "cell_type": "code",
   "execution_count": 34,
   "metadata": {},
   "outputs": [
    {
     "name": "stdout",
     "output_type": "stream",
     "text": [
      "              precision    recall  f1-score   support\n",
      "\n",
      "           0       0.91      0.99      0.95     22220\n",
      "           1       0.74      0.25      0.38      2734\n",
      "\n",
      "   micro avg       0.91      0.91      0.91     24954\n",
      "   macro avg       0.83      0.62      0.66     24954\n",
      "weighted avg       0.90      0.91      0.89     24954\n",
      "\n"
     ]
    }
   ],
   "source": [
    "# print classification report\n",
    "print(classification_report(y_test, y_pred_rf))"
   ]
  },
  {
   "cell_type": "code",
   "execution_count": 46,
   "metadata": {},
   "outputs": [
    {
     "data": {
      "image/png": "[encoded data removed]",
      "text/plain": [
       "<Figure size 432x288 with 1 Axes>"
      ]
     },
     "metadata": {
      "needs_background": "light"
     },
     "output_type": "display_data"
    }
   ],
   "source": [
    "# plot ROC curves\n",
    "skplt.metrics.plot_roc_curve(y_test, y_pred_prob_rf, curves = ('each_class'))\n",
    "plt.show()"
   ]
  },
  {
   "cell_type": "code",
   "execution_count": 48,
   "metadata": {},
   "outputs": [
    {
     "data": {
      "image/png": "[encoded data removed]",
      "text/plain": [
       "<Figure size 432x288 with 1 Axes>"
      ]
     },
     "metadata": {
      "needs_background": "light"
     },
     "output_type": "display_data"
    }
   ],
   "source": [
    "# plot Precision-Recall curve\n",
    "skplt.metrics.plot_precision_recall_curve(y_test, y_pred_prob_rf, curves = ('each_class'))\n",
    "plt.show()"
   ]
  },
  {
   "cell_type": "markdown",
   "metadata": {},
   "source": [
    "## Examine Variable Importances"
   ]
  },
  {
   "cell_type": "code",
   "execution_count": 107,
   "metadata": {},
   "outputs": [
    {
     "name": "stdout",
     "output_type": "stream",
     "text": [
      "<class 'pandas.core.frame.DataFrame'>\n",
      "RangeIndex: 55 entries, 0 to 54\n",
      "Data columns (total 2 columns):\n",
      "feature       55 non-null object\n",
      "importance    55 non-null float64\n",
      "dtypes: float64(1), object(1)\n",
      "memory usage: 960.0+ bytes\n"
     ]
    }
   ],
   "source": [
    "# create a dataframe of feature importances\n",
    "feature_importances = pd.DataFrame()\n",
    "feature_importances['feature'] = X.columns\n",
    "feature_importances['importance'] = base_rf.feature_importances_\n",
    "feature_importances.info()"
   ]
  },
  {
   "cell_type": "code",
   "execution_count": 106,
   "metadata": {},
   "outputs": [
    {
     "data": {
      "text/html": [
       "<div>\n",
       "<style scoped>\n",
       "    .dataframe tbody tr th:only-of-type {\n",
       "        vertical-align: middle;\n",
       "    }\n",
       "\n",
       "    .dataframe tbody tr th {\n",
       "        vertical-align: top;\n",
       "    }\n",
       "\n",
       "    .dataframe thead th {\n",
       "        text-align: right;\n",
       "    }\n",
       "</style>\n",
       "<table border=\"1\" class=\"dataframe\">\n",
       "  <thead>\n",
       "    <tr style=\"text-align: right;\">\n",
       "      <th></th>\n",
       "      <th>index</th>\n",
       "      <th>feature</th>\n",
       "      <th>importance</th>\n",
       "    </tr>\n",
       "  </thead>\n",
       "  <tbody>\n",
       "    <tr>\n",
       "      <th>0</th>\n",
       "      <td>16</td>\n",
       "      <td>MELD_Na</td>\n",
       "      <td>0.125660</td>\n",
       "    </tr>\n",
       "    <tr>\n",
       "      <th>1</th>\n",
       "      <td>11</td>\n",
       "      <td>VASOPRESSOR</td>\n",
       "      <td>0.082132</td>\n",
       "    </tr>\n",
       "    <tr>\n",
       "      <th>2</th>\n",
       "      <td>15</td>\n",
       "      <td>ELIXHAUSER_INDEX</td>\n",
       "      <td>0.076516</td>\n",
       "    </tr>\n",
       "    <tr>\n",
       "      <th>3</th>\n",
       "      <td>8</td>\n",
       "      <td>SEPSIS</td>\n",
       "      <td>0.074244</td>\n",
       "    </tr>\n",
       "    <tr>\n",
       "      <th>4</th>\n",
       "      <td>10</td>\n",
       "      <td>VENTILATION</td>\n",
       "      <td>0.067440</td>\n",
       "    </tr>\n",
       "    <tr>\n",
       "      <th>5</th>\n",
       "      <td>17</td>\n",
       "      <td>AKI_CATEGORY2_MILD</td>\n",
       "      <td>0.041348</td>\n",
       "    </tr>\n",
       "    <tr>\n",
       "      <th>6</th>\n",
       "      <td>13</td>\n",
       "      <td>INDEX_YEAR</td>\n",
       "      <td>0.041167</td>\n",
       "    </tr>\n",
       "    <tr>\n",
       "      <th>7</th>\n",
       "      <td>18</td>\n",
       "      <td>AKI_CATEGORY2_SEVERE</td>\n",
       "      <td>0.037023</td>\n",
       "    </tr>\n",
       "    <tr>\n",
       "      <th>8</th>\n",
       "      <td>21</td>\n",
       "      <td>ARDS_SEVERE ARDS</td>\n",
       "      <td>0.023925</td>\n",
       "    </tr>\n",
       "    <tr>\n",
       "      <th>9</th>\n",
       "      <td>29</td>\n",
       "      <td>TIME_TO_ALB_CATEGORY_LOS_&gt;24</td>\n",
       "      <td>0.021853</td>\n",
       "    </tr>\n",
       "    <tr>\n",
       "      <th>10</th>\n",
       "      <td>34</td>\n",
       "      <td>AGE_GROUP_65+</td>\n",
       "      <td>0.014566</td>\n",
       "    </tr>\n",
       "    <tr>\n",
       "      <th>11</th>\n",
       "      <td>12</td>\n",
       "      <td>FEMALE</td>\n",
       "      <td>0.014450</td>\n",
       "    </tr>\n",
       "    <tr>\n",
       "      <th>12</th>\n",
       "      <td>25</td>\n",
       "      <td>GLYCEMIA_BOTH</td>\n",
       "      <td>0.014041</td>\n",
       "    </tr>\n",
       "    <tr>\n",
       "      <th>13</th>\n",
       "      <td>2</td>\n",
       "      <td>DIURETIC</td>\n",
       "      <td>0.014005</td>\n",
       "    </tr>\n",
       "    <tr>\n",
       "      <th>14</th>\n",
       "      <td>0</td>\n",
       "      <td>ABX</td>\n",
       "      <td>0.013796</td>\n",
       "    </tr>\n",
       "    <tr>\n",
       "      <th>15</th>\n",
       "      <td>4</td>\n",
       "      <td>HE</td>\n",
       "      <td>0.013077</td>\n",
       "    </tr>\n",
       "    <tr>\n",
       "      <th>16</th>\n",
       "      <td>40</td>\n",
       "      <td>CENSUS_REGION_Northeast</td>\n",
       "      <td>0.012985</td>\n",
       "    </tr>\n",
       "    <tr>\n",
       "      <th>17</th>\n",
       "      <td>5</td>\n",
       "      <td>HRS</td>\n",
       "      <td>0.012814</td>\n",
       "    </tr>\n",
       "    <tr>\n",
       "      <th>18</th>\n",
       "      <td>26</td>\n",
       "      <td>GLYCEMIA_HYPERGLYCEMIA</td>\n",
       "      <td>0.012732</td>\n",
       "    </tr>\n",
       "    <tr>\n",
       "      <th>19</th>\n",
       "      <td>6</td>\n",
       "      <td>LVP</td>\n",
       "      <td>0.012646</td>\n",
       "    </tr>\n",
       "    <tr>\n",
       "      <th>20</th>\n",
       "      <td>9</td>\n",
       "      <td>STEROIDS</td>\n",
       "      <td>0.012570</td>\n",
       "    </tr>\n",
       "    <tr>\n",
       "      <th>21</th>\n",
       "      <td>23</td>\n",
       "      <td>CRYST_RES_VOL_CATEGORY_(500, 1250]</td>\n",
       "      <td>0.012185</td>\n",
       "    </tr>\n",
       "    <tr>\n",
       "      <th>22</th>\n",
       "      <td>22</td>\n",
       "      <td>CRYST_RES_VOL_CATEGORY_(0, 500]</td>\n",
       "      <td>0.012130</td>\n",
       "    </tr>\n",
       "    <tr>\n",
       "      <th>23</th>\n",
       "      <td>27</td>\n",
       "      <td>GLYCEMIA_HYPOGLYCEMIA</td>\n",
       "      <td>0.012051</td>\n",
       "    </tr>\n",
       "    <tr>\n",
       "      <th>24</th>\n",
       "      <td>43</td>\n",
       "      <td>PAYER_GROUP_Medicare</td>\n",
       "      <td>0.011705</td>\n",
       "    </tr>\n",
       "    <tr>\n",
       "      <th>25</th>\n",
       "      <td>1</td>\n",
       "      <td>BETA_BLOCKER</td>\n",
       "      <td>0.011228</td>\n",
       "    </tr>\n",
       "    <tr>\n",
       "      <th>26</th>\n",
       "      <td>37</td>\n",
       "      <td>BED_SIZE_300-499</td>\n",
       "      <td>0.010731</td>\n",
       "    </tr>\n",
       "    <tr>\n",
       "      <th>27</th>\n",
       "      <td>38</td>\n",
       "      <td>BED_SIZE_500+</td>\n",
       "      <td>0.010319</td>\n",
       "    </tr>\n",
       "    <tr>\n",
       "      <th>28</th>\n",
       "      <td>54</td>\n",
       "      <td>TEACHING_FACILITY_Yes</td>\n",
       "      <td>0.010160</td>\n",
       "    </tr>\n",
       "    <tr>\n",
       "      <th>29</th>\n",
       "      <td>3</td>\n",
       "      <td>GIDX_BLEEDING</td>\n",
       "      <td>0.009943</td>\n",
       "    </tr>\n",
       "    <tr>\n",
       "      <th>30</th>\n",
       "      <td>33</td>\n",
       "      <td>AGE_GROUP_50-64</td>\n",
       "      <td>0.009567</td>\n",
       "    </tr>\n",
       "    <tr>\n",
       "      <th>31</th>\n",
       "      <td>14</td>\n",
       "      <td>URBAN</td>\n",
       "      <td>0.009443</td>\n",
       "    </tr>\n",
       "    <tr>\n",
       "      <th>32</th>\n",
       "      <td>48</td>\n",
       "      <td>RACE_GROUP_African American</td>\n",
       "      <td>0.009224</td>\n",
       "    </tr>\n",
       "    <tr>\n",
       "      <th>33</th>\n",
       "      <td>31</td>\n",
       "      <td>ADMISSION_TYPE_GROUP_Urgent</td>\n",
       "      <td>0.009187</td>\n",
       "    </tr>\n",
       "    <tr>\n",
       "      <th>34</th>\n",
       "      <td>20</td>\n",
       "      <td>ARDS_MODERATE ARDS</td>\n",
       "      <td>0.009043</td>\n",
       "    </tr>\n",
       "    <tr>\n",
       "      <th>35</th>\n",
       "      <td>36</td>\n",
       "      <td>BED_SIZE_200-299</td>\n",
       "      <td>0.008701</td>\n",
       "    </tr>\n",
       "    <tr>\n",
       "      <th>36</th>\n",
       "      <td>39</td>\n",
       "      <td>CENSUS_REGION_Midwest</td>\n",
       "      <td>0.008552</td>\n",
       "    </tr>\n",
       "    <tr>\n",
       "      <th>37</th>\n",
       "      <td>32</td>\n",
       "      <td>AGE_GROUP_30-49</td>\n",
       "      <td>0.008406</td>\n",
       "    </tr>\n",
       "    <tr>\n",
       "      <th>38</th>\n",
       "      <td>28</td>\n",
       "      <td>TIME_TO_ALB_CATEGORY_LOS_(0, 24]</td>\n",
       "      <td>0.008347</td>\n",
       "    </tr>\n",
       "    <tr>\n",
       "      <th>39</th>\n",
       "      <td>44</td>\n",
       "      <td>PAYER_GROUP_Null or Exclude</td>\n",
       "      <td>0.008127</td>\n",
       "    </tr>\n",
       "    <tr>\n",
       "      <th>40</th>\n",
       "      <td>24</td>\n",
       "      <td>CRYST_RES_VOL_CATEGORY_NONE</td>\n",
       "      <td>0.007968</td>\n",
       "    </tr>\n",
       "    <tr>\n",
       "      <th>41</th>\n",
       "      <td>42</td>\n",
       "      <td>PAYER_GROUP_Medicaid</td>\n",
       "      <td>0.007872</td>\n",
       "    </tr>\n",
       "    <tr>\n",
       "      <th>42</th>\n",
       "      <td>53</td>\n",
       "      <td>TEACHING_FACILITY_Not Specified</td>\n",
       "      <td>0.007630</td>\n",
       "    </tr>\n",
       "    <tr>\n",
       "      <th>43</th>\n",
       "      <td>35</td>\n",
       "      <td>BED_SIZE_100-199</td>\n",
       "      <td>0.006989</td>\n",
       "    </tr>\n",
       "    <tr>\n",
       "      <th>44</th>\n",
       "      <td>41</td>\n",
       "      <td>CENSUS_REGION_West</td>\n",
       "      <td>0.006940</td>\n",
       "    </tr>\n",
       "    <tr>\n",
       "      <th>45</th>\n",
       "      <td>30</td>\n",
       "      <td>ADMISSION_TYPE_GROUP_Elective</td>\n",
       "      <td>0.006735</td>\n",
       "    </tr>\n",
       "    <tr>\n",
       "      <th>46</th>\n",
       "      <td>52</td>\n",
       "      <td>RACE_GROUP_Other</td>\n",
       "      <td>0.005387</td>\n",
       "    </tr>\n",
       "    <tr>\n",
       "      <th>47</th>\n",
       "      <td>19</td>\n",
       "      <td>ARDS_MILD ARDS</td>\n",
       "      <td>0.004818</td>\n",
       "    </tr>\n",
       "    <tr>\n",
       "      <th>48</th>\n",
       "      <td>7</td>\n",
       "      <td>SBP</td>\n",
       "      <td>0.004230</td>\n",
       "    </tr>\n",
       "    <tr>\n",
       "      <th>49</th>\n",
       "      <td>47</td>\n",
       "      <td>PAYER_GROUP_Self</td>\n",
       "      <td>0.003747</td>\n",
       "    </tr>\n",
       "    <tr>\n",
       "      <th>50</th>\n",
       "      <td>45</td>\n",
       "      <td>PAYER_GROUP_Oth. Govt. or Mil.</td>\n",
       "      <td>0.002858</td>\n",
       "    </tr>\n",
       "    <tr>\n",
       "      <th>51</th>\n",
       "      <td>51</td>\n",
       "      <td>RACE_GROUP_Not Specified</td>\n",
       "      <td>0.001959</td>\n",
       "    </tr>\n",
       "    <tr>\n",
       "      <th>52</th>\n",
       "      <td>49</td>\n",
       "      <td>RACE_GROUP_Asian/Pacific Islander</td>\n",
       "      <td>0.001868</td>\n",
       "    </tr>\n",
       "    <tr>\n",
       "      <th>53</th>\n",
       "      <td>46</td>\n",
       "      <td>PAYER_GROUP_Oth. NGO or Work Comp.</td>\n",
       "      <td>0.001818</td>\n",
       "    </tr>\n",
       "    <tr>\n",
       "      <th>54</th>\n",
       "      <td>50</td>\n",
       "      <td>RACE_GROUP_Hispanic</td>\n",
       "      <td>0.001145</td>\n",
       "    </tr>\n",
       "  </tbody>\n",
       "</table>\n",
       "</div>"
      ],
      "text/plain": [
       "    index                             feature  importance\n",
       "0      16                             MELD_Na    0.125660\n",
       "1      11                         VASOPRESSOR    0.082132\n",
       "2      15                    ELIXHAUSER_INDEX    0.076516\n",
       "3       8                              SEPSIS    0.074244\n",
       "4      10                         VENTILATION    0.067440\n",
       "5      17                  AKI_CATEGORY2_MILD    0.041348\n",
       "6      13                          INDEX_YEAR    0.041167\n",
       "7      18                AKI_CATEGORY2_SEVERE    0.037023\n",
       "8      21                    ARDS_SEVERE ARDS    0.023925\n",
       "9      29        TIME_TO_ALB_CATEGORY_LOS_>24    0.021853\n",
       "10     34                       AGE_GROUP_65+    0.014566\n",
       "11     12                              FEMALE    0.014450\n",
       "12     25                       GLYCEMIA_BOTH    0.014041\n",
       "13      2                            DIURETIC    0.014005\n",
       "14      0                                 ABX    0.013796\n",
       "15      4                                  HE    0.013077\n",
       "16     40             CENSUS_REGION_Northeast    0.012985\n",
       "17      5                                 HRS    0.012814\n",
       "18     26              GLYCEMIA_HYPERGLYCEMIA    0.012732\n",
       "19      6                                 LVP    0.012646\n",
       "20      9                            STEROIDS    0.012570\n",
       "21     23  CRYST_RES_VOL_CATEGORY_(500, 1250]    0.012185\n",
       "22     22     CRYST_RES_VOL_CATEGORY_(0, 500]    0.012130\n",
       "23     27               GLYCEMIA_HYPOGLYCEMIA    0.012051\n",
       "24     43                PAYER_GROUP_Medicare    0.011705\n",
       "25      1                        BETA_BLOCKER    0.011228\n",
       "26     37                    BED_SIZE_300-499    0.010731\n",
       "27     38                       BED_SIZE_500+    0.010319\n",
       "28     54               TEACHING_FACILITY_Yes    0.010160\n",
       "29      3                       GIDX_BLEEDING    0.009943\n",
       "30     33                     AGE_GROUP_50-64    0.009567\n",
       "31     14                               URBAN    0.009443\n",
       "32     48         RACE_GROUP_African American    0.009224\n",
       "33     31         ADMISSION_TYPE_GROUP_Urgent    0.009187\n",
       "34     20                  ARDS_MODERATE ARDS    0.009043\n",
       "35     36                    BED_SIZE_200-299    0.008701\n",
       "36     39               CENSUS_REGION_Midwest    0.008552\n",
       "37     32                     AGE_GROUP_30-49    0.008406\n",
       "38     28    TIME_TO_ALB_CATEGORY_LOS_(0, 24]    0.008347\n",
       "39     44         PAYER_GROUP_Null or Exclude    0.008127\n",
       "40     24         CRYST_RES_VOL_CATEGORY_NONE    0.007968\n",
       "41     42                PAYER_GROUP_Medicaid    0.007872\n",
       "42     53     TEACHING_FACILITY_Not Specified    0.007630\n",
       "43     35                    BED_SIZE_100-199    0.006989\n",
       "44     41                  CENSUS_REGION_West    0.006940\n",
       "45     30       ADMISSION_TYPE_GROUP_Elective    0.006735\n",
       "46     52                    RACE_GROUP_Other    0.005387\n",
       "47     19                      ARDS_MILD ARDS    0.004818\n",
       "48      7                                 SBP    0.004230\n",
       "49     47                    PAYER_GROUP_Self    0.003747\n",
       "50     45      PAYER_GROUP_Oth. Govt. or Mil.    0.002858\n",
       "51     51            RACE_GROUP_Not Specified    0.001959\n",
       "52     49   RACE_GROUP_Asian/Pacific Islander    0.001868\n",
       "53     46  PAYER_GROUP_Oth. NGO or Work Comp.    0.001818\n",
       "54     50                 RACE_GROUP_Hispanic    0.001145"
      ]
     },
     "execution_count": 106,
     "metadata": {},
     "output_type": "execute_result"
    }
   ],
   "source": [
    "# sort dataframe by feature importances\n",
    "feature_importances_srt = feature_importances.sort_values(by='importance', ascending = False).reset_index()\n",
    "feature_importances_srt"
   ]
  },
  {
   "cell_type": "code",
   "execution_count": 120,
   "metadata": {},
   "outputs": [
    {
     "data": {
      "image/png": "[encoded data removed]",
      "text/plain": [
       "<Figure size 432x288 with 1 Axes>"
      ]
     },
     "metadata": {
      "needs_background": "light"
     },
     "output_type": "display_data"
    }
   ],
   "source": [
    "# plot Top 20 feature importances\n",
    "feature_importances_top20 = feature_importances_srt.iloc[0:20, :]\n",
    "feature_importances_top20.sort_values(by='importance', ascending = True, inplace = True)\n",
    "feature_importances_top20.plot(x = 'feature', y = 'importance', kind = 'barh', legend = False)\n",
    "plt.title('Feature Importance')\n",
    "plt.show()"
   ]
  },
  {
   "cell_type": "markdown",
   "metadata": {},
   "source": [
    "# Conclusion"
   ]
  },
  {
   "cell_type": "code",
   "execution_count": null,
   "metadata": {},
   "outputs": [],
   "source": []
  }
 ],
 "metadata": {
  "kernelspec": {
   "display_name": "Python 3",
   "language": "python",
   "name": "python3"
  },
  "language_info": {
   "codemirror_mode": {
    "name": "ipython",
    "version": 3
   },
   "file_extension": ".py",
   "mimetype": "text/x-python",
   "name": "python",
   "nbconvert_exporter": "python",
   "pygments_lexer": "ipython3",
   "version": "3.7.1"
  },
  "toc": {
   "base_numbering": 1,
   "nav_menu": {},
   "number_sections": true,
   "sideBar": true,
   "skip_h1_title": false,
   "title_cell": "Table of Contents",
   "title_sidebar": "Contents",
   "toc_cell": false,
   "toc_position": {},
   "toc_section_display": true,
   "toc_window_display": false
  },
  "varInspector": {
   "cols": {
    "lenName": 16,
    "lenType": 16,
    "lenVar": 40
   },
   "kernels_config": {
    "python": {
     "delete_cmd_postfix": "",
     "delete_cmd_prefix": "del ",
     "library": "var_list.py",
     "varRefreshCmd": "print(var_dic_list())"
    },
    "r": {
     "delete_cmd_postfix": ") ",
     "delete_cmd_prefix": "rm(",
     "library": "var_list.r",
     "varRefreshCmd": "cat(var_dic_list()) "
    }
   },
   "types_to_exclude": [
    "module",
    "function",
    "builtin_function_or_method",
    "instance",
    "_Feature"
   ],
   "window_display": false
  }
 },
 "nbformat": 4,
 "nbformat_minor": 2
}
