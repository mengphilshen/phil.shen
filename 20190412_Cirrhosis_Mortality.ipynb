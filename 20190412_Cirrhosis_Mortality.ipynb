{
 "cells": [
  {
   "cell_type": "markdown",
   "metadata": {
    "heading_collapsed": true
   },
   "source": [
    "# Introduction"
   ]
  },
  {
   "cell_type": "markdown",
   "metadata": {
    "hidden": true
   },
   "source": [
    "This report is to investigate the following questions:\n",
    "\n",
    "* What are the main factors affecting mortality of patients with cirrhosis?"
   ]
  },
  {
   "cell_type": "markdown",
   "metadata": {
    "heading_collapsed": true
   },
   "source": [
    "# Data Import"
   ]
  },
  {
   "cell_type": "code",
   "execution_count": 73,
   "metadata": {
    "hidden": true
   },
   "outputs": [],
   "source": [
    "# import modules\n",
    "import numpy as np\n",
    "import pandas as pd\n",
    "import matplotlib.pyplot as plt\n",
    "import seaborn as sns\n",
    "import scikitplot as skplt\n",
    "import statsmodels.api as sm\n",
    "from sklearn.preprocessing import StandardScaler\n",
    "from sklearn.decomposition import PCA\n",
    "from sklearn.model_selection import train_test_split, GridSearchCV\n",
    "from sklearn.linear_model import LogisticRegression\n",
    "from sklearn.ensemble import RandomForestClassifier\n",
    "from sklearn.metrics import confusion_matrix, classification_report\n",
    "import warnings\n",
    "warnings.filterwarnings('ignore')"
   ]
  },
  {
   "cell_type": "code",
   "execution_count": 95,
   "metadata": {
    "collapsed": true,
    "hidden": true
   },
   "outputs": [
    {
     "name": "stdout",
     "output_type": "stream",
     "text": [
      "<class 'pandas.core.frame.DataFrame'>\n",
      "RangeIndex: 86432 entries, 0 to 86431\n",
      "Data columns (total 31 columns):\n",
      "VISIT_ID2                   86432 non-null int64\n",
      "MORTALITY                   86432 non-null int64\n",
      "AKI_CATEGORY2               86432 non-null object\n",
      "ARDS                        86432 non-null object\n",
      "ABX                         86432 non-null int64\n",
      "BETA_BLOCKER                86432 non-null int64\n",
      "CRYST_RES_VOL_CATEGORY      86432 non-null object\n",
      "DIURETIC                    86432 non-null int64\n",
      "GIDX_BLEEDING               86432 non-null int64\n",
      "GLYCEMIA                    86432 non-null object\n",
      "HE                          86432 non-null int64\n",
      "HRS                         86432 non-null int64\n",
      "LVP                         86432 non-null int64\n",
      "SBP                         86432 non-null int64\n",
      "SEPSIS                      86432 non-null int64\n",
      "STEROIDS                    86432 non-null int64\n",
      "TIME_TO_ALB_CATEGORY_LOS    86432 non-null object\n",
      "VENTILATION                 86432 non-null int64\n",
      "VASOPRESSOR                 86432 non-null int64\n",
      "ADMISSION_TYPE_GROUP        86432 non-null object\n",
      "AGE_GROUP                   86432 non-null object\n",
      "BED_SIZE                    86432 non-null object\n",
      "CENSUS_REGION               86432 non-null object\n",
      "FEMALE                      86432 non-null int64\n",
      "INDEX_YEAR                  86432 non-null int64\n",
      "PAYER_GROUP                 86432 non-null object\n",
      "RACE_GROUP                  86432 non-null object\n",
      "TEACHING_FACILITY           86432 non-null object\n",
      "RURAL                       86432 non-null int64\n",
      "ELIXHAUSER_INDEX            86400 non-null float64\n",
      "MELD_Na                     83206 non-null float64\n",
      "dtypes: float64(2), int64(17), object(12)\n",
      "memory usage: 20.4+ MB\n"
     ]
    }
   ],
   "source": [
    "# load data\n",
    "Cirrhosis_DS0 = pd.read_csv('/Users/mengphilshen/Dropbox/Project/Data_Challenges/Proj_Cirrhosis/data/cir_mortality.csv')\n",
    "Cirrhosis_DS0.info()"
   ]
  },
  {
   "cell_type": "code",
   "execution_count": 87,
   "metadata": {
    "hidden": true
   },
   "outputs": [],
   "source": [
    "# set index\n",
    "Cirrhosis_DS0.set_index(['VISIT_ID2'], inplace = True)"
   ]
  },
  {
   "cell_type": "markdown",
   "metadata": {
    "heading_collapsed": true
   },
   "source": [
    "# Data Cleaning"
   ]
  },
  {
   "cell_type": "markdown",
   "metadata": {
    "heading_collapsed": true,
    "hidden": true
   },
   "source": [
    "## Delete Missing Values"
   ]
  },
  {
   "cell_type": "code",
   "execution_count": 88,
   "metadata": {
    "hidden": true
   },
   "outputs": [
    {
     "data": {
      "text/html": [
       "<div>\n",
       "<style scoped>\n",
       "    .dataframe tbody tr th:only-of-type {\n",
       "        vertical-align: middle;\n",
       "    }\n",
       "\n",
       "    .dataframe tbody tr th {\n",
       "        vertical-align: top;\n",
       "    }\n",
       "\n",
       "    .dataframe thead th {\n",
       "        text-align: right;\n",
       "    }\n",
       "</style>\n",
       "<table border=\"1\" class=\"dataframe\">\n",
       "  <thead>\n",
       "    <tr style=\"text-align: right;\">\n",
       "      <th></th>\n",
       "      <th>variable</th>\n",
       "      <th>missing values</th>\n",
       "      <th>missing %</th>\n",
       "    </tr>\n",
       "  </thead>\n",
       "  <tbody>\n",
       "    <tr>\n",
       "      <th>0</th>\n",
       "      <td>MELD_Na</td>\n",
       "      <td>3226</td>\n",
       "      <td>3.732414</td>\n",
       "    </tr>\n",
       "    <tr>\n",
       "      <th>1</th>\n",
       "      <td>ELIXHAUSER_INDEX</td>\n",
       "      <td>32</td>\n",
       "      <td>0.037023</td>\n",
       "    </tr>\n",
       "  </tbody>\n",
       "</table>\n",
       "</div>"
      ],
      "text/plain": [
       "           variable  missing values  missing %\n",
       "0           MELD_Na            3226   3.732414\n",
       "1  ELIXHAUSER_INDEX              32   0.037023"
      ]
     },
     "execution_count": 88,
     "metadata": {},
     "output_type": "execute_result"
    }
   ],
   "source": [
    "# check missing values\n",
    "missing_data = Cirrhosis_DS0.isnull().sum(axis = 0).reset_index()\n",
    "missing_data.columns = ['variable', 'missing values']\n",
    "missing_data['missing %'] = missing_data['missing values'] / Cirrhosis_DS0.shape[0] * 100\n",
    "missing_data_srt = missing_data.sort_values('missing %', ascending = False).reset_index(drop = True)\n",
    "missing_data_srt[missing_data_srt['missing %'] > 0]"
   ]
  },
  {
   "cell_type": "code",
   "execution_count": 172,
   "metadata": {
    "hidden": true
   },
   "outputs": [
    {
     "data": {
      "text/plain": [
       "(83179, 31)"
      ]
     },
     "execution_count": 172,
     "metadata": {},
     "output_type": "execute_result"
    }
   ],
   "source": [
    "# delete missing values\n",
    "Cirrhosis_DS1 = Cirrhosis_DS0.dropna()\n",
    "Cirrhosis_DS1.shape"
   ]
  },
  {
   "cell_type": "markdown",
   "metadata": {
    "heading_collapsed": true,
    "hidden": true
   },
   "source": [
    "## Encode Categorical Features"
   ]
  },
  {
   "cell_type": "code",
   "execution_count": 91,
   "metadata": {
    "hidden": true
   },
   "outputs": [],
   "source": [
    "# convert feature types\n",
    "Cirrhosis_DS1['INDEX_YEAR'] = Cirrhosis_DS1['INDEX_YEAR'].apply(str)"
   ]
  },
  {
   "cell_type": "code",
   "execution_count": 174,
   "metadata": {
    "collapsed": true,
    "hidden": true
   },
   "outputs": [
    {
     "name": "stdout",
     "output_type": "stream",
     "text": [
      "<class 'pandas.core.frame.DataFrame'>\n",
      "Int64Index: 83179 entries, 0 to 86431\n",
      "Data columns (total 69 columns):\n",
      "VISIT_ID2                             83179 non-null int64\n",
      "MORTALITY                             83179 non-null int64\n",
      "ABX                                   83179 non-null int64\n",
      "BETA_BLOCKER                          83179 non-null int64\n",
      "DIURETIC                              83179 non-null int64\n",
      "GIDX_BLEEDING                         83179 non-null int64\n",
      "HE                                    83179 non-null int64\n",
      "HRS                                   83179 non-null int64\n",
      "LVP                                   83179 non-null int64\n",
      "SBP                                   83179 non-null int64\n",
      "SEPSIS                                83179 non-null int64\n",
      "STEROIDS                              83179 non-null int64\n",
      "VENTILATION                           83179 non-null int64\n",
      "VASOPRESSOR                           83179 non-null int64\n",
      "FEMALE                                83179 non-null int64\n",
      "INDEX_YEAR                            83179 non-null int64\n",
      "RURAL                                 83179 non-null int64\n",
      "ELIXHAUSER_INDEX                      83179 non-null float64\n",
      "MELD_Na                               83179 non-null float64\n",
      "AKI_CATEGORY2_MILD                    83179 non-null uint8\n",
      "AKI_CATEGORY2_NONE                    83179 non-null uint8\n",
      "AKI_CATEGORY2_SEVERE                  83179 non-null uint8\n",
      "ARDS_MILD ARDS                        83179 non-null uint8\n",
      "ARDS_MODERATE ARDS                    83179 non-null uint8\n",
      "ARDS_NONE                             83179 non-null uint8\n",
      "ARDS_SEVERE ARDS                      83179 non-null uint8\n",
      "CRYST_RES_VOL_CATEGORY_(0, 500]       83179 non-null uint8\n",
      "CRYST_RES_VOL_CATEGORY_(500, 1250]    83179 non-null uint8\n",
      "CRYST_RES_VOL_CATEGORY_>1250          83179 non-null uint8\n",
      "CRYST_RES_VOL_CATEGORY_NONE           83179 non-null uint8\n",
      "GLYCEMIA_BOTH                         83179 non-null uint8\n",
      "GLYCEMIA_HYPERGLYCEMIA                83179 non-null uint8\n",
      "GLYCEMIA_HYPOGLYCEMIA                 83179 non-null uint8\n",
      "GLYCEMIA_NEITHER                      83179 non-null uint8\n",
      "TIME_TO_ALB_CATEGORY_LOS_(0, 24]      83179 non-null uint8\n",
      "TIME_TO_ALB_CATEGORY_LOS_>24          83179 non-null uint8\n",
      "TIME_TO_ALB_CATEGORY_LOS_NONE         83179 non-null uint8\n",
      "ADMISSION_TYPE_GROUP_Elective         83179 non-null uint8\n",
      "ADMISSION_TYPE_GROUP_Emergency        83179 non-null uint8\n",
      "ADMISSION_TYPE_GROUP_Urgent           83179 non-null uint8\n",
      "AGE_GROUP_18-29                       83179 non-null uint8\n",
      "AGE_GROUP_30-49                       83179 non-null uint8\n",
      "AGE_GROUP_50-64                       83179 non-null uint8\n",
      "AGE_GROUP_65+                         83179 non-null uint8\n",
      "BED_SIZE_0-99                         83179 non-null uint8\n",
      "BED_SIZE_100-199                      83179 non-null uint8\n",
      "BED_SIZE_200-299                      83179 non-null uint8\n",
      "BED_SIZE_300-499                      83179 non-null uint8\n",
      "BED_SIZE_500+                         83179 non-null uint8\n",
      "CENSUS_REGION_Midwest                 83179 non-null uint8\n",
      "CENSUS_REGION_Northeast               83179 non-null uint8\n",
      "CENSUS_REGION_South                   83179 non-null uint8\n",
      "CENSUS_REGION_West                    83179 non-null uint8\n",
      "PAYER_GROUP_Commercial                83179 non-null uint8\n",
      "PAYER_GROUP_Medicaid                  83179 non-null uint8\n",
      "PAYER_GROUP_Medicare                  83179 non-null uint8\n",
      "PAYER_GROUP_Null or Exclude           83179 non-null uint8\n",
      "PAYER_GROUP_Oth. Govt. or Mil.        83179 non-null uint8\n",
      "PAYER_GROUP_Oth. NGO or Work Comp.    83179 non-null uint8\n",
      "PAYER_GROUP_Self                      83179 non-null uint8\n",
      "RACE_GROUP_African American           83179 non-null uint8\n",
      "RACE_GROUP_Asian/Pacific Islander     83179 non-null uint8\n",
      "RACE_GROUP_Caucasian                  83179 non-null uint8\n",
      "RACE_GROUP_Hispanic                   83179 non-null uint8\n",
      "RACE_GROUP_Not Specified              83179 non-null uint8\n",
      "RACE_GROUP_Other                      83179 non-null uint8\n",
      "TEACHING_FACILITY_No                  83179 non-null uint8\n",
      "TEACHING_FACILITY_Not Specified       83179 non-null uint8\n",
      "TEACHING_FACILITY_Yes                 83179 non-null uint8\n",
      "dtypes: float64(2), int64(17), uint8(50)\n",
      "memory usage: 16.7 MB\n"
     ]
    }
   ],
   "source": [
    "# encode categorical features\n",
    "Cirrhosis_DS2 = pd.get_dummies(Cirrhosis_DS1)\n",
    "Cirrhosis_DS2.info()"
   ]
  },
  {
   "cell_type": "code",
   "execution_count": 93,
   "metadata": {
    "hidden": true
   },
   "outputs": [
    {
     "name": "stdout",
     "output_type": "stream",
     "text": [
      "<class 'pandas.core.frame.DataFrame'>\n",
      "Int64Index: 83179 entries, 326305398 to 283396498\n",
      "Data columns (total 62 columns):\n",
      "MORTALITY                             83179 non-null int64\n",
      "ABX                                   83179 non-null int64\n",
      "BETA_BLOCKER                          83179 non-null int64\n",
      "DIURETIC                              83179 non-null int64\n",
      "GIDX_BLEEDING                         83179 non-null int64\n",
      "HE                                    83179 non-null int64\n",
      "HRS                                   83179 non-null int64\n",
      "LVP                                   83179 non-null int64\n",
      "SBP                                   83179 non-null int64\n",
      "SEPSIS                                83179 non-null int64\n",
      "STEROIDS                              83179 non-null int64\n",
      "VENTILATION                           83179 non-null int64\n",
      "VASOPRESSOR                           83179 non-null int64\n",
      "FEMALE                                83179 non-null int64\n",
      "RURAL                                 83179 non-null int64\n",
      "ELIXHAUSER_INDEX                      83179 non-null float64\n",
      "MELD_Na                               83179 non-null float64\n",
      "AKI_CATEGORY2_MILD                    83179 non-null uint8\n",
      "AKI_CATEGORY2_SEVERE                  83179 non-null uint8\n",
      "ARDS_MILD ARDS                        83179 non-null uint8\n",
      "ARDS_MODERATE ARDS                    83179 non-null uint8\n",
      "ARDS_SEVERE ARDS                      83179 non-null uint8\n",
      "CRYST_RES_VOL_CATEGORY_(0, 500]       83179 non-null uint8\n",
      "CRYST_RES_VOL_CATEGORY_(500, 1250]    83179 non-null uint8\n",
      "CRYST_RES_VOL_CATEGORY_NONE           83179 non-null uint8\n",
      "GLYCEMIA_BOTH                         83179 non-null uint8\n",
      "GLYCEMIA_HYPERGLYCEMIA                83179 non-null uint8\n",
      "GLYCEMIA_HYPOGLYCEMIA                 83179 non-null uint8\n",
      "TIME_TO_ALB_CATEGORY_LOS_(0, 24]      83179 non-null uint8\n",
      "TIME_TO_ALB_CATEGORY_LOS_>24          83179 non-null uint8\n",
      "ADMISSION_TYPE_GROUP_Elective         83179 non-null uint8\n",
      "ADMISSION_TYPE_GROUP_Urgent           83179 non-null uint8\n",
      "AGE_GROUP_30-49                       83179 non-null uint8\n",
      "AGE_GROUP_50-64                       83179 non-null uint8\n",
      "AGE_GROUP_65+                         83179 non-null uint8\n",
      "BED_SIZE_100-199                      83179 non-null uint8\n",
      "BED_SIZE_200-299                      83179 non-null uint8\n",
      "BED_SIZE_300-499                      83179 non-null uint8\n",
      "BED_SIZE_500+                         83179 non-null uint8\n",
      "CENSUS_REGION_Midwest                 83179 non-null uint8\n",
      "CENSUS_REGION_Northeast               83179 non-null uint8\n",
      "CENSUS_REGION_West                    83179 non-null uint8\n",
      "INDEX_YEAR_2009                       83179 non-null uint8\n",
      "INDEX_YEAR_2010                       83179 non-null uint8\n",
      "INDEX_YEAR_2011                       83179 non-null uint8\n",
      "INDEX_YEAR_2012                       83179 non-null uint8\n",
      "INDEX_YEAR_2013                       83179 non-null uint8\n",
      "INDEX_YEAR_2014                       83179 non-null uint8\n",
      "INDEX_YEAR_2015                       83179 non-null uint8\n",
      "PAYER_GROUP_Medicaid                  83179 non-null uint8\n",
      "PAYER_GROUP_Medicare                  83179 non-null uint8\n",
      "PAYER_GROUP_Null or Exclude           83179 non-null uint8\n",
      "PAYER_GROUP_Oth. Govt. or Mil.        83179 non-null uint8\n",
      "PAYER_GROUP_Oth. NGO or Work Comp.    83179 non-null uint8\n",
      "PAYER_GROUP_Self                      83179 non-null uint8\n",
      "RACE_GROUP_African American           83179 non-null uint8\n",
      "RACE_GROUP_Asian/Pacific Islander     83179 non-null uint8\n",
      "RACE_GROUP_Hispanic                   83179 non-null uint8\n",
      "RACE_GROUP_Not Specified              83179 non-null uint8\n",
      "RACE_GROUP_Other                      83179 non-null uint8\n",
      "TEACHING_FACILITY_Not Specified       83179 non-null uint8\n",
      "TEACHING_FACILITY_Yes                 83179 non-null uint8\n",
      "dtypes: float64(2), int64(15), uint8(45)\n",
      "memory usage: 15.0 MB\n"
     ]
    }
   ],
   "source": [
    "# drop one level to avoid collinearity\n",
    "variables_to_drop = ['AKI_CATEGORY2_NONE', \n",
    "                     'ARDS_NONE', \n",
    "                     'CRYST_RES_VOL_CATEGORY_>1250', \n",
    "                     'GLYCEMIA_NEITHER', \n",
    "                     'TIME_TO_ALB_CATEGORY_LOS_NONE', \n",
    "                     'ADMISSION_TYPE_GROUP_Emergency', \n",
    "                     'AGE_GROUP_18-29', \n",
    "                     'BED_SIZE_0-99', \n",
    "                     'CENSUS_REGION_South', \n",
    "                     'INDEX_YEAR_2016',\n",
    "                     'PAYER_GROUP_Commercial', \n",
    "                     'RACE_GROUP_Caucasian', \n",
    "                     'TEACHING_FACILITY_No']\n",
    "Cirrhosis_DS3 = Cirrhosis_DS2.drop(variables_to_drop, axis = 1)\n",
    "Cirrhosis_DS3.info()"
   ]
  },
  {
   "cell_type": "markdown",
   "metadata": {
    "heading_collapsed": true,
    "hidden": true
   },
   "source": [
    "## Seperate Features and Targets"
   ]
  },
  {
   "cell_type": "code",
   "execution_count": 96,
   "metadata": {
    "hidden": true
   },
   "outputs": [
    {
     "data": {
      "text/plain": [
       "0    74275\n",
       "1     8904\n",
       "Name: MORTALITY, dtype: int64"
      ]
     },
     "execution_count": 96,
     "metadata": {},
     "output_type": "execute_result"
    }
   ],
   "source": [
    "# create the target vector\n",
    "y = Cirrhosis_DS3.iloc[:, Cirrhosis_DS3.columns == 'MORTALITY']\n",
    "y['MORTALITY'].value_counts()"
   ]
  },
  {
   "cell_type": "code",
   "execution_count": 97,
   "metadata": {
    "hidden": true
   },
   "outputs": [
    {
     "data": {
      "text/plain": [
       "0    0.892954\n",
       "1    0.107046\n",
       "Name: MORTALITY, dtype: float64"
      ]
     },
     "execution_count": 97,
     "metadata": {},
     "output_type": "execute_result"
    }
   ],
   "source": [
    "y['MORTALITY'].value_counts(normalize = True)"
   ]
  },
  {
   "cell_type": "code",
   "execution_count": 98,
   "metadata": {
    "hidden": true
   },
   "outputs": [
    {
     "data": {
      "text/html": [
       "<div>\n",
       "<style scoped>\n",
       "    .dataframe tbody tr th:only-of-type {\n",
       "        vertical-align: middle;\n",
       "    }\n",
       "\n",
       "    .dataframe tbody tr th {\n",
       "        vertical-align: top;\n",
       "    }\n",
       "\n",
       "    .dataframe thead th {\n",
       "        text-align: right;\n",
       "    }\n",
       "</style>\n",
       "<table border=\"1\" class=\"dataframe\">\n",
       "  <thead>\n",
       "    <tr style=\"text-align: right;\">\n",
       "      <th></th>\n",
       "      <th>count</th>\n",
       "      <th>mean</th>\n",
       "      <th>std</th>\n",
       "      <th>min</th>\n",
       "      <th>25%</th>\n",
       "      <th>50%</th>\n",
       "      <th>75%</th>\n",
       "      <th>max</th>\n",
       "    </tr>\n",
       "  </thead>\n",
       "  <tbody>\n",
       "    <tr>\n",
       "      <th>ABX</th>\n",
       "      <td>83179.0</td>\n",
       "      <td>0.616382</td>\n",
       "      <td>0.486270</td>\n",
       "      <td>0.0</td>\n",
       "      <td>0.0</td>\n",
       "      <td>1.0</td>\n",
       "      <td>1.0</td>\n",
       "      <td>1.0</td>\n",
       "    </tr>\n",
       "    <tr>\n",
       "      <th>BETA_BLOCKER</th>\n",
       "      <td>83179.0</td>\n",
       "      <td>0.164092</td>\n",
       "      <td>0.370361</td>\n",
       "      <td>0.0</td>\n",
       "      <td>0.0</td>\n",
       "      <td>0.0</td>\n",
       "      <td>0.0</td>\n",
       "      <td>1.0</td>\n",
       "    </tr>\n",
       "    <tr>\n",
       "      <th>DIURETIC</th>\n",
       "      <td>83179.0</td>\n",
       "      <td>0.440436</td>\n",
       "      <td>0.496442</td>\n",
       "      <td>0.0</td>\n",
       "      <td>0.0</td>\n",
       "      <td>0.0</td>\n",
       "      <td>1.0</td>\n",
       "      <td>1.0</td>\n",
       "    </tr>\n",
       "    <tr>\n",
       "      <th>GIDX_BLEEDING</th>\n",
       "      <td>83179.0</td>\n",
       "      <td>0.144964</td>\n",
       "      <td>0.352067</td>\n",
       "      <td>0.0</td>\n",
       "      <td>0.0</td>\n",
       "      <td>0.0</td>\n",
       "      <td>0.0</td>\n",
       "      <td>1.0</td>\n",
       "    </tr>\n",
       "    <tr>\n",
       "      <th>HE</th>\n",
       "      <td>83179.0</td>\n",
       "      <td>0.192188</td>\n",
       "      <td>0.394022</td>\n",
       "      <td>0.0</td>\n",
       "      <td>0.0</td>\n",
       "      <td>0.0</td>\n",
       "      <td>0.0</td>\n",
       "      <td>1.0</td>\n",
       "    </tr>\n",
       "    <tr>\n",
       "      <th>HRS</th>\n",
       "      <td>83179.0</td>\n",
       "      <td>0.045576</td>\n",
       "      <td>0.208566</td>\n",
       "      <td>0.0</td>\n",
       "      <td>0.0</td>\n",
       "      <td>0.0</td>\n",
       "      <td>0.0</td>\n",
       "      <td>1.0</td>\n",
       "    </tr>\n",
       "    <tr>\n",
       "      <th>LVP</th>\n",
       "      <td>83179.0</td>\n",
       "      <td>0.264526</td>\n",
       "      <td>0.441083</td>\n",
       "      <td>0.0</td>\n",
       "      <td>0.0</td>\n",
       "      <td>0.0</td>\n",
       "      <td>1.0</td>\n",
       "      <td>1.0</td>\n",
       "    </tr>\n",
       "    <tr>\n",
       "      <th>SBP</th>\n",
       "      <td>83179.0</td>\n",
       "      <td>0.035838</td>\n",
       "      <td>0.185888</td>\n",
       "      <td>0.0</td>\n",
       "      <td>0.0</td>\n",
       "      <td>0.0</td>\n",
       "      <td>0.0</td>\n",
       "      <td>1.0</td>\n",
       "    </tr>\n",
       "    <tr>\n",
       "      <th>SEPSIS</th>\n",
       "      <td>83179.0</td>\n",
       "      <td>0.110785</td>\n",
       "      <td>0.313868</td>\n",
       "      <td>0.0</td>\n",
       "      <td>0.0</td>\n",
       "      <td>0.0</td>\n",
       "      <td>0.0</td>\n",
       "      <td>1.0</td>\n",
       "    </tr>\n",
       "    <tr>\n",
       "      <th>STEROIDS</th>\n",
       "      <td>83179.0</td>\n",
       "      <td>0.137883</td>\n",
       "      <td>0.344780</td>\n",
       "      <td>0.0</td>\n",
       "      <td>0.0</td>\n",
       "      <td>0.0</td>\n",
       "      <td>0.0</td>\n",
       "      <td>1.0</td>\n",
       "    </tr>\n",
       "    <tr>\n",
       "      <th>VENTILATION</th>\n",
       "      <td>83179.0</td>\n",
       "      <td>0.108044</td>\n",
       "      <td>0.310438</td>\n",
       "      <td>0.0</td>\n",
       "      <td>0.0</td>\n",
       "      <td>0.0</td>\n",
       "      <td>0.0</td>\n",
       "      <td>1.0</td>\n",
       "    </tr>\n",
       "    <tr>\n",
       "      <th>VASOPRESSOR</th>\n",
       "      <td>83179.0</td>\n",
       "      <td>0.182991</td>\n",
       "      <td>0.386661</td>\n",
       "      <td>0.0</td>\n",
       "      <td>0.0</td>\n",
       "      <td>0.0</td>\n",
       "      <td>0.0</td>\n",
       "      <td>1.0</td>\n",
       "    </tr>\n",
       "    <tr>\n",
       "      <th>FEMALE</th>\n",
       "      <td>83179.0</td>\n",
       "      <td>0.444920</td>\n",
       "      <td>0.496960</td>\n",
       "      <td>0.0</td>\n",
       "      <td>0.0</td>\n",
       "      <td>0.0</td>\n",
       "      <td>1.0</td>\n",
       "      <td>1.0</td>\n",
       "    </tr>\n",
       "    <tr>\n",
       "      <th>RURAL</th>\n",
       "      <td>83179.0</td>\n",
       "      <td>0.196636</td>\n",
       "      <td>0.397457</td>\n",
       "      <td>0.0</td>\n",
       "      <td>0.0</td>\n",
       "      <td>0.0</td>\n",
       "      <td>0.0</td>\n",
       "      <td>1.0</td>\n",
       "    </tr>\n",
       "    <tr>\n",
       "      <th>ELIXHAUSER_INDEX</th>\n",
       "      <td>83179.0</td>\n",
       "      <td>17.283533</td>\n",
       "      <td>10.581495</td>\n",
       "      <td>-16.0</td>\n",
       "      <td>10.0</td>\n",
       "      <td>17.0</td>\n",
       "      <td>24.0</td>\n",
       "      <td>69.0</td>\n",
       "    </tr>\n",
       "    <tr>\n",
       "      <th>MELD_Na</th>\n",
       "      <td>83179.0</td>\n",
       "      <td>16.167769</td>\n",
       "      <td>8.778467</td>\n",
       "      <td>6.0</td>\n",
       "      <td>9.0</td>\n",
       "      <td>14.0</td>\n",
       "      <td>22.0</td>\n",
       "      <td>68.0</td>\n",
       "    </tr>\n",
       "    <tr>\n",
       "      <th>AKI_CATEGORY2_MILD</th>\n",
       "      <td>83179.0</td>\n",
       "      <td>0.195578</td>\n",
       "      <td>0.396648</td>\n",
       "      <td>0.0</td>\n",
       "      <td>0.0</td>\n",
       "      <td>0.0</td>\n",
       "      <td>0.0</td>\n",
       "      <td>1.0</td>\n",
       "    </tr>\n",
       "    <tr>\n",
       "      <th>AKI_CATEGORY2_SEVERE</th>\n",
       "      <td>83179.0</td>\n",
       "      <td>0.123493</td>\n",
       "      <td>0.329004</td>\n",
       "      <td>0.0</td>\n",
       "      <td>0.0</td>\n",
       "      <td>0.0</td>\n",
       "      <td>0.0</td>\n",
       "      <td>1.0</td>\n",
       "    </tr>\n",
       "    <tr>\n",
       "      <th>ARDS_MILD ARDS</th>\n",
       "      <td>83179.0</td>\n",
       "      <td>0.026882</td>\n",
       "      <td>0.161739</td>\n",
       "      <td>0.0</td>\n",
       "      <td>0.0</td>\n",
       "      <td>0.0</td>\n",
       "      <td>0.0</td>\n",
       "      <td>1.0</td>\n",
       "    </tr>\n",
       "    <tr>\n",
       "      <th>ARDS_MODERATE ARDS</th>\n",
       "      <td>83179.0</td>\n",
       "      <td>0.039072</td>\n",
       "      <td>0.193768</td>\n",
       "      <td>0.0</td>\n",
       "      <td>0.0</td>\n",
       "      <td>0.0</td>\n",
       "      <td>0.0</td>\n",
       "      <td>1.0</td>\n",
       "    </tr>\n",
       "    <tr>\n",
       "      <th>ARDS_SEVERE ARDS</th>\n",
       "      <td>83179.0</td>\n",
       "      <td>0.035237</td>\n",
       "      <td>0.184380</td>\n",
       "      <td>0.0</td>\n",
       "      <td>0.0</td>\n",
       "      <td>0.0</td>\n",
       "      <td>0.0</td>\n",
       "      <td>1.0</td>\n",
       "    </tr>\n",
       "    <tr>\n",
       "      <th>CRYST_RES_VOL_CATEGORY_(0, 500]</th>\n",
       "      <td>83179.0</td>\n",
       "      <td>0.285036</td>\n",
       "      <td>0.451434</td>\n",
       "      <td>0.0</td>\n",
       "      <td>0.0</td>\n",
       "      <td>0.0</td>\n",
       "      <td>1.0</td>\n",
       "      <td>1.0</td>\n",
       "    </tr>\n",
       "    <tr>\n",
       "      <th>CRYST_RES_VOL_CATEGORY_(500, 1250]</th>\n",
       "      <td>83179.0</td>\n",
       "      <td>0.393777</td>\n",
       "      <td>0.488589</td>\n",
       "      <td>0.0</td>\n",
       "      <td>0.0</td>\n",
       "      <td>0.0</td>\n",
       "      <td>1.0</td>\n",
       "      <td>1.0</td>\n",
       "    </tr>\n",
       "    <tr>\n",
       "      <th>CRYST_RES_VOL_CATEGORY_NONE</th>\n",
       "      <td>83179.0</td>\n",
       "      <td>0.156927</td>\n",
       "      <td>0.363734</td>\n",
       "      <td>0.0</td>\n",
       "      <td>0.0</td>\n",
       "      <td>0.0</td>\n",
       "      <td>0.0</td>\n",
       "      <td>1.0</td>\n",
       "    </tr>\n",
       "    <tr>\n",
       "      <th>GLYCEMIA_BOTH</th>\n",
       "      <td>83179.0</td>\n",
       "      <td>0.090011</td>\n",
       "      <td>0.286199</td>\n",
       "      <td>0.0</td>\n",
       "      <td>0.0</td>\n",
       "      <td>0.0</td>\n",
       "      <td>0.0</td>\n",
       "      <td>1.0</td>\n",
       "    </tr>\n",
       "    <tr>\n",
       "      <th>GLYCEMIA_HYPERGLYCEMIA</th>\n",
       "      <td>83179.0</td>\n",
       "      <td>0.311918</td>\n",
       "      <td>0.463279</td>\n",
       "      <td>0.0</td>\n",
       "      <td>0.0</td>\n",
       "      <td>0.0</td>\n",
       "      <td>1.0</td>\n",
       "      <td>1.0</td>\n",
       "    </tr>\n",
       "    <tr>\n",
       "      <th>GLYCEMIA_HYPOGLYCEMIA</th>\n",
       "      <td>83179.0</td>\n",
       "      <td>0.037822</td>\n",
       "      <td>0.190767</td>\n",
       "      <td>0.0</td>\n",
       "      <td>0.0</td>\n",
       "      <td>0.0</td>\n",
       "      <td>0.0</td>\n",
       "      <td>1.0</td>\n",
       "    </tr>\n",
       "    <tr>\n",
       "      <th>TIME_TO_ALB_CATEGORY_LOS_(0, 24]</th>\n",
       "      <td>83179.0</td>\n",
       "      <td>0.151360</td>\n",
       "      <td>0.358402</td>\n",
       "      <td>0.0</td>\n",
       "      <td>0.0</td>\n",
       "      <td>0.0</td>\n",
       "      <td>0.0</td>\n",
       "      <td>1.0</td>\n",
       "    </tr>\n",
       "    <tr>\n",
       "      <th>TIME_TO_ALB_CATEGORY_LOS_&gt;24</th>\n",
       "      <td>83179.0</td>\n",
       "      <td>0.160629</td>\n",
       "      <td>0.367191</td>\n",
       "      <td>0.0</td>\n",
       "      <td>0.0</td>\n",
       "      <td>0.0</td>\n",
       "      <td>0.0</td>\n",
       "      <td>1.0</td>\n",
       "    </tr>\n",
       "    <tr>\n",
       "      <th>ADMISSION_TYPE_GROUP_Elective</th>\n",
       "      <td>83179.0</td>\n",
       "      <td>0.086512</td>\n",
       "      <td>0.281121</td>\n",
       "      <td>0.0</td>\n",
       "      <td>0.0</td>\n",
       "      <td>0.0</td>\n",
       "      <td>0.0</td>\n",
       "      <td>1.0</td>\n",
       "    </tr>\n",
       "    <tr>\n",
       "      <th>...</th>\n",
       "      <td>...</td>\n",
       "      <td>...</td>\n",
       "      <td>...</td>\n",
       "      <td>...</td>\n",
       "      <td>...</td>\n",
       "      <td>...</td>\n",
       "      <td>...</td>\n",
       "      <td>...</td>\n",
       "    </tr>\n",
       "    <tr>\n",
       "      <th>AGE_GROUP_30-49</th>\n",
       "      <td>83179.0</td>\n",
       "      <td>0.195939</td>\n",
       "      <td>0.396924</td>\n",
       "      <td>0.0</td>\n",
       "      <td>0.0</td>\n",
       "      <td>0.0</td>\n",
       "      <td>0.0</td>\n",
       "      <td>1.0</td>\n",
       "    </tr>\n",
       "    <tr>\n",
       "      <th>AGE_GROUP_50-64</th>\n",
       "      <td>83179.0</td>\n",
       "      <td>0.438224</td>\n",
       "      <td>0.496172</td>\n",
       "      <td>0.0</td>\n",
       "      <td>0.0</td>\n",
       "      <td>0.0</td>\n",
       "      <td>1.0</td>\n",
       "      <td>1.0</td>\n",
       "    </tr>\n",
       "    <tr>\n",
       "      <th>AGE_GROUP_65+</th>\n",
       "      <td>83179.0</td>\n",
       "      <td>0.338992</td>\n",
       "      <td>0.473370</td>\n",
       "      <td>0.0</td>\n",
       "      <td>0.0</td>\n",
       "      <td>0.0</td>\n",
       "      <td>1.0</td>\n",
       "      <td>1.0</td>\n",
       "    </tr>\n",
       "    <tr>\n",
       "      <th>BED_SIZE_100-199</th>\n",
       "      <td>83179.0</td>\n",
       "      <td>0.119177</td>\n",
       "      <td>0.323998</td>\n",
       "      <td>0.0</td>\n",
       "      <td>0.0</td>\n",
       "      <td>0.0</td>\n",
       "      <td>0.0</td>\n",
       "      <td>1.0</td>\n",
       "    </tr>\n",
       "    <tr>\n",
       "      <th>BED_SIZE_200-299</th>\n",
       "      <td>83179.0</td>\n",
       "      <td>0.168143</td>\n",
       "      <td>0.373996</td>\n",
       "      <td>0.0</td>\n",
       "      <td>0.0</td>\n",
       "      <td>0.0</td>\n",
       "      <td>0.0</td>\n",
       "      <td>1.0</td>\n",
       "    </tr>\n",
       "    <tr>\n",
       "      <th>BED_SIZE_300-499</th>\n",
       "      <td>83179.0</td>\n",
       "      <td>0.306856</td>\n",
       "      <td>0.461192</td>\n",
       "      <td>0.0</td>\n",
       "      <td>0.0</td>\n",
       "      <td>0.0</td>\n",
       "      <td>1.0</td>\n",
       "      <td>1.0</td>\n",
       "    </tr>\n",
       "    <tr>\n",
       "      <th>BED_SIZE_500+</th>\n",
       "      <td>83179.0</td>\n",
       "      <td>0.310619</td>\n",
       "      <td>0.462750</td>\n",
       "      <td>0.0</td>\n",
       "      <td>0.0</td>\n",
       "      <td>0.0</td>\n",
       "      <td>1.0</td>\n",
       "      <td>1.0</td>\n",
       "    </tr>\n",
       "    <tr>\n",
       "      <th>CENSUS_REGION_Midwest</th>\n",
       "      <td>83179.0</td>\n",
       "      <td>0.186790</td>\n",
       "      <td>0.389745</td>\n",
       "      <td>0.0</td>\n",
       "      <td>0.0</td>\n",
       "      <td>0.0</td>\n",
       "      <td>0.0</td>\n",
       "      <td>1.0</td>\n",
       "    </tr>\n",
       "    <tr>\n",
       "      <th>CENSUS_REGION_Northeast</th>\n",
       "      <td>83179.0</td>\n",
       "      <td>0.270585</td>\n",
       "      <td>0.444265</td>\n",
       "      <td>0.0</td>\n",
       "      <td>0.0</td>\n",
       "      <td>0.0</td>\n",
       "      <td>1.0</td>\n",
       "      <td>1.0</td>\n",
       "    </tr>\n",
       "    <tr>\n",
       "      <th>CENSUS_REGION_West</th>\n",
       "      <td>83179.0</td>\n",
       "      <td>0.129203</td>\n",
       "      <td>0.335427</td>\n",
       "      <td>0.0</td>\n",
       "      <td>0.0</td>\n",
       "      <td>0.0</td>\n",
       "      <td>0.0</td>\n",
       "      <td>1.0</td>\n",
       "    </tr>\n",
       "    <tr>\n",
       "      <th>INDEX_YEAR_2009</th>\n",
       "      <td>83179.0</td>\n",
       "      <td>0.041417</td>\n",
       "      <td>0.199253</td>\n",
       "      <td>0.0</td>\n",
       "      <td>0.0</td>\n",
       "      <td>0.0</td>\n",
       "      <td>0.0</td>\n",
       "      <td>1.0</td>\n",
       "    </tr>\n",
       "    <tr>\n",
       "      <th>INDEX_YEAR_2010</th>\n",
       "      <td>83179.0</td>\n",
       "      <td>0.058705</td>\n",
       "      <td>0.235073</td>\n",
       "      <td>0.0</td>\n",
       "      <td>0.0</td>\n",
       "      <td>0.0</td>\n",
       "      <td>0.0</td>\n",
       "      <td>1.0</td>\n",
       "    </tr>\n",
       "    <tr>\n",
       "      <th>INDEX_YEAR_2011</th>\n",
       "      <td>83179.0</td>\n",
       "      <td>0.073913</td>\n",
       "      <td>0.261631</td>\n",
       "      <td>0.0</td>\n",
       "      <td>0.0</td>\n",
       "      <td>0.0</td>\n",
       "      <td>0.0</td>\n",
       "      <td>1.0</td>\n",
       "    </tr>\n",
       "    <tr>\n",
       "      <th>INDEX_YEAR_2012</th>\n",
       "      <td>83179.0</td>\n",
       "      <td>0.092211</td>\n",
       "      <td>0.289325</td>\n",
       "      <td>0.0</td>\n",
       "      <td>0.0</td>\n",
       "      <td>0.0</td>\n",
       "      <td>0.0</td>\n",
       "      <td>1.0</td>\n",
       "    </tr>\n",
       "    <tr>\n",
       "      <th>INDEX_YEAR_2013</th>\n",
       "      <td>83179.0</td>\n",
       "      <td>0.143546</td>\n",
       "      <td>0.350631</td>\n",
       "      <td>0.0</td>\n",
       "      <td>0.0</td>\n",
       "      <td>0.0</td>\n",
       "      <td>0.0</td>\n",
       "      <td>1.0</td>\n",
       "    </tr>\n",
       "    <tr>\n",
       "      <th>INDEX_YEAR_2014</th>\n",
       "      <td>83179.0</td>\n",
       "      <td>0.197899</td>\n",
       "      <td>0.398418</td>\n",
       "      <td>0.0</td>\n",
       "      <td>0.0</td>\n",
       "      <td>0.0</td>\n",
       "      <td>0.0</td>\n",
       "      <td>1.0</td>\n",
       "    </tr>\n",
       "    <tr>\n",
       "      <th>INDEX_YEAR_2015</th>\n",
       "      <td>83179.0</td>\n",
       "      <td>0.190637</td>\n",
       "      <td>0.392806</td>\n",
       "      <td>0.0</td>\n",
       "      <td>0.0</td>\n",
       "      <td>0.0</td>\n",
       "      <td>0.0</td>\n",
       "      <td>1.0</td>\n",
       "    </tr>\n",
       "    <tr>\n",
       "      <th>PAYER_GROUP_Medicaid</th>\n",
       "      <td>83179.0</td>\n",
       "      <td>0.170115</td>\n",
       "      <td>0.375736</td>\n",
       "      <td>0.0</td>\n",
       "      <td>0.0</td>\n",
       "      <td>0.0</td>\n",
       "      <td>0.0</td>\n",
       "      <td>1.0</td>\n",
       "    </tr>\n",
       "    <tr>\n",
       "      <th>PAYER_GROUP_Medicare</th>\n",
       "      <td>83179.0</td>\n",
       "      <td>0.380252</td>\n",
       "      <td>0.485452</td>\n",
       "      <td>0.0</td>\n",
       "      <td>0.0</td>\n",
       "      <td>0.0</td>\n",
       "      <td>1.0</td>\n",
       "      <td>1.0</td>\n",
       "    </tr>\n",
       "    <tr>\n",
       "      <th>PAYER_GROUP_Null or Exclude</th>\n",
       "      <td>83179.0</td>\n",
       "      <td>0.135707</td>\n",
       "      <td>0.342480</td>\n",
       "      <td>0.0</td>\n",
       "      <td>0.0</td>\n",
       "      <td>0.0</td>\n",
       "      <td>0.0</td>\n",
       "      <td>1.0</td>\n",
       "    </tr>\n",
       "    <tr>\n",
       "      <th>PAYER_GROUP_Oth. Govt. or Mil.</th>\n",
       "      <td>83179.0</td>\n",
       "      <td>0.025920</td>\n",
       "      <td>0.158898</td>\n",
       "      <td>0.0</td>\n",
       "      <td>0.0</td>\n",
       "      <td>0.0</td>\n",
       "      <td>0.0</td>\n",
       "      <td>1.0</td>\n",
       "    </tr>\n",
       "    <tr>\n",
       "      <th>PAYER_GROUP_Oth. NGO or Work Comp.</th>\n",
       "      <td>83179.0</td>\n",
       "      <td>0.014835</td>\n",
       "      <td>0.120895</td>\n",
       "      <td>0.0</td>\n",
       "      <td>0.0</td>\n",
       "      <td>0.0</td>\n",
       "      <td>0.0</td>\n",
       "      <td>1.0</td>\n",
       "    </tr>\n",
       "    <tr>\n",
       "      <th>PAYER_GROUP_Self</th>\n",
       "      <td>83179.0</td>\n",
       "      <td>0.053174</td>\n",
       "      <td>0.224383</td>\n",
       "      <td>0.0</td>\n",
       "      <td>0.0</td>\n",
       "      <td>0.0</td>\n",
       "      <td>0.0</td>\n",
       "      <td>1.0</td>\n",
       "    </tr>\n",
       "    <tr>\n",
       "      <th>RACE_GROUP_African American</th>\n",
       "      <td>83179.0</td>\n",
       "      <td>0.138665</td>\n",
       "      <td>0.345598</td>\n",
       "      <td>0.0</td>\n",
       "      <td>0.0</td>\n",
       "      <td>0.0</td>\n",
       "      <td>0.0</td>\n",
       "      <td>1.0</td>\n",
       "    </tr>\n",
       "    <tr>\n",
       "      <th>RACE_GROUP_Asian/Pacific Islander</th>\n",
       "      <td>83179.0</td>\n",
       "      <td>0.014306</td>\n",
       "      <td>0.118752</td>\n",
       "      <td>0.0</td>\n",
       "      <td>0.0</td>\n",
       "      <td>0.0</td>\n",
       "      <td>0.0</td>\n",
       "      <td>1.0</td>\n",
       "    </tr>\n",
       "    <tr>\n",
       "      <th>RACE_GROUP_Hispanic</th>\n",
       "      <td>83179.0</td>\n",
       "      <td>0.013549</td>\n",
       "      <td>0.115610</td>\n",
       "      <td>0.0</td>\n",
       "      <td>0.0</td>\n",
       "      <td>0.0</td>\n",
       "      <td>0.0</td>\n",
       "      <td>1.0</td>\n",
       "    </tr>\n",
       "    <tr>\n",
       "      <th>RACE_GROUP_Not Specified</th>\n",
       "      <td>83179.0</td>\n",
       "      <td>0.015304</td>\n",
       "      <td>0.122761</td>\n",
       "      <td>0.0</td>\n",
       "      <td>0.0</td>\n",
       "      <td>0.0</td>\n",
       "      <td>0.0</td>\n",
       "      <td>1.0</td>\n",
       "    </tr>\n",
       "    <tr>\n",
       "      <th>RACE_GROUP_Other</th>\n",
       "      <td>83179.0</td>\n",
       "      <td>0.071388</td>\n",
       "      <td>0.257474</td>\n",
       "      <td>0.0</td>\n",
       "      <td>0.0</td>\n",
       "      <td>0.0</td>\n",
       "      <td>0.0</td>\n",
       "      <td>1.0</td>\n",
       "    </tr>\n",
       "    <tr>\n",
       "      <th>TEACHING_FACILITY_Not Specified</th>\n",
       "      <td>83179.0</td>\n",
       "      <td>0.170812</td>\n",
       "      <td>0.376347</td>\n",
       "      <td>0.0</td>\n",
       "      <td>0.0</td>\n",
       "      <td>0.0</td>\n",
       "      <td>0.0</td>\n",
       "      <td>1.0</td>\n",
       "    </tr>\n",
       "    <tr>\n",
       "      <th>TEACHING_FACILITY_Yes</th>\n",
       "      <td>83179.0</td>\n",
       "      <td>0.675435</td>\n",
       "      <td>0.468215</td>\n",
       "      <td>0.0</td>\n",
       "      <td>0.0</td>\n",
       "      <td>1.0</td>\n",
       "      <td>1.0</td>\n",
       "      <td>1.0</td>\n",
       "    </tr>\n",
       "  </tbody>\n",
       "</table>\n",
       "<p>61 rows × 8 columns</p>\n",
       "</div>"
      ],
      "text/plain": [
       "                                      count       mean        std   min   25%  \\\n",
       "ABX                                 83179.0   0.616382   0.486270   0.0   0.0   \n",
       "BETA_BLOCKER                        83179.0   0.164092   0.370361   0.0   0.0   \n",
       "DIURETIC                            83179.0   0.440436   0.496442   0.0   0.0   \n",
       "GIDX_BLEEDING                       83179.0   0.144964   0.352067   0.0   0.0   \n",
       "HE                                  83179.0   0.192188   0.394022   0.0   0.0   \n",
       "HRS                                 83179.0   0.045576   0.208566   0.0   0.0   \n",
       "LVP                                 83179.0   0.264526   0.441083   0.0   0.0   \n",
       "SBP                                 83179.0   0.035838   0.185888   0.0   0.0   \n",
       "SEPSIS                              83179.0   0.110785   0.313868   0.0   0.0   \n",
       "STEROIDS                            83179.0   0.137883   0.344780   0.0   0.0   \n",
       "VENTILATION                         83179.0   0.108044   0.310438   0.0   0.0   \n",
       "VASOPRESSOR                         83179.0   0.182991   0.386661   0.0   0.0   \n",
       "FEMALE                              83179.0   0.444920   0.496960   0.0   0.0   \n",
       "RURAL                               83179.0   0.196636   0.397457   0.0   0.0   \n",
       "ELIXHAUSER_INDEX                    83179.0  17.283533  10.581495 -16.0  10.0   \n",
       "MELD_Na                             83179.0  16.167769   8.778467   6.0   9.0   \n",
       "AKI_CATEGORY2_MILD                  83179.0   0.195578   0.396648   0.0   0.0   \n",
       "AKI_CATEGORY2_SEVERE                83179.0   0.123493   0.329004   0.0   0.0   \n",
       "ARDS_MILD ARDS                      83179.0   0.026882   0.161739   0.0   0.0   \n",
       "ARDS_MODERATE ARDS                  83179.0   0.039072   0.193768   0.0   0.0   \n",
       "ARDS_SEVERE ARDS                    83179.0   0.035237   0.184380   0.0   0.0   \n",
       "CRYST_RES_VOL_CATEGORY_(0, 500]     83179.0   0.285036   0.451434   0.0   0.0   \n",
       "CRYST_RES_VOL_CATEGORY_(500, 1250]  83179.0   0.393777   0.488589   0.0   0.0   \n",
       "CRYST_RES_VOL_CATEGORY_NONE         83179.0   0.156927   0.363734   0.0   0.0   \n",
       "GLYCEMIA_BOTH                       83179.0   0.090011   0.286199   0.0   0.0   \n",
       "GLYCEMIA_HYPERGLYCEMIA              83179.0   0.311918   0.463279   0.0   0.0   \n",
       "GLYCEMIA_HYPOGLYCEMIA               83179.0   0.037822   0.190767   0.0   0.0   \n",
       "TIME_TO_ALB_CATEGORY_LOS_(0, 24]    83179.0   0.151360   0.358402   0.0   0.0   \n",
       "TIME_TO_ALB_CATEGORY_LOS_>24        83179.0   0.160629   0.367191   0.0   0.0   \n",
       "ADMISSION_TYPE_GROUP_Elective       83179.0   0.086512   0.281121   0.0   0.0   \n",
       "...                                     ...        ...        ...   ...   ...   \n",
       "AGE_GROUP_30-49                     83179.0   0.195939   0.396924   0.0   0.0   \n",
       "AGE_GROUP_50-64                     83179.0   0.438224   0.496172   0.0   0.0   \n",
       "AGE_GROUP_65+                       83179.0   0.338992   0.473370   0.0   0.0   \n",
       "BED_SIZE_100-199                    83179.0   0.119177   0.323998   0.0   0.0   \n",
       "BED_SIZE_200-299                    83179.0   0.168143   0.373996   0.0   0.0   \n",
       "BED_SIZE_300-499                    83179.0   0.306856   0.461192   0.0   0.0   \n",
       "BED_SIZE_500+                       83179.0   0.310619   0.462750   0.0   0.0   \n",
       "CENSUS_REGION_Midwest               83179.0   0.186790   0.389745   0.0   0.0   \n",
       "CENSUS_REGION_Northeast             83179.0   0.270585   0.444265   0.0   0.0   \n",
       "CENSUS_REGION_West                  83179.0   0.129203   0.335427   0.0   0.0   \n",
       "INDEX_YEAR_2009                     83179.0   0.041417   0.199253   0.0   0.0   \n",
       "INDEX_YEAR_2010                     83179.0   0.058705   0.235073   0.0   0.0   \n",
       "INDEX_YEAR_2011                     83179.0   0.073913   0.261631   0.0   0.0   \n",
       "INDEX_YEAR_2012                     83179.0   0.092211   0.289325   0.0   0.0   \n",
       "INDEX_YEAR_2013                     83179.0   0.143546   0.350631   0.0   0.0   \n",
       "INDEX_YEAR_2014                     83179.0   0.197899   0.398418   0.0   0.0   \n",
       "INDEX_YEAR_2015                     83179.0   0.190637   0.392806   0.0   0.0   \n",
       "PAYER_GROUP_Medicaid                83179.0   0.170115   0.375736   0.0   0.0   \n",
       "PAYER_GROUP_Medicare                83179.0   0.380252   0.485452   0.0   0.0   \n",
       "PAYER_GROUP_Null or Exclude         83179.0   0.135707   0.342480   0.0   0.0   \n",
       "PAYER_GROUP_Oth. Govt. or Mil.      83179.0   0.025920   0.158898   0.0   0.0   \n",
       "PAYER_GROUP_Oth. NGO or Work Comp.  83179.0   0.014835   0.120895   0.0   0.0   \n",
       "PAYER_GROUP_Self                    83179.0   0.053174   0.224383   0.0   0.0   \n",
       "RACE_GROUP_African American         83179.0   0.138665   0.345598   0.0   0.0   \n",
       "RACE_GROUP_Asian/Pacific Islander   83179.0   0.014306   0.118752   0.0   0.0   \n",
       "RACE_GROUP_Hispanic                 83179.0   0.013549   0.115610   0.0   0.0   \n",
       "RACE_GROUP_Not Specified            83179.0   0.015304   0.122761   0.0   0.0   \n",
       "RACE_GROUP_Other                    83179.0   0.071388   0.257474   0.0   0.0   \n",
       "TEACHING_FACILITY_Not Specified     83179.0   0.170812   0.376347   0.0   0.0   \n",
       "TEACHING_FACILITY_Yes               83179.0   0.675435   0.468215   0.0   0.0   \n",
       "\n",
       "                                     50%   75%   max  \n",
       "ABX                                  1.0   1.0   1.0  \n",
       "BETA_BLOCKER                         0.0   0.0   1.0  \n",
       "DIURETIC                             0.0   1.0   1.0  \n",
       "GIDX_BLEEDING                        0.0   0.0   1.0  \n",
       "HE                                   0.0   0.0   1.0  \n",
       "HRS                                  0.0   0.0   1.0  \n",
       "LVP                                  0.0   1.0   1.0  \n",
       "SBP                                  0.0   0.0   1.0  \n",
       "SEPSIS                               0.0   0.0   1.0  \n",
       "STEROIDS                             0.0   0.0   1.0  \n",
       "VENTILATION                          0.0   0.0   1.0  \n",
       "VASOPRESSOR                          0.0   0.0   1.0  \n",
       "FEMALE                               0.0   1.0   1.0  \n",
       "RURAL                                0.0   0.0   1.0  \n",
       "ELIXHAUSER_INDEX                    17.0  24.0  69.0  \n",
       "MELD_Na                             14.0  22.0  68.0  \n",
       "AKI_CATEGORY2_MILD                   0.0   0.0   1.0  \n",
       "AKI_CATEGORY2_SEVERE                 0.0   0.0   1.0  \n",
       "ARDS_MILD ARDS                       0.0   0.0   1.0  \n",
       "ARDS_MODERATE ARDS                   0.0   0.0   1.0  \n",
       "ARDS_SEVERE ARDS                     0.0   0.0   1.0  \n",
       "CRYST_RES_VOL_CATEGORY_(0, 500]      0.0   1.0   1.0  \n",
       "CRYST_RES_VOL_CATEGORY_(500, 1250]   0.0   1.0   1.0  \n",
       "CRYST_RES_VOL_CATEGORY_NONE          0.0   0.0   1.0  \n",
       "GLYCEMIA_BOTH                        0.0   0.0   1.0  \n",
       "GLYCEMIA_HYPERGLYCEMIA               0.0   1.0   1.0  \n",
       "GLYCEMIA_HYPOGLYCEMIA                0.0   0.0   1.0  \n",
       "TIME_TO_ALB_CATEGORY_LOS_(0, 24]     0.0   0.0   1.0  \n",
       "TIME_TO_ALB_CATEGORY_LOS_>24         0.0   0.0   1.0  \n",
       "ADMISSION_TYPE_GROUP_Elective        0.0   0.0   1.0  \n",
       "...                                  ...   ...   ...  \n",
       "AGE_GROUP_30-49                      0.0   0.0   1.0  \n",
       "AGE_GROUP_50-64                      0.0   1.0   1.0  \n",
       "AGE_GROUP_65+                        0.0   1.0   1.0  \n",
       "BED_SIZE_100-199                     0.0   0.0   1.0  \n",
       "BED_SIZE_200-299                     0.0   0.0   1.0  \n",
       "BED_SIZE_300-499                     0.0   1.0   1.0  \n",
       "BED_SIZE_500+                        0.0   1.0   1.0  \n",
       "CENSUS_REGION_Midwest                0.0   0.0   1.0  \n",
       "CENSUS_REGION_Northeast              0.0   1.0   1.0  \n",
       "CENSUS_REGION_West                   0.0   0.0   1.0  \n",
       "INDEX_YEAR_2009                      0.0   0.0   1.0  \n",
       "INDEX_YEAR_2010                      0.0   0.0   1.0  \n",
       "INDEX_YEAR_2011                      0.0   0.0   1.0  \n",
       "INDEX_YEAR_2012                      0.0   0.0   1.0  \n",
       "INDEX_YEAR_2013                      0.0   0.0   1.0  \n",
       "INDEX_YEAR_2014                      0.0   0.0   1.0  \n",
       "INDEX_YEAR_2015                      0.0   0.0   1.0  \n",
       "PAYER_GROUP_Medicaid                 0.0   0.0   1.0  \n",
       "PAYER_GROUP_Medicare                 0.0   1.0   1.0  \n",
       "PAYER_GROUP_Null or Exclude          0.0   0.0   1.0  \n",
       "PAYER_GROUP_Oth. Govt. or Mil.       0.0   0.0   1.0  \n",
       "PAYER_GROUP_Oth. NGO or Work Comp.   0.0   0.0   1.0  \n",
       "PAYER_GROUP_Self                     0.0   0.0   1.0  \n",
       "RACE_GROUP_African American          0.0   0.0   1.0  \n",
       "RACE_GROUP_Asian/Pacific Islander    0.0   0.0   1.0  \n",
       "RACE_GROUP_Hispanic                  0.0   0.0   1.0  \n",
       "RACE_GROUP_Not Specified             0.0   0.0   1.0  \n",
       "RACE_GROUP_Other                     0.0   0.0   1.0  \n",
       "TEACHING_FACILITY_Not Specified      0.0   0.0   1.0  \n",
       "TEACHING_FACILITY_Yes                1.0   1.0   1.0  \n",
       "\n",
       "[61 rows x 8 columns]"
      ]
     },
     "execution_count": 98,
     "metadata": {},
     "output_type": "execute_result"
    }
   ],
   "source": [
    "# create the features matrix\n",
    "X = Cirrhosis_DS3.iloc[:, Cirrhosis_DS3.columns != 'MORTALITY']\n",
    "X.describe().T"
   ]
  },
  {
   "cell_type": "markdown",
   "metadata": {
    "heading_collapsed": true,
    "hidden": true
   },
   "source": [
    "## Data Summary"
   ]
  },
  {
   "cell_type": "markdown",
   "metadata": {
    "hidden": true
   },
   "source": [
    "* **83,179** unique patient visits with cirrhosis in total. \n",
    "\n",
    "\n",
    "* **Outcome:** 8,904 (10.7%) visits would pass away in hospital. \n",
    "\n",
    "\n",
    "* **Features**:  \n",
    "\n",
    "  + Acute Kidney Injury (categorical)\n",
    "  \n",
    "  + Acute Respiratory Distress Syndrome (categorical)\n",
    "\n",
    "  + Antibiotics (binary)\n",
    " \n",
    "  + Beta Blockers (binary)\n",
    "  \n",
    "  + Volume of Crystalloids for Resuscitation (categorical)\n",
    "  \n",
    "  + Diuretics (binary)\n",
    "  \n",
    "  + Glucose Levels (binary)\n",
    "  \n",
    "  + Hepatic Encephalopathy (binary)\n",
    "  \n",
    "  + Hepatorenal Syndrome (binary)\n",
    "  \n",
    "  + Large Volume Paracentesis (binary)\n",
    "  \n",
    "  + Spontaneous Bacterial Peritonitis (binary)\n",
    "  \n",
    "  + Sepsis (binary)\n",
    "  \n",
    "  + Steroids (binary)\n",
    "  \n",
    "  + Time to Albumin (categorical)\n",
    "  \n",
    "  + Mechanical Ventilation (categorical)\n",
    "  \n",
    "  + Vasopressors (categorical)\n",
    "  \n",
    "  + Elixhauser Index (continuous)\n",
    "  \n",
    "  + MELD-Na Score (continuous)\n",
    "  \n",
    "  + Admission Type (categorical)\n",
    "  \n",
    "  + Age Group (categorical)\n",
    "  \n",
    "  + Bed Size (categorical)\n",
    "  \n",
    "  + Region (categorical)\n",
    "  \n",
    "  + Gender (binary)\n",
    "  \n",
    "  + Year (categorical)\n",
    "  \n",
    "  + Payer (categorical)\n",
    "  \n",
    "  + Race (categorical)\n",
    "  \n",
    "  + Teaching Facility (categorical)\n",
    "  \n",
    "  + Urban_Rural (binary)\n"
   ]
  },
  {
   "cell_type": "markdown",
   "metadata": {
    "heading_collapsed": true
   },
   "source": [
    "# Generalized Linear Model - Logistic Regression"
   ]
  },
  {
   "cell_type": "markdown",
   "metadata": {
    "heading_collapsed": true,
    "hidden": true
   },
   "source": [
    "## Fit Classical Logistic Regression"
   ]
  },
  {
   "cell_type": "code",
   "execution_count": 99,
   "metadata": {
    "hidden": true
   },
   "outputs": [],
   "source": [
    "# create a logistic regression model\n",
    "X_cons = sm.add_constant(X)\n",
    "glm_logit = sm.Logit(y, X_cons)"
   ]
  },
  {
   "cell_type": "code",
   "execution_count": 100,
   "metadata": {
    "hidden": true
   },
   "outputs": [
    {
     "name": "stdout",
     "output_type": "stream",
     "text": [
      "Optimization terminated successfully.\n",
      "         Current function value: 0.218575\n",
      "         Iterations 8\n"
     ]
    }
   ],
   "source": [
    "# fit logistic regression\n",
    "glm_logit_result = glm_logit.fit()"
   ]
  },
  {
   "cell_type": "code",
   "execution_count": 101,
   "metadata": {
    "hidden": true
   },
   "outputs": [
    {
     "name": "stdout",
     "output_type": "stream",
     "text": [
      "                           Logit Regression Results                           \n",
      "==============================================================================\n",
      "Dep. Variable:              MORTALITY   No. Observations:                83179\n",
      "Model:                          Logit   Df Residuals:                    83117\n",
      "Method:                           MLE   Df Model:                           61\n",
      "Date:                Wed, 10 Apr 2019   Pseudo R-squ.:                  0.3577\n",
      "Time:                        13:30:24   Log-Likelihood:                -18181.\n",
      "converged:                       True   LL-Null:                       -28305.\n",
      "                                        LLR p-value:                     0.000\n",
      "======================================================================================================\n",
      "                                         coef    std err          z      P>|z|      [0.025      0.975]\n",
      "------------------------------------------------------------------------------------------------------\n",
      "const                                 -5.6010      0.149    -37.472      0.000      -5.894      -5.308\n",
      "ABX                                   -0.0511      0.033     -1.534      0.125      -0.116       0.014\n",
      "BETA_BLOCKER                          -0.6271      0.043    -14.423      0.000      -0.712      -0.542\n",
      "DIURETIC                              -0.1875      0.031     -6.062      0.000      -0.248      -0.127\n",
      "GIDX_BLEEDING                          0.2470      0.037      6.739      0.000       0.175       0.319\n",
      "HE                                     0.2841      0.033      8.555      0.000       0.219       0.349\n",
      "HRS                                    0.6246      0.049     12.762      0.000       0.529       0.721\n",
      "LVP                                   -0.2522      0.033     -7.556      0.000      -0.318      -0.187\n",
      "SBP                                    0.2076      0.064      3.223      0.001       0.081       0.334\n",
      "SEPSIS                                 0.7437      0.035     21.354      0.000       0.675       0.812\n",
      "STEROIDS                               0.2280      0.036      6.317      0.000       0.157       0.299\n",
      "VENTILATION                            0.9587      0.037     25.737      0.000       0.886       1.032\n",
      "VASOPRESSOR                            0.7898      0.033     23.643      0.000       0.724       0.855\n",
      "FEMALE                                 0.0995      0.028      3.499      0.000       0.044       0.155\n",
      "RURAL                                 -0.1911      0.041     -4.676      0.000      -0.271      -0.111\n",
      "ELIXHAUSER_INDEX                       0.0208      0.001     14.679      0.000       0.018       0.024\n",
      "MELD_Na                                0.0499      0.002     29.686      0.000       0.047       0.053\n",
      "AKI_CATEGORY2_MILD                     1.0640      0.035     30.789      0.000       0.996       1.132\n",
      "AKI_CATEGORY2_SEVERE                   1.0325      0.039     26.384      0.000       0.956       1.109\n",
      "ARDS_MILD ARDS                         0.1650      0.066      2.499      0.012       0.036       0.294\n",
      "ARDS_MODERATE ARDS                     0.3308      0.053      6.185      0.000       0.226       0.436\n",
      "ARDS_SEVERE ARDS                       1.2222      0.054     22.634      0.000       1.116       1.328\n",
      "CRYST_RES_VOL_CATEGORY_(0, 500]       -0.4765      0.043    -11.129      0.000      -0.560      -0.393\n",
      "CRYST_RES_VOL_CATEGORY_(500, 1250]    -0.4157      0.040    -10.264      0.000      -0.495      -0.336\n",
      "CRYST_RES_VOL_CATEGORY_NONE           -0.6982      0.053    -13.253      0.000      -0.801      -0.595\n",
      "GLYCEMIA_BOTH                          0.3580      0.043      8.307      0.000       0.274       0.443\n",
      "GLYCEMIA_HYPERGLYCEMIA                 0.0289      0.034      0.852      0.394      -0.038       0.095\n",
      "GLYCEMIA_HYPOGLYCEMIA                  1.0596      0.055     19.184      0.000       0.951       1.168\n",
      "TIME_TO_ALB_CATEGORY_LOS_(0, 24]       0.1495      0.045      3.320      0.001       0.061       0.238\n",
      "TIME_TO_ALB_CATEGORY_LOS_>24           0.4638      0.039     11.919      0.000       0.388       0.540\n",
      "ADMISSION_TYPE_GROUP_Elective         -0.3332      0.060     -5.530      0.000      -0.451      -0.215\n",
      "ADMISSION_TYPE_GROUP_Urgent            0.0717      0.040      1.785      0.074      -0.007       0.151\n",
      "AGE_GROUP_30-49                        0.2439      0.125      1.946      0.052      -0.002       0.490\n",
      "AGE_GROUP_50-64                        0.7032      0.122      5.767      0.000       0.464       0.942\n",
      "AGE_GROUP_65+                          1.2120      0.124      9.742      0.000       0.968       1.456\n",
      "BED_SIZE_100-199                       0.0589      0.073      0.810      0.418      -0.084       0.201\n",
      "BED_SIZE_200-299                      -0.1878      0.073     -2.564      0.010      -0.331      -0.044\n",
      "BED_SIZE_300-499                       0.2476      0.071      3.493      0.000       0.109       0.386\n",
      "BED_SIZE_500+                          0.2011      0.073      2.741      0.006       0.057       0.345\n",
      "CENSUS_REGION_Midwest                 -0.0288      0.047     -0.614      0.539      -0.121       0.063\n",
      "CENSUS_REGION_Northeast                0.5918      0.040     14.906      0.000       0.514       0.670\n",
      "CENSUS_REGION_West                     0.0962      0.053      1.812      0.070      -0.008       0.200\n",
      "INDEX_YEAR_2009                        0.3186      0.076      4.197      0.000       0.170       0.467\n",
      "INDEX_YEAR_2010                        0.2225      0.068      3.255      0.001       0.089       0.356\n",
      "INDEX_YEAR_2011                        0.3137      0.061      5.132      0.000       0.194       0.434\n",
      "INDEX_YEAR_2012                        0.2427      0.056      4.346      0.000       0.133       0.352\n",
      "INDEX_YEAR_2013                        0.0945      0.049      1.926      0.054      -0.002       0.191\n",
      "INDEX_YEAR_2014                       -0.0512      0.046     -1.114      0.265      -0.141       0.039\n",
      "INDEX_YEAR_2015                        0.0630      0.046      1.382      0.167      -0.026       0.152\n",
      "PAYER_GROUP_Medicaid                   0.0205      0.049      0.416      0.677      -0.076       0.117\n",
      "PAYER_GROUP_Medicare                  -0.0976      0.043     -2.281      0.023      -0.182      -0.014\n",
      "PAYER_GROUP_Null or Exclude            0.1696      0.051      3.341      0.001       0.070       0.269\n",
      "PAYER_GROUP_Oth. Govt. or Mil.         0.0288      0.092      0.313      0.754      -0.151       0.209\n",
      "PAYER_GROUP_Oth. NGO or Work Comp.    -0.1652      0.122     -1.358      0.174      -0.404       0.073\n",
      "PAYER_GROUP_Self                       0.2178      0.073      2.996      0.003       0.075       0.360\n",
      "RACE_GROUP_African American           -0.1695      0.042     -4.057      0.000      -0.251      -0.088\n",
      "RACE_GROUP_Asian/Pacific Islander      0.1138      0.111      1.021      0.307      -0.105       0.332\n",
      "RACE_GROUP_Hispanic                   -0.0755      0.128     -0.591      0.554      -0.326       0.175\n",
      "RACE_GROUP_Not Specified               0.4019      0.098      4.097      0.000       0.210       0.594\n",
      "RACE_GROUP_Other                      -0.2472      0.060     -4.135      0.000      -0.364      -0.130\n",
      "TEACHING_FACILITY_Not Specified       -0.2124      0.060     -3.544      0.000      -0.330      -0.095\n",
      "TEACHING_FACILITY_Yes                 -0.1104      0.057     -1.932      0.053      -0.222       0.002\n",
      "======================================================================================================\n"
     ]
    }
   ],
   "source": [
    "# display model summary\n",
    "print(glm_logit_result.summary())"
   ]
  },
  {
   "cell_type": "markdown",
   "metadata": {
    "heading_collapsed": true,
    "hidden": true
   },
   "source": [
    "## GLM Model Summary"
   ]
  },
  {
   "cell_type": "markdown",
   "metadata": {
    "hidden": true
   },
   "source": [
    "The GLM Model shows the following features are **statistical significant**:\n",
    "\n",
    "  + **Acute Kidney Injury (categorical)**\n",
    "  \n",
    "  + **Acute Respiratory Distress Syndrome (categorical)**\n",
    "\n",
    "  + Antibiotics (binary)\n",
    " \n",
    "  + **Beta Blockers (binary)**\n",
    "  \n",
    "  + **Volume of Crystalloids for Resuscitation (categorical)**\n",
    "  \n",
    "  + **Diuretics (binary)**\n",
    "  \n",
    "  + **GI Bleeding (binary)**\n",
    "  \n",
    "  + **Glucose Levels (categorical)**\n",
    "  \n",
    "  + **Hepatic Encephalopathy (binary)**\n",
    "  \n",
    "  + **Hepatorenal Syndrome (binary)**\n",
    "  \n",
    "  + **Large Volume Paracentesis (binary)**\n",
    "  \n",
    "  + **Spontaneous Bacterial Peritonitis (binary)**\n",
    "  \n",
    "  + **Sepsis (binary)**\n",
    "  \n",
    "  + **Steroids (binary)**\n",
    "  \n",
    "  + **Time to Albumin (categorical)**\n",
    "  \n",
    "  + **Mechanical Ventilation (categorical)**\n",
    "  \n",
    "  + **Vasopressors (binary)**\n",
    "  \n",
    "  + **Elixhauser Index (binary)**\n",
    "  \n",
    "  + **MELD-Na Score (continuous)**\n",
    "  \n",
    "  + **Admission Type (categorical)**\n",
    "  \n",
    "  + **Age Group (categorical)**\n",
    "  \n",
    "  + **Bed Size (categorical)**\n",
    "  \n",
    "  + **Region (categorical)**\n",
    "  \n",
    "  + **Gender (binary)**\n",
    "  \n",
    "  + **Year (categorical)**\n",
    "  \n",
    "  + **Payer (categorical)**\n",
    "  \n",
    "  + **Race (categorical)**\n",
    "  \n",
    "  + **Teaching Facility (categorical)**\n",
    "  \n",
    "  + **Urban_Rural (binary)**"
   ]
  },
  {
   "cell_type": "markdown",
   "metadata": {
    "heading_collapsed": true
   },
   "source": [
    "# Split Data into Training and Test Sets"
   ]
  },
  {
   "cell_type": "code",
   "execution_count": 104,
   "metadata": {
    "hidden": true
   },
   "outputs": [
    {
     "name": "stdout",
     "output_type": "stream",
     "text": [
      "Training Features Shape: (58225, 61)\n",
      "Training Lable Shape: (58225, 1)\n",
      "Test Features Shape: (24954, 61)\n",
      "Test Lable Shape: (24954, 1)\n"
     ]
    }
   ],
   "source": [
    "# split data into training and test sets\n",
    "X_train, X_test, y_train, y_test = train_test_split(X, y, test_size = 0.30, random_state = 12345)\n",
    "print('Training Features Shape:', X_train.shape)\n",
    "print('Training Lable Shape:', y_train.shape)\n",
    "print('Test Features Shape:', X_test.shape)\n",
    "print('Test Lable Shape:', y_test.shape)"
   ]
  },
  {
   "cell_type": "code",
   "execution_count": 105,
   "metadata": {
    "hidden": true
   },
   "outputs": [
    {
     "data": {
      "text/plain": [
       "StandardScaler(copy=True, with_mean=True, with_std=True)"
      ]
     },
     "execution_count": 105,
     "metadata": {},
     "output_type": "execute_result"
    }
   ],
   "source": [
    "# fit standardizer to training set\n",
    "standardizer = StandardScaler()\n",
    "standardizer.fit(X_train)"
   ]
  },
  {
   "cell_type": "code",
   "execution_count": 106,
   "metadata": {
    "hidden": true
   },
   "outputs": [],
   "source": [
    "# apply to both training and test sets\n",
    "X_train_std = standardizer.transform(X_train)\n",
    "X_test_std = standardizer.transform(X_test)"
   ]
  },
  {
   "cell_type": "code",
   "execution_count": 107,
   "metadata": {
    "hidden": true
   },
   "outputs": [],
   "source": [
    "# covert labels to arrays\n",
    "y_train = y_train.values.ravel()\n",
    "y_test = y_test.values.ravel()"
   ]
  },
  {
   "cell_type": "markdown",
   "metadata": {
    "heading_collapsed": true
   },
   "source": [
    "# Machine Learning Model - Logistic Regression"
   ]
  },
  {
   "cell_type": "markdown",
   "metadata": {
    "heading_collapsed": true,
    "hidden": true
   },
   "source": [
    "## Train Model"
   ]
  },
  {
   "cell_type": "code",
   "execution_count": 108,
   "metadata": {
    "hidden": true
   },
   "outputs": [],
   "source": [
    "# create a base Logistic model\n",
    "base_logit = LogisticRegression(class_weight = 'balanced', random_state = 12345)"
   ]
  },
  {
   "cell_type": "code",
   "execution_count": 109,
   "metadata": {
    "hidden": true
   },
   "outputs": [
    {
     "data": {
      "text/plain": [
       "LogisticRegression(C=1.0, class_weight='balanced', dual=False,\n",
       "          fit_intercept=True, intercept_scaling=1, max_iter=100,\n",
       "          multi_class='warn', n_jobs=None, penalty='l2',\n",
       "          random_state=12345, solver='warn', tol=0.0001, verbose=0,\n",
       "          warm_start=False)"
      ]
     },
     "execution_count": 109,
     "metadata": {},
     "output_type": "execute_result"
    }
   ],
   "source": [
    "# train the model on training data\n",
    "base_logit.fit(X_train_std, y_train)"
   ]
  },
  {
   "cell_type": "markdown",
   "metadata": {
    "heading_collapsed": true,
    "hidden": true
   },
   "source": [
    "## Predict Test Data"
   ]
  },
  {
   "cell_type": "code",
   "execution_count": 110,
   "metadata": {
    "hidden": true
   },
   "outputs": [],
   "source": [
    "# predict test data\n",
    "y_pred_logit = base_logit.predict(X_test_std)\n",
    "y_pred_prob_logit = base_logit.predict_proba(X_test_std)"
   ]
  },
  {
   "cell_type": "markdown",
   "metadata": {
    "heading_collapsed": true,
    "hidden": true
   },
   "source": [
    "## Evaulate Performance"
   ]
  },
  {
   "cell_type": "markdown",
   "metadata": {
    "hidden": true
   },
   "source": [
    "Please refer to this [wikipedia](https://en.wikipedia.org/wiki/Confusion_matrix) link for better undertanding performance metrics"
   ]
  },
  {
   "cell_type": "code",
   "execution_count": 111,
   "metadata": {
    "hidden": true
   },
   "outputs": [
    {
     "data": {
      "image/png": "[encoded data removed]",
      "text/plain": [
       "<Figure size 432x288 with 2 Axes>"
      ]
     },
     "metadata": {
      "needs_background": "light"
     },
     "output_type": "display_data"
    }
   ],
   "source": [
    "# plot confusion matrix\n",
    "skplt.metrics.plot_confusion_matrix(y_test, y_pred_logit)\n",
    "plt.show()"
   ]
  },
  {
   "cell_type": "code",
   "execution_count": 181,
   "metadata": {
    "hidden": true
   },
   "outputs": [
    {
     "name": "stdout",
     "output_type": "stream",
     "text": [
      "True Negatives:  18623\n",
      "False Positives:  3597\n",
      "False Negatives:  560\n",
      "True Positives:  2174\n",
      "Accuracy: 0.83:\n",
      "Precision: 0.38:\n",
      "Recall: 0.80:\n",
      "F1 Score: 0.51:\n"
     ]
    }
   ],
   "source": [
    "# calculate proformance metrics\n",
    "cm_matrix = confusion_matrix(y_test, y_pred_logit)\n",
    "tn, fp, fn, tp = cm_matrix.ravel()\n",
    "accuracy = (tn+tp)/(tp+tn+fp+fn)\n",
    "precision = tp/(tp+fp)\n",
    "recall = tp /(tp+fn)\n",
    "f1 = (2*precision*recall)/(precision+recall)\n",
    "print('True Negatives: ', tn)\n",
    "print('False Positives: ', fp)\n",
    "print('False Negatives: ', fn)\n",
    "print('True Positives: ', tp)\n",
    "print(\"Accuracy: {:0.2f}:\".format(accuracy))\n",
    "print(\"Precision: {:0.2f}:\".format(precision))\n",
    "print(\"Recall: {:0.2f}:\".format(recall))\n",
    "print(\"F1 Score: {:0.2f}:\".format(f1))"
   ]
  },
  {
   "cell_type": "code",
   "execution_count": 117,
   "metadata": {
    "hidden": true
   },
   "outputs": [
    {
     "name": "stdout",
     "output_type": "stream",
     "text": [
      "              precision    recall  f1-score   support\n",
      "\n",
      "           0       0.97      0.84      0.90     22220\n",
      "           1       0.38      0.80      0.51      2734\n",
      "\n",
      "   micro avg       0.83      0.83      0.83     24954\n",
      "   macro avg       0.67      0.82      0.71     24954\n",
      "weighted avg       0.91      0.83      0.86     24954\n",
      "\n"
     ]
    }
   ],
   "source": [
    "# print classification report\n",
    "print(classification_report(y_test, y_pred_logit))"
   ]
  },
  {
   "cell_type": "code",
   "execution_count": 118,
   "metadata": {
    "hidden": true
   },
   "outputs": [
    {
     "data": {
      "image/png": "[encoded data removed]",
      "text/plain": [
       "<Figure size 432x288 with 1 Axes>"
      ]
     },
     "metadata": {
      "needs_background": "light"
     },
     "output_type": "display_data"
    }
   ],
   "source": [
    "# plot ROC curves\n",
    "skplt.metrics.plot_roc_curve(y_test, y_pred_prob_logit, curves = ('each_class'))\n",
    "plt.show()"
   ]
  },
  {
   "cell_type": "code",
   "execution_count": 119,
   "metadata": {
    "hidden": true
   },
   "outputs": [
    {
     "data": {
      "image/png": "[encoded data removed]",
      "text/plain": [
       "<Figure size 432x288 with 1 Axes>"
      ]
     },
     "metadata": {
      "needs_background": "light"
     },
     "output_type": "display_data"
    }
   ],
   "source": [
    "# plot Precision-Recall curve\n",
    "skplt.metrics.plot_precision_recall_curve(y_test, y_pred_prob_logit, curves = ('each_class'))\n",
    "plt.show()"
   ]
  },
  {
   "cell_type": "code",
   "execution_count": 187,
   "metadata": {
    "hidden": true
   },
   "outputs": [
    {
     "data": {
      "text/html": [
       "<div>\n",
       "<style scoped>\n",
       "    .dataframe tbody tr th:only-of-type {\n",
       "        vertical-align: middle;\n",
       "    }\n",
       "\n",
       "    .dataframe tbody tr th {\n",
       "        vertical-align: top;\n",
       "    }\n",
       "\n",
       "    .dataframe thead th {\n",
       "        text-align: right;\n",
       "    }\n",
       "</style>\n",
       "<table border=\"1\" class=\"dataframe\">\n",
       "  <thead>\n",
       "    <tr style=\"text-align: right;\">\n",
       "      <th></th>\n",
       "      <th>Model</th>\n",
       "      <th>Precision</th>\n",
       "      <th>Recall</th>\n",
       "      <th>F1</th>\n",
       "      <th>Accuracy</th>\n",
       "      <th>ROC AUC</th>\n",
       "      <th>Precision-Recall AUC</th>\n",
       "    </tr>\n",
       "  </thead>\n",
       "  <tbody>\n",
       "    <tr>\n",
       "      <th>0</th>\n",
       "      <td>Logistic Regression</td>\n",
       "      <td>0.38</td>\n",
       "      <td>0.8</td>\n",
       "      <td>0.51</td>\n",
       "      <td>0.83</td>\n",
       "      <td>0.9</td>\n",
       "      <td>0.56</td>\n",
       "    </tr>\n",
       "  </tbody>\n",
       "</table>\n",
       "</div>"
      ],
      "text/plain": [
       "                 Model  Precision  Recall    F1  Accuracy  ROC AUC  \\\n",
       "0  Logistic Regression       0.38     0.8  0.51      0.83      0.9   \n",
       "\n",
       "   Precision-Recall AUC  \n",
       "0                  0.56  "
      ]
     },
     "execution_count": 187,
     "metadata": {},
     "output_type": "execute_result"
    }
   ],
   "source": [
    "# store proformance metrics\n",
    "col_names = ['Model', 'Precision', 'Recall', 'F1', 'Accuracy', 'ROC AUC', 'Precision-Recall AUC']\n",
    "metrics = pd.DataFrame(columns = col_names)\n",
    "logit_metric = {'Model': 'Logistic Regression', 'Precision': 0.38, 'Recall': 0.80, \n",
    "                'F1': 0.51, 'Accuracy': 0.83, 'ROC AUC': 0.90, 'Precision-Recall AUC': 0.56}\n",
    "metrics.loc[len(metrics)] = logit_metric\n",
    "metrics"
   ]
  },
  {
   "cell_type": "markdown",
   "metadata": {
    "heading_collapsed": true
   },
   "source": [
    "# Machine Learning Model - Random Forests"
   ]
  },
  {
   "cell_type": "markdown",
   "metadata": {
    "heading_collapsed": true,
    "hidden": true
   },
   "source": [
    "## Train Model"
   ]
  },
  {
   "cell_type": "code",
   "execution_count": 120,
   "metadata": {
    "hidden": true
   },
   "outputs": [],
   "source": [
    "# create a base Random Forest model\n",
    "base_rf = RandomForestClassifier(n_estimators = 1000, class_weight = 'balanced', random_state = 12345)"
   ]
  },
  {
   "cell_type": "code",
   "execution_count": 121,
   "metadata": {
    "hidden": true
   },
   "outputs": [
    {
     "data": {
      "text/plain": [
       "RandomForestClassifier(bootstrap=True, class_weight='balanced',\n",
       "            criterion='gini', max_depth=None, max_features='auto',\n",
       "            max_leaf_nodes=None, min_impurity_decrease=0.0,\n",
       "            min_impurity_split=None, min_samples_leaf=1,\n",
       "            min_samples_split=2, min_weight_fraction_leaf=0.0,\n",
       "            n_estimators=1000, n_jobs=None, oob_score=False,\n",
       "            random_state=12345, verbose=0, warm_start=False)"
      ]
     },
     "execution_count": 121,
     "metadata": {},
     "output_type": "execute_result"
    }
   ],
   "source": [
    "# train the model on training data\n",
    "base_rf.fit(X_train_std, y_train)"
   ]
  },
  {
   "cell_type": "markdown",
   "metadata": {
    "heading_collapsed": true,
    "hidden": true
   },
   "source": [
    "## Predict Test Data"
   ]
  },
  {
   "cell_type": "code",
   "execution_count": 122,
   "metadata": {
    "hidden": true
   },
   "outputs": [],
   "source": [
    "# predict test data\n",
    "y_pred_rf = base_rf.predict(X_test_std)\n",
    "y_pred_prob_rf = base_rf.predict_proba(X_test_std)"
   ]
  },
  {
   "cell_type": "markdown",
   "metadata": {
    "heading_collapsed": true,
    "hidden": true
   },
   "source": [
    "## Evaulate Performance"
   ]
  },
  {
   "cell_type": "code",
   "execution_count": 123,
   "metadata": {
    "hidden": true
   },
   "outputs": [
    {
     "data": {
      "image/png": "[encoded data removed]",
      "text/plain": [
       "<Figure size 432x288 with 2 Axes>"
      ]
     },
     "metadata": {
      "needs_background": "light"
     },
     "output_type": "display_data"
    }
   ],
   "source": [
    "# plot confusion matrix\n",
    "skplt.metrics.plot_confusion_matrix(y_test, y_pred_rf)\n",
    "plt.show()"
   ]
  },
  {
   "cell_type": "code",
   "execution_count": 185,
   "metadata": {
    "hidden": true
   },
   "outputs": [
    {
     "name": "stdout",
     "output_type": "stream",
     "text": [
      "True Negatives:  21989\n",
      "False Positives:  231\n",
      "False Negatives:  2064\n",
      "True Positives:  670\n",
      "Accuracy: 0.91:\n",
      "Precision: 0.74:\n",
      "Recall: 0.25:\n",
      "F1 Score: 0.37:\n"
     ]
    }
   ],
   "source": [
    "# calculate proformance metrics\n",
    "cm_matrix = confusion_matrix(y_test, y_pred_rf)\n",
    "tn, fp, fn, tp = cm_matrix.ravel()\n",
    "accuracy = (tn+tp)/(tp+tn+fp+fn)\n",
    "precision = tp/(tp+fp)\n",
    "recall = tp /(tp+fn)\n",
    "f1 = (2*precision*recall)/(precision+recall)\n",
    "print('True Negatives: ', tn)\n",
    "print('False Positives: ', fp)\n",
    "print('False Negatives: ', fn)\n",
    "print('True Positives: ', tp)\n",
    "print(\"Accuracy: {:0.2f}:\".format(accuracy))\n",
    "print(\"Precision: {:0.2f}:\".format(precision))\n",
    "print(\"Recall: {:0.2f}:\".format(recall))\n",
    "print(\"F1 Score: {:0.2f}:\".format(f1))"
   ]
  },
  {
   "cell_type": "code",
   "execution_count": 179,
   "metadata": {
    "hidden": true
   },
   "outputs": [
    {
     "name": "stdout",
     "output_type": "stream",
     "text": [
      "              precision    recall  f1-score   support\n",
      "\n",
      "           0       0.91      0.99      0.95     22220\n",
      "           1       0.74      0.25      0.37      2734\n",
      "\n",
      "   micro avg       0.91      0.91      0.91     24954\n",
      "   macro avg       0.83      0.62      0.66     24954\n",
      "weighted avg       0.90      0.91      0.89     24954\n",
      "\n"
     ]
    }
   ],
   "source": [
    "# print classification report\n",
    "print(classification_report(y_test, y_pred_rf))"
   ]
  },
  {
   "cell_type": "code",
   "execution_count": 130,
   "metadata": {
    "hidden": true
   },
   "outputs": [
    {
     "data": {
      "image/png": "[encoded data removed]",
      "text/plain": [
       "<Figure size 432x288 with 1 Axes>"
      ]
     },
     "metadata": {
      "needs_background": "light"
     },
     "output_type": "display_data"
    }
   ],
   "source": [
    "# plot ROC curves\n",
    "skplt.metrics.plot_roc_curve(y_test, y_pred_prob_rf, curves = ('each_class'))\n",
    "plt.show()"
   ]
  },
  {
   "cell_type": "code",
   "execution_count": 131,
   "metadata": {
    "hidden": true
   },
   "outputs": [
    {
     "data": {
      "image/png": "[encoded data removed]",
      "text/plain": [
       "<Figure size 432x288 with 1 Axes>"
      ]
     },
     "metadata": {
      "needs_background": "light"
     },
     "output_type": "display_data"
    }
   ],
   "source": [
    "# plot Precision-Recall curve\n",
    "skplt.metrics.plot_precision_recall_curve(y_test, y_pred_prob_rf, curves = ('each_class'))\n",
    "plt.show()"
   ]
  },
  {
   "cell_type": "code",
   "execution_count": 188,
   "metadata": {
    "hidden": true
   },
   "outputs": [
    {
     "data": {
      "text/html": [
       "<div>\n",
       "<style scoped>\n",
       "    .dataframe tbody tr th:only-of-type {\n",
       "        vertical-align: middle;\n",
       "    }\n",
       "\n",
       "    .dataframe tbody tr th {\n",
       "        vertical-align: top;\n",
       "    }\n",
       "\n",
       "    .dataframe thead th {\n",
       "        text-align: right;\n",
       "    }\n",
       "</style>\n",
       "<table border=\"1\" class=\"dataframe\">\n",
       "  <thead>\n",
       "    <tr style=\"text-align: right;\">\n",
       "      <th></th>\n",
       "      <th>Model</th>\n",
       "      <th>Precision</th>\n",
       "      <th>Recall</th>\n",
       "      <th>F1</th>\n",
       "      <th>Accuracy</th>\n",
       "      <th>ROC AUC</th>\n",
       "      <th>Precision-Recall AUC</th>\n",
       "    </tr>\n",
       "  </thead>\n",
       "  <tbody>\n",
       "    <tr>\n",
       "      <th>0</th>\n",
       "      <td>Logistic Regression</td>\n",
       "      <td>0.38</td>\n",
       "      <td>0.80</td>\n",
       "      <td>0.51</td>\n",
       "      <td>0.83</td>\n",
       "      <td>0.9</td>\n",
       "      <td>0.56</td>\n",
       "    </tr>\n",
       "    <tr>\n",
       "      <th>1</th>\n",
       "      <td>Random Forests</td>\n",
       "      <td>0.74</td>\n",
       "      <td>0.25</td>\n",
       "      <td>0.37</td>\n",
       "      <td>0.91</td>\n",
       "      <td>0.9</td>\n",
       "      <td>0.57</td>\n",
       "    </tr>\n",
       "  </tbody>\n",
       "</table>\n",
       "</div>"
      ],
      "text/plain": [
       "                 Model  Precision  Recall    F1  Accuracy  ROC AUC  \\\n",
       "0  Logistic Regression       0.38    0.80  0.51      0.83      0.9   \n",
       "1       Random Forests       0.74    0.25  0.37      0.91      0.9   \n",
       "\n",
       "   Precision-Recall AUC  \n",
       "0                  0.56  \n",
       "1                  0.57  "
      ]
     },
     "execution_count": 188,
     "metadata": {},
     "output_type": "execute_result"
    }
   ],
   "source": [
    "# store proformance metrics\n",
    "rf_metric = {'Model': 'Random Forests', 'Precision': 0.74, 'Recall': 0.25, \n",
    "                'F1': 0.37, 'Accuracy': 0.91, 'ROC AUC': 0.90, 'Precision-Recall AUC': 0.57}\n",
    "metrics.loc[len(metrics)] = rf_metric\n",
    "metrics"
   ]
  },
  {
   "cell_type": "markdown",
   "metadata": {
    "heading_collapsed": true,
    "hidden": true
   },
   "source": [
    "## Examine Variable Importances"
   ]
  },
  {
   "cell_type": "code",
   "execution_count": 132,
   "metadata": {
    "hidden": true
   },
   "outputs": [
    {
     "name": "stdout",
     "output_type": "stream",
     "text": [
      "<class 'pandas.core.frame.DataFrame'>\n",
      "RangeIndex: 61 entries, 0 to 60\n",
      "Data columns (total 2 columns):\n",
      "feature       61 non-null object\n",
      "importance    61 non-null float64\n",
      "dtypes: float64(1), object(1)\n",
      "memory usage: 1.0+ KB\n"
     ]
    }
   ],
   "source": [
    "# create a dataframe of feature importances\n",
    "feature_importances = pd.DataFrame()\n",
    "feature_importances['feature'] = X.columns\n",
    "feature_importances['importance'] = base_rf.feature_importances_\n",
    "feature_importances.info()"
   ]
  },
  {
   "cell_type": "code",
   "execution_count": 191,
   "metadata": {
    "hidden": true
   },
   "outputs": [
    {
     "data": {
      "text/html": [
       "<div>\n",
       "<style scoped>\n",
       "    .dataframe tbody tr th:only-of-type {\n",
       "        vertical-align: middle;\n",
       "    }\n",
       "\n",
       "    .dataframe tbody tr th {\n",
       "        vertical-align: top;\n",
       "    }\n",
       "\n",
       "    .dataframe thead th {\n",
       "        text-align: right;\n",
       "    }\n",
       "</style>\n",
       "<table border=\"1\" class=\"dataframe\">\n",
       "  <thead>\n",
       "    <tr style=\"text-align: right;\">\n",
       "      <th></th>\n",
       "      <th>index</th>\n",
       "      <th>feature</th>\n",
       "      <th>importance</th>\n",
       "    </tr>\n",
       "  </thead>\n",
       "  <tbody>\n",
       "    <tr>\n",
       "      <th>0</th>\n",
       "      <td>15</td>\n",
       "      <td>MELD_Na</td>\n",
       "      <td>0.120714</td>\n",
       "    </tr>\n",
       "    <tr>\n",
       "      <th>1</th>\n",
       "      <td>11</td>\n",
       "      <td>VASOPRESSOR</td>\n",
       "      <td>0.078029</td>\n",
       "    </tr>\n",
       "    <tr>\n",
       "      <th>2</th>\n",
       "      <td>14</td>\n",
       "      <td>ELIXHAUSER_INDEX</td>\n",
       "      <td>0.074417</td>\n",
       "    </tr>\n",
       "    <tr>\n",
       "      <th>3</th>\n",
       "      <td>8</td>\n",
       "      <td>SEPSIS</td>\n",
       "      <td>0.072919</td>\n",
       "    </tr>\n",
       "    <tr>\n",
       "      <th>4</th>\n",
       "      <td>10</td>\n",
       "      <td>VENTILATION</td>\n",
       "      <td>0.072602</td>\n",
       "    </tr>\n",
       "    <tr>\n",
       "      <th>5</th>\n",
       "      <td>16</td>\n",
       "      <td>AKI_CATEGORY2_MILD</td>\n",
       "      <td>0.040662</td>\n",
       "    </tr>\n",
       "    <tr>\n",
       "      <th>6</th>\n",
       "      <td>17</td>\n",
       "      <td>AKI_CATEGORY2_SEVERE</td>\n",
       "      <td>0.035837</td>\n",
       "    </tr>\n",
       "    <tr>\n",
       "      <th>7</th>\n",
       "      <td>20</td>\n",
       "      <td>ARDS_SEVERE ARDS</td>\n",
       "      <td>0.023840</td>\n",
       "    </tr>\n",
       "    <tr>\n",
       "      <th>8</th>\n",
       "      <td>28</td>\n",
       "      <td>TIME_TO_ALB_CATEGORY_LOS_&gt;24</td>\n",
       "      <td>0.021648</td>\n",
       "    </tr>\n",
       "    <tr>\n",
       "      <th>9</th>\n",
       "      <td>12</td>\n",
       "      <td>FEMALE</td>\n",
       "      <td>0.014407</td>\n",
       "    </tr>\n",
       "    <tr>\n",
       "      <th>10</th>\n",
       "      <td>33</td>\n",
       "      <td>AGE_GROUP_65+</td>\n",
       "      <td>0.014329</td>\n",
       "    </tr>\n",
       "    <tr>\n",
       "      <th>11</th>\n",
       "      <td>24</td>\n",
       "      <td>GLYCEMIA_BOTH</td>\n",
       "      <td>0.014279</td>\n",
       "    </tr>\n",
       "    <tr>\n",
       "      <th>12</th>\n",
       "      <td>0</td>\n",
       "      <td>ABX</td>\n",
       "      <td>0.013809</td>\n",
       "    </tr>\n",
       "    <tr>\n",
       "      <th>13</th>\n",
       "      <td>2</td>\n",
       "      <td>DIURETIC</td>\n",
       "      <td>0.013755</td>\n",
       "    </tr>\n",
       "    <tr>\n",
       "      <th>14</th>\n",
       "      <td>4</td>\n",
       "      <td>HE</td>\n",
       "      <td>0.013039</td>\n",
       "    </tr>\n",
       "    <tr>\n",
       "      <th>15</th>\n",
       "      <td>5</td>\n",
       "      <td>HRS</td>\n",
       "      <td>0.012882</td>\n",
       "    </tr>\n",
       "    <tr>\n",
       "      <th>16</th>\n",
       "      <td>39</td>\n",
       "      <td>CENSUS_REGION_Northeast</td>\n",
       "      <td>0.012694</td>\n",
       "    </tr>\n",
       "    <tr>\n",
       "      <th>17</th>\n",
       "      <td>26</td>\n",
       "      <td>GLYCEMIA_HYPOGLYCEMIA</td>\n",
       "      <td>0.012555</td>\n",
       "    </tr>\n",
       "    <tr>\n",
       "      <th>18</th>\n",
       "      <td>25</td>\n",
       "      <td>GLYCEMIA_HYPERGLYCEMIA</td>\n",
       "      <td>0.012541</td>\n",
       "    </tr>\n",
       "    <tr>\n",
       "      <th>19</th>\n",
       "      <td>6</td>\n",
       "      <td>LVP</td>\n",
       "      <td>0.012425</td>\n",
       "    </tr>\n",
       "    <tr>\n",
       "      <th>20</th>\n",
       "      <td>9</td>\n",
       "      <td>STEROIDS</td>\n",
       "      <td>0.012394</td>\n",
       "    </tr>\n",
       "    <tr>\n",
       "      <th>21</th>\n",
       "      <td>22</td>\n",
       "      <td>CRYST_RES_VOL_CATEGORY_(500, 1250]</td>\n",
       "      <td>0.012086</td>\n",
       "    </tr>\n",
       "    <tr>\n",
       "      <th>22</th>\n",
       "      <td>21</td>\n",
       "      <td>CRYST_RES_VOL_CATEGORY_(0, 500]</td>\n",
       "      <td>0.012009</td>\n",
       "    </tr>\n",
       "    <tr>\n",
       "      <th>23</th>\n",
       "      <td>49</td>\n",
       "      <td>PAYER_GROUP_Medicare</td>\n",
       "      <td>0.011599</td>\n",
       "    </tr>\n",
       "    <tr>\n",
       "      <th>24</th>\n",
       "      <td>1</td>\n",
       "      <td>BETA_BLOCKER</td>\n",
       "      <td>0.011096</td>\n",
       "    </tr>\n",
       "    <tr>\n",
       "      <th>25</th>\n",
       "      <td>36</td>\n",
       "      <td>BED_SIZE_300-499</td>\n",
       "      <td>0.010629</td>\n",
       "    </tr>\n",
       "    <tr>\n",
       "      <th>26</th>\n",
       "      <td>46</td>\n",
       "      <td>INDEX_YEAR_2014</td>\n",
       "      <td>0.010489</td>\n",
       "    </tr>\n",
       "    <tr>\n",
       "      <th>27</th>\n",
       "      <td>47</td>\n",
       "      <td>INDEX_YEAR_2015</td>\n",
       "      <td>0.010440</td>\n",
       "    </tr>\n",
       "    <tr>\n",
       "      <th>28</th>\n",
       "      <td>37</td>\n",
       "      <td>BED_SIZE_500+</td>\n",
       "      <td>0.010281</td>\n",
       "    </tr>\n",
       "    <tr>\n",
       "      <th>29</th>\n",
       "      <td>60</td>\n",
       "      <td>TEACHING_FACILITY_Yes</td>\n",
       "      <td>0.010083</td>\n",
       "    </tr>\n",
       "    <tr>\n",
       "      <th>...</th>\n",
       "      <td>...</td>\n",
       "      <td>...</td>\n",
       "      <td>...</td>\n",
       "    </tr>\n",
       "    <tr>\n",
       "      <th>31</th>\n",
       "      <td>32</td>\n",
       "      <td>AGE_GROUP_50-64</td>\n",
       "      <td>0.009584</td>\n",
       "    </tr>\n",
       "    <tr>\n",
       "      <th>32</th>\n",
       "      <td>13</td>\n",
       "      <td>RURAL</td>\n",
       "      <td>0.009389</td>\n",
       "    </tr>\n",
       "    <tr>\n",
       "      <th>33</th>\n",
       "      <td>45</td>\n",
       "      <td>INDEX_YEAR_2013</td>\n",
       "      <td>0.009165</td>\n",
       "    </tr>\n",
       "    <tr>\n",
       "      <th>34</th>\n",
       "      <td>19</td>\n",
       "      <td>ARDS_MODERATE ARDS</td>\n",
       "      <td>0.009136</td>\n",
       "    </tr>\n",
       "    <tr>\n",
       "      <th>35</th>\n",
       "      <td>30</td>\n",
       "      <td>ADMISSION_TYPE_GROUP_Urgent</td>\n",
       "      <td>0.009078</td>\n",
       "    </tr>\n",
       "    <tr>\n",
       "      <th>36</th>\n",
       "      <td>54</td>\n",
       "      <td>RACE_GROUP_African American</td>\n",
       "      <td>0.009062</td>\n",
       "    </tr>\n",
       "    <tr>\n",
       "      <th>37</th>\n",
       "      <td>35</td>\n",
       "      <td>BED_SIZE_200-299</td>\n",
       "      <td>0.008589</td>\n",
       "    </tr>\n",
       "    <tr>\n",
       "      <th>38</th>\n",
       "      <td>38</td>\n",
       "      <td>CENSUS_REGION_Midwest</td>\n",
       "      <td>0.008413</td>\n",
       "    </tr>\n",
       "    <tr>\n",
       "      <th>39</th>\n",
       "      <td>31</td>\n",
       "      <td>AGE_GROUP_30-49</td>\n",
       "      <td>0.008363</td>\n",
       "    </tr>\n",
       "    <tr>\n",
       "      <th>40</th>\n",
       "      <td>27</td>\n",
       "      <td>TIME_TO_ALB_CATEGORY_LOS_(0, 24]</td>\n",
       "      <td>0.008277</td>\n",
       "    </tr>\n",
       "    <tr>\n",
       "      <th>41</th>\n",
       "      <td>50</td>\n",
       "      <td>PAYER_GROUP_Null or Exclude</td>\n",
       "      <td>0.008101</td>\n",
       "    </tr>\n",
       "    <tr>\n",
       "      <th>42</th>\n",
       "      <td>23</td>\n",
       "      <td>CRYST_RES_VOL_CATEGORY_NONE</td>\n",
       "      <td>0.007910</td>\n",
       "    </tr>\n",
       "    <tr>\n",
       "      <th>43</th>\n",
       "      <td>48</td>\n",
       "      <td>PAYER_GROUP_Medicaid</td>\n",
       "      <td>0.007760</td>\n",
       "    </tr>\n",
       "    <tr>\n",
       "      <th>44</th>\n",
       "      <td>44</td>\n",
       "      <td>INDEX_YEAR_2012</td>\n",
       "      <td>0.007669</td>\n",
       "    </tr>\n",
       "    <tr>\n",
       "      <th>45</th>\n",
       "      <td>59</td>\n",
       "      <td>TEACHING_FACILITY_Not Specified</td>\n",
       "      <td>0.007612</td>\n",
       "    </tr>\n",
       "    <tr>\n",
       "      <th>46</th>\n",
       "      <td>34</td>\n",
       "      <td>BED_SIZE_100-199</td>\n",
       "      <td>0.006881</td>\n",
       "    </tr>\n",
       "    <tr>\n",
       "      <th>47</th>\n",
       "      <td>40</td>\n",
       "      <td>CENSUS_REGION_West</td>\n",
       "      <td>0.006810</td>\n",
       "    </tr>\n",
       "    <tr>\n",
       "      <th>48</th>\n",
       "      <td>29</td>\n",
       "      <td>ADMISSION_TYPE_GROUP_Elective</td>\n",
       "      <td>0.006628</td>\n",
       "    </tr>\n",
       "    <tr>\n",
       "      <th>49</th>\n",
       "      <td>43</td>\n",
       "      <td>INDEX_YEAR_2011</td>\n",
       "      <td>0.006408</td>\n",
       "    </tr>\n",
       "    <tr>\n",
       "      <th>50</th>\n",
       "      <td>58</td>\n",
       "      <td>RACE_GROUP_Other</td>\n",
       "      <td>0.005213</td>\n",
       "    </tr>\n",
       "    <tr>\n",
       "      <th>51</th>\n",
       "      <td>42</td>\n",
       "      <td>INDEX_YEAR_2010</td>\n",
       "      <td>0.005170</td>\n",
       "    </tr>\n",
       "    <tr>\n",
       "      <th>52</th>\n",
       "      <td>18</td>\n",
       "      <td>ARDS_MILD ARDS</td>\n",
       "      <td>0.004806</td>\n",
       "    </tr>\n",
       "    <tr>\n",
       "      <th>53</th>\n",
       "      <td>41</td>\n",
       "      <td>INDEX_YEAR_2009</td>\n",
       "      <td>0.004442</td>\n",
       "    </tr>\n",
       "    <tr>\n",
       "      <th>54</th>\n",
       "      <td>7</td>\n",
       "      <td>SBP</td>\n",
       "      <td>0.004181</td>\n",
       "    </tr>\n",
       "    <tr>\n",
       "      <th>55</th>\n",
       "      <td>53</td>\n",
       "      <td>PAYER_GROUP_Self</td>\n",
       "      <td>0.003661</td>\n",
       "    </tr>\n",
       "    <tr>\n",
       "      <th>56</th>\n",
       "      <td>51</td>\n",
       "      <td>PAYER_GROUP_Oth. Govt. or Mil.</td>\n",
       "      <td>0.002810</td>\n",
       "    </tr>\n",
       "    <tr>\n",
       "      <th>57</th>\n",
       "      <td>57</td>\n",
       "      <td>RACE_GROUP_Not Specified</td>\n",
       "      <td>0.001947</td>\n",
       "    </tr>\n",
       "    <tr>\n",
       "      <th>58</th>\n",
       "      <td>55</td>\n",
       "      <td>RACE_GROUP_Asian/Pacific Islander</td>\n",
       "      <td>0.001794</td>\n",
       "    </tr>\n",
       "    <tr>\n",
       "      <th>59</th>\n",
       "      <td>52</td>\n",
       "      <td>PAYER_GROUP_Oth. NGO or Work Comp.</td>\n",
       "      <td>0.001784</td>\n",
       "    </tr>\n",
       "    <tr>\n",
       "      <th>60</th>\n",
       "      <td>56</td>\n",
       "      <td>RACE_GROUP_Hispanic</td>\n",
       "      <td>0.001128</td>\n",
       "    </tr>\n",
       "  </tbody>\n",
       "</table>\n",
       "<p>61 rows × 3 columns</p>\n",
       "</div>"
      ],
      "text/plain": [
       "    index                             feature  importance\n",
       "0      15                             MELD_Na    0.120714\n",
       "1      11                         VASOPRESSOR    0.078029\n",
       "2      14                    ELIXHAUSER_INDEX    0.074417\n",
       "3       8                              SEPSIS    0.072919\n",
       "4      10                         VENTILATION    0.072602\n",
       "5      16                  AKI_CATEGORY2_MILD    0.040662\n",
       "6      17                AKI_CATEGORY2_SEVERE    0.035837\n",
       "7      20                    ARDS_SEVERE ARDS    0.023840\n",
       "8      28        TIME_TO_ALB_CATEGORY_LOS_>24    0.021648\n",
       "9      12                              FEMALE    0.014407\n",
       "10     33                       AGE_GROUP_65+    0.014329\n",
       "11     24                       GLYCEMIA_BOTH    0.014279\n",
       "12      0                                 ABX    0.013809\n",
       "13      2                            DIURETIC    0.013755\n",
       "14      4                                  HE    0.013039\n",
       "15      5                                 HRS    0.012882\n",
       "16     39             CENSUS_REGION_Northeast    0.012694\n",
       "17     26               GLYCEMIA_HYPOGLYCEMIA    0.012555\n",
       "18     25              GLYCEMIA_HYPERGLYCEMIA    0.012541\n",
       "19      6                                 LVP    0.012425\n",
       "20      9                            STEROIDS    0.012394\n",
       "21     22  CRYST_RES_VOL_CATEGORY_(500, 1250]    0.012086\n",
       "22     21     CRYST_RES_VOL_CATEGORY_(0, 500]    0.012009\n",
       "23     49                PAYER_GROUP_Medicare    0.011599\n",
       "24      1                        BETA_BLOCKER    0.011096\n",
       "25     36                    BED_SIZE_300-499    0.010629\n",
       "26     46                     INDEX_YEAR_2014    0.010489\n",
       "27     47                     INDEX_YEAR_2015    0.010440\n",
       "28     37                       BED_SIZE_500+    0.010281\n",
       "29     60               TEACHING_FACILITY_Yes    0.010083\n",
       "..    ...                                 ...         ...\n",
       "31     32                     AGE_GROUP_50-64    0.009584\n",
       "32     13                               RURAL    0.009389\n",
       "33     45                     INDEX_YEAR_2013    0.009165\n",
       "34     19                  ARDS_MODERATE ARDS    0.009136\n",
       "35     30         ADMISSION_TYPE_GROUP_Urgent    0.009078\n",
       "36     54         RACE_GROUP_African American    0.009062\n",
       "37     35                    BED_SIZE_200-299    0.008589\n",
       "38     38               CENSUS_REGION_Midwest    0.008413\n",
       "39     31                     AGE_GROUP_30-49    0.008363\n",
       "40     27    TIME_TO_ALB_CATEGORY_LOS_(0, 24]    0.008277\n",
       "41     50         PAYER_GROUP_Null or Exclude    0.008101\n",
       "42     23         CRYST_RES_VOL_CATEGORY_NONE    0.007910\n",
       "43     48                PAYER_GROUP_Medicaid    0.007760\n",
       "44     44                     INDEX_YEAR_2012    0.007669\n",
       "45     59     TEACHING_FACILITY_Not Specified    0.007612\n",
       "46     34                    BED_SIZE_100-199    0.006881\n",
       "47     40                  CENSUS_REGION_West    0.006810\n",
       "48     29       ADMISSION_TYPE_GROUP_Elective    0.006628\n",
       "49     43                     INDEX_YEAR_2011    0.006408\n",
       "50     58                    RACE_GROUP_Other    0.005213\n",
       "51     42                     INDEX_YEAR_2010    0.005170\n",
       "52     18                      ARDS_MILD ARDS    0.004806\n",
       "53     41                     INDEX_YEAR_2009    0.004442\n",
       "54      7                                 SBP    0.004181\n",
       "55     53                    PAYER_GROUP_Self    0.003661\n",
       "56     51      PAYER_GROUP_Oth. Govt. or Mil.    0.002810\n",
       "57     57            RACE_GROUP_Not Specified    0.001947\n",
       "58     55   RACE_GROUP_Asian/Pacific Islander    0.001794\n",
       "59     52  PAYER_GROUP_Oth. NGO or Work Comp.    0.001784\n",
       "60     56                 RACE_GROUP_Hispanic    0.001128\n",
       "\n",
       "[61 rows x 3 columns]"
      ]
     },
     "execution_count": 191,
     "metadata": {},
     "output_type": "execute_result"
    }
   ],
   "source": [
    "# sort dataframe by feature importances\n",
    "feature_importances_srt = feature_importances.sort_values(by='importance', ascending = False).reset_index()\n",
    "feature_importances_srt"
   ]
  },
  {
   "cell_type": "code",
   "execution_count": 192,
   "metadata": {
    "hidden": true
   },
   "outputs": [
    {
     "data": {
      "image/png": "[encoded data removed]",
      "text/plain": [
       "<Figure size 432x288 with 1 Axes>"
      ]
     },
     "metadata": {
      "needs_background": "light"
     },
     "output_type": "display_data"
    }
   ],
   "source": [
    "# plot Top 20 feature importances\n",
    "feature_importances_top20 = feature_importances_srt.iloc[0:20, :]\n",
    "feature_importances_top20.sort_values(by='importance', ascending = True, inplace = True)\n",
    "feature_importances_top20.plot(x = 'feature', y = 'importance', kind = 'barh', legend = False)\n",
    "plt.title('Feature Importance')\n",
    "plt.show()"
   ]
  },
  {
   "cell_type": "markdown",
   "metadata": {
    "heading_collapsed": true,
    "hidden": true
   },
   "source": [
    "## Machine Learning Summary"
   ]
  },
  {
   "cell_type": "code",
   "execution_count": 190,
   "metadata": {
    "hidden": true
   },
   "outputs": [
    {
     "data": {
      "text/html": [
       "<div>\n",
       "<style scoped>\n",
       "    .dataframe tbody tr th:only-of-type {\n",
       "        vertical-align: middle;\n",
       "    }\n",
       "\n",
       "    .dataframe tbody tr th {\n",
       "        vertical-align: top;\n",
       "    }\n",
       "\n",
       "    .dataframe thead th {\n",
       "        text-align: right;\n",
       "    }\n",
       "</style>\n",
       "<table border=\"1\" class=\"dataframe\">\n",
       "  <thead>\n",
       "    <tr style=\"text-align: right;\">\n",
       "      <th></th>\n",
       "      <th>Model</th>\n",
       "      <th>Precision</th>\n",
       "      <th>Recall</th>\n",
       "      <th>F1</th>\n",
       "      <th>Accuracy</th>\n",
       "      <th>ROC AUC</th>\n",
       "      <th>Precision-Recall AUC</th>\n",
       "    </tr>\n",
       "  </thead>\n",
       "  <tbody>\n",
       "    <tr>\n",
       "      <th>0</th>\n",
       "      <td>Logistic Regression</td>\n",
       "      <td>0.38</td>\n",
       "      <td>0.80</td>\n",
       "      <td>0.51</td>\n",
       "      <td>0.83</td>\n",
       "      <td>0.9</td>\n",
       "      <td>0.56</td>\n",
       "    </tr>\n",
       "    <tr>\n",
       "      <th>1</th>\n",
       "      <td>Random Forests</td>\n",
       "      <td>0.74</td>\n",
       "      <td>0.25</td>\n",
       "      <td>0.37</td>\n",
       "      <td>0.91</td>\n",
       "      <td>0.9</td>\n",
       "      <td>0.57</td>\n",
       "    </tr>\n",
       "  </tbody>\n",
       "</table>\n",
       "</div>"
      ],
      "text/plain": [
       "                 Model  Precision  Recall    F1  Accuracy  ROC AUC  \\\n",
       "0  Logistic Regression       0.38    0.80  0.51      0.83      0.9   \n",
       "1       Random Forests       0.74    0.25  0.37      0.91      0.9   \n",
       "\n",
       "   Precision-Recall AUC  \n",
       "0                  0.56  \n",
       "1                  0.57  "
      ]
     },
     "execution_count": 190,
     "metadata": {},
     "output_type": "execute_result"
    }
   ],
   "source": [
    "metrics"
   ]
  },
  {
   "cell_type": "markdown",
   "metadata": {
    "hidden": true
   },
   "source": [
    "As is shown above, both Logistic Regression and Random Forests provide decent Accuracy and ROC AUC scores. \n",
    "\n",
    "Regarding Precision and Recall scores, Random Forests gives higher Precision but lower Recall than Logistic Regression."
   ]
  },
  {
   "cell_type": "markdown",
   "metadata": {
    "hidden": true
   },
   "source": [
    "The Random Forests Model shows the following features are in the **Top 20 list**:\n",
    "\n",
    "  + **Acute Kidney Injury (categorical)**\n",
    "  \n",
    "  + **Acute Respiratory Distress Syndrome (categorical)**\n",
    "\n",
    "  + **Antibiotics (binary)**\n",
    " \n",
    "  + Beta Blockers (binary)\n",
    "  \n",
    "  + Volume of Crystalloids for Resuscitation (categorical)\n",
    "  \n",
    "  + **Diuretics (binary)**\n",
    "  \n",
    "  + **Glucose Levels (categorical)**\n",
    "  \n",
    "  + **Hepatic Encephalopathy (binary)**\n",
    "  \n",
    "  + **Hepatorenal Syndrome (binary)**\n",
    "  \n",
    "  + **Large Volume Paracentesis (binary)**\n",
    "  \n",
    "  + Spontaneous Bacterial Peritonitis (binary)\n",
    "  \n",
    "  + **Sepsis (binary)**\n",
    "  \n",
    "  + Steroids (binary)\n",
    "  \n",
    "  + Time to Albumin (categorical)\n",
    "  \n",
    "  + Mechanical Ventilation (binary)\n",
    "  \n",
    "  + Vasopressors (binary)\n",
    "  \n",
    "  + **Elixhauser Index (continuous)**\n",
    "  \n",
    "  + **MELD-Na Score (continuous)**\n",
    "  \n",
    "  + Admission Type (categorical)\n",
    "  \n",
    "  + **Age Group (categorical)**\n",
    "  \n",
    "  + Bed Size (categorical)\n",
    "  \n",
    "  + **Region (categorical)**\n",
    "  \n",
    "  + **Gender (binary)**\n",
    "  \n",
    "  + Year (categorical)\n",
    "  \n",
    "  + Payer (categorical)\n",
    "  \n",
    "  + Race (categorical)\n",
    "  \n",
    "  + Teaching Facility (categorical)\n",
    "  \n",
    "  + Urban_Rural (binary)"
   ]
  },
  {
   "cell_type": "markdown",
   "metadata": {
    "heading_collapsed": true
   },
   "source": [
    "# Refine Model using Top Features"
   ]
  },
  {
   "cell_type": "markdown",
   "metadata": {
    "heading_collapsed": true,
    "hidden": true
   },
   "source": [
    "## Select Top Important Features"
   ]
  },
  {
   "cell_type": "code",
   "execution_count": 141,
   "metadata": {
    "hidden": true
   },
   "outputs": [
    {
     "data": {
      "text/plain": [
       "['MELD_Na',\n",
       " 'VASOPRESSOR',\n",
       " 'ELIXHAUSER_INDEX',\n",
       " 'SEPSIS',\n",
       " 'VENTILATION',\n",
       " 'AKI_CATEGORY2_MILD',\n",
       " 'AKI_CATEGORY2_SEVERE',\n",
       " 'ARDS_SEVERE ARDS',\n",
       " 'TIME_TO_ALB_CATEGORY_LOS_>24',\n",
       " 'FEMALE']"
      ]
     },
     "execution_count": 141,
     "metadata": {},
     "output_type": "execute_result"
    }
   ],
   "source": [
    "# select Top 10 important features\n",
    "top10_features = list(feature_importances_srt.iloc[0:10, 1])\n",
    "top10_features"
   ]
  },
  {
   "cell_type": "code",
   "execution_count": 145,
   "metadata": {
    "hidden": true
   },
   "outputs": [],
   "source": [
    "# subset important features\n",
    "X_train_top = X_train[top10_features]\n",
    "X_test_top = X_test[top10_features]"
   ]
  },
  {
   "cell_type": "code",
   "execution_count": 146,
   "metadata": {
    "hidden": true
   },
   "outputs": [
    {
     "data": {
      "text/plain": [
       "StandardScaler(copy=True, with_mean=True, with_std=True)"
      ]
     },
     "execution_count": 146,
     "metadata": {},
     "output_type": "execute_result"
    }
   ],
   "source": [
    "# fit standardizer to training set\n",
    "standardizer_top = StandardScaler()\n",
    "standardizer_top.fit(X_train_top)"
   ]
  },
  {
   "cell_type": "code",
   "execution_count": 150,
   "metadata": {
    "hidden": true
   },
   "outputs": [],
   "source": [
    "# apply to both training and test sets\n",
    "X_train_top_std = standardizer_top.transform(X_train_top)\n",
    "X_test_top_std = standardizer_top.transform(X_test_top)"
   ]
  },
  {
   "cell_type": "markdown",
   "metadata": {
    "heading_collapsed": true,
    "hidden": true
   },
   "source": [
    "## Machine Learning Model - Refined Logistic Regression"
   ]
  },
  {
   "cell_type": "code",
   "execution_count": 151,
   "metadata": {
    "hidden": true
   },
   "outputs": [],
   "source": [
    "# create a refined Logistic model\n",
    "refined_logit = LogisticRegression(class_weight = 'balanced', random_state = 12345)"
   ]
  },
  {
   "cell_type": "code",
   "execution_count": 152,
   "metadata": {
    "hidden": true
   },
   "outputs": [
    {
     "data": {
      "text/plain": [
       "LogisticRegression(C=1.0, class_weight='balanced', dual=False,\n",
       "          fit_intercept=True, intercept_scaling=1, max_iter=100,\n",
       "          multi_class='warn', n_jobs=None, penalty='l2',\n",
       "          random_state=12345, solver='warn', tol=0.0001, verbose=0,\n",
       "          warm_start=False)"
      ]
     },
     "execution_count": 152,
     "metadata": {},
     "output_type": "execute_result"
    }
   ],
   "source": [
    "# train the model on training data\n",
    "refined_logit.fit(X_train_top_std , y_train)"
   ]
  },
  {
   "cell_type": "code",
   "execution_count": 153,
   "metadata": {
    "hidden": true
   },
   "outputs": [],
   "source": [
    "# predict test data\n",
    "y_pred_top_logit = refined_logit.predict(X_test_top_std)\n",
    "y_pred_prob_top_logit = refined_logit.predict_proba(X_test_top_std)"
   ]
  },
  {
   "cell_type": "code",
   "execution_count": 154,
   "metadata": {
    "hidden": true
   },
   "outputs": [
    {
     "data": {
      "image/png": "[encoded data removed]",
      "text/plain": [
       "<Figure size 432x288 with 2 Axes>"
      ]
     },
     "metadata": {
      "needs_background": "light"
     },
     "output_type": "display_data"
    }
   ],
   "source": [
    "# plot confusion matrix\n",
    "skplt.metrics.plot_confusion_matrix(y_test, y_pred_top_logit)\n",
    "plt.show()"
   ]
  },
  {
   "cell_type": "code",
   "execution_count": 193,
   "metadata": {
    "hidden": true
   },
   "outputs": [
    {
     "name": "stdout",
     "output_type": "stream",
     "text": [
      "True Negatives:  18234\n",
      "False Positives:  3986\n",
      "False Negatives:  629\n",
      "True Positives:  2105\n",
      "Accuracy: 0.82:\n",
      "Precision: 0.35:\n",
      "Recall: 0.77:\n",
      "F1 Score: 0.48:\n"
     ]
    }
   ],
   "source": [
    "# calculate proformance metrics\n",
    "cm_matrix = confusion_matrix(y_test, y_pred_top_logit)\n",
    "tn, fp, fn, tp = cm_matrix.ravel()\n",
    "accuracy = (tn+tp)/(tp+tn+fp+fn)\n",
    "precision = tp/(tp+fp)\n",
    "recall = tp /(tp+fn)\n",
    "f1 = (2*precision*recall)/(precision+recall)\n",
    "print('True Negatives: ', tn)\n",
    "print('False Positives: ', fp)\n",
    "print('False Negatives: ', fn)\n",
    "print('True Positives: ', tp)\n",
    "print(\"Accuracy: {:0.2f}:\".format(accuracy))\n",
    "print(\"Precision: {:0.2f}:\".format(precision))\n",
    "print(\"Recall: {:0.2f}:\".format(recall))\n",
    "print(\"F1 Score: {:0.2f}:\".format(f1))"
   ]
  },
  {
   "cell_type": "code",
   "execution_count": 155,
   "metadata": {
    "hidden": true
   },
   "outputs": [
    {
     "name": "stdout",
     "output_type": "stream",
     "text": [
      "              precision    recall  f1-score   support\n",
      "\n",
      "           0       0.97      0.82      0.89     22220\n",
      "           1       0.35      0.77      0.48      2734\n",
      "\n",
      "   micro avg       0.82      0.82      0.82     24954\n",
      "   macro avg       0.66      0.80      0.68     24954\n",
      "weighted avg       0.90      0.82      0.84     24954\n",
      "\n"
     ]
    }
   ],
   "source": [
    "# print classification report\n",
    "print(classification_report(y_test, y_pred_top_logit))"
   ]
  },
  {
   "cell_type": "code",
   "execution_count": 156,
   "metadata": {
    "hidden": true
   },
   "outputs": [
    {
     "data": {
      "image/png": "[encoded data removed]",
      "text/plain": [
       "<Figure size 432x288 with 1 Axes>"
      ]
     },
     "metadata": {
      "needs_background": "light"
     },
     "output_type": "display_data"
    }
   ],
   "source": [
    "# plot ROC curves\n",
    "skplt.metrics.plot_roc_curve(y_test, y_pred_prob_top_logit, curves = ('each_class'))\n",
    "plt.show()"
   ]
  },
  {
   "cell_type": "code",
   "execution_count": 157,
   "metadata": {
    "hidden": true
   },
   "outputs": [
    {
     "data": {
      "image/png": "[encoded data removed]",
      "text/plain": [
       "<Figure size 432x288 with 1 Axes>"
      ]
     },
     "metadata": {
      "needs_background": "light"
     },
     "output_type": "display_data"
    }
   ],
   "source": [
    "# plot Precision-Recall curve\n",
    "skplt.metrics.plot_precision_recall_curve(y_test, y_pred_prob_top_logit, curves = ('each_class'))\n",
    "plt.show()"
   ]
  },
  {
   "cell_type": "code",
   "execution_count": 208,
   "metadata": {
    "hidden": true
   },
   "outputs": [
    {
     "data": {
      "text/html": [
       "<div>\n",
       "<style scoped>\n",
       "    .dataframe tbody tr th:only-of-type {\n",
       "        vertical-align: middle;\n",
       "    }\n",
       "\n",
       "    .dataframe tbody tr th {\n",
       "        vertical-align: top;\n",
       "    }\n",
       "\n",
       "    .dataframe thead th {\n",
       "        text-align: right;\n",
       "    }\n",
       "</style>\n",
       "<table border=\"1\" class=\"dataframe\">\n",
       "  <thead>\n",
       "    <tr style=\"text-align: right;\">\n",
       "      <th></th>\n",
       "      <th>Model</th>\n",
       "      <th>Precision</th>\n",
       "      <th>Recall</th>\n",
       "      <th>F1</th>\n",
       "      <th>Accuracy</th>\n",
       "      <th>ROC AUC</th>\n",
       "      <th>Precision-Recall AUC</th>\n",
       "    </tr>\n",
       "  </thead>\n",
       "  <tbody>\n",
       "    <tr>\n",
       "      <th>2</th>\n",
       "      <td>Refined Logistic Regression</td>\n",
       "      <td>0.35</td>\n",
       "      <td>0.77</td>\n",
       "      <td>0.48</td>\n",
       "      <td>0.82</td>\n",
       "      <td>0.88</td>\n",
       "      <td>0.52</td>\n",
       "    </tr>\n",
       "  </tbody>\n",
       "</table>\n",
       "</div>"
      ],
      "text/plain": [
       "                         Model  Precision  Recall    F1  Accuracy  ROC AUC  \\\n",
       "2  Refined Logistic Regression       0.35    0.77  0.48      0.82     0.88   \n",
       "\n",
       "   Precision-Recall AUC  \n",
       "2                  0.52  "
      ]
     },
     "execution_count": 208,
     "metadata": {},
     "output_type": "execute_result"
    }
   ],
   "source": [
    "# store proformance metrics\n",
    "col_names = ['Model', 'Precision', 'Recall', 'F1', 'Accuracy', 'ROC AUC', 'Precision-Recall AUC']\n",
    "metrics_refined = pd.DataFrame(columns = col_names)\n",
    "logit_refined_metric = {'Model': 'Refined Logistic Regression', 'Precision': 0.35, 'Recall': 0.77, \n",
    "                'F1': 0.48, 'Accuracy': 0.82, 'ROC AUC': 0.88, 'Precision-Recall AUC': 0.52}\n",
    "metrics_refined.loc[len(metrics)] = logit_refined_metric\n",
    "metrics_refined"
   ]
  },
  {
   "cell_type": "markdown",
   "metadata": {
    "heading_collapsed": true,
    "hidden": true
   },
   "source": [
    "## Machine Learning Model - Refined Random Forests"
   ]
  },
  {
   "cell_type": "code",
   "execution_count": 195,
   "metadata": {
    "hidden": true
   },
   "outputs": [],
   "source": [
    "# create a refined Random Forest model\n",
    "refined_rf = RandomForestClassifier(n_estimators = 1000, class_weight = 'balanced', random_state = 12345, max_features=None)"
   ]
  },
  {
   "cell_type": "code",
   "execution_count": 196,
   "metadata": {
    "hidden": true
   },
   "outputs": [
    {
     "data": {
      "text/plain": [
       "RandomForestClassifier(bootstrap=True, class_weight='balanced',\n",
       "            criterion='gini', max_depth=None, max_features=None,\n",
       "            max_leaf_nodes=None, min_impurity_decrease=0.0,\n",
       "            min_impurity_split=None, min_samples_leaf=1,\n",
       "            min_samples_split=2, min_weight_fraction_leaf=0.0,\n",
       "            n_estimators=1000, n_jobs=None, oob_score=False,\n",
       "            random_state=12345, verbose=0, warm_start=False)"
      ]
     },
     "execution_count": 196,
     "metadata": {},
     "output_type": "execute_result"
    }
   ],
   "source": [
    "# train the model on training data\n",
    "refined_rf.fit(X_train_top_std, y_train)"
   ]
  },
  {
   "cell_type": "code",
   "execution_count": 210,
   "metadata": {
    "hidden": true
   },
   "outputs": [],
   "source": [
    "# predict test data\n",
    "y_pred_top_rf = refined_rf.predict(X_test_top_std)\n",
    "y_pred_prob_top_rf = refined_rf.predict_proba(X_test_top_std)"
   ]
  },
  {
   "cell_type": "code",
   "execution_count": 211,
   "metadata": {
    "hidden": true
   },
   "outputs": [
    {
     "data": {
      "image/png": "[encoded data removed]",
      "text/plain": [
       "<Figure size 432x288 with 2 Axes>"
      ]
     },
     "metadata": {
      "needs_background": "light"
     },
     "output_type": "display_data"
    }
   ],
   "source": [
    "# plot confusion matrix\n",
    "skplt.metrics.plot_confusion_matrix(y_test, y_pred_top_rf)\n",
    "plt.show()"
   ]
  },
  {
   "cell_type": "code",
   "execution_count": 201,
   "metadata": {
    "hidden": true
   },
   "outputs": [
    {
     "name": "stdout",
     "output_type": "stream",
     "text": [
      "True Negatives:  21139\n",
      "False Positives:  1081\n",
      "False Negatives:  1892\n",
      "True Positives:  842\n",
      "Accuracy: 0.88:\n",
      "Precision: 0.44:\n",
      "Recall: 0.31:\n",
      "F1 Score: 0.36:\n"
     ]
    }
   ],
   "source": [
    "# calculate proformance metrics\n",
    "cm_matrix = confusion_matrix(y_test, y_pred_top_rf)\n",
    "tn, fp, fn, tp = cm_matrix.ravel()\n",
    "accuracy = (tn+tp)/(tp+tn+fp+fn)\n",
    "precision = tp/(tp+fp)\n",
    "recall = tp /(tp+fn)\n",
    "f1 = (2*precision*recall)/(precision+recall)\n",
    "print('True Negatives: ', tn)\n",
    "print('False Positives: ', fp)\n",
    "print('False Negatives: ', fn)\n",
    "print('True Positives: ', tp)\n",
    "print(\"Accuracy: {:0.2f}:\".format(accuracy))\n",
    "print(\"Precision: {:0.2f}:\".format(precision))\n",
    "print(\"Recall: {:0.2f}:\".format(recall))\n",
    "print(\"F1 Score: {:0.2f}:\".format(f1))"
   ]
  },
  {
   "cell_type": "code",
   "execution_count": 202,
   "metadata": {
    "hidden": true
   },
   "outputs": [
    {
     "name": "stdout",
     "output_type": "stream",
     "text": [
      "              precision    recall  f1-score   support\n",
      "\n",
      "           0       0.92      0.95      0.93     22220\n",
      "           1       0.44      0.31      0.36      2734\n",
      "\n",
      "   micro avg       0.88      0.88      0.88     24954\n",
      "   macro avg       0.68      0.63      0.65     24954\n",
      "weighted avg       0.87      0.88      0.87     24954\n",
      "\n"
     ]
    }
   ],
   "source": [
    "# print classification report\n",
    "print(classification_report(y_test, y_pred_top_rf))"
   ]
  },
  {
   "cell_type": "code",
   "execution_count": 203,
   "metadata": {
    "hidden": true
   },
   "outputs": [
    {
     "data": {
      "image/png": "[encoded data removed]",
      "text/plain": [
       "<Figure size 432x288 with 1 Axes>"
      ]
     },
     "metadata": {
      "needs_background": "light"
     },
     "output_type": "display_data"
    }
   ],
   "source": [
    "# plot ROC curves\n",
    "skplt.metrics.plot_roc_curve(y_test, y_pred_prob_top_rf, curves = ('each_class'))\n",
    "plt.show()"
   ]
  },
  {
   "cell_type": "code",
   "execution_count": 204,
   "metadata": {
    "hidden": true
   },
   "outputs": [
    {
     "data": {
      "image/png": "[encoded data removed]",
      "text/plain": [
       "<Figure size 432x288 with 1 Axes>"
      ]
     },
     "metadata": {
      "needs_background": "light"
     },
     "output_type": "display_data"
    }
   ],
   "source": [
    "# plot Precision-Recall curve\n",
    "skplt.metrics.plot_precision_recall_curve(y_test, y_pred_prob_top_rf, curves = ('each_class'))\n",
    "plt.show()"
   ]
  },
  {
   "cell_type": "code",
   "execution_count": 209,
   "metadata": {
    "hidden": true
   },
   "outputs": [
    {
     "data": {
      "text/html": [
       "<div>\n",
       "<style scoped>\n",
       "    .dataframe tbody tr th:only-of-type {\n",
       "        vertical-align: middle;\n",
       "    }\n",
       "\n",
       "    .dataframe tbody tr th {\n",
       "        vertical-align: top;\n",
       "    }\n",
       "\n",
       "    .dataframe thead th {\n",
       "        text-align: right;\n",
       "    }\n",
       "</style>\n",
       "<table border=\"1\" class=\"dataframe\">\n",
       "  <thead>\n",
       "    <tr style=\"text-align: right;\">\n",
       "      <th></th>\n",
       "      <th>Model</th>\n",
       "      <th>Precision</th>\n",
       "      <th>Recall</th>\n",
       "      <th>F1</th>\n",
       "      <th>Accuracy</th>\n",
       "      <th>ROC AUC</th>\n",
       "      <th>Precision-Recall AUC</th>\n",
       "    </tr>\n",
       "  </thead>\n",
       "  <tbody>\n",
       "    <tr>\n",
       "      <th>2</th>\n",
       "      <td>Refined Logistic Regression</td>\n",
       "      <td>0.35</td>\n",
       "      <td>0.77</td>\n",
       "      <td>0.48</td>\n",
       "      <td>0.82</td>\n",
       "      <td>0.88</td>\n",
       "      <td>0.52</td>\n",
       "    </tr>\n",
       "    <tr>\n",
       "      <th>1</th>\n",
       "      <td>Refined Random Forests</td>\n",
       "      <td>0.44</td>\n",
       "      <td>0.31</td>\n",
       "      <td>0.36</td>\n",
       "      <td>0.88</td>\n",
       "      <td>0.81</td>\n",
       "      <td>0.39</td>\n",
       "    </tr>\n",
       "  </tbody>\n",
       "</table>\n",
       "</div>"
      ],
      "text/plain": [
       "                         Model  Precision  Recall    F1  Accuracy  ROC AUC  \\\n",
       "2  Refined Logistic Regression       0.35    0.77  0.48      0.82     0.88   \n",
       "1       Refined Random Forests       0.44    0.31  0.36      0.88     0.81   \n",
       "\n",
       "   Precision-Recall AUC  \n",
       "2                  0.52  \n",
       "1                  0.39  "
      ]
     },
     "execution_count": 209,
     "metadata": {},
     "output_type": "execute_result"
    }
   ],
   "source": [
    "# store proformance metrics\n",
    "rf_refined_metric = {'Model': 'Refined Random Forests', 'Precision': 0.44, 'Recall': 0.31, \n",
    "                'F1': 0.36, 'Accuracy': 0.88, 'ROC AUC': 0.81, 'Precision-Recall AUC': 0.39}\n",
    "metrics_refined.loc[len(metrics_refined)] = rf_refined_metric\n",
    "metrics_refined"
   ]
  },
  {
   "cell_type": "markdown",
   "metadata": {
    "heading_collapsed": true
   },
   "source": [
    "# Conclusion"
   ]
  },
  {
   "cell_type": "markdown",
   "metadata": {
    "hidden": true
   },
   "source": [
    "The major difference between machine learning and classical statistics is their purpose. Machine learning models are designed to make the most accurate predictions possible. Classical statistical models are designed for inference about the relationships between variables. \n",
    "\n",
    "While there is room for improvement in the proformance of machine learning for the cirrhosis study, machine learning models can complement classical statistical models and have promising potential for complicated problems."
   ]
  }
 ],
 "metadata": {
  "kernelspec": {
   "display_name": "Python 3",
   "language": "python",
   "name": "python3"
  },
  "language_info": {
   "codemirror_mode": {
    "name": "ipython",
    "version": 3
   },
   "file_extension": ".py",
   "mimetype": "text/x-python",
   "name": "python",
   "nbconvert_exporter": "python",
   "pygments_lexer": "ipython3",
   "version": "3.7.1"
  },
  "toc": {
   "base_numbering": 1,
   "nav_menu": {},
   "number_sections": true,
   "sideBar": true,
   "skip_h1_title": false,
   "title_cell": "Table of Contents",
   "title_sidebar": "Contents",
   "toc_cell": false,
   "toc_position": {},
   "toc_section_display": true,
   "toc_window_display": false
  },
  "varInspector": {
   "cols": {
    "lenName": 16,
    "lenType": 16,
    "lenVar": 40
   },
   "kernels_config": {
    "python": {
     "delete_cmd_postfix": "",
     "delete_cmd_prefix": "del ",
     "library": "var_list.py",
     "varRefreshCmd": "print(var_dic_list())"
    },
    "r": {
     "delete_cmd_postfix": ") ",
     "delete_cmd_prefix": "rm(",
     "library": "var_list.r",
     "varRefreshCmd": "cat(var_dic_list()) "
    }
   },
   "types_to_exclude": [
    "module",
    "function",
    "builtin_function_or_method",
    "instance",
    "_Feature"
   ],
   "window_display": false
  }
 },
 "nbformat": 4,
 "nbformat_minor": 2
}
