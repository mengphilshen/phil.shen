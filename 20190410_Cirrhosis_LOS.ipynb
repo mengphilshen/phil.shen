{
 "cells": [
  {
   "cell_type": "markdown",
   "metadata": {
    "heading_collapsed": true
   },
   "source": [
    "# Introduction"
   ]
  },
  {
   "cell_type": "markdown",
   "metadata": {
    "hidden": true
   },
   "source": []
  },
  {
   "cell_type": "markdown",
   "metadata": {
    "heading_collapsed": true
   },
   "source": [
    "# Data Import"
   ]
  },
  {
   "cell_type": "code",
   "execution_count": 11,
   "metadata": {
    "hidden": true
   },
   "outputs": [],
   "source": [
    "# import modules\n",
    "import numpy as np\n",
    "import pandas as pd\n",
    "import matplotlib.pyplot as plt\n",
    "import seaborn as sns\n",
    "import scikitplot as skplt\n",
    "import statsmodels.api as sm\n",
    "from sklearn.preprocessing import StandardScaler\n",
    "from sklearn.decomposition import PCA\n",
    "from sklearn.model_selection import train_test_split, GridSearchCV\n",
    "from sklearn.linear_model import LogisticRegression\n",
    "from sklearn.ensemble import RandomForestClassifier\n",
    "from sklearn.metrics import confusion_matrix, classification_report\n",
    "import warnings\n",
    "warnings.filterwarnings('ignore')"
   ]
  },
  {
   "cell_type": "code",
   "execution_count": 28,
   "metadata": {
    "hidden": true
   },
   "outputs": [
    {
     "name": "stdout",
     "output_type": "stream",
     "text": [
      "<class 'pandas.core.frame.DataFrame'>\n",
      "RangeIndex: 86432 entries, 0 to 86431\n",
      "Data columns (total 31 columns):\n",
      "VISIT_ID2                   86432 non-null int64\n",
      "MORTALITY                   86432 non-null int64\n",
      "AKI_CATEGORY2               86432 non-null object\n",
      "ARDS                        86432 non-null object\n",
      "ABX                         86432 non-null int64\n",
      "BETA_BLOCKER                86432 non-null int64\n",
      "CRYST_RES_VOL_CATEGORY      86432 non-null object\n",
      "DIURETIC                    86432 non-null int64\n",
      "GIDX_BLEEDING               86432 non-null int64\n",
      "GLYCEMIA                    86432 non-null object\n",
      "HE                          86432 non-null int64\n",
      "HRS                         86432 non-null int64\n",
      "LVP                         86432 non-null int64\n",
      "SBP                         86432 non-null int64\n",
      "SEPSIS                      86432 non-null int64\n",
      "STEROIDS                    86432 non-null int64\n",
      "TIME_TO_ALB_CATEGORY_LOS    86432 non-null object\n",
      "VENTILATION                 86432 non-null int64\n",
      "VASOPRESSOR                 86432 non-null int64\n",
      "ADMISSION_TYPE_GROUP        86432 non-null object\n",
      "AGE_GROUP                   86432 non-null object\n",
      "BED_SIZE                    86432 non-null object\n",
      "CENSUS_REGION               86432 non-null object\n",
      "FEMALE                      86432 non-null int64\n",
      "INDEX_YEAR                  86432 non-null int64\n",
      "PAYER_GROUP                 86432 non-null object\n",
      "RACE_GROUP                  86432 non-null object\n",
      "TEACHING_FACILITY           86432 non-null object\n",
      "RURAL                       86432 non-null int64\n",
      "ELIXHAUSER_INDEX            86400 non-null float64\n",
      "MELD_Na                     83206 non-null float64\n",
      "dtypes: float64(2), int64(17), object(12)\n",
      "memory usage: 20.4+ MB\n"
     ]
    }
   ],
   "source": [
    "# load mortality data\n",
    "Cirrhosis_MOR0 = pd.read_csv('/Users/mengphilshen/Dropbox/Project/Data_Challenges/Proj_Cirrhosis/data/cir_mortality.csv')\n",
    "Cirrhosis_MOR0.info()"
   ]
  },
  {
   "cell_type": "code",
   "execution_count": 29,
   "metadata": {
    "hidden": true
   },
   "outputs": [
    {
     "name": "stdout",
     "output_type": "stream",
     "text": [
      "<class 'pandas.core.frame.DataFrame'>\n",
      "RangeIndex: 77176 entries, 0 to 77175\n",
      "Data columns (total 4 columns):\n",
      "VISIT_ID2             77176 non-null int64\n",
      "DISCHARGE_CATEGORY    77176 non-null object\n",
      "LOS_DAYS              77176 non-null float64\n",
      "LONG_LOS_DAYS         77176 non-null int64\n",
      "dtypes: float64(1), int64(2), object(1)\n",
      "memory usage: 2.4+ MB\n"
     ]
    }
   ],
   "source": [
    "# load LOS data\n",
    "Cirrhosis_LOS0 = pd.read_csv('/Users/mengphilshen/Dropbox/Project/Data_Challenges/Proj_Cirrhosis/data/cir_hospital_los.csv')\n",
    "Cirrhosis_LOS0.info()"
   ]
  },
  {
   "cell_type": "code",
   "execution_count": 30,
   "metadata": {
    "hidden": true
   },
   "outputs": [
    {
     "name": "stdout",
     "output_type": "stream",
     "text": [
      "<class 'pandas.core.frame.DataFrame'>\n",
      "Int64Index: 77176 entries, 0 to 77175\n",
      "Data columns (total 34 columns):\n",
      "VISIT_ID2                   77176 non-null int64\n",
      "MORTALITY                   77176 non-null int64\n",
      "AKI_CATEGORY2               77176 non-null object\n",
      "ARDS                        77176 non-null object\n",
      "ABX                         77176 non-null int64\n",
      "BETA_BLOCKER                77176 non-null int64\n",
      "CRYST_RES_VOL_CATEGORY      77176 non-null object\n",
      "DIURETIC                    77176 non-null int64\n",
      "GIDX_BLEEDING               77176 non-null int64\n",
      "GLYCEMIA                    77176 non-null object\n",
      "HE                          77176 non-null int64\n",
      "HRS                         77176 non-null int64\n",
      "LVP                         77176 non-null int64\n",
      "SBP                         77176 non-null int64\n",
      "SEPSIS                      77176 non-null int64\n",
      "STEROIDS                    77176 non-null int64\n",
      "TIME_TO_ALB_CATEGORY_LOS    77176 non-null object\n",
      "VENTILATION                 77176 non-null int64\n",
      "VASOPRESSOR                 77176 non-null int64\n",
      "ADMISSION_TYPE_GROUP        77176 non-null object\n",
      "AGE_GROUP                   77176 non-null object\n",
      "BED_SIZE                    77176 non-null object\n",
      "CENSUS_REGION               77176 non-null object\n",
      "FEMALE                      77176 non-null int64\n",
      "INDEX_YEAR                  77176 non-null int64\n",
      "PAYER_GROUP                 77176 non-null object\n",
      "RACE_GROUP                  77176 non-null object\n",
      "TEACHING_FACILITY           77176 non-null object\n",
      "RURAL                       77176 non-null int64\n",
      "ELIXHAUSER_INDEX            77153 non-null float64\n",
      "MELD_Na                     74295 non-null float64\n",
      "DISCHARGE_CATEGORY          77176 non-null object\n",
      "LOS_DAYS                    77176 non-null float64\n",
      "LONG_LOS_DAYS               77176 non-null int64\n",
      "dtypes: float64(3), int64(18), object(13)\n",
      "memory usage: 20.6+ MB\n"
     ]
    }
   ],
   "source": [
    "# join dataframes on VISIT_ID2\n",
    "Cirrhosis_LOS1 = pd.merge(Cirrhosis_MOR0, Cirrhosis_LOS0, on = 'VISIT_ID2')\n",
    "Cirrhosis_LOS1.info()"
   ]
  },
  {
   "cell_type": "code",
   "execution_count": 32,
   "metadata": {
    "hidden": true
   },
   "outputs": [
    {
     "name": "stdout",
     "output_type": "stream",
     "text": [
      "<class 'pandas.core.frame.DataFrame'>\n",
      "Int64Index: 77176 entries, 0 to 77175\n",
      "Data columns (total 32 columns):\n",
      "VISIT_ID2                   77176 non-null int64\n",
      "AKI_CATEGORY2               77176 non-null object\n",
      "ARDS                        77176 non-null object\n",
      "ABX                         77176 non-null int64\n",
      "BETA_BLOCKER                77176 non-null int64\n",
      "CRYST_RES_VOL_CATEGORY      77176 non-null object\n",
      "DIURETIC                    77176 non-null int64\n",
      "GIDX_BLEEDING               77176 non-null int64\n",
      "GLYCEMIA                    77176 non-null object\n",
      "HE                          77176 non-null int64\n",
      "HRS                         77176 non-null int64\n",
      "LVP                         77176 non-null int64\n",
      "SBP                         77176 non-null int64\n",
      "SEPSIS                      77176 non-null int64\n",
      "STEROIDS                    77176 non-null int64\n",
      "TIME_TO_ALB_CATEGORY_LOS    77176 non-null object\n",
      "VENTILATION                 77176 non-null int64\n",
      "VASOPRESSOR                 77176 non-null int64\n",
      "ADMISSION_TYPE_GROUP        77176 non-null object\n",
      "AGE_GROUP                   77176 non-null object\n",
      "BED_SIZE                    77176 non-null object\n",
      "CENSUS_REGION               77176 non-null object\n",
      "FEMALE                      77176 non-null int64\n",
      "INDEX_YEAR                  77176 non-null int64\n",
      "PAYER_GROUP                 77176 non-null object\n",
      "RACE_GROUP                  77176 non-null object\n",
      "TEACHING_FACILITY           77176 non-null object\n",
      "RURAL                       77176 non-null int64\n",
      "ELIXHAUSER_INDEX            77153 non-null float64\n",
      "MELD_Na                     74295 non-null float64\n",
      "DISCHARGE_CATEGORY          77176 non-null object\n",
      "LONG_LOS_DAYS               77176 non-null int64\n",
      "dtypes: float64(2), int64(17), object(13)\n",
      "memory usage: 19.4+ MB\n"
     ]
    }
   ],
   "source": [
    "# drop variables\n",
    "Cirrhosis_LOS2 = Cirrhosis_LOS1.drop(['MORTALITY', 'LOS_DAYS'], axis = 1)\n",
    "Cirrhosis_LOS2.info()"
   ]
  },
  {
   "cell_type": "code",
   "execution_count": 33,
   "metadata": {
    "hidden": true
   },
   "outputs": [],
   "source": [
    "# set index\n",
    "Cirrhosis_LOS2.set_index(['VISIT_ID2'], inplace = True)"
   ]
  },
  {
   "cell_type": "markdown",
   "metadata": {
    "heading_collapsed": true
   },
   "source": [
    "# Data Cleaning"
   ]
  },
  {
   "cell_type": "markdown",
   "metadata": {
    "heading_collapsed": true,
    "hidden": true
   },
   "source": [
    "## Delete Missing Values"
   ]
  },
  {
   "cell_type": "code",
   "execution_count": 34,
   "metadata": {
    "hidden": true
   },
   "outputs": [
    {
     "data": {
      "text/html": [
       "<div>\n",
       "<style scoped>\n",
       "    .dataframe tbody tr th:only-of-type {\n",
       "        vertical-align: middle;\n",
       "    }\n",
       "\n",
       "    .dataframe tbody tr th {\n",
       "        vertical-align: top;\n",
       "    }\n",
       "\n",
       "    .dataframe thead th {\n",
       "        text-align: right;\n",
       "    }\n",
       "</style>\n",
       "<table border=\"1\" class=\"dataframe\">\n",
       "  <thead>\n",
       "    <tr style=\"text-align: right;\">\n",
       "      <th></th>\n",
       "      <th>variable</th>\n",
       "      <th>missing values</th>\n",
       "      <th>missing %</th>\n",
       "    </tr>\n",
       "  </thead>\n",
       "  <tbody>\n",
       "    <tr>\n",
       "      <th>0</th>\n",
       "      <td>MELD_Na</td>\n",
       "      <td>2881</td>\n",
       "      <td>3.733026</td>\n",
       "    </tr>\n",
       "    <tr>\n",
       "      <th>1</th>\n",
       "      <td>ELIXHAUSER_INDEX</td>\n",
       "      <td>23</td>\n",
       "      <td>0.029802</td>\n",
       "    </tr>\n",
       "  </tbody>\n",
       "</table>\n",
       "</div>"
      ],
      "text/plain": [
       "           variable  missing values  missing %\n",
       "0           MELD_Na            2881   3.733026\n",
       "1  ELIXHAUSER_INDEX              23   0.029802"
      ]
     },
     "execution_count": 34,
     "metadata": {},
     "output_type": "execute_result"
    }
   ],
   "source": [
    "# check missing values\n",
    "missing_data = Cirrhosis_LOS2.isnull().sum(axis = 0).reset_index()\n",
    "missing_data.columns = ['variable', 'missing values']\n",
    "missing_data['missing %'] = missing_data['missing values'] / Cirrhosis_LOS2.shape[0] * 100\n",
    "missing_data_srt = missing_data.sort_values('missing %', ascending = False).reset_index(drop = True)\n",
    "missing_data_srt[missing_data_srt['missing %'] > 0]"
   ]
  },
  {
   "cell_type": "code",
   "execution_count": 35,
   "metadata": {
    "hidden": true
   },
   "outputs": [
    {
     "name": "stdout",
     "output_type": "stream",
     "text": [
      "<class 'pandas.core.frame.DataFrame'>\n",
      "Int64Index: 74275 entries, 326305398 to 283396498\n",
      "Data columns (total 31 columns):\n",
      "AKI_CATEGORY2               74275 non-null object\n",
      "ARDS                        74275 non-null object\n",
      "ABX                         74275 non-null int64\n",
      "BETA_BLOCKER                74275 non-null int64\n",
      "CRYST_RES_VOL_CATEGORY      74275 non-null object\n",
      "DIURETIC                    74275 non-null int64\n",
      "GIDX_BLEEDING               74275 non-null int64\n",
      "GLYCEMIA                    74275 non-null object\n",
      "HE                          74275 non-null int64\n",
      "HRS                         74275 non-null int64\n",
      "LVP                         74275 non-null int64\n",
      "SBP                         74275 non-null int64\n",
      "SEPSIS                      74275 non-null int64\n",
      "STEROIDS                    74275 non-null int64\n",
      "TIME_TO_ALB_CATEGORY_LOS    74275 non-null object\n",
      "VENTILATION                 74275 non-null int64\n",
      "VASOPRESSOR                 74275 non-null int64\n",
      "ADMISSION_TYPE_GROUP        74275 non-null object\n",
      "AGE_GROUP                   74275 non-null object\n",
      "BED_SIZE                    74275 non-null object\n",
      "CENSUS_REGION               74275 non-null object\n",
      "FEMALE                      74275 non-null int64\n",
      "INDEX_YEAR                  74275 non-null int64\n",
      "PAYER_GROUP                 74275 non-null object\n",
      "RACE_GROUP                  74275 non-null object\n",
      "TEACHING_FACILITY           74275 non-null object\n",
      "RURAL                       74275 non-null int64\n",
      "ELIXHAUSER_INDEX            74275 non-null float64\n",
      "MELD_Na                     74275 non-null float64\n",
      "DISCHARGE_CATEGORY          74275 non-null object\n",
      "LONG_LOS_DAYS               74275 non-null int64\n",
      "dtypes: float64(2), int64(16), object(13)\n",
      "memory usage: 18.1+ MB\n"
     ]
    }
   ],
   "source": [
    "# delete missing values\n",
    "Cirrhosis_LOS3 = Cirrhosis_LOS2.dropna()\n",
    "Cirrhosis_LOS3.info()"
   ]
  },
  {
   "cell_type": "markdown",
   "metadata": {
    "heading_collapsed": true,
    "hidden": true
   },
   "source": [
    "## Encode Categorical Features"
   ]
  },
  {
   "cell_type": "code",
   "execution_count": 36,
   "metadata": {
    "hidden": true
   },
   "outputs": [],
   "source": [
    "# convert feature types\n",
    "Cirrhosis_LOS3['INDEX_YEAR'] = Cirrhosis_LOS3['INDEX_YEAR'].apply(str)"
   ]
  },
  {
   "cell_type": "code",
   "execution_count": 37,
   "metadata": {
    "hidden": true
   },
   "outputs": [
    {
     "name": "stdout",
     "output_type": "stream",
     "text": [
      "<class 'pandas.core.frame.DataFrame'>\n",
      "Int64Index: 74275 entries, 326305398 to 283396498\n",
      "Data columns (total 81 columns):\n",
      "ABX                                                 74275 non-null int64\n",
      "BETA_BLOCKER                                        74275 non-null int64\n",
      "DIURETIC                                            74275 non-null int64\n",
      "GIDX_BLEEDING                                       74275 non-null int64\n",
      "HE                                                  74275 non-null int64\n",
      "HRS                                                 74275 non-null int64\n",
      "LVP                                                 74275 non-null int64\n",
      "SBP                                                 74275 non-null int64\n",
      "SEPSIS                                              74275 non-null int64\n",
      "STEROIDS                                            74275 non-null int64\n",
      "VENTILATION                                         74275 non-null int64\n",
      "VASOPRESSOR                                         74275 non-null int64\n",
      "FEMALE                                              74275 non-null int64\n",
      "RURAL                                               74275 non-null int64\n",
      "ELIXHAUSER_INDEX                                    74275 non-null float64\n",
      "MELD_Na                                             74275 non-null float64\n",
      "LONG_LOS_DAYS                                       74275 non-null int64\n",
      "AKI_CATEGORY2_MILD                                  74275 non-null uint8\n",
      "AKI_CATEGORY2_NONE                                  74275 non-null uint8\n",
      "AKI_CATEGORY2_SEVERE                                74275 non-null uint8\n",
      "ARDS_MILD ARDS                                      74275 non-null uint8\n",
      "ARDS_MODERATE ARDS                                  74275 non-null uint8\n",
      "ARDS_NONE                                           74275 non-null uint8\n",
      "ARDS_SEVERE ARDS                                    74275 non-null uint8\n",
      "CRYST_RES_VOL_CATEGORY_(0, 500]                     74275 non-null uint8\n",
      "CRYST_RES_VOL_CATEGORY_(500, 1250]                  74275 non-null uint8\n",
      "CRYST_RES_VOL_CATEGORY_>1250                        74275 non-null uint8\n",
      "CRYST_RES_VOL_CATEGORY_NONE                         74275 non-null uint8\n",
      "GLYCEMIA_BOTH                                       74275 non-null uint8\n",
      "GLYCEMIA_HYPERGLYCEMIA                              74275 non-null uint8\n",
      "GLYCEMIA_HYPOGLYCEMIA                               74275 non-null uint8\n",
      "GLYCEMIA_NEITHER                                    74275 non-null uint8\n",
      "TIME_TO_ALB_CATEGORY_LOS_(0, 24]                    74275 non-null uint8\n",
      "TIME_TO_ALB_CATEGORY_LOS_>24                        74275 non-null uint8\n",
      "TIME_TO_ALB_CATEGORY_LOS_NONE                       74275 non-null uint8\n",
      "ADMISSION_TYPE_GROUP_Elective                       74275 non-null uint8\n",
      "ADMISSION_TYPE_GROUP_Emergency                      74275 non-null uint8\n",
      "ADMISSION_TYPE_GROUP_Urgent                         74275 non-null uint8\n",
      "AGE_GROUP_18-29                                     74275 non-null uint8\n",
      "AGE_GROUP_30-49                                     74275 non-null uint8\n",
      "AGE_GROUP_50-64                                     74275 non-null uint8\n",
      "AGE_GROUP_65+                                       74275 non-null uint8\n",
      "BED_SIZE_0-99                                       74275 non-null uint8\n",
      "BED_SIZE_100-199                                    74275 non-null uint8\n",
      "BED_SIZE_200-299                                    74275 non-null uint8\n",
      "BED_SIZE_300-499                                    74275 non-null uint8\n",
      "BED_SIZE_500+                                       74275 non-null uint8\n",
      "CENSUS_REGION_Midwest                               74275 non-null uint8\n",
      "CENSUS_REGION_Northeast                             74275 non-null uint8\n",
      "CENSUS_REGION_South                                 74275 non-null uint8\n",
      "CENSUS_REGION_West                                  74275 non-null uint8\n",
      "INDEX_YEAR_2009                                     74275 non-null uint8\n",
      "INDEX_YEAR_2010                                     74275 non-null uint8\n",
      "INDEX_YEAR_2011                                     74275 non-null uint8\n",
      "INDEX_YEAR_2012                                     74275 non-null uint8\n",
      "INDEX_YEAR_2013                                     74275 non-null uint8\n",
      "INDEX_YEAR_2014                                     74275 non-null uint8\n",
      "INDEX_YEAR_2015                                     74275 non-null uint8\n",
      "INDEX_YEAR_2016                                     74275 non-null uint8\n",
      "PAYER_GROUP_Commercial                              74275 non-null uint8\n",
      "PAYER_GROUP_Medicaid                                74275 non-null uint8\n",
      "PAYER_GROUP_Medicare                                74275 non-null uint8\n",
      "PAYER_GROUP_Null or Exclude                         74275 non-null uint8\n",
      "PAYER_GROUP_Oth. Govt. or Mil.                      74275 non-null uint8\n",
      "PAYER_GROUP_Oth. NGO or Work Comp.                  74275 non-null uint8\n",
      "PAYER_GROUP_Self                                    74275 non-null uint8\n",
      "RACE_GROUP_African American                         74275 non-null uint8\n",
      "RACE_GROUP_Asian/Pacific Islander                   74275 non-null uint8\n",
      "RACE_GROUP_Caucasian                                74275 non-null uint8\n",
      "RACE_GROUP_Hispanic                                 74275 non-null uint8\n",
      "RACE_GROUP_Not Specified                            74275 non-null uint8\n",
      "RACE_GROUP_Other                                    74275 non-null uint8\n",
      "TEACHING_FACILITY_No                                74275 non-null uint8\n",
      "TEACHING_FACILITY_Not Specified                     74275 non-null uint8\n",
      "TEACHING_FACILITY_Yes                               74275 non-null uint8\n",
      "DISCHARGE_CATEGORY_HOME                             74275 non-null uint8\n",
      "DISCHARGE_CATEGORY_HOSPICE                          74275 non-null uint8\n",
      "DISCHARGE_CATEGORY_INPATIENT HOSPITAL               74275 non-null uint8\n",
      "DISCHARGE_CATEGORY_NOT SPECIFIED                    74275 non-null uint8\n",
      "DISCHARGE_CATEGORY_OTHER POST-ACUTE CARE SETTING    74275 non-null uint8\n",
      "DISCHARGE_CATEGORY_SNF                              74275 non-null uint8\n",
      "dtypes: float64(2), int64(15), uint8(64)\n",
      "memory usage: 14.7 MB\n"
     ]
    }
   ],
   "source": [
    "# encode categorical features\n",
    "Cirrhosis_LOS4 = pd.get_dummies(Cirrhosis_LOS3)\n",
    "Cirrhosis_LOS4.info()"
   ]
  },
  {
   "cell_type": "code",
   "execution_count": 39,
   "metadata": {
    "hidden": true
   },
   "outputs": [
    {
     "name": "stdout",
     "output_type": "stream",
     "text": [
      "<class 'pandas.core.frame.DataFrame'>\n",
      "Int64Index: 74275 entries, 326305398 to 283396498\n",
      "Data columns (total 67 columns):\n",
      "ABX                                                 74275 non-null int64\n",
      "BETA_BLOCKER                                        74275 non-null int64\n",
      "DIURETIC                                            74275 non-null int64\n",
      "GIDX_BLEEDING                                       74275 non-null int64\n",
      "HE                                                  74275 non-null int64\n",
      "HRS                                                 74275 non-null int64\n",
      "LVP                                                 74275 non-null int64\n",
      "SBP                                                 74275 non-null int64\n",
      "SEPSIS                                              74275 non-null int64\n",
      "STEROIDS                                            74275 non-null int64\n",
      "VENTILATION                                         74275 non-null int64\n",
      "VASOPRESSOR                                         74275 non-null int64\n",
      "FEMALE                                              74275 non-null int64\n",
      "RURAL                                               74275 non-null int64\n",
      "ELIXHAUSER_INDEX                                    74275 non-null float64\n",
      "MELD_Na                                             74275 non-null float64\n",
      "LONG_LOS_DAYS                                       74275 non-null int64\n",
      "AKI_CATEGORY2_MILD                                  74275 non-null uint8\n",
      "AKI_CATEGORY2_SEVERE                                74275 non-null uint8\n",
      "ARDS_MILD ARDS                                      74275 non-null uint8\n",
      "ARDS_MODERATE ARDS                                  74275 non-null uint8\n",
      "ARDS_SEVERE ARDS                                    74275 non-null uint8\n",
      "CRYST_RES_VOL_CATEGORY_(0, 500]                     74275 non-null uint8\n",
      "CRYST_RES_VOL_CATEGORY_(500, 1250]                  74275 non-null uint8\n",
      "CRYST_RES_VOL_CATEGORY_NONE                         74275 non-null uint8\n",
      "GLYCEMIA_BOTH                                       74275 non-null uint8\n",
      "GLYCEMIA_HYPERGLYCEMIA                              74275 non-null uint8\n",
      "GLYCEMIA_HYPOGLYCEMIA                               74275 non-null uint8\n",
      "TIME_TO_ALB_CATEGORY_LOS_(0, 24]                    74275 non-null uint8\n",
      "TIME_TO_ALB_CATEGORY_LOS_>24                        74275 non-null uint8\n",
      "ADMISSION_TYPE_GROUP_Elective                       74275 non-null uint8\n",
      "ADMISSION_TYPE_GROUP_Urgent                         74275 non-null uint8\n",
      "AGE_GROUP_30-49                                     74275 non-null uint8\n",
      "AGE_GROUP_50-64                                     74275 non-null uint8\n",
      "AGE_GROUP_65+                                       74275 non-null uint8\n",
      "BED_SIZE_100-199                                    74275 non-null uint8\n",
      "BED_SIZE_200-299                                    74275 non-null uint8\n",
      "BED_SIZE_300-499                                    74275 non-null uint8\n",
      "BED_SIZE_500+                                       74275 non-null uint8\n",
      "CENSUS_REGION_Midwest                               74275 non-null uint8\n",
      "CENSUS_REGION_Northeast                             74275 non-null uint8\n",
      "CENSUS_REGION_West                                  74275 non-null uint8\n",
      "INDEX_YEAR_2009                                     74275 non-null uint8\n",
      "INDEX_YEAR_2010                                     74275 non-null uint8\n",
      "INDEX_YEAR_2011                                     74275 non-null uint8\n",
      "INDEX_YEAR_2012                                     74275 non-null uint8\n",
      "INDEX_YEAR_2013                                     74275 non-null uint8\n",
      "INDEX_YEAR_2014                                     74275 non-null uint8\n",
      "INDEX_YEAR_2015                                     74275 non-null uint8\n",
      "PAYER_GROUP_Medicaid                                74275 non-null uint8\n",
      "PAYER_GROUP_Medicare                                74275 non-null uint8\n",
      "PAYER_GROUP_Null or Exclude                         74275 non-null uint8\n",
      "PAYER_GROUP_Oth. Govt. or Mil.                      74275 non-null uint8\n",
      "PAYER_GROUP_Oth. NGO or Work Comp.                  74275 non-null uint8\n",
      "PAYER_GROUP_Self                                    74275 non-null uint8\n",
      "RACE_GROUP_African American                         74275 non-null uint8\n",
      "RACE_GROUP_Asian/Pacific Islander                   74275 non-null uint8\n",
      "RACE_GROUP_Hispanic                                 74275 non-null uint8\n",
      "RACE_GROUP_Not Specified                            74275 non-null uint8\n",
      "RACE_GROUP_Other                                    74275 non-null uint8\n",
      "TEACHING_FACILITY_Not Specified                     74275 non-null uint8\n",
      "TEACHING_FACILITY_Yes                               74275 non-null uint8\n",
      "DISCHARGE_CATEGORY_HOSPICE                          74275 non-null uint8\n",
      "DISCHARGE_CATEGORY_INPATIENT HOSPITAL               74275 non-null uint8\n",
      "DISCHARGE_CATEGORY_NOT SPECIFIED                    74275 non-null uint8\n",
      "DISCHARGE_CATEGORY_OTHER POST-ACUTE CARE SETTING    74275 non-null uint8\n",
      "DISCHARGE_CATEGORY_SNF                              74275 non-null uint8\n",
      "dtypes: float64(2), int64(15), uint8(50)\n",
      "memory usage: 13.7 MB\n"
     ]
    }
   ],
   "source": [
    "# drop one level to avoid collinearity\n",
    "variables_to_drop = ['AKI_CATEGORY2_NONE', \n",
    "                     'ARDS_NONE', \n",
    "                     'CRYST_RES_VOL_CATEGORY_>1250', \n",
    "                     'GLYCEMIA_NEITHER', \n",
    "                     'TIME_TO_ALB_CATEGORY_LOS_NONE', \n",
    "                     'ADMISSION_TYPE_GROUP_Emergency', \n",
    "                     'AGE_GROUP_18-29', \n",
    "                     'BED_SIZE_0-99', \n",
    "                     'CENSUS_REGION_South', \n",
    "                     'INDEX_YEAR_2016',\n",
    "                     'PAYER_GROUP_Commercial', \n",
    "                     'RACE_GROUP_Caucasian', \n",
    "                     'TEACHING_FACILITY_No',\n",
    "                     'DISCHARGE_CATEGORY_HOME']\n",
    "Cirrhosis_LOS5 = Cirrhosis_LOS4.drop(variables_to_drop, axis = 1)\n",
    "Cirrhosis_LOS5.info()"
   ]
  },
  {
   "cell_type": "markdown",
   "metadata": {
    "heading_collapsed": true,
    "hidden": true
   },
   "source": [
    "## Seperate Features and Targets"
   ]
  },
  {
   "cell_type": "code",
   "execution_count": 40,
   "metadata": {
    "hidden": true
   },
   "outputs": [
    {
     "data": {
      "text/plain": [
       "0    55984\n",
       "1    18291\n",
       "Name: LONG_LOS_DAYS, dtype: int64"
      ]
     },
     "execution_count": 40,
     "metadata": {},
     "output_type": "execute_result"
    }
   ],
   "source": [
    "# create the target vector\n",
    "y = Cirrhosis_LOS5.iloc[:, Cirrhosis_LOS5.columns == 'LONG_LOS_DAYS']\n",
    "y['LONG_LOS_DAYS'].value_counts()"
   ]
  },
  {
   "cell_type": "code",
   "execution_count": 41,
   "metadata": {
    "hidden": true
   },
   "outputs": [
    {
     "data": {
      "text/plain": [
       "0    0.753739\n",
       "1    0.246261\n",
       "Name: LONG_LOS_DAYS, dtype: float64"
      ]
     },
     "execution_count": 41,
     "metadata": {},
     "output_type": "execute_result"
    }
   ],
   "source": [
    "y['LONG_LOS_DAYS'].value_counts(normalize = True)"
   ]
  },
  {
   "cell_type": "code",
   "execution_count": 42,
   "metadata": {
    "hidden": true
   },
   "outputs": [
    {
     "data": {
      "text/html": [
       "<div>\n",
       "<style scoped>\n",
       "    .dataframe tbody tr th:only-of-type {\n",
       "        vertical-align: middle;\n",
       "    }\n",
       "\n",
       "    .dataframe tbody tr th {\n",
       "        vertical-align: top;\n",
       "    }\n",
       "\n",
       "    .dataframe thead th {\n",
       "        text-align: right;\n",
       "    }\n",
       "</style>\n",
       "<table border=\"1\" class=\"dataframe\">\n",
       "  <thead>\n",
       "    <tr style=\"text-align: right;\">\n",
       "      <th></th>\n",
       "      <th>count</th>\n",
       "      <th>mean</th>\n",
       "      <th>std</th>\n",
       "      <th>min</th>\n",
       "      <th>25%</th>\n",
       "      <th>50%</th>\n",
       "      <th>75%</th>\n",
       "      <th>max</th>\n",
       "    </tr>\n",
       "  </thead>\n",
       "  <tbody>\n",
       "    <tr>\n",
       "      <th>ABX</th>\n",
       "      <td>74275.0</td>\n",
       "      <td>0.598492</td>\n",
       "      <td>0.490207</td>\n",
       "      <td>0.0</td>\n",
       "      <td>0.0</td>\n",
       "      <td>1.000</td>\n",
       "      <td>1.0</td>\n",
       "      <td>1.0</td>\n",
       "    </tr>\n",
       "    <tr>\n",
       "      <th>BETA_BLOCKER</th>\n",
       "      <td>74275.0</td>\n",
       "      <td>0.171188</td>\n",
       "      <td>0.376676</td>\n",
       "      <td>0.0</td>\n",
       "      <td>0.0</td>\n",
       "      <td>0.000</td>\n",
       "      <td>0.0</td>\n",
       "      <td>1.0</td>\n",
       "    </tr>\n",
       "    <tr>\n",
       "      <th>DIURETIC</th>\n",
       "      <td>74275.0</td>\n",
       "      <td>0.431316</td>\n",
       "      <td>0.495263</td>\n",
       "      <td>0.0</td>\n",
       "      <td>0.0</td>\n",
       "      <td>0.000</td>\n",
       "      <td>1.0</td>\n",
       "      <td>1.0</td>\n",
       "    </tr>\n",
       "    <tr>\n",
       "      <th>GIDX_BLEEDING</th>\n",
       "      <td>74275.0</td>\n",
       "      <td>0.137166</td>\n",
       "      <td>0.344025</td>\n",
       "      <td>0.0</td>\n",
       "      <td>0.0</td>\n",
       "      <td>0.000</td>\n",
       "      <td>0.0</td>\n",
       "      <td>1.0</td>\n",
       "    </tr>\n",
       "    <tr>\n",
       "      <th>HE</th>\n",
       "      <td>74275.0</td>\n",
       "      <td>0.180061</td>\n",
       "      <td>0.384240</td>\n",
       "      <td>0.0</td>\n",
       "      <td>0.0</td>\n",
       "      <td>0.000</td>\n",
       "      <td>0.0</td>\n",
       "      <td>1.0</td>\n",
       "    </tr>\n",
       "    <tr>\n",
       "      <th>HRS</th>\n",
       "      <td>74275.0</td>\n",
       "      <td>0.034574</td>\n",
       "      <td>0.182700</td>\n",
       "      <td>0.0</td>\n",
       "      <td>0.0</td>\n",
       "      <td>0.000</td>\n",
       "      <td>0.0</td>\n",
       "      <td>1.0</td>\n",
       "    </tr>\n",
       "    <tr>\n",
       "      <th>LVP</th>\n",
       "      <td>74275.0</td>\n",
       "      <td>0.257556</td>\n",
       "      <td>0.437291</td>\n",
       "      <td>0.0</td>\n",
       "      <td>0.0</td>\n",
       "      <td>0.000</td>\n",
       "      <td>1.0</td>\n",
       "      <td>1.0</td>\n",
       "    </tr>\n",
       "    <tr>\n",
       "      <th>SBP</th>\n",
       "      <td>74275.0</td>\n",
       "      <td>0.032151</td>\n",
       "      <td>0.176402</td>\n",
       "      <td>0.0</td>\n",
       "      <td>0.0</td>\n",
       "      <td>0.000</td>\n",
       "      <td>0.0</td>\n",
       "      <td>1.0</td>\n",
       "    </tr>\n",
       "    <tr>\n",
       "      <th>SEPSIS</th>\n",
       "      <td>74275.0</td>\n",
       "      <td>0.071262</td>\n",
       "      <td>0.257264</td>\n",
       "      <td>0.0</td>\n",
       "      <td>0.0</td>\n",
       "      <td>0.000</td>\n",
       "      <td>0.0</td>\n",
       "      <td>1.0</td>\n",
       "    </tr>\n",
       "    <tr>\n",
       "      <th>STEROIDS</th>\n",
       "      <td>74275.0</td>\n",
       "      <td>0.125520</td>\n",
       "      <td>0.331310</td>\n",
       "      <td>0.0</td>\n",
       "      <td>0.0</td>\n",
       "      <td>0.000</td>\n",
       "      <td>0.0</td>\n",
       "      <td>1.0</td>\n",
       "    </tr>\n",
       "    <tr>\n",
       "      <th>VENTILATION</th>\n",
       "      <td>74275.0</td>\n",
       "      <td>0.068866</td>\n",
       "      <td>0.253227</td>\n",
       "      <td>0.0</td>\n",
       "      <td>0.0</td>\n",
       "      <td>0.000</td>\n",
       "      <td>0.0</td>\n",
       "      <td>1.0</td>\n",
       "    </tr>\n",
       "    <tr>\n",
       "      <th>VASOPRESSOR</th>\n",
       "      <td>74275.0</td>\n",
       "      <td>0.137906</td>\n",
       "      <td>0.344804</td>\n",
       "      <td>0.0</td>\n",
       "      <td>0.0</td>\n",
       "      <td>0.000</td>\n",
       "      <td>0.0</td>\n",
       "      <td>1.0</td>\n",
       "    </tr>\n",
       "    <tr>\n",
       "      <th>FEMALE</th>\n",
       "      <td>74275.0</td>\n",
       "      <td>0.446395</td>\n",
       "      <td>0.497122</td>\n",
       "      <td>0.0</td>\n",
       "      <td>0.0</td>\n",
       "      <td>0.000</td>\n",
       "      <td>1.0</td>\n",
       "      <td>1.0</td>\n",
       "    </tr>\n",
       "    <tr>\n",
       "      <th>RURAL</th>\n",
       "      <td>74275.0</td>\n",
       "      <td>0.196971</td>\n",
       "      <td>0.397713</td>\n",
       "      <td>0.0</td>\n",
       "      <td>0.0</td>\n",
       "      <td>0.000</td>\n",
       "      <td>0.0</td>\n",
       "      <td>1.0</td>\n",
       "    </tr>\n",
       "    <tr>\n",
       "      <th>ELIXHAUSER_INDEX</th>\n",
       "      <td>74275.0</td>\n",
       "      <td>16.723783</td>\n",
       "      <td>10.495290</td>\n",
       "      <td>-16.0</td>\n",
       "      <td>10.0</td>\n",
       "      <td>16.000</td>\n",
       "      <td>23.0</td>\n",
       "      <td>69.0</td>\n",
       "    </tr>\n",
       "    <tr>\n",
       "      <th>MELD_Na</th>\n",
       "      <td>74275.0</td>\n",
       "      <td>15.305910</td>\n",
       "      <td>8.163881</td>\n",
       "      <td>6.0</td>\n",
       "      <td>8.0</td>\n",
       "      <td>13.848</td>\n",
       "      <td>21.0</td>\n",
       "      <td>67.0</td>\n",
       "    </tr>\n",
       "    <tr>\n",
       "      <th>AKI_CATEGORY2_MILD</th>\n",
       "      <td>74275.0</td>\n",
       "      <td>0.170932</td>\n",
       "      <td>0.376452</td>\n",
       "      <td>0.0</td>\n",
       "      <td>0.0</td>\n",
       "      <td>0.000</td>\n",
       "      <td>0.0</td>\n",
       "      <td>1.0</td>\n",
       "    </tr>\n",
       "    <tr>\n",
       "      <th>AKI_CATEGORY2_SEVERE</th>\n",
       "      <td>74275.0</td>\n",
       "      <td>0.096385</td>\n",
       "      <td>0.295121</td>\n",
       "      <td>0.0</td>\n",
       "      <td>0.0</td>\n",
       "      <td>0.000</td>\n",
       "      <td>0.0</td>\n",
       "      <td>1.0</td>\n",
       "    </tr>\n",
       "    <tr>\n",
       "      <th>ARDS_MILD ARDS</th>\n",
       "      <td>74275.0</td>\n",
       "      <td>0.023332</td>\n",
       "      <td>0.150957</td>\n",
       "      <td>0.0</td>\n",
       "      <td>0.0</td>\n",
       "      <td>0.000</td>\n",
       "      <td>0.0</td>\n",
       "      <td>1.0</td>\n",
       "    </tr>\n",
       "    <tr>\n",
       "      <th>ARDS_MODERATE ARDS</th>\n",
       "      <td>74275.0</td>\n",
       "      <td>0.029633</td>\n",
       "      <td>0.169574</td>\n",
       "      <td>0.0</td>\n",
       "      <td>0.0</td>\n",
       "      <td>0.000</td>\n",
       "      <td>0.0</td>\n",
       "      <td>1.0</td>\n",
       "    </tr>\n",
       "    <tr>\n",
       "      <th>ARDS_SEVERE ARDS</th>\n",
       "      <td>74275.0</td>\n",
       "      <td>0.017395</td>\n",
       "      <td>0.130738</td>\n",
       "      <td>0.0</td>\n",
       "      <td>0.0</td>\n",
       "      <td>0.000</td>\n",
       "      <td>0.0</td>\n",
       "      <td>1.0</td>\n",
       "    </tr>\n",
       "    <tr>\n",
       "      <th>CRYST_RES_VOL_CATEGORY_(0, 500]</th>\n",
       "      <td>74275.0</td>\n",
       "      <td>0.287391</td>\n",
       "      <td>0.452549</td>\n",
       "      <td>0.0</td>\n",
       "      <td>0.0</td>\n",
       "      <td>0.000</td>\n",
       "      <td>1.0</td>\n",
       "      <td>1.0</td>\n",
       "    </tr>\n",
       "    <tr>\n",
       "      <th>CRYST_RES_VOL_CATEGORY_(500, 1250]</th>\n",
       "      <td>74275.0</td>\n",
       "      <td>0.403689</td>\n",
       "      <td>0.490640</td>\n",
       "      <td>0.0</td>\n",
       "      <td>0.0</td>\n",
       "      <td>0.000</td>\n",
       "      <td>1.0</td>\n",
       "      <td>1.0</td>\n",
       "    </tr>\n",
       "    <tr>\n",
       "      <th>CRYST_RES_VOL_CATEGORY_NONE</th>\n",
       "      <td>74275.0</td>\n",
       "      <td>0.150347</td>\n",
       "      <td>0.357413</td>\n",
       "      <td>0.0</td>\n",
       "      <td>0.0</td>\n",
       "      <td>0.000</td>\n",
       "      <td>0.0</td>\n",
       "      <td>1.0</td>\n",
       "    </tr>\n",
       "    <tr>\n",
       "      <th>GLYCEMIA_BOTH</th>\n",
       "      <td>74275.0</td>\n",
       "      <td>0.072124</td>\n",
       "      <td>0.258695</td>\n",
       "      <td>0.0</td>\n",
       "      <td>0.0</td>\n",
       "      <td>0.000</td>\n",
       "      <td>0.0</td>\n",
       "      <td>1.0</td>\n",
       "    </tr>\n",
       "    <tr>\n",
       "      <th>GLYCEMIA_HYPERGLYCEMIA</th>\n",
       "      <td>74275.0</td>\n",
       "      <td>0.306913</td>\n",
       "      <td>0.461216</td>\n",
       "      <td>0.0</td>\n",
       "      <td>0.0</td>\n",
       "      <td>0.000</td>\n",
       "      <td>1.0</td>\n",
       "      <td>1.0</td>\n",
       "    </tr>\n",
       "    <tr>\n",
       "      <th>GLYCEMIA_HYPOGLYCEMIA</th>\n",
       "      <td>74275.0</td>\n",
       "      <td>0.028866</td>\n",
       "      <td>0.167430</td>\n",
       "      <td>0.0</td>\n",
       "      <td>0.0</td>\n",
       "      <td>0.000</td>\n",
       "      <td>0.0</td>\n",
       "      <td>1.0</td>\n",
       "    </tr>\n",
       "    <tr>\n",
       "      <th>TIME_TO_ALB_CATEGORY_LOS_(0, 24]</th>\n",
       "      <td>74275.0</td>\n",
       "      <td>0.142390</td>\n",
       "      <td>0.349452</td>\n",
       "      <td>0.0</td>\n",
       "      <td>0.0</td>\n",
       "      <td>0.000</td>\n",
       "      <td>0.0</td>\n",
       "      <td>1.0</td>\n",
       "    </tr>\n",
       "    <tr>\n",
       "      <th>TIME_TO_ALB_CATEGORY_LOS_&gt;24</th>\n",
       "      <td>74275.0</td>\n",
       "      <td>0.139616</td>\n",
       "      <td>0.346591</td>\n",
       "      <td>0.0</td>\n",
       "      <td>0.0</td>\n",
       "      <td>0.000</td>\n",
       "      <td>0.0</td>\n",
       "      <td>1.0</td>\n",
       "    </tr>\n",
       "    <tr>\n",
       "      <th>ADMISSION_TYPE_GROUP_Elective</th>\n",
       "      <td>74275.0</td>\n",
       "      <td>0.090730</td>\n",
       "      <td>0.287227</td>\n",
       "      <td>0.0</td>\n",
       "      <td>0.0</td>\n",
       "      <td>0.000</td>\n",
       "      <td>0.0</td>\n",
       "      <td>1.0</td>\n",
       "    </tr>\n",
       "    <tr>\n",
       "      <th>...</th>\n",
       "      <td>...</td>\n",
       "      <td>...</td>\n",
       "      <td>...</td>\n",
       "      <td>...</td>\n",
       "      <td>...</td>\n",
       "      <td>...</td>\n",
       "      <td>...</td>\n",
       "      <td>...</td>\n",
       "    </tr>\n",
       "    <tr>\n",
       "      <th>BED_SIZE_300-499</th>\n",
       "      <td>74275.0</td>\n",
       "      <td>0.301892</td>\n",
       "      <td>0.459082</td>\n",
       "      <td>0.0</td>\n",
       "      <td>0.0</td>\n",
       "      <td>0.000</td>\n",
       "      <td>1.0</td>\n",
       "      <td>1.0</td>\n",
       "    </tr>\n",
       "    <tr>\n",
       "      <th>BED_SIZE_500+</th>\n",
       "      <td>74275.0</td>\n",
       "      <td>0.304207</td>\n",
       "      <td>0.460074</td>\n",
       "      <td>0.0</td>\n",
       "      <td>0.0</td>\n",
       "      <td>0.000</td>\n",
       "      <td>1.0</td>\n",
       "      <td>1.0</td>\n",
       "    </tr>\n",
       "    <tr>\n",
       "      <th>CENSUS_REGION_Midwest</th>\n",
       "      <td>74275.0</td>\n",
       "      <td>0.191006</td>\n",
       "      <td>0.393097</td>\n",
       "      <td>0.0</td>\n",
       "      <td>0.0</td>\n",
       "      <td>0.000</td>\n",
       "      <td>0.0</td>\n",
       "      <td>1.0</td>\n",
       "    </tr>\n",
       "    <tr>\n",
       "      <th>CENSUS_REGION_Northeast</th>\n",
       "      <td>74275.0</td>\n",
       "      <td>0.263750</td>\n",
       "      <td>0.440668</td>\n",
       "      <td>0.0</td>\n",
       "      <td>0.0</td>\n",
       "      <td>0.000</td>\n",
       "      <td>1.0</td>\n",
       "      <td>1.0</td>\n",
       "    </tr>\n",
       "    <tr>\n",
       "      <th>CENSUS_REGION_West</th>\n",
       "      <td>74275.0</td>\n",
       "      <td>0.128213</td>\n",
       "      <td>0.334329</td>\n",
       "      <td>0.0</td>\n",
       "      <td>0.0</td>\n",
       "      <td>0.000</td>\n",
       "      <td>0.0</td>\n",
       "      <td>1.0</td>\n",
       "    </tr>\n",
       "    <tr>\n",
       "      <th>INDEX_YEAR_2009</th>\n",
       "      <td>74275.0</td>\n",
       "      <td>0.041037</td>\n",
       "      <td>0.198376</td>\n",
       "      <td>0.0</td>\n",
       "      <td>0.0</td>\n",
       "      <td>0.000</td>\n",
       "      <td>0.0</td>\n",
       "      <td>1.0</td>\n",
       "    </tr>\n",
       "    <tr>\n",
       "      <th>INDEX_YEAR_2010</th>\n",
       "      <td>74275.0</td>\n",
       "      <td>0.059064</td>\n",
       "      <td>0.235747</td>\n",
       "      <td>0.0</td>\n",
       "      <td>0.0</td>\n",
       "      <td>0.000</td>\n",
       "      <td>0.0</td>\n",
       "      <td>1.0</td>\n",
       "    </tr>\n",
       "    <tr>\n",
       "      <th>INDEX_YEAR_2011</th>\n",
       "      <td>74275.0</td>\n",
       "      <td>0.073713</td>\n",
       "      <td>0.261304</td>\n",
       "      <td>0.0</td>\n",
       "      <td>0.0</td>\n",
       "      <td>0.000</td>\n",
       "      <td>0.0</td>\n",
       "      <td>1.0</td>\n",
       "    </tr>\n",
       "    <tr>\n",
       "      <th>INDEX_YEAR_2012</th>\n",
       "      <td>74275.0</td>\n",
       "      <td>0.091417</td>\n",
       "      <td>0.288203</td>\n",
       "      <td>0.0</td>\n",
       "      <td>0.0</td>\n",
       "      <td>0.000</td>\n",
       "      <td>0.0</td>\n",
       "      <td>1.0</td>\n",
       "    </tr>\n",
       "    <tr>\n",
       "      <th>INDEX_YEAR_2013</th>\n",
       "      <td>74275.0</td>\n",
       "      <td>0.141717</td>\n",
       "      <td>0.348762</td>\n",
       "      <td>0.0</td>\n",
       "      <td>0.0</td>\n",
       "      <td>0.000</td>\n",
       "      <td>0.0</td>\n",
       "      <td>1.0</td>\n",
       "    </tr>\n",
       "    <tr>\n",
       "      <th>INDEX_YEAR_2014</th>\n",
       "      <td>74275.0</td>\n",
       "      <td>0.198519</td>\n",
       "      <td>0.398888</td>\n",
       "      <td>0.0</td>\n",
       "      <td>0.0</td>\n",
       "      <td>0.000</td>\n",
       "      <td>0.0</td>\n",
       "      <td>1.0</td>\n",
       "    </tr>\n",
       "    <tr>\n",
       "      <th>INDEX_YEAR_2015</th>\n",
       "      <td>74275.0</td>\n",
       "      <td>0.190118</td>\n",
       "      <td>0.392397</td>\n",
       "      <td>0.0</td>\n",
       "      <td>0.0</td>\n",
       "      <td>0.000</td>\n",
       "      <td>0.0</td>\n",
       "      <td>1.0</td>\n",
       "    </tr>\n",
       "    <tr>\n",
       "      <th>PAYER_GROUP_Medicaid</th>\n",
       "      <td>74275.0</td>\n",
       "      <td>0.173423</td>\n",
       "      <td>0.378615</td>\n",
       "      <td>0.0</td>\n",
       "      <td>0.0</td>\n",
       "      <td>0.000</td>\n",
       "      <td>0.0</td>\n",
       "      <td>1.0</td>\n",
       "    </tr>\n",
       "    <tr>\n",
       "      <th>PAYER_GROUP_Medicare</th>\n",
       "      <td>74275.0</td>\n",
       "      <td>0.375173</td>\n",
       "      <td>0.484171</td>\n",
       "      <td>0.0</td>\n",
       "      <td>0.0</td>\n",
       "      <td>0.000</td>\n",
       "      <td>1.0</td>\n",
       "      <td>1.0</td>\n",
       "    </tr>\n",
       "    <tr>\n",
       "      <th>PAYER_GROUP_Null or Exclude</th>\n",
       "      <td>74275.0</td>\n",
       "      <td>0.134446</td>\n",
       "      <td>0.341134</td>\n",
       "      <td>0.0</td>\n",
       "      <td>0.0</td>\n",
       "      <td>0.000</td>\n",
       "      <td>0.0</td>\n",
       "      <td>1.0</td>\n",
       "    </tr>\n",
       "    <tr>\n",
       "      <th>PAYER_GROUP_Oth. Govt. or Mil.</th>\n",
       "      <td>74275.0</td>\n",
       "      <td>0.025567</td>\n",
       "      <td>0.157841</td>\n",
       "      <td>0.0</td>\n",
       "      <td>0.0</td>\n",
       "      <td>0.000</td>\n",
       "      <td>0.0</td>\n",
       "      <td>1.0</td>\n",
       "    </tr>\n",
       "    <tr>\n",
       "      <th>PAYER_GROUP_Oth. NGO or Work Comp.</th>\n",
       "      <td>74275.0</td>\n",
       "      <td>0.014877</td>\n",
       "      <td>0.121062</td>\n",
       "      <td>0.0</td>\n",
       "      <td>0.0</td>\n",
       "      <td>0.000</td>\n",
       "      <td>0.0</td>\n",
       "      <td>1.0</td>\n",
       "    </tr>\n",
       "    <tr>\n",
       "      <th>PAYER_GROUP_Self</th>\n",
       "      <td>74275.0</td>\n",
       "      <td>0.053504</td>\n",
       "      <td>0.225038</td>\n",
       "      <td>0.0</td>\n",
       "      <td>0.0</td>\n",
       "      <td>0.000</td>\n",
       "      <td>0.0</td>\n",
       "      <td>1.0</td>\n",
       "    </tr>\n",
       "    <tr>\n",
       "      <th>RACE_GROUP_African American</th>\n",
       "      <td>74275.0</td>\n",
       "      <td>0.137368</td>\n",
       "      <td>0.344238</td>\n",
       "      <td>0.0</td>\n",
       "      <td>0.0</td>\n",
       "      <td>0.000</td>\n",
       "      <td>0.0</td>\n",
       "      <td>1.0</td>\n",
       "    </tr>\n",
       "    <tr>\n",
       "      <th>RACE_GROUP_Asian/Pacific Islander</th>\n",
       "      <td>74275.0</td>\n",
       "      <td>0.013948</td>\n",
       "      <td>0.117277</td>\n",
       "      <td>0.0</td>\n",
       "      <td>0.0</td>\n",
       "      <td>0.000</td>\n",
       "      <td>0.0</td>\n",
       "      <td>1.0</td>\n",
       "    </tr>\n",
       "    <tr>\n",
       "      <th>RACE_GROUP_Hispanic</th>\n",
       "      <td>74275.0</td>\n",
       "      <td>0.013706</td>\n",
       "      <td>0.116268</td>\n",
       "      <td>0.0</td>\n",
       "      <td>0.0</td>\n",
       "      <td>0.000</td>\n",
       "      <td>0.0</td>\n",
       "      <td>1.0</td>\n",
       "    </tr>\n",
       "    <tr>\n",
       "      <th>RACE_GROUP_Not Specified</th>\n",
       "      <td>74275.0</td>\n",
       "      <td>0.013814</td>\n",
       "      <td>0.116717</td>\n",
       "      <td>0.0</td>\n",
       "      <td>0.0</td>\n",
       "      <td>0.000</td>\n",
       "      <td>0.0</td>\n",
       "      <td>1.0</td>\n",
       "    </tr>\n",
       "    <tr>\n",
       "      <th>RACE_GROUP_Other</th>\n",
       "      <td>74275.0</td>\n",
       "      <td>0.072191</td>\n",
       "      <td>0.258806</td>\n",
       "      <td>0.0</td>\n",
       "      <td>0.0</td>\n",
       "      <td>0.000</td>\n",
       "      <td>0.0</td>\n",
       "      <td>1.0</td>\n",
       "    </tr>\n",
       "    <tr>\n",
       "      <th>TEACHING_FACILITY_Not Specified</th>\n",
       "      <td>74275.0</td>\n",
       "      <td>0.174446</td>\n",
       "      <td>0.379495</td>\n",
       "      <td>0.0</td>\n",
       "      <td>0.0</td>\n",
       "      <td>0.000</td>\n",
       "      <td>0.0</td>\n",
       "      <td>1.0</td>\n",
       "    </tr>\n",
       "    <tr>\n",
       "      <th>TEACHING_FACILITY_Yes</th>\n",
       "      <td>74275.0</td>\n",
       "      <td>0.669054</td>\n",
       "      <td>0.470557</td>\n",
       "      <td>0.0</td>\n",
       "      <td>0.0</td>\n",
       "      <td>1.000</td>\n",
       "      <td>1.0</td>\n",
       "      <td>1.0</td>\n",
       "    </tr>\n",
       "    <tr>\n",
       "      <th>DISCHARGE_CATEGORY_HOSPICE</th>\n",
       "      <td>74275.0</td>\n",
       "      <td>0.076324</td>\n",
       "      <td>0.265518</td>\n",
       "      <td>0.0</td>\n",
       "      <td>0.0</td>\n",
       "      <td>0.000</td>\n",
       "      <td>0.0</td>\n",
       "      <td>1.0</td>\n",
       "    </tr>\n",
       "    <tr>\n",
       "      <th>DISCHARGE_CATEGORY_INPATIENT HOSPITAL</th>\n",
       "      <td>74275.0</td>\n",
       "      <td>0.008994</td>\n",
       "      <td>0.094408</td>\n",
       "      <td>0.0</td>\n",
       "      <td>0.0</td>\n",
       "      <td>0.000</td>\n",
       "      <td>0.0</td>\n",
       "      <td>1.0</td>\n",
       "    </tr>\n",
       "    <tr>\n",
       "      <th>DISCHARGE_CATEGORY_NOT SPECIFIED</th>\n",
       "      <td>74275.0</td>\n",
       "      <td>0.044174</td>\n",
       "      <td>0.205482</td>\n",
       "      <td>0.0</td>\n",
       "      <td>0.0</td>\n",
       "      <td>0.000</td>\n",
       "      <td>0.0</td>\n",
       "      <td>1.0</td>\n",
       "    </tr>\n",
       "    <tr>\n",
       "      <th>DISCHARGE_CATEGORY_OTHER POST-ACUTE CARE SETTING</th>\n",
       "      <td>74275.0</td>\n",
       "      <td>0.070953</td>\n",
       "      <td>0.256747</td>\n",
       "      <td>0.0</td>\n",
       "      <td>0.0</td>\n",
       "      <td>0.000</td>\n",
       "      <td>0.0</td>\n",
       "      <td>1.0</td>\n",
       "    </tr>\n",
       "    <tr>\n",
       "      <th>DISCHARGE_CATEGORY_SNF</th>\n",
       "      <td>74275.0</td>\n",
       "      <td>0.116446</td>\n",
       "      <td>0.320761</td>\n",
       "      <td>0.0</td>\n",
       "      <td>0.0</td>\n",
       "      <td>0.000</td>\n",
       "      <td>0.0</td>\n",
       "      <td>1.0</td>\n",
       "    </tr>\n",
       "  </tbody>\n",
       "</table>\n",
       "<p>66 rows × 8 columns</p>\n",
       "</div>"
      ],
      "text/plain": [
       "                                                    count       mean  \\\n",
       "ABX                                               74275.0   0.598492   \n",
       "BETA_BLOCKER                                      74275.0   0.171188   \n",
       "DIURETIC                                          74275.0   0.431316   \n",
       "GIDX_BLEEDING                                     74275.0   0.137166   \n",
       "HE                                                74275.0   0.180061   \n",
       "HRS                                               74275.0   0.034574   \n",
       "LVP                                               74275.0   0.257556   \n",
       "SBP                                               74275.0   0.032151   \n",
       "SEPSIS                                            74275.0   0.071262   \n",
       "STEROIDS                                          74275.0   0.125520   \n",
       "VENTILATION                                       74275.0   0.068866   \n",
       "VASOPRESSOR                                       74275.0   0.137906   \n",
       "FEMALE                                            74275.0   0.446395   \n",
       "RURAL                                             74275.0   0.196971   \n",
       "ELIXHAUSER_INDEX                                  74275.0  16.723783   \n",
       "MELD_Na                                           74275.0  15.305910   \n",
       "AKI_CATEGORY2_MILD                                74275.0   0.170932   \n",
       "AKI_CATEGORY2_SEVERE                              74275.0   0.096385   \n",
       "ARDS_MILD ARDS                                    74275.0   0.023332   \n",
       "ARDS_MODERATE ARDS                                74275.0   0.029633   \n",
       "ARDS_SEVERE ARDS                                  74275.0   0.017395   \n",
       "CRYST_RES_VOL_CATEGORY_(0, 500]                   74275.0   0.287391   \n",
       "CRYST_RES_VOL_CATEGORY_(500, 1250]                74275.0   0.403689   \n",
       "CRYST_RES_VOL_CATEGORY_NONE                       74275.0   0.150347   \n",
       "GLYCEMIA_BOTH                                     74275.0   0.072124   \n",
       "GLYCEMIA_HYPERGLYCEMIA                            74275.0   0.306913   \n",
       "GLYCEMIA_HYPOGLYCEMIA                             74275.0   0.028866   \n",
       "TIME_TO_ALB_CATEGORY_LOS_(0, 24]                  74275.0   0.142390   \n",
       "TIME_TO_ALB_CATEGORY_LOS_>24                      74275.0   0.139616   \n",
       "ADMISSION_TYPE_GROUP_Elective                     74275.0   0.090730   \n",
       "...                                                   ...        ...   \n",
       "BED_SIZE_300-499                                  74275.0   0.301892   \n",
       "BED_SIZE_500+                                     74275.0   0.304207   \n",
       "CENSUS_REGION_Midwest                             74275.0   0.191006   \n",
       "CENSUS_REGION_Northeast                           74275.0   0.263750   \n",
       "CENSUS_REGION_West                                74275.0   0.128213   \n",
       "INDEX_YEAR_2009                                   74275.0   0.041037   \n",
       "INDEX_YEAR_2010                                   74275.0   0.059064   \n",
       "INDEX_YEAR_2011                                   74275.0   0.073713   \n",
       "INDEX_YEAR_2012                                   74275.0   0.091417   \n",
       "INDEX_YEAR_2013                                   74275.0   0.141717   \n",
       "INDEX_YEAR_2014                                   74275.0   0.198519   \n",
       "INDEX_YEAR_2015                                   74275.0   0.190118   \n",
       "PAYER_GROUP_Medicaid                              74275.0   0.173423   \n",
       "PAYER_GROUP_Medicare                              74275.0   0.375173   \n",
       "PAYER_GROUP_Null or Exclude                       74275.0   0.134446   \n",
       "PAYER_GROUP_Oth. Govt. or Mil.                    74275.0   0.025567   \n",
       "PAYER_GROUP_Oth. NGO or Work Comp.                74275.0   0.014877   \n",
       "PAYER_GROUP_Self                                  74275.0   0.053504   \n",
       "RACE_GROUP_African American                       74275.0   0.137368   \n",
       "RACE_GROUP_Asian/Pacific Islander                 74275.0   0.013948   \n",
       "RACE_GROUP_Hispanic                               74275.0   0.013706   \n",
       "RACE_GROUP_Not Specified                          74275.0   0.013814   \n",
       "RACE_GROUP_Other                                  74275.0   0.072191   \n",
       "TEACHING_FACILITY_Not Specified                   74275.0   0.174446   \n",
       "TEACHING_FACILITY_Yes                             74275.0   0.669054   \n",
       "DISCHARGE_CATEGORY_HOSPICE                        74275.0   0.076324   \n",
       "DISCHARGE_CATEGORY_INPATIENT HOSPITAL             74275.0   0.008994   \n",
       "DISCHARGE_CATEGORY_NOT SPECIFIED                  74275.0   0.044174   \n",
       "DISCHARGE_CATEGORY_OTHER POST-ACUTE CARE SETTING  74275.0   0.070953   \n",
       "DISCHARGE_CATEGORY_SNF                            74275.0   0.116446   \n",
       "\n",
       "                                                        std   min   25%  \\\n",
       "ABX                                                0.490207   0.0   0.0   \n",
       "BETA_BLOCKER                                       0.376676   0.0   0.0   \n",
       "DIURETIC                                           0.495263   0.0   0.0   \n",
       "GIDX_BLEEDING                                      0.344025   0.0   0.0   \n",
       "HE                                                 0.384240   0.0   0.0   \n",
       "HRS                                                0.182700   0.0   0.0   \n",
       "LVP                                                0.437291   0.0   0.0   \n",
       "SBP                                                0.176402   0.0   0.0   \n",
       "SEPSIS                                             0.257264   0.0   0.0   \n",
       "STEROIDS                                           0.331310   0.0   0.0   \n",
       "VENTILATION                                        0.253227   0.0   0.0   \n",
       "VASOPRESSOR                                        0.344804   0.0   0.0   \n",
       "FEMALE                                             0.497122   0.0   0.0   \n",
       "RURAL                                              0.397713   0.0   0.0   \n",
       "ELIXHAUSER_INDEX                                  10.495290 -16.0  10.0   \n",
       "MELD_Na                                            8.163881   6.0   8.0   \n",
       "AKI_CATEGORY2_MILD                                 0.376452   0.0   0.0   \n",
       "AKI_CATEGORY2_SEVERE                               0.295121   0.0   0.0   \n",
       "ARDS_MILD ARDS                                     0.150957   0.0   0.0   \n",
       "ARDS_MODERATE ARDS                                 0.169574   0.0   0.0   \n",
       "ARDS_SEVERE ARDS                                   0.130738   0.0   0.0   \n",
       "CRYST_RES_VOL_CATEGORY_(0, 500]                    0.452549   0.0   0.0   \n",
       "CRYST_RES_VOL_CATEGORY_(500, 1250]                 0.490640   0.0   0.0   \n",
       "CRYST_RES_VOL_CATEGORY_NONE                        0.357413   0.0   0.0   \n",
       "GLYCEMIA_BOTH                                      0.258695   0.0   0.0   \n",
       "GLYCEMIA_HYPERGLYCEMIA                             0.461216   0.0   0.0   \n",
       "GLYCEMIA_HYPOGLYCEMIA                              0.167430   0.0   0.0   \n",
       "TIME_TO_ALB_CATEGORY_LOS_(0, 24]                   0.349452   0.0   0.0   \n",
       "TIME_TO_ALB_CATEGORY_LOS_>24                       0.346591   0.0   0.0   \n",
       "ADMISSION_TYPE_GROUP_Elective                      0.287227   0.0   0.0   \n",
       "...                                                     ...   ...   ...   \n",
       "BED_SIZE_300-499                                   0.459082   0.0   0.0   \n",
       "BED_SIZE_500+                                      0.460074   0.0   0.0   \n",
       "CENSUS_REGION_Midwest                              0.393097   0.0   0.0   \n",
       "CENSUS_REGION_Northeast                            0.440668   0.0   0.0   \n",
       "CENSUS_REGION_West                                 0.334329   0.0   0.0   \n",
       "INDEX_YEAR_2009                                    0.198376   0.0   0.0   \n",
       "INDEX_YEAR_2010                                    0.235747   0.0   0.0   \n",
       "INDEX_YEAR_2011                                    0.261304   0.0   0.0   \n",
       "INDEX_YEAR_2012                                    0.288203   0.0   0.0   \n",
       "INDEX_YEAR_2013                                    0.348762   0.0   0.0   \n",
       "INDEX_YEAR_2014                                    0.398888   0.0   0.0   \n",
       "INDEX_YEAR_2015                                    0.392397   0.0   0.0   \n",
       "PAYER_GROUP_Medicaid                               0.378615   0.0   0.0   \n",
       "PAYER_GROUP_Medicare                               0.484171   0.0   0.0   \n",
       "PAYER_GROUP_Null or Exclude                        0.341134   0.0   0.0   \n",
       "PAYER_GROUP_Oth. Govt. or Mil.                     0.157841   0.0   0.0   \n",
       "PAYER_GROUP_Oth. NGO or Work Comp.                 0.121062   0.0   0.0   \n",
       "PAYER_GROUP_Self                                   0.225038   0.0   0.0   \n",
       "RACE_GROUP_African American                        0.344238   0.0   0.0   \n",
       "RACE_GROUP_Asian/Pacific Islander                  0.117277   0.0   0.0   \n",
       "RACE_GROUP_Hispanic                                0.116268   0.0   0.0   \n",
       "RACE_GROUP_Not Specified                           0.116717   0.0   0.0   \n",
       "RACE_GROUP_Other                                   0.258806   0.0   0.0   \n",
       "TEACHING_FACILITY_Not Specified                    0.379495   0.0   0.0   \n",
       "TEACHING_FACILITY_Yes                              0.470557   0.0   0.0   \n",
       "DISCHARGE_CATEGORY_HOSPICE                         0.265518   0.0   0.0   \n",
       "DISCHARGE_CATEGORY_INPATIENT HOSPITAL              0.094408   0.0   0.0   \n",
       "DISCHARGE_CATEGORY_NOT SPECIFIED                   0.205482   0.0   0.0   \n",
       "DISCHARGE_CATEGORY_OTHER POST-ACUTE CARE SETTING   0.256747   0.0   0.0   \n",
       "DISCHARGE_CATEGORY_SNF                             0.320761   0.0   0.0   \n",
       "\n",
       "                                                     50%   75%   max  \n",
       "ABX                                                1.000   1.0   1.0  \n",
       "BETA_BLOCKER                                       0.000   0.0   1.0  \n",
       "DIURETIC                                           0.000   1.0   1.0  \n",
       "GIDX_BLEEDING                                      0.000   0.0   1.0  \n",
       "HE                                                 0.000   0.0   1.0  \n",
       "HRS                                                0.000   0.0   1.0  \n",
       "LVP                                                0.000   1.0   1.0  \n",
       "SBP                                                0.000   0.0   1.0  \n",
       "SEPSIS                                             0.000   0.0   1.0  \n",
       "STEROIDS                                           0.000   0.0   1.0  \n",
       "VENTILATION                                        0.000   0.0   1.0  \n",
       "VASOPRESSOR                                        0.000   0.0   1.0  \n",
       "FEMALE                                             0.000   1.0   1.0  \n",
       "RURAL                                              0.000   0.0   1.0  \n",
       "ELIXHAUSER_INDEX                                  16.000  23.0  69.0  \n",
       "MELD_Na                                           13.848  21.0  67.0  \n",
       "AKI_CATEGORY2_MILD                                 0.000   0.0   1.0  \n",
       "AKI_CATEGORY2_SEVERE                               0.000   0.0   1.0  \n",
       "ARDS_MILD ARDS                                     0.000   0.0   1.0  \n",
       "ARDS_MODERATE ARDS                                 0.000   0.0   1.0  \n",
       "ARDS_SEVERE ARDS                                   0.000   0.0   1.0  \n",
       "CRYST_RES_VOL_CATEGORY_(0, 500]                    0.000   1.0   1.0  \n",
       "CRYST_RES_VOL_CATEGORY_(500, 1250]                 0.000   1.0   1.0  \n",
       "CRYST_RES_VOL_CATEGORY_NONE                        0.000   0.0   1.0  \n",
       "GLYCEMIA_BOTH                                      0.000   0.0   1.0  \n",
       "GLYCEMIA_HYPERGLYCEMIA                             0.000   1.0   1.0  \n",
       "GLYCEMIA_HYPOGLYCEMIA                              0.000   0.0   1.0  \n",
       "TIME_TO_ALB_CATEGORY_LOS_(0, 24]                   0.000   0.0   1.0  \n",
       "TIME_TO_ALB_CATEGORY_LOS_>24                       0.000   0.0   1.0  \n",
       "ADMISSION_TYPE_GROUP_Elective                      0.000   0.0   1.0  \n",
       "...                                                  ...   ...   ...  \n",
       "BED_SIZE_300-499                                   0.000   1.0   1.0  \n",
       "BED_SIZE_500+                                      0.000   1.0   1.0  \n",
       "CENSUS_REGION_Midwest                              0.000   0.0   1.0  \n",
       "CENSUS_REGION_Northeast                            0.000   1.0   1.0  \n",
       "CENSUS_REGION_West                                 0.000   0.0   1.0  \n",
       "INDEX_YEAR_2009                                    0.000   0.0   1.0  \n",
       "INDEX_YEAR_2010                                    0.000   0.0   1.0  \n",
       "INDEX_YEAR_2011                                    0.000   0.0   1.0  \n",
       "INDEX_YEAR_2012                                    0.000   0.0   1.0  \n",
       "INDEX_YEAR_2013                                    0.000   0.0   1.0  \n",
       "INDEX_YEAR_2014                                    0.000   0.0   1.0  \n",
       "INDEX_YEAR_2015                                    0.000   0.0   1.0  \n",
       "PAYER_GROUP_Medicaid                               0.000   0.0   1.0  \n",
       "PAYER_GROUP_Medicare                               0.000   1.0   1.0  \n",
       "PAYER_GROUP_Null or Exclude                        0.000   0.0   1.0  \n",
       "PAYER_GROUP_Oth. Govt. or Mil.                     0.000   0.0   1.0  \n",
       "PAYER_GROUP_Oth. NGO or Work Comp.                 0.000   0.0   1.0  \n",
       "PAYER_GROUP_Self                                   0.000   0.0   1.0  \n",
       "RACE_GROUP_African American                        0.000   0.0   1.0  \n",
       "RACE_GROUP_Asian/Pacific Islander                  0.000   0.0   1.0  \n",
       "RACE_GROUP_Hispanic                                0.000   0.0   1.0  \n",
       "RACE_GROUP_Not Specified                           0.000   0.0   1.0  \n",
       "RACE_GROUP_Other                                   0.000   0.0   1.0  \n",
       "TEACHING_FACILITY_Not Specified                    0.000   0.0   1.0  \n",
       "TEACHING_FACILITY_Yes                              1.000   1.0   1.0  \n",
       "DISCHARGE_CATEGORY_HOSPICE                         0.000   0.0   1.0  \n",
       "DISCHARGE_CATEGORY_INPATIENT HOSPITAL              0.000   0.0   1.0  \n",
       "DISCHARGE_CATEGORY_NOT SPECIFIED                   0.000   0.0   1.0  \n",
       "DISCHARGE_CATEGORY_OTHER POST-ACUTE CARE SETTING   0.000   0.0   1.0  \n",
       "DISCHARGE_CATEGORY_SNF                             0.000   0.0   1.0  \n",
       "\n",
       "[66 rows x 8 columns]"
      ]
     },
     "execution_count": 42,
     "metadata": {},
     "output_type": "execute_result"
    }
   ],
   "source": [
    "# create the features matrix\n",
    "X = Cirrhosis_LOS5.iloc[:, Cirrhosis_LOS5.columns != 'LONG_LOS_DAYS']\n",
    "X.describe().T"
   ]
  },
  {
   "cell_type": "markdown",
   "metadata": {
    "heading_collapsed": true
   },
   "source": [
    "# Generalized Linear Model - Logistic Regression"
   ]
  },
  {
   "cell_type": "code",
   "execution_count": 43,
   "metadata": {
    "hidden": true
   },
   "outputs": [],
   "source": [
    "# create a logistic regression model\n",
    "X_cons = sm.add_constant(X)\n",
    "glm_logit = sm.Logit(y, X_cons)"
   ]
  },
  {
   "cell_type": "code",
   "execution_count": 44,
   "metadata": {
    "hidden": true
   },
   "outputs": [
    {
     "name": "stdout",
     "output_type": "stream",
     "text": [
      "Optimization terminated successfully.\n",
      "         Current function value: 0.384937\n",
      "         Iterations 7\n"
     ]
    }
   ],
   "source": [
    "# fit logistic regression\n",
    "glm_logit_result = glm_logit.fit()"
   ]
  },
  {
   "cell_type": "code",
   "execution_count": 45,
   "metadata": {
    "hidden": true
   },
   "outputs": [
    {
     "name": "stdout",
     "output_type": "stream",
     "text": [
      "                           Logit Regression Results                           \n",
      "==============================================================================\n",
      "Dep. Variable:          LONG_LOS_DAYS   No. Observations:                74275\n",
      "Model:                          Logit   Df Residuals:                    74208\n",
      "Method:                           MLE   Df Model:                           66\n",
      "Date:                Wed, 10 Apr 2019   Pseudo R-squ.:                  0.3104\n",
      "Time:                        15:52:43   Log-Likelihood:                -28591.\n",
      "converged:                       True   LL-Null:                       -41460.\n",
      "                                        LLR p-value:                     0.000\n",
      "====================================================================================================================\n",
      "                                                       coef    std err          z      P>|z|      [0.025      0.975]\n",
      "--------------------------------------------------------------------------------------------------------------------\n",
      "const                                               -3.7402      0.090    -41.424      0.000      -3.917      -3.563\n",
      "ABX                                                  0.8039      0.024     33.261      0.000       0.757       0.851\n",
      "BETA_BLOCKER                                        -0.2949      0.030     -9.873      0.000      -0.353      -0.236\n",
      "DIURETIC                                             0.4672      0.024     19.852      0.000       0.421       0.513\n",
      "GIDX_BLEEDING                                        0.0187      0.032      0.583      0.560      -0.044       0.081\n",
      "HE                                                  -0.0609      0.029     -2.122      0.034      -0.117      -0.005\n",
      "HRS                                                  0.0633      0.055      1.144      0.253      -0.045       0.172\n",
      "LVP                                                  0.4304      0.026     16.727      0.000       0.380       0.481\n",
      "SBP                                                 -0.1941      0.058     -3.333      0.001      -0.308      -0.080\n",
      "SEPSIS                                               0.6268      0.041     15.288      0.000       0.546       0.707\n",
      "STEROIDS                                             0.4772      0.030     15.987      0.000       0.419       0.536\n",
      "VENTILATION                                          0.7592      0.044     17.342      0.000       0.673       0.845\n",
      "VASOPRESSOR                                          0.8841      0.030     29.523      0.000       0.825       0.943\n",
      "FEMALE                                              -0.0179      0.022     -0.824      0.410      -0.060       0.025\n",
      "RURAL                                                0.1110      0.030      3.700      0.000       0.052       0.170\n",
      "ELIXHAUSER_INDEX                                    -0.0055      0.001     -5.004      0.000      -0.008      -0.003\n",
      "MELD_Na                                             -0.0168      0.002    -10.905      0.000      -0.020      -0.014\n",
      "AKI_CATEGORY2_MILD                                   0.9818      0.027     36.719      0.000       0.929       1.034\n",
      "AKI_CATEGORY2_SEVERE                                 1.0248      0.036     28.594      0.000       0.955       1.095\n",
      "ARDS_MILD ARDS                                       0.4300      0.063      6.787      0.000       0.306       0.554\n",
      "ARDS_MODERATE ARDS                                   0.6008      0.061      9.863      0.000       0.481       0.720\n",
      "ARDS_SEVERE ARDS                                     0.8781      0.085     10.288      0.000       0.711       1.045\n",
      "CRYST_RES_VOL_CATEGORY_(0, 500]                      1.7813      0.040     44.521      0.000       1.703       1.860\n",
      "CRYST_RES_VOL_CATEGORY_(500, 1250]                   0.8253      0.040     20.806      0.000       0.748       0.903\n",
      "CRYST_RES_VOL_CATEGORY_NONE                          0.4400      0.051      8.693      0.000       0.341       0.539\n",
      "GLYCEMIA_BOTH                                        1.0801      0.039     27.550      0.000       1.003       1.157\n",
      "GLYCEMIA_HYPERGLYCEMIA                               0.4341      0.024     18.283      0.000       0.388       0.481\n",
      "GLYCEMIA_HYPOGLYCEMIA                                0.5048      0.058      8.681      0.000       0.391       0.619\n",
      "TIME_TO_ALB_CATEGORY_LOS_(0, 24]                    -0.0651      0.040     -1.622      0.105      -0.144       0.014\n",
      "TIME_TO_ALB_CATEGORY_LOS_>24                         0.9526      0.035     26.971      0.000       0.883       1.022\n",
      "ADMISSION_TYPE_GROUP_Elective                        0.0507      0.038      1.319      0.187      -0.025       0.126\n",
      "ADMISSION_TYPE_GROUP_Urgent                          0.1792      0.031      5.735      0.000       0.118       0.240\n",
      "AGE_GROUP_30-49                                     -0.3708      0.063     -5.841      0.000      -0.495      -0.246\n",
      "AGE_GROUP_50-64                                     -0.5440      0.062     -8.781      0.000      -0.665      -0.423\n",
      "AGE_GROUP_65+                                       -0.5399      0.066     -8.216      0.000      -0.669      -0.411\n",
      "BED_SIZE_100-199                                    -0.4195      0.055     -7.590      0.000      -0.528      -0.311\n",
      "BED_SIZE_200-299                                    -0.1163      0.054     -2.167      0.030      -0.222      -0.011\n",
      "BED_SIZE_300-499                                     0.1320      0.053      2.480      0.013       0.028       0.236\n",
      "BED_SIZE_500+                                        0.4066      0.054      7.481      0.000       0.300       0.513\n",
      "CENSUS_REGION_Midwest                               -0.1122      0.035     -3.214      0.001      -0.181      -0.044\n",
      "CENSUS_REGION_Northeast                              0.3419      0.030     11.243      0.000       0.282       0.402\n",
      "CENSUS_REGION_West                                   0.0368      0.040      0.909      0.363      -0.042       0.116\n",
      "INDEX_YEAR_2009                                      0.0592      0.058      1.017      0.309      -0.055       0.173\n",
      "INDEX_YEAR_2010                                      0.0214      0.051      0.416      0.678      -0.079       0.122\n",
      "INDEX_YEAR_2011                                      0.1935      0.046      4.182      0.000       0.103       0.284\n",
      "INDEX_YEAR_2012                                      0.1683      0.042      3.964      0.000       0.085       0.252\n",
      "INDEX_YEAR_2013                                      0.0501      0.038      1.333      0.183      -0.024       0.124\n",
      "INDEX_YEAR_2014                                      0.0137      0.034      0.401      0.689      -0.053       0.081\n",
      "INDEX_YEAR_2015                                     -0.0032      0.034     -0.092      0.927      -0.071       0.064\n",
      "PAYER_GROUP_Medicaid                                 0.0029      0.035      0.083      0.934      -0.066       0.071\n",
      "PAYER_GROUP_Medicare                                -0.1970      0.033     -6.055      0.000      -0.261      -0.133\n",
      "PAYER_GROUP_Null or Exclude                         -0.0187      0.038     -0.495      0.621      -0.093       0.055\n",
      "PAYER_GROUP_Oth. Govt. or Mil.                       0.0071      0.071      0.099      0.921      -0.133       0.147\n",
      "PAYER_GROUP_Oth. NGO or Work Comp.                  -0.0994      0.089     -1.122      0.262      -0.273       0.074\n",
      "PAYER_GROUP_Self                                     0.0304      0.054      0.565      0.572      -0.075       0.136\n",
      "RACE_GROUP_African American                          0.2648      0.031      8.450      0.000       0.203       0.326\n",
      "RACE_GROUP_Asian/Pacific Islander                    0.0953      0.090      1.061      0.289      -0.081       0.271\n",
      "RACE_GROUP_Hispanic                                 -0.1725      0.095     -1.820      0.069      -0.358       0.013\n",
      "RACE_GROUP_Not Specified                             0.0654      0.088      0.744      0.457      -0.107       0.238\n",
      "RACE_GROUP_Other                                    -0.0935      0.044     -2.131      0.033      -0.179      -0.007\n",
      "TEACHING_FACILITY_Not Specified                     -0.1682      0.046     -3.637      0.000      -0.259      -0.078\n",
      "TEACHING_FACILITY_Yes                                0.0545      0.043      1.258      0.209      -0.030       0.140\n",
      "DISCHARGE_CATEGORY_HOSPICE                           0.3704      0.040      9.183      0.000       0.291       0.449\n",
      "DISCHARGE_CATEGORY_INPATIENT HOSPITAL               -0.0904      0.114     -0.794      0.427      -0.314       0.133\n",
      "DISCHARGE_CATEGORY_NOT SPECIFIED                     0.5846      0.053     10.933      0.000       0.480       0.689\n",
      "DISCHARGE_CATEGORY_OTHER POST-ACUTE CARE SETTING     0.6770      0.040     16.866      0.000       0.598       0.756\n",
      "DISCHARGE_CATEGORY_SNF                               1.0900      0.032     34.159      0.000       1.027       1.153\n",
      "====================================================================================================================\n"
     ]
    }
   ],
   "source": [
    "# display model summary\n",
    "print(glm_logit_result.summary())"
   ]
  },
  {
   "cell_type": "markdown",
   "metadata": {
    "heading_collapsed": true
   },
   "source": [
    "# Split Data into Training and Test Sets"
   ]
  },
  {
   "cell_type": "code",
   "execution_count": 46,
   "metadata": {
    "hidden": true
   },
   "outputs": [
    {
     "name": "stdout",
     "output_type": "stream",
     "text": [
      "Training Features Shape: (51992, 66)\n",
      "Training Lable Shape: (51992, 1)\n",
      "Test Features Shape: (22283, 66)\n",
      "Test Lable Shape: (22283, 1)\n"
     ]
    }
   ],
   "source": [
    "# split data into training and test sets\n",
    "X_train, X_test, y_train, y_test = train_test_split(X, y, test_size = 0.30, random_state = 12345)\n",
    "print('Training Features Shape:', X_train.shape)\n",
    "print('Training Lable Shape:', y_train.shape)\n",
    "print('Test Features Shape:', X_test.shape)\n",
    "print('Test Lable Shape:', y_test.shape)"
   ]
  },
  {
   "cell_type": "code",
   "execution_count": 47,
   "metadata": {
    "hidden": true
   },
   "outputs": [
    {
     "data": {
      "text/plain": [
       "StandardScaler(copy=True, with_mean=True, with_std=True)"
      ]
     },
     "execution_count": 47,
     "metadata": {},
     "output_type": "execute_result"
    }
   ],
   "source": [
    "# fit standardizer to training set\n",
    "standardizer = StandardScaler()\n",
    "standardizer.fit(X_train)"
   ]
  },
  {
   "cell_type": "code",
   "execution_count": 48,
   "metadata": {
    "hidden": true
   },
   "outputs": [],
   "source": [
    "# apply to both training and test sets\n",
    "X_trian_std = standardizer.transform(X_train)\n",
    "X_test_std = standardizer.transform(X_test)"
   ]
  },
  {
   "cell_type": "code",
   "execution_count": 49,
   "metadata": {
    "hidden": true
   },
   "outputs": [],
   "source": [
    "# covert labels to arrays\n",
    "y_train = y_train.values.ravel()\n",
    "y_test = y_test.values.ravel()"
   ]
  },
  {
   "cell_type": "markdown",
   "metadata": {
    "heading_collapsed": true
   },
   "source": [
    "# Machine Learning Model - Logistic Regression"
   ]
  },
  {
   "cell_type": "markdown",
   "metadata": {
    "heading_collapsed": true,
    "hidden": true
   },
   "source": [
    "## Train Model"
   ]
  },
  {
   "cell_type": "code",
   "execution_count": 50,
   "metadata": {
    "hidden": true
   },
   "outputs": [],
   "source": [
    "# create a base Logistic model\n",
    "base_logit = LogisticRegression(class_weight = 'balanced', random_state = 12345)"
   ]
  },
  {
   "cell_type": "code",
   "execution_count": 51,
   "metadata": {
    "hidden": true
   },
   "outputs": [
    {
     "data": {
      "text/plain": [
       "LogisticRegression(C=1.0, class_weight='balanced', dual=False,\n",
       "          fit_intercept=True, intercept_scaling=1, max_iter=100,\n",
       "          multi_class='warn', n_jobs=None, penalty='l2',\n",
       "          random_state=12345, solver='warn', tol=0.0001, verbose=0,\n",
       "          warm_start=False)"
      ]
     },
     "execution_count": 51,
     "metadata": {},
     "output_type": "execute_result"
    }
   ],
   "source": [
    "# train the model on training data\n",
    "base_logit.fit(X_trian_std , y_train)"
   ]
  },
  {
   "cell_type": "markdown",
   "metadata": {
    "heading_collapsed": true,
    "hidden": true
   },
   "source": [
    "## Predict Test Data"
   ]
  },
  {
   "cell_type": "code",
   "execution_count": 52,
   "metadata": {
    "hidden": true
   },
   "outputs": [],
   "source": [
    "# predict test data\n",
    "y_pred_logit = base_logit.predict(X_test_std)\n",
    "y_pred_prob_logit = base_logit.predict_proba(X_test_std)"
   ]
  },
  {
   "cell_type": "markdown",
   "metadata": {
    "heading_collapsed": true,
    "hidden": true
   },
   "source": [
    "## Evaulate Performance"
   ]
  },
  {
   "cell_type": "code",
   "execution_count": 53,
   "metadata": {
    "hidden": true
   },
   "outputs": [
    {
     "data": {
      "image/png": "[encoded data removed]",
      "text/plain": [
       "<Figure size 432x288 with 2 Axes>"
      ]
     },
     "metadata": {
      "needs_background": "light"
     },
     "output_type": "display_data"
    }
   ],
   "source": [
    "# plot confusion matrix\n",
    "skplt.metrics.plot_confusion_matrix(y_test, y_pred_logit)\n",
    "plt.show()"
   ]
  },
  {
   "cell_type": "code",
   "execution_count": 54,
   "metadata": {
    "hidden": true
   },
   "outputs": [
    {
     "name": "stdout",
     "output_type": "stream",
     "text": [
      "True Negatives:  13339\n",
      "False Positives:  3468\n",
      "False Negatives:  1418\n",
      "True Positives:  4058\n"
     ]
    }
   ],
   "source": [
    "# extract true_positives, false_positives, true_negatives, false_negatives\n",
    "cm_matrix = confusion_matrix(y_test, y_pred_logit)\n",
    "tn, fp, fn, tp = cm_matrix.ravel()\n",
    "print('True Negatives: ', tn)\n",
    "print('False Positives: ', fp)\n",
    "print('False Negatives: ', fn)\n",
    "print('True Positives: ', tp)"
   ]
  },
  {
   "cell_type": "code",
   "execution_count": 55,
   "metadata": {
    "hidden": true
   },
   "outputs": [
    {
     "name": "stdout",
     "output_type": "stream",
     "text": [
      "Accuracy 0.78:\n"
     ]
    }
   ],
   "source": [
    "# accuracy\n",
    "accuracy = (tn+tp)/(tp+tn+fp+fn)\n",
    "print(\"Accuracy {:0.2f}:\".format(accuracy))"
   ]
  },
  {
   "cell_type": "code",
   "execution_count": 56,
   "metadata": {
    "hidden": true
   },
   "outputs": [
    {
     "name": "stdout",
     "output_type": "stream",
     "text": [
      "Precision 0.54:\n"
     ]
    }
   ],
   "source": [
    "# precision\n",
    "precision = tp/(tp+fp)\n",
    "print(\"Precision {:0.2f}:\".format(precision))"
   ]
  },
  {
   "cell_type": "code",
   "execution_count": 57,
   "metadata": {
    "hidden": true
   },
   "outputs": [
    {
     "name": "stdout",
     "output_type": "stream",
     "text": [
      "# Recall 0.74:\n"
     ]
    }
   ],
   "source": [
    "# recall\n",
    "recall = tp /(tp+fn)\n",
    "print(\"# Recall {:0.2f}:\".format(recall))"
   ]
  },
  {
   "cell_type": "code",
   "execution_count": 58,
   "metadata": {
    "hidden": true
   },
   "outputs": [
    {
     "name": "stdout",
     "output_type": "stream",
     "text": [
      "# F1 Score 0.62:\n"
     ]
    }
   ],
   "source": [
    "# f1 score\n",
    "f1 = (2*precision*recall)/(precision+recall)\n",
    "print(\"# F1 Score {:0.2f}:\".format(f1))"
   ]
  },
  {
   "cell_type": "code",
   "execution_count": 59,
   "metadata": {
    "hidden": true
   },
   "outputs": [
    {
     "name": "stdout",
     "output_type": "stream",
     "text": [
      "              precision    recall  f1-score   support\n",
      "\n",
      "           0       0.90      0.79      0.85     16807\n",
      "           1       0.54      0.74      0.62      5476\n",
      "\n",
      "   micro avg       0.78      0.78      0.78     22283\n",
      "   macro avg       0.72      0.77      0.73     22283\n",
      "weighted avg       0.81      0.78      0.79     22283\n",
      "\n"
     ]
    }
   ],
   "source": [
    "# print classification report\n",
    "print(classification_report(y_test, y_pred_logit))"
   ]
  },
  {
   "cell_type": "code",
   "execution_count": 60,
   "metadata": {
    "hidden": true
   },
   "outputs": [
    {
     "data": {
      "image/png": "[encoded data removed]",
      "text/plain": [
       "<Figure size 432x288 with 1 Axes>"
      ]
     },
     "metadata": {
      "needs_background": "light"
     },
     "output_type": "display_data"
    }
   ],
   "source": [
    "# plot ROC curves\n",
    "skplt.metrics.plot_roc_curve(y_test, y_pred_prob_logit, curves = ('each_class'))\n",
    "plt.show()"
   ]
  },
  {
   "cell_type": "code",
   "execution_count": 61,
   "metadata": {
    "hidden": true
   },
   "outputs": [
    {
     "data": {
      "image/png": "[encoded data removed]",
      "text/plain": [
       "<Figure size 432x288 with 1 Axes>"
      ]
     },
     "metadata": {
      "needs_background": "light"
     },
     "output_type": "display_data"
    }
   ],
   "source": [
    "# plot Precision-Recall curve\n",
    "skplt.metrics.plot_precision_recall_curve(y_test, y_pred_prob_logit, curves = ('each_class'))\n",
    "plt.show()"
   ]
  },
  {
   "cell_type": "markdown",
   "metadata": {
    "heading_collapsed": true
   },
   "source": [
    "# Machine Learning Model - Random Forests"
   ]
  },
  {
   "cell_type": "markdown",
   "metadata": {
    "heading_collapsed": true,
    "hidden": true
   },
   "source": [
    "## Train Model"
   ]
  },
  {
   "cell_type": "code",
   "execution_count": 62,
   "metadata": {
    "hidden": true
   },
   "outputs": [],
   "source": [
    "# create a base Random Forest model\n",
    "base_rf = RandomForestClassifier(n_estimators = 1000, class_weight = 'balanced', random_state = 12345)"
   ]
  },
  {
   "cell_type": "code",
   "execution_count": 64,
   "metadata": {
    "hidden": true
   },
   "outputs": [
    {
     "data": {
      "text/plain": [
       "RandomForestClassifier(bootstrap=True, class_weight='balanced',\n",
       "            criterion='gini', max_depth=None, max_features='auto',\n",
       "            max_leaf_nodes=None, min_impurity_decrease=0.0,\n",
       "            min_impurity_split=None, min_samples_leaf=1,\n",
       "            min_samples_split=2, min_weight_fraction_leaf=0.0,\n",
       "            n_estimators=1000, n_jobs=None, oob_score=False,\n",
       "            random_state=12345, verbose=0, warm_start=False)"
      ]
     },
     "execution_count": 64,
     "metadata": {},
     "output_type": "execute_result"
    }
   ],
   "source": [
    "# train the model on training data\n",
    "base_rf.fit(X_trian_std , y_train)"
   ]
  },
  {
   "cell_type": "markdown",
   "metadata": {
    "heading_collapsed": true,
    "hidden": true
   },
   "source": [
    "## Predict Test Data"
   ]
  },
  {
   "cell_type": "code",
   "execution_count": 65,
   "metadata": {
    "hidden": true
   },
   "outputs": [],
   "source": [
    "# predict test data\n",
    "y_pred_rf = base_rf.predict(X_test_std)\n",
    "y_pred_prob_rf = base_rf.predict_proba(X_test_std)"
   ]
  },
  {
   "cell_type": "markdown",
   "metadata": {
    "heading_collapsed": true,
    "hidden": true
   },
   "source": [
    "## Evaulate Performance"
   ]
  },
  {
   "cell_type": "code",
   "execution_count": 66,
   "metadata": {
    "hidden": true
   },
   "outputs": [
    {
     "data": {
      "image/png": "[encoded data removed]",
      "text/plain": [
       "<Figure size 432x288 with 2 Axes>"
      ]
     },
     "metadata": {
      "needs_background": "light"
     },
     "output_type": "display_data"
    }
   ],
   "source": [
    "# plot confusion matrix\n",
    "skplt.metrics.plot_confusion_matrix(y_test, y_pred_rf)\n",
    "plt.show()"
   ]
  },
  {
   "cell_type": "code",
   "execution_count": 67,
   "metadata": {
    "hidden": true
   },
   "outputs": [
    {
     "name": "stdout",
     "output_type": "stream",
     "text": [
      "True Negatives:  16001\n",
      "False Positives:  806\n",
      "False Negatives:  3077\n",
      "True Positives:  2399\n"
     ]
    }
   ],
   "source": [
    "# extract true_positives, false_positives, true_negatives, false_negatives\n",
    "cm_matrix = confusion_matrix(y_test, y_pred_rf)\n",
    "tn, fp, fn, tp = cm_matrix.ravel()\n",
    "print('True Negatives: ', tn)\n",
    "print('False Positives: ', fp)\n",
    "print('False Negatives: ', fn)\n",
    "print('True Positives: ', tp)"
   ]
  },
  {
   "cell_type": "code",
   "execution_count": 68,
   "metadata": {
    "hidden": true
   },
   "outputs": [
    {
     "name": "stdout",
     "output_type": "stream",
     "text": [
      "Accuracy 0.83:\n"
     ]
    }
   ],
   "source": [
    "# accuracy\n",
    "accuracy = (tn+tp)/(tp+tn+fp+fn)\n",
    "print(\"Accuracy {:0.2f}:\".format(accuracy))"
   ]
  },
  {
   "cell_type": "code",
   "execution_count": 69,
   "metadata": {
    "hidden": true
   },
   "outputs": [
    {
     "name": "stdout",
     "output_type": "stream",
     "text": [
      "Precision 0.75:\n"
     ]
    }
   ],
   "source": [
    "# precision\n",
    "precision = tp/(tp+fp)\n",
    "print(\"Precision {:0.2f}:\".format(precision))"
   ]
  },
  {
   "cell_type": "code",
   "execution_count": 70,
   "metadata": {
    "hidden": true
   },
   "outputs": [
    {
     "name": "stdout",
     "output_type": "stream",
     "text": [
      "# Recall 0.44:\n"
     ]
    }
   ],
   "source": [
    "# recall\n",
    "recall = tp /(tp+fn)\n",
    "print(\"# Recall {:0.2f}:\".format(recall))"
   ]
  },
  {
   "cell_type": "code",
   "execution_count": 71,
   "metadata": {
    "hidden": true
   },
   "outputs": [
    {
     "name": "stdout",
     "output_type": "stream",
     "text": [
      "# F1 Score 0.55:\n"
     ]
    }
   ],
   "source": [
    "# f1 score\n",
    "f1 = (2*precision*recall)/(precision+recall)\n",
    "print(\"# F1 Score {:0.2f}:\".format(f1))"
   ]
  },
  {
   "cell_type": "code",
   "execution_count": 72,
   "metadata": {
    "hidden": true
   },
   "outputs": [
    {
     "name": "stdout",
     "output_type": "stream",
     "text": [
      "              precision    recall  f1-score   support\n",
      "\n",
      "           0       0.84      0.95      0.89     16807\n",
      "           1       0.75      0.44      0.55      5476\n",
      "\n",
      "   micro avg       0.83      0.83      0.83     22283\n",
      "   macro avg       0.79      0.70      0.72     22283\n",
      "weighted avg       0.82      0.83      0.81     22283\n",
      "\n"
     ]
    }
   ],
   "source": [
    "# print classification report\n",
    "print(classification_report(y_test, y_pred_rf))"
   ]
  },
  {
   "cell_type": "code",
   "execution_count": 73,
   "metadata": {
    "hidden": true
   },
   "outputs": [
    {
     "data": {
      "image/png": "[encoded data removed]",
      "text/plain": [
       "<Figure size 432x288 with 1 Axes>"
      ]
     },
     "metadata": {
      "needs_background": "light"
     },
     "output_type": "display_data"
    }
   ],
   "source": [
    "# plot ROC curves\n",
    "skplt.metrics.plot_roc_curve(y_test, y_pred_prob_rf, curves = ('each_class'))\n",
    "plt.show()"
   ]
  },
  {
   "cell_type": "code",
   "execution_count": 74,
   "metadata": {
    "hidden": true
   },
   "outputs": [
    {
     "data": {
      "image/png": "[encoded data removed]",
      "text/plain": [
       "<Figure size 432x288 with 1 Axes>"
      ]
     },
     "metadata": {
      "needs_background": "light"
     },
     "output_type": "display_data"
    }
   ],
   "source": [
    "# plot Precision-Recall curve\n",
    "skplt.metrics.plot_precision_recall_curve(y_test, y_pred_prob_rf, curves = ('each_class'))\n",
    "plt.show()"
   ]
  },
  {
   "cell_type": "markdown",
   "metadata": {
    "hidden": true
   },
   "source": [
    "## Examine Variable Importances"
   ]
  },
  {
   "cell_type": "code",
   "execution_count": 75,
   "metadata": {
    "hidden": true
   },
   "outputs": [
    {
     "name": "stdout",
     "output_type": "stream",
     "text": [
      "<class 'pandas.core.frame.DataFrame'>\n",
      "RangeIndex: 66 entries, 0 to 65\n",
      "Data columns (total 2 columns):\n",
      "feature       66 non-null object\n",
      "importance    66 non-null float64\n",
      "dtypes: float64(1), object(1)\n",
      "memory usage: 1.1+ KB\n"
     ]
    }
   ],
   "source": [
    "# create a dataframe of feature importances\n",
    "feature_importances = pd.DataFrame()\n",
    "feature_importances['feature'] = X.columns\n",
    "feature_importances['importance'] = base_rf.feature_importances_\n",
    "feature_importances.info()"
   ]
  },
  {
   "cell_type": "code",
   "execution_count": 76,
   "metadata": {
    "hidden": true
   },
   "outputs": [
    {
     "data": {
      "text/html": [
       "<div>\n",
       "<style scoped>\n",
       "    .dataframe tbody tr th:only-of-type {\n",
       "        vertical-align: middle;\n",
       "    }\n",
       "\n",
       "    .dataframe tbody tr th {\n",
       "        vertical-align: top;\n",
       "    }\n",
       "\n",
       "    .dataframe thead th {\n",
       "        text-align: right;\n",
       "    }\n",
       "</style>\n",
       "<table border=\"1\" class=\"dataframe\">\n",
       "  <thead>\n",
       "    <tr style=\"text-align: right;\">\n",
       "      <th></th>\n",
       "      <th>index</th>\n",
       "      <th>feature</th>\n",
       "      <th>importance</th>\n",
       "    </tr>\n",
       "  </thead>\n",
       "  <tbody>\n",
       "    <tr>\n",
       "      <th>0</th>\n",
       "      <td>14</td>\n",
       "      <td>ELIXHAUSER_INDEX</td>\n",
       "      <td>0.083216</td>\n",
       "    </tr>\n",
       "    <tr>\n",
       "      <th>1</th>\n",
       "      <td>15</td>\n",
       "      <td>MELD_Na</td>\n",
       "      <td>0.079239</td>\n",
       "    </tr>\n",
       "    <tr>\n",
       "      <th>2</th>\n",
       "      <td>11</td>\n",
       "      <td>VASOPRESSOR</td>\n",
       "      <td>0.047602</td>\n",
       "    </tr>\n",
       "    <tr>\n",
       "      <th>3</th>\n",
       "      <td>21</td>\n",
       "      <td>CRYST_RES_VOL_CATEGORY_(0, 500]</td>\n",
       "      <td>0.044018</td>\n",
       "    </tr>\n",
       "    <tr>\n",
       "      <th>4</th>\n",
       "      <td>0</td>\n",
       "      <td>ABX</td>\n",
       "      <td>0.039674</td>\n",
       "    </tr>\n",
       "    <tr>\n",
       "      <th>5</th>\n",
       "      <td>16</td>\n",
       "      <td>AKI_CATEGORY2_MILD</td>\n",
       "      <td>0.037221</td>\n",
       "    </tr>\n",
       "    <tr>\n",
       "      <th>6</th>\n",
       "      <td>28</td>\n",
       "      <td>TIME_TO_ALB_CATEGORY_LOS_&gt;24</td>\n",
       "      <td>0.036215</td>\n",
       "    </tr>\n",
       "    <tr>\n",
       "      <th>7</th>\n",
       "      <td>10</td>\n",
       "      <td>VENTILATION</td>\n",
       "      <td>0.027702</td>\n",
       "    </tr>\n",
       "    <tr>\n",
       "      <th>8</th>\n",
       "      <td>65</td>\n",
       "      <td>DISCHARGE_CATEGORY_SNF</td>\n",
       "      <td>0.022889</td>\n",
       "    </tr>\n",
       "    <tr>\n",
       "      <th>9</th>\n",
       "      <td>2</td>\n",
       "      <td>DIURETIC</td>\n",
       "      <td>0.022581</td>\n",
       "    </tr>\n",
       "    <tr>\n",
       "      <th>10</th>\n",
       "      <td>12</td>\n",
       "      <td>FEMALE</td>\n",
       "      <td>0.019240</td>\n",
       "    </tr>\n",
       "    <tr>\n",
       "      <th>11</th>\n",
       "      <td>8</td>\n",
       "      <td>SEPSIS</td>\n",
       "      <td>0.018882</td>\n",
       "    </tr>\n",
       "    <tr>\n",
       "      <th>12</th>\n",
       "      <td>17</td>\n",
       "      <td>AKI_CATEGORY2_SEVERE</td>\n",
       "      <td>0.018800</td>\n",
       "    </tr>\n",
       "    <tr>\n",
       "      <th>13</th>\n",
       "      <td>6</td>\n",
       "      <td>LVP</td>\n",
       "      <td>0.018478</td>\n",
       "    </tr>\n",
       "    <tr>\n",
       "      <th>14</th>\n",
       "      <td>25</td>\n",
       "      <td>GLYCEMIA_HYPERGLYCEMIA</td>\n",
       "      <td>0.017440</td>\n",
       "    </tr>\n",
       "    <tr>\n",
       "      <th>15</th>\n",
       "      <td>24</td>\n",
       "      <td>GLYCEMIA_BOTH</td>\n",
       "      <td>0.016372</td>\n",
       "    </tr>\n",
       "    <tr>\n",
       "      <th>16</th>\n",
       "      <td>32</td>\n",
       "      <td>AGE_GROUP_50-64</td>\n",
       "      <td>0.015368</td>\n",
       "    </tr>\n",
       "    <tr>\n",
       "      <th>17</th>\n",
       "      <td>49</td>\n",
       "      <td>PAYER_GROUP_Medicare</td>\n",
       "      <td>0.015080</td>\n",
       "    </tr>\n",
       "    <tr>\n",
       "      <th>18</th>\n",
       "      <td>9</td>\n",
       "      <td>STEROIDS</td>\n",
       "      <td>0.014399</td>\n",
       "    </tr>\n",
       "    <tr>\n",
       "      <th>19</th>\n",
       "      <td>46</td>\n",
       "      <td>INDEX_YEAR_2014</td>\n",
       "      <td>0.014240</td>\n",
       "    </tr>\n",
       "    <tr>\n",
       "      <th>20</th>\n",
       "      <td>47</td>\n",
       "      <td>INDEX_YEAR_2015</td>\n",
       "      <td>0.013720</td>\n",
       "    </tr>\n",
       "    <tr>\n",
       "      <th>21</th>\n",
       "      <td>39</td>\n",
       "      <td>CENSUS_REGION_Northeast</td>\n",
       "      <td>0.013707</td>\n",
       "    </tr>\n",
       "    <tr>\n",
       "      <th>22</th>\n",
       "      <td>37</td>\n",
       "      <td>BED_SIZE_500+</td>\n",
       "      <td>0.013330</td>\n",
       "    </tr>\n",
       "    <tr>\n",
       "      <th>23</th>\n",
       "      <td>33</td>\n",
       "      <td>AGE_GROUP_65+</td>\n",
       "      <td>0.013173</td>\n",
       "    </tr>\n",
       "    <tr>\n",
       "      <th>24</th>\n",
       "      <td>4</td>\n",
       "      <td>HE</td>\n",
       "      <td>0.013142</td>\n",
       "    </tr>\n",
       "    <tr>\n",
       "      <th>25</th>\n",
       "      <td>22</td>\n",
       "      <td>CRYST_RES_VOL_CATEGORY_(500, 1250]</td>\n",
       "      <td>0.012678</td>\n",
       "    </tr>\n",
       "    <tr>\n",
       "      <th>26</th>\n",
       "      <td>1</td>\n",
       "      <td>BETA_BLOCKER</td>\n",
       "      <td>0.012453</td>\n",
       "    </tr>\n",
       "    <tr>\n",
       "      <th>27</th>\n",
       "      <td>54</td>\n",
       "      <td>RACE_GROUP_African American</td>\n",
       "      <td>0.012102</td>\n",
       "    </tr>\n",
       "    <tr>\n",
       "      <th>28</th>\n",
       "      <td>48</td>\n",
       "      <td>PAYER_GROUP_Medicaid</td>\n",
       "      <td>0.012068</td>\n",
       "    </tr>\n",
       "    <tr>\n",
       "      <th>29</th>\n",
       "      <td>13</td>\n",
       "      <td>RURAL</td>\n",
       "      <td>0.012015</td>\n",
       "    </tr>\n",
       "    <tr>\n",
       "      <th>...</th>\n",
       "      <td>...</td>\n",
       "      <td>...</td>\n",
       "      <td>...</td>\n",
       "    </tr>\n",
       "    <tr>\n",
       "      <th>36</th>\n",
       "      <td>50</td>\n",
       "      <td>PAYER_GROUP_Null or Exclude</td>\n",
       "      <td>0.010389</td>\n",
       "    </tr>\n",
       "    <tr>\n",
       "      <th>37</th>\n",
       "      <td>38</td>\n",
       "      <td>CENSUS_REGION_Midwest</td>\n",
       "      <td>0.010101</td>\n",
       "    </tr>\n",
       "    <tr>\n",
       "      <th>38</th>\n",
       "      <td>35</td>\n",
       "      <td>BED_SIZE_200-299</td>\n",
       "      <td>0.009970</td>\n",
       "    </tr>\n",
       "    <tr>\n",
       "      <th>39</th>\n",
       "      <td>44</td>\n",
       "      <td>INDEX_YEAR_2012</td>\n",
       "      <td>0.009713</td>\n",
       "    </tr>\n",
       "    <tr>\n",
       "      <th>40</th>\n",
       "      <td>64</td>\n",
       "      <td>DISCHARGE_CATEGORY_OTHER POST-ACUTE CARE SETTING</td>\n",
       "      <td>0.009405</td>\n",
       "    </tr>\n",
       "    <tr>\n",
       "      <th>41</th>\n",
       "      <td>29</td>\n",
       "      <td>ADMISSION_TYPE_GROUP_Elective</td>\n",
       "      <td>0.009203</td>\n",
       "    </tr>\n",
       "    <tr>\n",
       "      <th>42</th>\n",
       "      <td>34</td>\n",
       "      <td>BED_SIZE_100-199</td>\n",
       "      <td>0.009073</td>\n",
       "    </tr>\n",
       "    <tr>\n",
       "      <th>43</th>\n",
       "      <td>59</td>\n",
       "      <td>TEACHING_FACILITY_Not Specified</td>\n",
       "      <td>0.008962</td>\n",
       "    </tr>\n",
       "    <tr>\n",
       "      <th>44</th>\n",
       "      <td>61</td>\n",
       "      <td>DISCHARGE_CATEGORY_HOSPICE</td>\n",
       "      <td>0.008932</td>\n",
       "    </tr>\n",
       "    <tr>\n",
       "      <th>45</th>\n",
       "      <td>27</td>\n",
       "      <td>TIME_TO_ALB_CATEGORY_LOS_(0, 24]</td>\n",
       "      <td>0.008704</td>\n",
       "    </tr>\n",
       "    <tr>\n",
       "      <th>46</th>\n",
       "      <td>43</td>\n",
       "      <td>INDEX_YEAR_2011</td>\n",
       "      <td>0.008266</td>\n",
       "    </tr>\n",
       "    <tr>\n",
       "      <th>47</th>\n",
       "      <td>40</td>\n",
       "      <td>CENSUS_REGION_West</td>\n",
       "      <td>0.008066</td>\n",
       "    </tr>\n",
       "    <tr>\n",
       "      <th>48</th>\n",
       "      <td>58</td>\n",
       "      <td>RACE_GROUP_Other</td>\n",
       "      <td>0.007428</td>\n",
       "    </tr>\n",
       "    <tr>\n",
       "      <th>49</th>\n",
       "      <td>23</td>\n",
       "      <td>CRYST_RES_VOL_CATEGORY_NONE</td>\n",
       "      <td>0.007074</td>\n",
       "    </tr>\n",
       "    <tr>\n",
       "      <th>50</th>\n",
       "      <td>42</td>\n",
       "      <td>INDEX_YEAR_2010</td>\n",
       "      <td>0.007066</td>\n",
       "    </tr>\n",
       "    <tr>\n",
       "      <th>51</th>\n",
       "      <td>19</td>\n",
       "      <td>ARDS_MODERATE ARDS</td>\n",
       "      <td>0.006624</td>\n",
       "    </tr>\n",
       "    <tr>\n",
       "      <th>52</th>\n",
       "      <td>63</td>\n",
       "      <td>DISCHARGE_CATEGORY_NOT SPECIFIED</td>\n",
       "      <td>0.006202</td>\n",
       "    </tr>\n",
       "    <tr>\n",
       "      <th>53</th>\n",
       "      <td>53</td>\n",
       "      <td>PAYER_GROUP_Self</td>\n",
       "      <td>0.005684</td>\n",
       "    </tr>\n",
       "    <tr>\n",
       "      <th>54</th>\n",
       "      <td>41</td>\n",
       "      <td>INDEX_YEAR_2009</td>\n",
       "      <td>0.005417</td>\n",
       "    </tr>\n",
       "    <tr>\n",
       "      <th>55</th>\n",
       "      <td>26</td>\n",
       "      <td>GLYCEMIA_HYPOGLYCEMIA</td>\n",
       "      <td>0.005185</td>\n",
       "    </tr>\n",
       "    <tr>\n",
       "      <th>56</th>\n",
       "      <td>18</td>\n",
       "      <td>ARDS_MILD ARDS</td>\n",
       "      <td>0.004726</td>\n",
       "    </tr>\n",
       "    <tr>\n",
       "      <th>57</th>\n",
       "      <td>7</td>\n",
       "      <td>SBP</td>\n",
       "      <td>0.004318</td>\n",
       "    </tr>\n",
       "    <tr>\n",
       "      <th>58</th>\n",
       "      <td>5</td>\n",
       "      <td>HRS</td>\n",
       "      <td>0.004180</td>\n",
       "    </tr>\n",
       "    <tr>\n",
       "      <th>59</th>\n",
       "      <td>20</td>\n",
       "      <td>ARDS_SEVERE ARDS</td>\n",
       "      <td>0.003974</td>\n",
       "    </tr>\n",
       "    <tr>\n",
       "      <th>60</th>\n",
       "      <td>51</td>\n",
       "      <td>PAYER_GROUP_Oth. Govt. or Mil.</td>\n",
       "      <td>0.003496</td>\n",
       "    </tr>\n",
       "    <tr>\n",
       "      <th>61</th>\n",
       "      <td>57</td>\n",
       "      <td>RACE_GROUP_Not Specified</td>\n",
       "      <td>0.002483</td>\n",
       "    </tr>\n",
       "    <tr>\n",
       "      <th>62</th>\n",
       "      <td>55</td>\n",
       "      <td>RACE_GROUP_Asian/Pacific Islander</td>\n",
       "      <td>0.002330</td>\n",
       "    </tr>\n",
       "    <tr>\n",
       "      <th>63</th>\n",
       "      <td>52</td>\n",
       "      <td>PAYER_GROUP_Oth. NGO or Work Comp.</td>\n",
       "      <td>0.002241</td>\n",
       "    </tr>\n",
       "    <tr>\n",
       "      <th>64</th>\n",
       "      <td>56</td>\n",
       "      <td>RACE_GROUP_Hispanic</td>\n",
       "      <td>0.002024</td>\n",
       "    </tr>\n",
       "    <tr>\n",
       "      <th>65</th>\n",
       "      <td>62</td>\n",
       "      <td>DISCHARGE_CATEGORY_INPATIENT HOSPITAL</td>\n",
       "      <td>0.001740</td>\n",
       "    </tr>\n",
       "  </tbody>\n",
       "</table>\n",
       "<p>66 rows × 3 columns</p>\n",
       "</div>"
      ],
      "text/plain": [
       "    index                                           feature  importance\n",
       "0      14                                  ELIXHAUSER_INDEX    0.083216\n",
       "1      15                                           MELD_Na    0.079239\n",
       "2      11                                       VASOPRESSOR    0.047602\n",
       "3      21                   CRYST_RES_VOL_CATEGORY_(0, 500]    0.044018\n",
       "4       0                                               ABX    0.039674\n",
       "5      16                                AKI_CATEGORY2_MILD    0.037221\n",
       "6      28                      TIME_TO_ALB_CATEGORY_LOS_>24    0.036215\n",
       "7      10                                       VENTILATION    0.027702\n",
       "8      65                            DISCHARGE_CATEGORY_SNF    0.022889\n",
       "9       2                                          DIURETIC    0.022581\n",
       "10     12                                            FEMALE    0.019240\n",
       "11      8                                            SEPSIS    0.018882\n",
       "12     17                              AKI_CATEGORY2_SEVERE    0.018800\n",
       "13      6                                               LVP    0.018478\n",
       "14     25                            GLYCEMIA_HYPERGLYCEMIA    0.017440\n",
       "15     24                                     GLYCEMIA_BOTH    0.016372\n",
       "16     32                                   AGE_GROUP_50-64    0.015368\n",
       "17     49                              PAYER_GROUP_Medicare    0.015080\n",
       "18      9                                          STEROIDS    0.014399\n",
       "19     46                                   INDEX_YEAR_2014    0.014240\n",
       "20     47                                   INDEX_YEAR_2015    0.013720\n",
       "21     39                           CENSUS_REGION_Northeast    0.013707\n",
       "22     37                                     BED_SIZE_500+    0.013330\n",
       "23     33                                     AGE_GROUP_65+    0.013173\n",
       "24      4                                                HE    0.013142\n",
       "25     22                CRYST_RES_VOL_CATEGORY_(500, 1250]    0.012678\n",
       "26      1                                      BETA_BLOCKER    0.012453\n",
       "27     54                       RACE_GROUP_African American    0.012102\n",
       "28     48                              PAYER_GROUP_Medicaid    0.012068\n",
       "29     13                                             RURAL    0.012015\n",
       "..    ...                                               ...         ...\n",
       "36     50                       PAYER_GROUP_Null or Exclude    0.010389\n",
       "37     38                             CENSUS_REGION_Midwest    0.010101\n",
       "38     35                                  BED_SIZE_200-299    0.009970\n",
       "39     44                                   INDEX_YEAR_2012    0.009713\n",
       "40     64  DISCHARGE_CATEGORY_OTHER POST-ACUTE CARE SETTING    0.009405\n",
       "41     29                     ADMISSION_TYPE_GROUP_Elective    0.009203\n",
       "42     34                                  BED_SIZE_100-199    0.009073\n",
       "43     59                   TEACHING_FACILITY_Not Specified    0.008962\n",
       "44     61                        DISCHARGE_CATEGORY_HOSPICE    0.008932\n",
       "45     27                  TIME_TO_ALB_CATEGORY_LOS_(0, 24]    0.008704\n",
       "46     43                                   INDEX_YEAR_2011    0.008266\n",
       "47     40                                CENSUS_REGION_West    0.008066\n",
       "48     58                                  RACE_GROUP_Other    0.007428\n",
       "49     23                       CRYST_RES_VOL_CATEGORY_NONE    0.007074\n",
       "50     42                                   INDEX_YEAR_2010    0.007066\n",
       "51     19                                ARDS_MODERATE ARDS    0.006624\n",
       "52     63                  DISCHARGE_CATEGORY_NOT SPECIFIED    0.006202\n",
       "53     53                                  PAYER_GROUP_Self    0.005684\n",
       "54     41                                   INDEX_YEAR_2009    0.005417\n",
       "55     26                             GLYCEMIA_HYPOGLYCEMIA    0.005185\n",
       "56     18                                    ARDS_MILD ARDS    0.004726\n",
       "57      7                                               SBP    0.004318\n",
       "58      5                                               HRS    0.004180\n",
       "59     20                                  ARDS_SEVERE ARDS    0.003974\n",
       "60     51                    PAYER_GROUP_Oth. Govt. or Mil.    0.003496\n",
       "61     57                          RACE_GROUP_Not Specified    0.002483\n",
       "62     55                 RACE_GROUP_Asian/Pacific Islander    0.002330\n",
       "63     52                PAYER_GROUP_Oth. NGO or Work Comp.    0.002241\n",
       "64     56                               RACE_GROUP_Hispanic    0.002024\n",
       "65     62             DISCHARGE_CATEGORY_INPATIENT HOSPITAL    0.001740\n",
       "\n",
       "[66 rows x 3 columns]"
      ]
     },
     "execution_count": 76,
     "metadata": {},
     "output_type": "execute_result"
    }
   ],
   "source": [
    "# sort dataframe by feature importances\n",
    "feature_importances_srt = feature_importances.sort_values(by='importance', ascending = False).reset_index()\n",
    "feature_importances_srt"
   ]
  },
  {
   "cell_type": "code",
   "execution_count": 77,
   "metadata": {
    "hidden": true
   },
   "outputs": [
    {
     "data": {
      "image/png": "[encoded data removed]",
      "text/plain": [
       "<Figure size 432x288 with 1 Axes>"
      ]
     },
     "metadata": {
      "needs_background": "light"
     },
     "output_type": "display_data"
    }
   ],
   "source": [
    "# plot Top 20 feature importances\n",
    "feature_importances_top20 = feature_importances_srt.iloc[0:20, :]\n",
    "feature_importances_top20.sort_values(by='importance', ascending = True, inplace = True)\n",
    "feature_importances_top20.plot(x = 'feature', y = 'importance', kind = 'barh', legend = False)\n",
    "plt.title('Feature Importance')\n",
    "plt.show()"
   ]
  },
  {
   "cell_type": "markdown",
   "metadata": {
    "heading_collapsed": true
   },
   "source": [
    "# Refine Model using Top Features"
   ]
  },
  {
   "cell_type": "markdown",
   "metadata": {
    "hidden": true
   },
   "source": [
    "## Select Top Important Features"
   ]
  },
  {
   "cell_type": "code",
   "execution_count": 79,
   "metadata": {
    "hidden": true
   },
   "outputs": [
    {
     "data": {
      "text/plain": [
       "['ELIXHAUSER_INDEX',\n",
       " 'MELD_Na',\n",
       " 'VASOPRESSOR',\n",
       " 'CRYST_RES_VOL_CATEGORY_(0, 500]',\n",
       " 'ABX',\n",
       " 'AKI_CATEGORY2_MILD',\n",
       " 'TIME_TO_ALB_CATEGORY_LOS_>24',\n",
       " 'VENTILATION',\n",
       " 'DISCHARGE_CATEGORY_SNF',\n",
       " 'DIURETIC']"
      ]
     },
     "execution_count": 79,
     "metadata": {},
     "output_type": "execute_result"
    }
   ],
   "source": [
    "# select Top 10 important features\n",
    "top10_features = list(feature_importances_srt.iloc[0:10, 1])\n",
    "top10_features"
   ]
  },
  {
   "cell_type": "code",
   "execution_count": 80,
   "metadata": {
    "hidden": true
   },
   "outputs": [],
   "source": [
    "# subset important features\n",
    "X_train_top = X_train[top10_features]\n",
    "X_test_top = X_test[top10_features]"
   ]
  },
  {
   "cell_type": "code",
   "execution_count": 81,
   "metadata": {
    "hidden": true
   },
   "outputs": [
    {
     "data": {
      "text/plain": [
       "StandardScaler(copy=True, with_mean=True, with_std=True)"
      ]
     },
     "execution_count": 81,
     "metadata": {},
     "output_type": "execute_result"
    }
   ],
   "source": [
    "# fit standardizer to training set\n",
    "standardizer_top = StandardScaler()\n",
    "standardizer_top.fit(X_train_top)"
   ]
  },
  {
   "cell_type": "code",
   "execution_count": 82,
   "metadata": {
    "hidden": true
   },
   "outputs": [],
   "source": [
    "# apply to both training and test sets\n",
    "X_train_top_std = standardizer_top.transform(X_train_top)\n",
    "X_test_top_std = standardizer_top.transform(X_test_top)"
   ]
  },
  {
   "cell_type": "markdown",
   "metadata": {
    "hidden": true
   },
   "source": [
    "## Machine Learning Model - Refined Logistic Regression"
   ]
  },
  {
   "cell_type": "code",
   "execution_count": 83,
   "metadata": {
    "hidden": true
   },
   "outputs": [],
   "source": [
    "# create a refined Logistic model\n",
    "refined_logit = LogisticRegression(class_weight = 'balanced', random_state = 12345)"
   ]
  },
  {
   "cell_type": "code",
   "execution_count": 84,
   "metadata": {
    "hidden": true
   },
   "outputs": [
    {
     "data": {
      "text/plain": [
       "LogisticRegression(C=1.0, class_weight='balanced', dual=False,\n",
       "          fit_intercept=True, intercept_scaling=1, max_iter=100,\n",
       "          multi_class='warn', n_jobs=None, penalty='l2',\n",
       "          random_state=12345, solver='warn', tol=0.0001, verbose=0,\n",
       "          warm_start=False)"
      ]
     },
     "execution_count": 84,
     "metadata": {},
     "output_type": "execute_result"
    }
   ],
   "source": [
    "# train the model on training data\n",
    "refined_logit.fit(X_train_top_std , y_train)"
   ]
  },
  {
   "cell_type": "code",
   "execution_count": 85,
   "metadata": {
    "hidden": true
   },
   "outputs": [],
   "source": [
    "# predict test data\n",
    "y_pred_top_logit = refined_logit.predict(X_test_top_std)\n",
    "y_pred_prob_top_logit = refined_logit.predict_proba(X_test_top_std)"
   ]
  },
  {
   "cell_type": "code",
   "execution_count": 86,
   "metadata": {
    "hidden": true
   },
   "outputs": [
    {
     "data": {
      "image/png": "[encoded data removed]",
      "text/plain": [
       "<Figure size 432x288 with 2 Axes>"
      ]
     },
     "metadata": {
      "needs_background": "light"
     },
     "output_type": "display_data"
    }
   ],
   "source": [
    "# plot confusion matrix\n",
    "skplt.metrics.plot_confusion_matrix(y_test, y_pred_top_logit)\n",
    "plt.show()"
   ]
  },
  {
   "cell_type": "code",
   "execution_count": 87,
   "metadata": {
    "hidden": true
   },
   "outputs": [
    {
     "name": "stdout",
     "output_type": "stream",
     "text": [
      "              precision    recall  f1-score   support\n",
      "\n",
      "           0       0.89      0.75      0.81     16807\n",
      "           1       0.48      0.72      0.57      5476\n",
      "\n",
      "   micro avg       0.74      0.74      0.74     22283\n",
      "   macro avg       0.68      0.73      0.69     22283\n",
      "weighted avg       0.79      0.74      0.75     22283\n",
      "\n"
     ]
    }
   ],
   "source": [
    "# print classification report\n",
    "print(classification_report(y_test, y_pred_top_logit))"
   ]
  },
  {
   "cell_type": "code",
   "execution_count": 88,
   "metadata": {
    "hidden": true
   },
   "outputs": [
    {
     "data": {
      "image/png": "[encoded data removed]",
      "text/plain": [
       "<Figure size 432x288 with 1 Axes>"
      ]
     },
     "metadata": {
      "needs_background": "light"
     },
     "output_type": "display_data"
    }
   ],
   "source": [
    "# plot ROC curves\n",
    "skplt.metrics.plot_roc_curve(y_test, y_pred_prob_top_logit, curves = ('each_class'))\n",
    "plt.show()"
   ]
  },
  {
   "cell_type": "code",
   "execution_count": 89,
   "metadata": {
    "hidden": true
   },
   "outputs": [
    {
     "data": {
      "image/png": "[encoded data removed]",
      "text/plain": [
       "<Figure size 432x288 with 1 Axes>"
      ]
     },
     "metadata": {
      "needs_background": "light"
     },
     "output_type": "display_data"
    }
   ],
   "source": [
    "# plot Precision-Recall curve\n",
    "skplt.metrics.plot_precision_recall_curve(y_test, y_pred_prob_top_logit, curves = ('each_class'))\n",
    "plt.show()"
   ]
  },
  {
   "cell_type": "markdown",
   "metadata": {
    "heading_collapsed": true,
    "hidden": true
   },
   "source": [
    "## Machine Learning Model - Refined Random Forests"
   ]
  },
  {
   "cell_type": "code",
   "execution_count": 90,
   "metadata": {
    "hidden": true
   },
   "outputs": [],
   "source": [
    "# create a refined Random Forest model\n",
    "refined_rf = RandomForestClassifier(n_estimators = 1000, class_weight = 'balanced', random_state = 12345)"
   ]
  },
  {
   "cell_type": "code",
   "execution_count": 91,
   "metadata": {
    "hidden": true
   },
   "outputs": [
    {
     "data": {
      "text/plain": [
       "RandomForestClassifier(bootstrap=True, class_weight='balanced',\n",
       "            criterion='gini', max_depth=None, max_features='auto',\n",
       "            max_leaf_nodes=None, min_impurity_decrease=0.0,\n",
       "            min_impurity_split=None, min_samples_leaf=1,\n",
       "            min_samples_split=2, min_weight_fraction_leaf=0.0,\n",
       "            n_estimators=1000, n_jobs=None, oob_score=False,\n",
       "            random_state=12345, verbose=0, warm_start=False)"
      ]
     },
     "execution_count": 91,
     "metadata": {},
     "output_type": "execute_result"
    }
   ],
   "source": [
    "# train the model on training data\n",
    "refined_rf.fit(X_train_top_std, y_train)"
   ]
  },
  {
   "cell_type": "code",
   "execution_count": 92,
   "metadata": {
    "hidden": true
   },
   "outputs": [],
   "source": [
    "# predict test data\n",
    "y_pred_top_rf = refined_rf.predict(X_test_top_std)\n",
    "y_pred_prob_top_rf = refined_rf.predict_proba(X_test_top_std)"
   ]
  },
  {
   "cell_type": "code",
   "execution_count": 93,
   "metadata": {
    "hidden": true
   },
   "outputs": [
    {
     "data": {
      "image/png": "[encoded data removed]",
      "text/plain": [
       "<Figure size 432x288 with 2 Axes>"
      ]
     },
     "metadata": {
      "needs_background": "light"
     },
     "output_type": "display_data"
    }
   ],
   "source": [
    "# plot confusion matrix\n",
    "skplt.metrics.plot_confusion_matrix(y_test, y_pred_top_rf)\n",
    "plt.show()"
   ]
  },
  {
   "cell_type": "code",
   "execution_count": 94,
   "metadata": {
    "hidden": true
   },
   "outputs": [
    {
     "name": "stdout",
     "output_type": "stream",
     "text": [
      "              precision    recall  f1-score   support\n",
      "\n",
      "           0       0.83      0.85      0.84     16807\n",
      "           1       0.51      0.47      0.49      5476\n",
      "\n",
      "   micro avg       0.76      0.76      0.76     22283\n",
      "   macro avg       0.67      0.66      0.66     22283\n",
      "weighted avg       0.75      0.76      0.75     22283\n",
      "\n"
     ]
    }
   ],
   "source": [
    "# print classification report\n",
    "print(classification_report(y_test, y_pred_top_rf))"
   ]
  },
  {
   "cell_type": "code",
   "execution_count": 95,
   "metadata": {
    "hidden": true
   },
   "outputs": [
    {
     "data": {
      "image/png": "[encoded data removed]",
      "text/plain": [
       "<Figure size 432x288 with 1 Axes>"
      ]
     },
     "metadata": {
      "needs_background": "light"
     },
     "output_type": "display_data"
    }
   ],
   "source": [
    "# plot ROC curves\n",
    "skplt.metrics.plot_roc_curve(y_test, y_pred_prob_top_rf, curves = ('each_class'))\n",
    "plt.show()"
   ]
  },
  {
   "cell_type": "code",
   "execution_count": 96,
   "metadata": {
    "hidden": true
   },
   "outputs": [
    {
     "data": {
      "image/png": "[encoded data removed]",
      "text/plain": [
       "<Figure size 432x288 with 1 Axes>"
      ]
     },
     "metadata": {
      "needs_background": "light"
     },
     "output_type": "display_data"
    }
   ],
   "source": [
    "# plot Precision-Recall curve\n",
    "skplt.metrics.plot_precision_recall_curve(y_test, y_pred_prob_top_rf, curves = ('each_class'))\n",
    "plt.show()"
   ]
  },
  {
   "cell_type": "markdown",
   "metadata": {
    "heading_collapsed": true
   },
   "source": [
    "# Conclusion"
   ]
  },
  {
   "cell_type": "markdown",
   "metadata": {
    "hidden": true
   },
   "source": []
  }
 ],
 "metadata": {
  "kernelspec": {
   "display_name": "Python 3",
   "language": "python",
   "name": "python3"
  },
  "language_info": {
   "codemirror_mode": {
    "name": "ipython",
    "version": 3
   },
   "file_extension": ".py",
   "mimetype": "text/x-python",
   "name": "python",
   "nbconvert_exporter": "python",
   "pygments_lexer": "ipython3",
   "version": "3.7.1"
  },
  "toc": {
   "base_numbering": 1,
   "nav_menu": {},
   "number_sections": true,
   "sideBar": true,
   "skip_h1_title": false,
   "title_cell": "Table of Contents",
   "title_sidebar": "Contents",
   "toc_cell": false,
   "toc_position": {},
   "toc_section_display": true,
   "toc_window_display": false
  },
  "varInspector": {
   "cols": {
    "lenName": 16,
    "lenType": 16,
    "lenVar": 40
   },
   "kernels_config": {
    "python": {
     "delete_cmd_postfix": "",
     "delete_cmd_prefix": "del ",
     "library": "var_list.py",
     "varRefreshCmd": "print(var_dic_list())"
    },
    "r": {
     "delete_cmd_postfix": ") ",
     "delete_cmd_prefix": "rm(",
     "library": "var_list.r",
     "varRefreshCmd": "cat(var_dic_list()) "
    }
   },
   "types_to_exclude": [
    "module",
    "function",
    "builtin_function_or_method",
    "instance",
    "_Feature"
   ],
   "window_display": false
  }
 },
 "nbformat": 4,
 "nbformat_minor": 2
}
