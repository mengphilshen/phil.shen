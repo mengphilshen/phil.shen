{
 "cells": [
  {
   "cell_type": "markdown",
   "metadata": {
    "heading_collapsed": true
   },
   "source": [
    "# Introduction"
   ]
  },
  {
   "cell_type": "markdown",
   "metadata": {
    "hidden": true
   },
   "source": [
    "This report is to investigate the following questions:\n",
    "\n",
    "* What are the main factors that will make patients with cirrhosis stay longer in hospital?"
   ]
  },
  {
   "cell_type": "markdown",
   "metadata": {
    "heading_collapsed": true
   },
   "source": [
    "# Data Import"
   ]
  },
  {
   "cell_type": "code",
   "execution_count": 11,
   "metadata": {
    "hidden": true
   },
   "outputs": [],
   "source": [
    "# import modules\n",
    "import numpy as np\n",
    "import pandas as pd\n",
    "import matplotlib.pyplot as plt\n",
    "import seaborn as sns\n",
    "import scikitplot as skplt\n",
    "import statsmodels.api as sm\n",
    "from sklearn.preprocessing import StandardScaler\n",
    "from sklearn.decomposition import PCA\n",
    "from sklearn.model_selection import train_test_split, GridSearchCV\n",
    "from sklearn.linear_model import LogisticRegression\n",
    "from sklearn.ensemble import RandomForestClassifier\n",
    "from sklearn.metrics import confusion_matrix, classification_report\n",
    "import warnings\n",
    "warnings.filterwarnings('ignore')"
   ]
  },
  {
   "cell_type": "code",
   "execution_count": 97,
   "metadata": {
    "collapsed": true,
    "hidden": true
   },
   "outputs": [
    {
     "name": "stdout",
     "output_type": "stream",
     "text": [
      "<class 'pandas.core.frame.DataFrame'>\n",
      "RangeIndex: 86432 entries, 0 to 86431\n",
      "Data columns (total 31 columns):\n",
      "VISIT_ID2                   86432 non-null int64\n",
      "MORTALITY                   86432 non-null int64\n",
      "AKI_CATEGORY2               86432 non-null object\n",
      "ARDS                        86432 non-null object\n",
      "ABX                         86432 non-null int64\n",
      "BETA_BLOCKER                86432 non-null int64\n",
      "CRYST_RES_VOL_CATEGORY      86432 non-null object\n",
      "DIURETIC                    86432 non-null int64\n",
      "GIDX_BLEEDING               86432 non-null int64\n",
      "GLYCEMIA                    86432 non-null object\n",
      "HE                          86432 non-null int64\n",
      "HRS                         86432 non-null int64\n",
      "LVP                         86432 non-null int64\n",
      "SBP                         86432 non-null int64\n",
      "SEPSIS                      86432 non-null int64\n",
      "STEROIDS                    86432 non-null int64\n",
      "TIME_TO_ALB_CATEGORY_LOS    86432 non-null object\n",
      "VENTILATION                 86432 non-null int64\n",
      "VASOPRESSOR                 86432 non-null int64\n",
      "ADMISSION_TYPE_GROUP        86432 non-null object\n",
      "AGE_GROUP                   86432 non-null object\n",
      "BED_SIZE                    86432 non-null object\n",
      "CENSUS_REGION               86432 non-null object\n",
      "FEMALE                      86432 non-null int64\n",
      "INDEX_YEAR                  86432 non-null int64\n",
      "PAYER_GROUP                 86432 non-null object\n",
      "RACE_GROUP                  86432 non-null object\n",
      "TEACHING_FACILITY           86432 non-null object\n",
      "RURAL                       86432 non-null int64\n",
      "ELIXHAUSER_INDEX            86400 non-null float64\n",
      "MELD_Na                     83206 non-null float64\n",
      "dtypes: float64(2), int64(17), object(12)\n",
      "memory usage: 20.4+ MB\n"
     ]
    }
   ],
   "source": [
    "# load mortality data\n",
    "Cirrhosis_MOR0 = pd.read_csv('/Users/mengphilshen/Dropbox/Project/Data_Challenges/Proj_Cirrhosis/data/cir_mortality.csv')\n",
    "Cirrhosis_MOR0.info()"
   ]
  },
  {
   "cell_type": "code",
   "execution_count": 98,
   "metadata": {
    "collapsed": true,
    "hidden": true
   },
   "outputs": [
    {
     "name": "stdout",
     "output_type": "stream",
     "text": [
      "<class 'pandas.core.frame.DataFrame'>\n",
      "RangeIndex: 77176 entries, 0 to 77175\n",
      "Data columns (total 5 columns):\n",
      "VISIT_ID2             77176 non-null int64\n",
      "DISCHARGE_CATEGORY    77176 non-null object\n",
      "LOS_DAYS              77176 non-null float64\n",
      "LONG_LOS_DAYS         77176 non-null int64\n",
      "LONG_LOS              77176 non-null int64\n",
      "dtypes: float64(1), int64(3), object(1)\n",
      "memory usage: 2.9+ MB\n"
     ]
    }
   ],
   "source": [
    "# load LOS data\n",
    "Cirrhosis_LOS0 = pd.read_csv('/Users/mengphilshen/Dropbox/Project/Data_Challenges/Proj_Cirrhosis/data/cir_hospital_los.csv')\n",
    "Cirrhosis_LOS0.info()"
   ]
  },
  {
   "cell_type": "code",
   "execution_count": 99,
   "metadata": {
    "collapsed": true,
    "hidden": true
   },
   "outputs": [
    {
     "name": "stdout",
     "output_type": "stream",
     "text": [
      "<class 'pandas.core.frame.DataFrame'>\n",
      "Int64Index: 77176 entries, 0 to 77175\n",
      "Data columns (total 35 columns):\n",
      "VISIT_ID2                   77176 non-null int64\n",
      "MORTALITY                   77176 non-null int64\n",
      "AKI_CATEGORY2               77176 non-null object\n",
      "ARDS                        77176 non-null object\n",
      "ABX                         77176 non-null int64\n",
      "BETA_BLOCKER                77176 non-null int64\n",
      "CRYST_RES_VOL_CATEGORY      77176 non-null object\n",
      "DIURETIC                    77176 non-null int64\n",
      "GIDX_BLEEDING               77176 non-null int64\n",
      "GLYCEMIA                    77176 non-null object\n",
      "HE                          77176 non-null int64\n",
      "HRS                         77176 non-null int64\n",
      "LVP                         77176 non-null int64\n",
      "SBP                         77176 non-null int64\n",
      "SEPSIS                      77176 non-null int64\n",
      "STEROIDS                    77176 non-null int64\n",
      "TIME_TO_ALB_CATEGORY_LOS    77176 non-null object\n",
      "VENTILATION                 77176 non-null int64\n",
      "VASOPRESSOR                 77176 non-null int64\n",
      "ADMISSION_TYPE_GROUP        77176 non-null object\n",
      "AGE_GROUP                   77176 non-null object\n",
      "BED_SIZE                    77176 non-null object\n",
      "CENSUS_REGION               77176 non-null object\n",
      "FEMALE                      77176 non-null int64\n",
      "INDEX_YEAR                  77176 non-null int64\n",
      "PAYER_GROUP                 77176 non-null object\n",
      "RACE_GROUP                  77176 non-null object\n",
      "TEACHING_FACILITY           77176 non-null object\n",
      "RURAL                       77176 non-null int64\n",
      "ELIXHAUSER_INDEX            77153 non-null float64\n",
      "MELD_Na                     74295 non-null float64\n",
      "DISCHARGE_CATEGORY          77176 non-null object\n",
      "LOS_DAYS                    77176 non-null float64\n",
      "LONG_LOS_DAYS               77176 non-null int64\n",
      "LONG_LOS                    77176 non-null int64\n",
      "dtypes: float64(3), int64(19), object(13)\n",
      "memory usage: 21.2+ MB\n"
     ]
    }
   ],
   "source": [
    "# join dataframes on VISIT_ID2\n",
    "Cirrhosis_LOS1 = pd.merge(Cirrhosis_MOR0, Cirrhosis_LOS0, on = 'VISIT_ID2')\n",
    "Cirrhosis_LOS1.info()"
   ]
  },
  {
   "cell_type": "code",
   "execution_count": 101,
   "metadata": {
    "collapsed": true,
    "hidden": true
   },
   "outputs": [
    {
     "name": "stdout",
     "output_type": "stream",
     "text": [
      "<class 'pandas.core.frame.DataFrame'>\n",
      "Int64Index: 77176 entries, 0 to 77175\n",
      "Data columns (total 32 columns):\n",
      "VISIT_ID2                   77176 non-null int64\n",
      "AKI_CATEGORY2               77176 non-null object\n",
      "ARDS                        77176 non-null object\n",
      "ABX                         77176 non-null int64\n",
      "BETA_BLOCKER                77176 non-null int64\n",
      "CRYST_RES_VOL_CATEGORY      77176 non-null object\n",
      "DIURETIC                    77176 non-null int64\n",
      "GIDX_BLEEDING               77176 non-null int64\n",
      "GLYCEMIA                    77176 non-null object\n",
      "HE                          77176 non-null int64\n",
      "HRS                         77176 non-null int64\n",
      "LVP                         77176 non-null int64\n",
      "SBP                         77176 non-null int64\n",
      "SEPSIS                      77176 non-null int64\n",
      "STEROIDS                    77176 non-null int64\n",
      "TIME_TO_ALB_CATEGORY_LOS    77176 non-null object\n",
      "VENTILATION                 77176 non-null int64\n",
      "VASOPRESSOR                 77176 non-null int64\n",
      "ADMISSION_TYPE_GROUP        77176 non-null object\n",
      "AGE_GROUP                   77176 non-null object\n",
      "BED_SIZE                    77176 non-null object\n",
      "CENSUS_REGION               77176 non-null object\n",
      "FEMALE                      77176 non-null int64\n",
      "INDEX_YEAR                  77176 non-null int64\n",
      "PAYER_GROUP                 77176 non-null object\n",
      "RACE_GROUP                  77176 non-null object\n",
      "TEACHING_FACILITY           77176 non-null object\n",
      "RURAL                       77176 non-null int64\n",
      "ELIXHAUSER_INDEX            77153 non-null float64\n",
      "MELD_Na                     74295 non-null float64\n",
      "DISCHARGE_CATEGORY          77176 non-null object\n",
      "LONG_LOS                    77176 non-null int64\n",
      "dtypes: float64(2), int64(17), object(13)\n",
      "memory usage: 19.4+ MB\n"
     ]
    }
   ],
   "source": [
    "# drop variables\n",
    "Cirrhosis_LOS2 = Cirrhosis_LOS1.drop(['MORTALITY', 'LOS_DAYS', 'LONG_LOS_DAYS'], axis = 1)\n",
    "Cirrhosis_LOS2.info()"
   ]
  },
  {
   "cell_type": "code",
   "execution_count": 102,
   "metadata": {
    "hidden": true
   },
   "outputs": [],
   "source": [
    "# set index\n",
    "Cirrhosis_LOS2.set_index(['VISIT_ID2'], inplace = True)"
   ]
  },
  {
   "cell_type": "markdown",
   "metadata": {},
   "source": [
    "# Data Cleaning"
   ]
  },
  {
   "cell_type": "markdown",
   "metadata": {
    "heading_collapsed": true
   },
   "source": [
    "## Delete Missing Values"
   ]
  },
  {
   "cell_type": "code",
   "execution_count": 103,
   "metadata": {
    "hidden": true
   },
   "outputs": [
    {
     "data": {
      "text/html": [
       "<div>\n",
       "<style scoped>\n",
       "    .dataframe tbody tr th:only-of-type {\n",
       "        vertical-align: middle;\n",
       "    }\n",
       "\n",
       "    .dataframe tbody tr th {\n",
       "        vertical-align: top;\n",
       "    }\n",
       "\n",
       "    .dataframe thead th {\n",
       "        text-align: right;\n",
       "    }\n",
       "</style>\n",
       "<table border=\"1\" class=\"dataframe\">\n",
       "  <thead>\n",
       "    <tr style=\"text-align: right;\">\n",
       "      <th></th>\n",
       "      <th>variable</th>\n",
       "      <th>missing values</th>\n",
       "      <th>missing %</th>\n",
       "    </tr>\n",
       "  </thead>\n",
       "  <tbody>\n",
       "    <tr>\n",
       "      <th>0</th>\n",
       "      <td>MELD_Na</td>\n",
       "      <td>2881</td>\n",
       "      <td>3.733026</td>\n",
       "    </tr>\n",
       "    <tr>\n",
       "      <th>1</th>\n",
       "      <td>ELIXHAUSER_INDEX</td>\n",
       "      <td>23</td>\n",
       "      <td>0.029802</td>\n",
       "    </tr>\n",
       "  </tbody>\n",
       "</table>\n",
       "</div>"
      ],
      "text/plain": [
       "           variable  missing values  missing %\n",
       "0           MELD_Na            2881   3.733026\n",
       "1  ELIXHAUSER_INDEX              23   0.029802"
      ]
     },
     "execution_count": 103,
     "metadata": {},
     "output_type": "execute_result"
    }
   ],
   "source": [
    "# check missing values\n",
    "missing_data = Cirrhosis_LOS2.isnull().sum(axis = 0).reset_index()\n",
    "missing_data.columns = ['variable', 'missing values']\n",
    "missing_data['missing %'] = missing_data['missing values'] / Cirrhosis_LOS2.shape[0] * 100\n",
    "missing_data_srt = missing_data.sort_values('missing %', ascending = False).reset_index(drop = True)\n",
    "missing_data_srt[missing_data_srt['missing %'] > 0]"
   ]
  },
  {
   "cell_type": "code",
   "execution_count": 104,
   "metadata": {
    "hidden": true
   },
   "outputs": [
    {
     "data": {
      "text/plain": [
       "(74275, 31)"
      ]
     },
     "execution_count": 104,
     "metadata": {},
     "output_type": "execute_result"
    }
   ],
   "source": [
    "# delete missing values\n",
    "Cirrhosis_LOS3 = Cirrhosis_LOS2.dropna()\n",
    "Cirrhosis_LOS3.shape"
   ]
  },
  {
   "cell_type": "markdown",
   "metadata": {
    "heading_collapsed": true
   },
   "source": [
    "## Encode Categorical Features"
   ]
  },
  {
   "cell_type": "code",
   "execution_count": 105,
   "metadata": {
    "hidden": true
   },
   "outputs": [],
   "source": [
    "# convert feature types\n",
    "Cirrhosis_LOS3['INDEX_YEAR'] = Cirrhosis_LOS3['INDEX_YEAR'].apply(str)"
   ]
  },
  {
   "cell_type": "code",
   "execution_count": 106,
   "metadata": {
    "collapsed": true,
    "hidden": true
   },
   "outputs": [
    {
     "name": "stdout",
     "output_type": "stream",
     "text": [
      "<class 'pandas.core.frame.DataFrame'>\n",
      "Int64Index: 74275 entries, 326305398 to 283396498\n",
      "Data columns (total 81 columns):\n",
      "ABX                                                 74275 non-null int64\n",
      "BETA_BLOCKER                                        74275 non-null int64\n",
      "DIURETIC                                            74275 non-null int64\n",
      "GIDX_BLEEDING                                       74275 non-null int64\n",
      "HE                                                  74275 non-null int64\n",
      "HRS                                                 74275 non-null int64\n",
      "LVP                                                 74275 non-null int64\n",
      "SBP                                                 74275 non-null int64\n",
      "SEPSIS                                              74275 non-null int64\n",
      "STEROIDS                                            74275 non-null int64\n",
      "VENTILATION                                         74275 non-null int64\n",
      "VASOPRESSOR                                         74275 non-null int64\n",
      "FEMALE                                              74275 non-null int64\n",
      "RURAL                                               74275 non-null int64\n",
      "ELIXHAUSER_INDEX                                    74275 non-null float64\n",
      "MELD_Na                                             74275 non-null float64\n",
      "LONG_LOS                                            74275 non-null int64\n",
      "AKI_CATEGORY2_MILD                                  74275 non-null uint8\n",
      "AKI_CATEGORY2_NONE                                  74275 non-null uint8\n",
      "AKI_CATEGORY2_SEVERE                                74275 non-null uint8\n",
      "ARDS_MILD ARDS                                      74275 non-null uint8\n",
      "ARDS_MODERATE ARDS                                  74275 non-null uint8\n",
      "ARDS_NONE                                           74275 non-null uint8\n",
      "ARDS_SEVERE ARDS                                    74275 non-null uint8\n",
      "CRYST_RES_VOL_CATEGORY_(0, 500]                     74275 non-null uint8\n",
      "CRYST_RES_VOL_CATEGORY_(500, 1250]                  74275 non-null uint8\n",
      "CRYST_RES_VOL_CATEGORY_>1250                        74275 non-null uint8\n",
      "CRYST_RES_VOL_CATEGORY_NONE                         74275 non-null uint8\n",
      "GLYCEMIA_BOTH                                       74275 non-null uint8\n",
      "GLYCEMIA_HYPERGLYCEMIA                              74275 non-null uint8\n",
      "GLYCEMIA_HYPOGLYCEMIA                               74275 non-null uint8\n",
      "GLYCEMIA_NEITHER                                    74275 non-null uint8\n",
      "TIME_TO_ALB_CATEGORY_LOS_(0, 24]                    74275 non-null uint8\n",
      "TIME_TO_ALB_CATEGORY_LOS_>24                        74275 non-null uint8\n",
      "TIME_TO_ALB_CATEGORY_LOS_NONE                       74275 non-null uint8\n",
      "ADMISSION_TYPE_GROUP_Elective                       74275 non-null uint8\n",
      "ADMISSION_TYPE_GROUP_Emergency                      74275 non-null uint8\n",
      "ADMISSION_TYPE_GROUP_Urgent                         74275 non-null uint8\n",
      "AGE_GROUP_18-29                                     74275 non-null uint8\n",
      "AGE_GROUP_30-49                                     74275 non-null uint8\n",
      "AGE_GROUP_50-64                                     74275 non-null uint8\n",
      "AGE_GROUP_65+                                       74275 non-null uint8\n",
      "BED_SIZE_0-99                                       74275 non-null uint8\n",
      "BED_SIZE_100-199                                    74275 non-null uint8\n",
      "BED_SIZE_200-299                                    74275 non-null uint8\n",
      "BED_SIZE_300-499                                    74275 non-null uint8\n",
      "BED_SIZE_500+                                       74275 non-null uint8\n",
      "CENSUS_REGION_Midwest                               74275 non-null uint8\n",
      "CENSUS_REGION_Northeast                             74275 non-null uint8\n",
      "CENSUS_REGION_South                                 74275 non-null uint8\n",
      "CENSUS_REGION_West                                  74275 non-null uint8\n",
      "INDEX_YEAR_2009                                     74275 non-null uint8\n",
      "INDEX_YEAR_2010                                     74275 non-null uint8\n",
      "INDEX_YEAR_2011                                     74275 non-null uint8\n",
      "INDEX_YEAR_2012                                     74275 non-null uint8\n",
      "INDEX_YEAR_2013                                     74275 non-null uint8\n",
      "INDEX_YEAR_2014                                     74275 non-null uint8\n",
      "INDEX_YEAR_2015                                     74275 non-null uint8\n",
      "INDEX_YEAR_2016                                     74275 non-null uint8\n",
      "PAYER_GROUP_Commercial                              74275 non-null uint8\n",
      "PAYER_GROUP_Medicaid                                74275 non-null uint8\n",
      "PAYER_GROUP_Medicare                                74275 non-null uint8\n",
      "PAYER_GROUP_Null or Exclude                         74275 non-null uint8\n",
      "PAYER_GROUP_Oth. Govt. or Mil.                      74275 non-null uint8\n",
      "PAYER_GROUP_Oth. NGO or Work Comp.                  74275 non-null uint8\n",
      "PAYER_GROUP_Self                                    74275 non-null uint8\n",
      "RACE_GROUP_African American                         74275 non-null uint8\n",
      "RACE_GROUP_Asian/Pacific Islander                   74275 non-null uint8\n",
      "RACE_GROUP_Caucasian                                74275 non-null uint8\n",
      "RACE_GROUP_Hispanic                                 74275 non-null uint8\n",
      "RACE_GROUP_Not Specified                            74275 non-null uint8\n",
      "RACE_GROUP_Other                                    74275 non-null uint8\n",
      "TEACHING_FACILITY_No                                74275 non-null uint8\n",
      "TEACHING_FACILITY_Not Specified                     74275 non-null uint8\n",
      "TEACHING_FACILITY_Yes                               74275 non-null uint8\n",
      "DISCHARGE_CATEGORY_HOME                             74275 non-null uint8\n",
      "DISCHARGE_CATEGORY_HOSPICE                          74275 non-null uint8\n",
      "DISCHARGE_CATEGORY_INPATIENT HOSPITAL               74275 non-null uint8\n",
      "DISCHARGE_CATEGORY_NOT SPECIFIED                    74275 non-null uint8\n",
      "DISCHARGE_CATEGORY_OTHER POST-ACUTE CARE SETTING    74275 non-null uint8\n",
      "DISCHARGE_CATEGORY_SNF                              74275 non-null uint8\n",
      "dtypes: float64(2), int64(15), uint8(64)\n",
      "memory usage: 14.7 MB\n"
     ]
    }
   ],
   "source": [
    "# encode categorical features\n",
    "Cirrhosis_LOS4 = pd.get_dummies(Cirrhosis_LOS3)\n",
    "Cirrhosis_LOS4.info()"
   ]
  },
  {
   "cell_type": "code",
   "execution_count": 107,
   "metadata": {
    "hidden": true
   },
   "outputs": [
    {
     "name": "stdout",
     "output_type": "stream",
     "text": [
      "<class 'pandas.core.frame.DataFrame'>\n",
      "Int64Index: 74275 entries, 326305398 to 283396498\n",
      "Data columns (total 67 columns):\n",
      "ABX                                                 74275 non-null int64\n",
      "BETA_BLOCKER                                        74275 non-null int64\n",
      "DIURETIC                                            74275 non-null int64\n",
      "GIDX_BLEEDING                                       74275 non-null int64\n",
      "HE                                                  74275 non-null int64\n",
      "HRS                                                 74275 non-null int64\n",
      "LVP                                                 74275 non-null int64\n",
      "SBP                                                 74275 non-null int64\n",
      "SEPSIS                                              74275 non-null int64\n",
      "STEROIDS                                            74275 non-null int64\n",
      "VENTILATION                                         74275 non-null int64\n",
      "VASOPRESSOR                                         74275 non-null int64\n",
      "FEMALE                                              74275 non-null int64\n",
      "RURAL                                               74275 non-null int64\n",
      "ELIXHAUSER_INDEX                                    74275 non-null float64\n",
      "MELD_Na                                             74275 non-null float64\n",
      "LONG_LOS                                            74275 non-null int64\n",
      "AKI_CATEGORY2_MILD                                  74275 non-null uint8\n",
      "AKI_CATEGORY2_SEVERE                                74275 non-null uint8\n",
      "ARDS_MILD ARDS                                      74275 non-null uint8\n",
      "ARDS_MODERATE ARDS                                  74275 non-null uint8\n",
      "ARDS_SEVERE ARDS                                    74275 non-null uint8\n",
      "CRYST_RES_VOL_CATEGORY_(0, 500]                     74275 non-null uint8\n",
      "CRYST_RES_VOL_CATEGORY_(500, 1250]                  74275 non-null uint8\n",
      "CRYST_RES_VOL_CATEGORY_NONE                         74275 non-null uint8\n",
      "GLYCEMIA_BOTH                                       74275 non-null uint8\n",
      "GLYCEMIA_HYPERGLYCEMIA                              74275 non-null uint8\n",
      "GLYCEMIA_HYPOGLYCEMIA                               74275 non-null uint8\n",
      "TIME_TO_ALB_CATEGORY_LOS_(0, 24]                    74275 non-null uint8\n",
      "TIME_TO_ALB_CATEGORY_LOS_>24                        74275 non-null uint8\n",
      "ADMISSION_TYPE_GROUP_Elective                       74275 non-null uint8\n",
      "ADMISSION_TYPE_GROUP_Urgent                         74275 non-null uint8\n",
      "AGE_GROUP_30-49                                     74275 non-null uint8\n",
      "AGE_GROUP_50-64                                     74275 non-null uint8\n",
      "AGE_GROUP_65+                                       74275 non-null uint8\n",
      "BED_SIZE_100-199                                    74275 non-null uint8\n",
      "BED_SIZE_200-299                                    74275 non-null uint8\n",
      "BED_SIZE_300-499                                    74275 non-null uint8\n",
      "BED_SIZE_500+                                       74275 non-null uint8\n",
      "CENSUS_REGION_Midwest                               74275 non-null uint8\n",
      "CENSUS_REGION_Northeast                             74275 non-null uint8\n",
      "CENSUS_REGION_West                                  74275 non-null uint8\n",
      "INDEX_YEAR_2009                                     74275 non-null uint8\n",
      "INDEX_YEAR_2010                                     74275 non-null uint8\n",
      "INDEX_YEAR_2011                                     74275 non-null uint8\n",
      "INDEX_YEAR_2012                                     74275 non-null uint8\n",
      "INDEX_YEAR_2013                                     74275 non-null uint8\n",
      "INDEX_YEAR_2014                                     74275 non-null uint8\n",
      "INDEX_YEAR_2015                                     74275 non-null uint8\n",
      "PAYER_GROUP_Medicaid                                74275 non-null uint8\n",
      "PAYER_GROUP_Medicare                                74275 non-null uint8\n",
      "PAYER_GROUP_Null or Exclude                         74275 non-null uint8\n",
      "PAYER_GROUP_Oth. Govt. or Mil.                      74275 non-null uint8\n",
      "PAYER_GROUP_Oth. NGO or Work Comp.                  74275 non-null uint8\n",
      "PAYER_GROUP_Self                                    74275 non-null uint8\n",
      "RACE_GROUP_African American                         74275 non-null uint8\n",
      "RACE_GROUP_Asian/Pacific Islander                   74275 non-null uint8\n",
      "RACE_GROUP_Hispanic                                 74275 non-null uint8\n",
      "RACE_GROUP_Not Specified                            74275 non-null uint8\n",
      "RACE_GROUP_Other                                    74275 non-null uint8\n",
      "TEACHING_FACILITY_Not Specified                     74275 non-null uint8\n",
      "TEACHING_FACILITY_Yes                               74275 non-null uint8\n",
      "DISCHARGE_CATEGORY_HOSPICE                          74275 non-null uint8\n",
      "DISCHARGE_CATEGORY_INPATIENT HOSPITAL               74275 non-null uint8\n",
      "DISCHARGE_CATEGORY_NOT SPECIFIED                    74275 non-null uint8\n",
      "DISCHARGE_CATEGORY_OTHER POST-ACUTE CARE SETTING    74275 non-null uint8\n",
      "DISCHARGE_CATEGORY_SNF                              74275 non-null uint8\n",
      "dtypes: float64(2), int64(15), uint8(50)\n",
      "memory usage: 13.7 MB\n"
     ]
    }
   ],
   "source": [
    "# drop one level to avoid collinearity\n",
    "variables_to_drop = ['AKI_CATEGORY2_NONE', \n",
    "                     'ARDS_NONE', \n",
    "                     'CRYST_RES_VOL_CATEGORY_>1250', \n",
    "                     'GLYCEMIA_NEITHER', \n",
    "                     'TIME_TO_ALB_CATEGORY_LOS_NONE', \n",
    "                     'ADMISSION_TYPE_GROUP_Emergency', \n",
    "                     'AGE_GROUP_18-29', \n",
    "                     'BED_SIZE_0-99', \n",
    "                     'CENSUS_REGION_South', \n",
    "                     'INDEX_YEAR_2016',\n",
    "                     'PAYER_GROUP_Commercial', \n",
    "                     'RACE_GROUP_Caucasian', \n",
    "                     'TEACHING_FACILITY_No',\n",
    "                     'DISCHARGE_CATEGORY_HOME']\n",
    "Cirrhosis_LOS5 = Cirrhosis_LOS4.drop(variables_to_drop, axis = 1)\n",
    "Cirrhosis_LOS5.info()"
   ]
  },
  {
   "cell_type": "markdown",
   "metadata": {
    "heading_collapsed": true
   },
   "source": [
    "## Seperate Features and Targets"
   ]
  },
  {
   "cell_type": "code",
   "execution_count": 108,
   "metadata": {
    "hidden": true
   },
   "outputs": [
    {
     "data": {
      "text/plain": [
       "0    37485\n",
       "1    36790\n",
       "Name: LONG_LOS, dtype: int64"
      ]
     },
     "execution_count": 108,
     "metadata": {},
     "output_type": "execute_result"
    }
   ],
   "source": [
    "# create the target vector\n",
    "y = Cirrhosis_LOS5.iloc[:, Cirrhosis_LOS5.columns == 'LONG_LOS']\n",
    "y['LONG_LOS'].value_counts()"
   ]
  },
  {
   "cell_type": "code",
   "execution_count": 109,
   "metadata": {
    "hidden": true
   },
   "outputs": [
    {
     "data": {
      "text/plain": [
       "0    0.504679\n",
       "1    0.495321\n",
       "Name: LONG_LOS, dtype: float64"
      ]
     },
     "execution_count": 109,
     "metadata": {},
     "output_type": "execute_result"
    }
   ],
   "source": [
    "y['LONG_LOS'].value_counts(normalize = True)"
   ]
  },
  {
   "cell_type": "code",
   "execution_count": 110,
   "metadata": {
    "hidden": true
   },
   "outputs": [
    {
     "data": {
      "text/html": [
       "<div>\n",
       "<style scoped>\n",
       "    .dataframe tbody tr th:only-of-type {\n",
       "        vertical-align: middle;\n",
       "    }\n",
       "\n",
       "    .dataframe tbody tr th {\n",
       "        vertical-align: top;\n",
       "    }\n",
       "\n",
       "    .dataframe thead th {\n",
       "        text-align: right;\n",
       "    }\n",
       "</style>\n",
       "<table border=\"1\" class=\"dataframe\">\n",
       "  <thead>\n",
       "    <tr style=\"text-align: right;\">\n",
       "      <th></th>\n",
       "      <th>count</th>\n",
       "      <th>mean</th>\n",
       "      <th>std</th>\n",
       "      <th>min</th>\n",
       "      <th>25%</th>\n",
       "      <th>50%</th>\n",
       "      <th>75%</th>\n",
       "      <th>max</th>\n",
       "    </tr>\n",
       "  </thead>\n",
       "  <tbody>\n",
       "    <tr>\n",
       "      <th>ABX</th>\n",
       "      <td>74275.0</td>\n",
       "      <td>0.598492</td>\n",
       "      <td>0.490207</td>\n",
       "      <td>0.0</td>\n",
       "      <td>0.0</td>\n",
       "      <td>1.000</td>\n",
       "      <td>1.0</td>\n",
       "      <td>1.0</td>\n",
       "    </tr>\n",
       "    <tr>\n",
       "      <th>BETA_BLOCKER</th>\n",
       "      <td>74275.0</td>\n",
       "      <td>0.171188</td>\n",
       "      <td>0.376676</td>\n",
       "      <td>0.0</td>\n",
       "      <td>0.0</td>\n",
       "      <td>0.000</td>\n",
       "      <td>0.0</td>\n",
       "      <td>1.0</td>\n",
       "    </tr>\n",
       "    <tr>\n",
       "      <th>DIURETIC</th>\n",
       "      <td>74275.0</td>\n",
       "      <td>0.431316</td>\n",
       "      <td>0.495263</td>\n",
       "      <td>0.0</td>\n",
       "      <td>0.0</td>\n",
       "      <td>0.000</td>\n",
       "      <td>1.0</td>\n",
       "      <td>1.0</td>\n",
       "    </tr>\n",
       "    <tr>\n",
       "      <th>GIDX_BLEEDING</th>\n",
       "      <td>74275.0</td>\n",
       "      <td>0.137166</td>\n",
       "      <td>0.344025</td>\n",
       "      <td>0.0</td>\n",
       "      <td>0.0</td>\n",
       "      <td>0.000</td>\n",
       "      <td>0.0</td>\n",
       "      <td>1.0</td>\n",
       "    </tr>\n",
       "    <tr>\n",
       "      <th>HE</th>\n",
       "      <td>74275.0</td>\n",
       "      <td>0.180061</td>\n",
       "      <td>0.384240</td>\n",
       "      <td>0.0</td>\n",
       "      <td>0.0</td>\n",
       "      <td>0.000</td>\n",
       "      <td>0.0</td>\n",
       "      <td>1.0</td>\n",
       "    </tr>\n",
       "    <tr>\n",
       "      <th>HRS</th>\n",
       "      <td>74275.0</td>\n",
       "      <td>0.034574</td>\n",
       "      <td>0.182700</td>\n",
       "      <td>0.0</td>\n",
       "      <td>0.0</td>\n",
       "      <td>0.000</td>\n",
       "      <td>0.0</td>\n",
       "      <td>1.0</td>\n",
       "    </tr>\n",
       "    <tr>\n",
       "      <th>LVP</th>\n",
       "      <td>74275.0</td>\n",
       "      <td>0.257556</td>\n",
       "      <td>0.437291</td>\n",
       "      <td>0.0</td>\n",
       "      <td>0.0</td>\n",
       "      <td>0.000</td>\n",
       "      <td>1.0</td>\n",
       "      <td>1.0</td>\n",
       "    </tr>\n",
       "    <tr>\n",
       "      <th>SBP</th>\n",
       "      <td>74275.0</td>\n",
       "      <td>0.032151</td>\n",
       "      <td>0.176402</td>\n",
       "      <td>0.0</td>\n",
       "      <td>0.0</td>\n",
       "      <td>0.000</td>\n",
       "      <td>0.0</td>\n",
       "      <td>1.0</td>\n",
       "    </tr>\n",
       "    <tr>\n",
       "      <th>SEPSIS</th>\n",
       "      <td>74275.0</td>\n",
       "      <td>0.071262</td>\n",
       "      <td>0.257264</td>\n",
       "      <td>0.0</td>\n",
       "      <td>0.0</td>\n",
       "      <td>0.000</td>\n",
       "      <td>0.0</td>\n",
       "      <td>1.0</td>\n",
       "    </tr>\n",
       "    <tr>\n",
       "      <th>STEROIDS</th>\n",
       "      <td>74275.0</td>\n",
       "      <td>0.125520</td>\n",
       "      <td>0.331310</td>\n",
       "      <td>0.0</td>\n",
       "      <td>0.0</td>\n",
       "      <td>0.000</td>\n",
       "      <td>0.0</td>\n",
       "      <td>1.0</td>\n",
       "    </tr>\n",
       "    <tr>\n",
       "      <th>VENTILATION</th>\n",
       "      <td>74275.0</td>\n",
       "      <td>0.068866</td>\n",
       "      <td>0.253227</td>\n",
       "      <td>0.0</td>\n",
       "      <td>0.0</td>\n",
       "      <td>0.000</td>\n",
       "      <td>0.0</td>\n",
       "      <td>1.0</td>\n",
       "    </tr>\n",
       "    <tr>\n",
       "      <th>VASOPRESSOR</th>\n",
       "      <td>74275.0</td>\n",
       "      <td>0.137906</td>\n",
       "      <td>0.344804</td>\n",
       "      <td>0.0</td>\n",
       "      <td>0.0</td>\n",
       "      <td>0.000</td>\n",
       "      <td>0.0</td>\n",
       "      <td>1.0</td>\n",
       "    </tr>\n",
       "    <tr>\n",
       "      <th>FEMALE</th>\n",
       "      <td>74275.0</td>\n",
       "      <td>0.446395</td>\n",
       "      <td>0.497122</td>\n",
       "      <td>0.0</td>\n",
       "      <td>0.0</td>\n",
       "      <td>0.000</td>\n",
       "      <td>1.0</td>\n",
       "      <td>1.0</td>\n",
       "    </tr>\n",
       "    <tr>\n",
       "      <th>RURAL</th>\n",
       "      <td>74275.0</td>\n",
       "      <td>0.196971</td>\n",
       "      <td>0.397713</td>\n",
       "      <td>0.0</td>\n",
       "      <td>0.0</td>\n",
       "      <td>0.000</td>\n",
       "      <td>0.0</td>\n",
       "      <td>1.0</td>\n",
       "    </tr>\n",
       "    <tr>\n",
       "      <th>ELIXHAUSER_INDEX</th>\n",
       "      <td>74275.0</td>\n",
       "      <td>16.723783</td>\n",
       "      <td>10.495290</td>\n",
       "      <td>-16.0</td>\n",
       "      <td>10.0</td>\n",
       "      <td>16.000</td>\n",
       "      <td>23.0</td>\n",
       "      <td>69.0</td>\n",
       "    </tr>\n",
       "    <tr>\n",
       "      <th>MELD_Na</th>\n",
       "      <td>74275.0</td>\n",
       "      <td>15.305910</td>\n",
       "      <td>8.163881</td>\n",
       "      <td>6.0</td>\n",
       "      <td>8.0</td>\n",
       "      <td>13.848</td>\n",
       "      <td>21.0</td>\n",
       "      <td>67.0</td>\n",
       "    </tr>\n",
       "    <tr>\n",
       "      <th>AKI_CATEGORY2_MILD</th>\n",
       "      <td>74275.0</td>\n",
       "      <td>0.170932</td>\n",
       "      <td>0.376452</td>\n",
       "      <td>0.0</td>\n",
       "      <td>0.0</td>\n",
       "      <td>0.000</td>\n",
       "      <td>0.0</td>\n",
       "      <td>1.0</td>\n",
       "    </tr>\n",
       "    <tr>\n",
       "      <th>AKI_CATEGORY2_SEVERE</th>\n",
       "      <td>74275.0</td>\n",
       "      <td>0.096385</td>\n",
       "      <td>0.295121</td>\n",
       "      <td>0.0</td>\n",
       "      <td>0.0</td>\n",
       "      <td>0.000</td>\n",
       "      <td>0.0</td>\n",
       "      <td>1.0</td>\n",
       "    </tr>\n",
       "    <tr>\n",
       "      <th>ARDS_MILD ARDS</th>\n",
       "      <td>74275.0</td>\n",
       "      <td>0.023332</td>\n",
       "      <td>0.150957</td>\n",
       "      <td>0.0</td>\n",
       "      <td>0.0</td>\n",
       "      <td>0.000</td>\n",
       "      <td>0.0</td>\n",
       "      <td>1.0</td>\n",
       "    </tr>\n",
       "    <tr>\n",
       "      <th>ARDS_MODERATE ARDS</th>\n",
       "      <td>74275.0</td>\n",
       "      <td>0.029633</td>\n",
       "      <td>0.169574</td>\n",
       "      <td>0.0</td>\n",
       "      <td>0.0</td>\n",
       "      <td>0.000</td>\n",
       "      <td>0.0</td>\n",
       "      <td>1.0</td>\n",
       "    </tr>\n",
       "    <tr>\n",
       "      <th>ARDS_SEVERE ARDS</th>\n",
       "      <td>74275.0</td>\n",
       "      <td>0.017395</td>\n",
       "      <td>0.130738</td>\n",
       "      <td>0.0</td>\n",
       "      <td>0.0</td>\n",
       "      <td>0.000</td>\n",
       "      <td>0.0</td>\n",
       "      <td>1.0</td>\n",
       "    </tr>\n",
       "    <tr>\n",
       "      <th>CRYST_RES_VOL_CATEGORY_(0, 500]</th>\n",
       "      <td>74275.0</td>\n",
       "      <td>0.287391</td>\n",
       "      <td>0.452549</td>\n",
       "      <td>0.0</td>\n",
       "      <td>0.0</td>\n",
       "      <td>0.000</td>\n",
       "      <td>1.0</td>\n",
       "      <td>1.0</td>\n",
       "    </tr>\n",
       "    <tr>\n",
       "      <th>CRYST_RES_VOL_CATEGORY_(500, 1250]</th>\n",
       "      <td>74275.0</td>\n",
       "      <td>0.403689</td>\n",
       "      <td>0.490640</td>\n",
       "      <td>0.0</td>\n",
       "      <td>0.0</td>\n",
       "      <td>0.000</td>\n",
       "      <td>1.0</td>\n",
       "      <td>1.0</td>\n",
       "    </tr>\n",
       "    <tr>\n",
       "      <th>CRYST_RES_VOL_CATEGORY_NONE</th>\n",
       "      <td>74275.0</td>\n",
       "      <td>0.150347</td>\n",
       "      <td>0.357413</td>\n",
       "      <td>0.0</td>\n",
       "      <td>0.0</td>\n",
       "      <td>0.000</td>\n",
       "      <td>0.0</td>\n",
       "      <td>1.0</td>\n",
       "    </tr>\n",
       "    <tr>\n",
       "      <th>GLYCEMIA_BOTH</th>\n",
       "      <td>74275.0</td>\n",
       "      <td>0.072124</td>\n",
       "      <td>0.258695</td>\n",
       "      <td>0.0</td>\n",
       "      <td>0.0</td>\n",
       "      <td>0.000</td>\n",
       "      <td>0.0</td>\n",
       "      <td>1.0</td>\n",
       "    </tr>\n",
       "    <tr>\n",
       "      <th>GLYCEMIA_HYPERGLYCEMIA</th>\n",
       "      <td>74275.0</td>\n",
       "      <td>0.306913</td>\n",
       "      <td>0.461216</td>\n",
       "      <td>0.0</td>\n",
       "      <td>0.0</td>\n",
       "      <td>0.000</td>\n",
       "      <td>1.0</td>\n",
       "      <td>1.0</td>\n",
       "    </tr>\n",
       "    <tr>\n",
       "      <th>GLYCEMIA_HYPOGLYCEMIA</th>\n",
       "      <td>74275.0</td>\n",
       "      <td>0.028866</td>\n",
       "      <td>0.167430</td>\n",
       "      <td>0.0</td>\n",
       "      <td>0.0</td>\n",
       "      <td>0.000</td>\n",
       "      <td>0.0</td>\n",
       "      <td>1.0</td>\n",
       "    </tr>\n",
       "    <tr>\n",
       "      <th>TIME_TO_ALB_CATEGORY_LOS_(0, 24]</th>\n",
       "      <td>74275.0</td>\n",
       "      <td>0.142390</td>\n",
       "      <td>0.349452</td>\n",
       "      <td>0.0</td>\n",
       "      <td>0.0</td>\n",
       "      <td>0.000</td>\n",
       "      <td>0.0</td>\n",
       "      <td>1.0</td>\n",
       "    </tr>\n",
       "    <tr>\n",
       "      <th>TIME_TO_ALB_CATEGORY_LOS_&gt;24</th>\n",
       "      <td>74275.0</td>\n",
       "      <td>0.139616</td>\n",
       "      <td>0.346591</td>\n",
       "      <td>0.0</td>\n",
       "      <td>0.0</td>\n",
       "      <td>0.000</td>\n",
       "      <td>0.0</td>\n",
       "      <td>1.0</td>\n",
       "    </tr>\n",
       "    <tr>\n",
       "      <th>ADMISSION_TYPE_GROUP_Elective</th>\n",
       "      <td>74275.0</td>\n",
       "      <td>0.090730</td>\n",
       "      <td>0.287227</td>\n",
       "      <td>0.0</td>\n",
       "      <td>0.0</td>\n",
       "      <td>0.000</td>\n",
       "      <td>0.0</td>\n",
       "      <td>1.0</td>\n",
       "    </tr>\n",
       "    <tr>\n",
       "      <th>...</th>\n",
       "      <td>...</td>\n",
       "      <td>...</td>\n",
       "      <td>...</td>\n",
       "      <td>...</td>\n",
       "      <td>...</td>\n",
       "      <td>...</td>\n",
       "      <td>...</td>\n",
       "      <td>...</td>\n",
       "    </tr>\n",
       "    <tr>\n",
       "      <th>BED_SIZE_300-499</th>\n",
       "      <td>74275.0</td>\n",
       "      <td>0.301892</td>\n",
       "      <td>0.459082</td>\n",
       "      <td>0.0</td>\n",
       "      <td>0.0</td>\n",
       "      <td>0.000</td>\n",
       "      <td>1.0</td>\n",
       "      <td>1.0</td>\n",
       "    </tr>\n",
       "    <tr>\n",
       "      <th>BED_SIZE_500+</th>\n",
       "      <td>74275.0</td>\n",
       "      <td>0.304207</td>\n",
       "      <td>0.460074</td>\n",
       "      <td>0.0</td>\n",
       "      <td>0.0</td>\n",
       "      <td>0.000</td>\n",
       "      <td>1.0</td>\n",
       "      <td>1.0</td>\n",
       "    </tr>\n",
       "    <tr>\n",
       "      <th>CENSUS_REGION_Midwest</th>\n",
       "      <td>74275.0</td>\n",
       "      <td>0.191006</td>\n",
       "      <td>0.393097</td>\n",
       "      <td>0.0</td>\n",
       "      <td>0.0</td>\n",
       "      <td>0.000</td>\n",
       "      <td>0.0</td>\n",
       "      <td>1.0</td>\n",
       "    </tr>\n",
       "    <tr>\n",
       "      <th>CENSUS_REGION_Northeast</th>\n",
       "      <td>74275.0</td>\n",
       "      <td>0.263750</td>\n",
       "      <td>0.440668</td>\n",
       "      <td>0.0</td>\n",
       "      <td>0.0</td>\n",
       "      <td>0.000</td>\n",
       "      <td>1.0</td>\n",
       "      <td>1.0</td>\n",
       "    </tr>\n",
       "    <tr>\n",
       "      <th>CENSUS_REGION_West</th>\n",
       "      <td>74275.0</td>\n",
       "      <td>0.128213</td>\n",
       "      <td>0.334329</td>\n",
       "      <td>0.0</td>\n",
       "      <td>0.0</td>\n",
       "      <td>0.000</td>\n",
       "      <td>0.0</td>\n",
       "      <td>1.0</td>\n",
       "    </tr>\n",
       "    <tr>\n",
       "      <th>INDEX_YEAR_2009</th>\n",
       "      <td>74275.0</td>\n",
       "      <td>0.041037</td>\n",
       "      <td>0.198376</td>\n",
       "      <td>0.0</td>\n",
       "      <td>0.0</td>\n",
       "      <td>0.000</td>\n",
       "      <td>0.0</td>\n",
       "      <td>1.0</td>\n",
       "    </tr>\n",
       "    <tr>\n",
       "      <th>INDEX_YEAR_2010</th>\n",
       "      <td>74275.0</td>\n",
       "      <td>0.059064</td>\n",
       "      <td>0.235747</td>\n",
       "      <td>0.0</td>\n",
       "      <td>0.0</td>\n",
       "      <td>0.000</td>\n",
       "      <td>0.0</td>\n",
       "      <td>1.0</td>\n",
       "    </tr>\n",
       "    <tr>\n",
       "      <th>INDEX_YEAR_2011</th>\n",
       "      <td>74275.0</td>\n",
       "      <td>0.073713</td>\n",
       "      <td>0.261304</td>\n",
       "      <td>0.0</td>\n",
       "      <td>0.0</td>\n",
       "      <td>0.000</td>\n",
       "      <td>0.0</td>\n",
       "      <td>1.0</td>\n",
       "    </tr>\n",
       "    <tr>\n",
       "      <th>INDEX_YEAR_2012</th>\n",
       "      <td>74275.0</td>\n",
       "      <td>0.091417</td>\n",
       "      <td>0.288203</td>\n",
       "      <td>0.0</td>\n",
       "      <td>0.0</td>\n",
       "      <td>0.000</td>\n",
       "      <td>0.0</td>\n",
       "      <td>1.0</td>\n",
       "    </tr>\n",
       "    <tr>\n",
       "      <th>INDEX_YEAR_2013</th>\n",
       "      <td>74275.0</td>\n",
       "      <td>0.141717</td>\n",
       "      <td>0.348762</td>\n",
       "      <td>0.0</td>\n",
       "      <td>0.0</td>\n",
       "      <td>0.000</td>\n",
       "      <td>0.0</td>\n",
       "      <td>1.0</td>\n",
       "    </tr>\n",
       "    <tr>\n",
       "      <th>INDEX_YEAR_2014</th>\n",
       "      <td>74275.0</td>\n",
       "      <td>0.198519</td>\n",
       "      <td>0.398888</td>\n",
       "      <td>0.0</td>\n",
       "      <td>0.0</td>\n",
       "      <td>0.000</td>\n",
       "      <td>0.0</td>\n",
       "      <td>1.0</td>\n",
       "    </tr>\n",
       "    <tr>\n",
       "      <th>INDEX_YEAR_2015</th>\n",
       "      <td>74275.0</td>\n",
       "      <td>0.190118</td>\n",
       "      <td>0.392397</td>\n",
       "      <td>0.0</td>\n",
       "      <td>0.0</td>\n",
       "      <td>0.000</td>\n",
       "      <td>0.0</td>\n",
       "      <td>1.0</td>\n",
       "    </tr>\n",
       "    <tr>\n",
       "      <th>PAYER_GROUP_Medicaid</th>\n",
       "      <td>74275.0</td>\n",
       "      <td>0.173423</td>\n",
       "      <td>0.378615</td>\n",
       "      <td>0.0</td>\n",
       "      <td>0.0</td>\n",
       "      <td>0.000</td>\n",
       "      <td>0.0</td>\n",
       "      <td>1.0</td>\n",
       "    </tr>\n",
       "    <tr>\n",
       "      <th>PAYER_GROUP_Medicare</th>\n",
       "      <td>74275.0</td>\n",
       "      <td>0.375173</td>\n",
       "      <td>0.484171</td>\n",
       "      <td>0.0</td>\n",
       "      <td>0.0</td>\n",
       "      <td>0.000</td>\n",
       "      <td>1.0</td>\n",
       "      <td>1.0</td>\n",
       "    </tr>\n",
       "    <tr>\n",
       "      <th>PAYER_GROUP_Null or Exclude</th>\n",
       "      <td>74275.0</td>\n",
       "      <td>0.134446</td>\n",
       "      <td>0.341134</td>\n",
       "      <td>0.0</td>\n",
       "      <td>0.0</td>\n",
       "      <td>0.000</td>\n",
       "      <td>0.0</td>\n",
       "      <td>1.0</td>\n",
       "    </tr>\n",
       "    <tr>\n",
       "      <th>PAYER_GROUP_Oth. Govt. or Mil.</th>\n",
       "      <td>74275.0</td>\n",
       "      <td>0.025567</td>\n",
       "      <td>0.157841</td>\n",
       "      <td>0.0</td>\n",
       "      <td>0.0</td>\n",
       "      <td>0.000</td>\n",
       "      <td>0.0</td>\n",
       "      <td>1.0</td>\n",
       "    </tr>\n",
       "    <tr>\n",
       "      <th>PAYER_GROUP_Oth. NGO or Work Comp.</th>\n",
       "      <td>74275.0</td>\n",
       "      <td>0.014877</td>\n",
       "      <td>0.121062</td>\n",
       "      <td>0.0</td>\n",
       "      <td>0.0</td>\n",
       "      <td>0.000</td>\n",
       "      <td>0.0</td>\n",
       "      <td>1.0</td>\n",
       "    </tr>\n",
       "    <tr>\n",
       "      <th>PAYER_GROUP_Self</th>\n",
       "      <td>74275.0</td>\n",
       "      <td>0.053504</td>\n",
       "      <td>0.225038</td>\n",
       "      <td>0.0</td>\n",
       "      <td>0.0</td>\n",
       "      <td>0.000</td>\n",
       "      <td>0.0</td>\n",
       "      <td>1.0</td>\n",
       "    </tr>\n",
       "    <tr>\n",
       "      <th>RACE_GROUP_African American</th>\n",
       "      <td>74275.0</td>\n",
       "      <td>0.137368</td>\n",
       "      <td>0.344238</td>\n",
       "      <td>0.0</td>\n",
       "      <td>0.0</td>\n",
       "      <td>0.000</td>\n",
       "      <td>0.0</td>\n",
       "      <td>1.0</td>\n",
       "    </tr>\n",
       "    <tr>\n",
       "      <th>RACE_GROUP_Asian/Pacific Islander</th>\n",
       "      <td>74275.0</td>\n",
       "      <td>0.013948</td>\n",
       "      <td>0.117277</td>\n",
       "      <td>0.0</td>\n",
       "      <td>0.0</td>\n",
       "      <td>0.000</td>\n",
       "      <td>0.0</td>\n",
       "      <td>1.0</td>\n",
       "    </tr>\n",
       "    <tr>\n",
       "      <th>RACE_GROUP_Hispanic</th>\n",
       "      <td>74275.0</td>\n",
       "      <td>0.013706</td>\n",
       "      <td>0.116268</td>\n",
       "      <td>0.0</td>\n",
       "      <td>0.0</td>\n",
       "      <td>0.000</td>\n",
       "      <td>0.0</td>\n",
       "      <td>1.0</td>\n",
       "    </tr>\n",
       "    <tr>\n",
       "      <th>RACE_GROUP_Not Specified</th>\n",
       "      <td>74275.0</td>\n",
       "      <td>0.013814</td>\n",
       "      <td>0.116717</td>\n",
       "      <td>0.0</td>\n",
       "      <td>0.0</td>\n",
       "      <td>0.000</td>\n",
       "      <td>0.0</td>\n",
       "      <td>1.0</td>\n",
       "    </tr>\n",
       "    <tr>\n",
       "      <th>RACE_GROUP_Other</th>\n",
       "      <td>74275.0</td>\n",
       "      <td>0.072191</td>\n",
       "      <td>0.258806</td>\n",
       "      <td>0.0</td>\n",
       "      <td>0.0</td>\n",
       "      <td>0.000</td>\n",
       "      <td>0.0</td>\n",
       "      <td>1.0</td>\n",
       "    </tr>\n",
       "    <tr>\n",
       "      <th>TEACHING_FACILITY_Not Specified</th>\n",
       "      <td>74275.0</td>\n",
       "      <td>0.174446</td>\n",
       "      <td>0.379495</td>\n",
       "      <td>0.0</td>\n",
       "      <td>0.0</td>\n",
       "      <td>0.000</td>\n",
       "      <td>0.0</td>\n",
       "      <td>1.0</td>\n",
       "    </tr>\n",
       "    <tr>\n",
       "      <th>TEACHING_FACILITY_Yes</th>\n",
       "      <td>74275.0</td>\n",
       "      <td>0.669054</td>\n",
       "      <td>0.470557</td>\n",
       "      <td>0.0</td>\n",
       "      <td>0.0</td>\n",
       "      <td>1.000</td>\n",
       "      <td>1.0</td>\n",
       "      <td>1.0</td>\n",
       "    </tr>\n",
       "    <tr>\n",
       "      <th>DISCHARGE_CATEGORY_HOSPICE</th>\n",
       "      <td>74275.0</td>\n",
       "      <td>0.076324</td>\n",
       "      <td>0.265518</td>\n",
       "      <td>0.0</td>\n",
       "      <td>0.0</td>\n",
       "      <td>0.000</td>\n",
       "      <td>0.0</td>\n",
       "      <td>1.0</td>\n",
       "    </tr>\n",
       "    <tr>\n",
       "      <th>DISCHARGE_CATEGORY_INPATIENT HOSPITAL</th>\n",
       "      <td>74275.0</td>\n",
       "      <td>0.008994</td>\n",
       "      <td>0.094408</td>\n",
       "      <td>0.0</td>\n",
       "      <td>0.0</td>\n",
       "      <td>0.000</td>\n",
       "      <td>0.0</td>\n",
       "      <td>1.0</td>\n",
       "    </tr>\n",
       "    <tr>\n",
       "      <th>DISCHARGE_CATEGORY_NOT SPECIFIED</th>\n",
       "      <td>74275.0</td>\n",
       "      <td>0.044174</td>\n",
       "      <td>0.205482</td>\n",
       "      <td>0.0</td>\n",
       "      <td>0.0</td>\n",
       "      <td>0.000</td>\n",
       "      <td>0.0</td>\n",
       "      <td>1.0</td>\n",
       "    </tr>\n",
       "    <tr>\n",
       "      <th>DISCHARGE_CATEGORY_OTHER POST-ACUTE CARE SETTING</th>\n",
       "      <td>74275.0</td>\n",
       "      <td>0.070953</td>\n",
       "      <td>0.256747</td>\n",
       "      <td>0.0</td>\n",
       "      <td>0.0</td>\n",
       "      <td>0.000</td>\n",
       "      <td>0.0</td>\n",
       "      <td>1.0</td>\n",
       "    </tr>\n",
       "    <tr>\n",
       "      <th>DISCHARGE_CATEGORY_SNF</th>\n",
       "      <td>74275.0</td>\n",
       "      <td>0.116446</td>\n",
       "      <td>0.320761</td>\n",
       "      <td>0.0</td>\n",
       "      <td>0.0</td>\n",
       "      <td>0.000</td>\n",
       "      <td>0.0</td>\n",
       "      <td>1.0</td>\n",
       "    </tr>\n",
       "  </tbody>\n",
       "</table>\n",
       "<p>66 rows × 8 columns</p>\n",
       "</div>"
      ],
      "text/plain": [
       "                                                    count       mean  \\\n",
       "ABX                                               74275.0   0.598492   \n",
       "BETA_BLOCKER                                      74275.0   0.171188   \n",
       "DIURETIC                                          74275.0   0.431316   \n",
       "GIDX_BLEEDING                                     74275.0   0.137166   \n",
       "HE                                                74275.0   0.180061   \n",
       "HRS                                               74275.0   0.034574   \n",
       "LVP                                               74275.0   0.257556   \n",
       "SBP                                               74275.0   0.032151   \n",
       "SEPSIS                                            74275.0   0.071262   \n",
       "STEROIDS                                          74275.0   0.125520   \n",
       "VENTILATION                                       74275.0   0.068866   \n",
       "VASOPRESSOR                                       74275.0   0.137906   \n",
       "FEMALE                                            74275.0   0.446395   \n",
       "RURAL                                             74275.0   0.196971   \n",
       "ELIXHAUSER_INDEX                                  74275.0  16.723783   \n",
       "MELD_Na                                           74275.0  15.305910   \n",
       "AKI_CATEGORY2_MILD                                74275.0   0.170932   \n",
       "AKI_CATEGORY2_SEVERE                              74275.0   0.096385   \n",
       "ARDS_MILD ARDS                                    74275.0   0.023332   \n",
       "ARDS_MODERATE ARDS                                74275.0   0.029633   \n",
       "ARDS_SEVERE ARDS                                  74275.0   0.017395   \n",
       "CRYST_RES_VOL_CATEGORY_(0, 500]                   74275.0   0.287391   \n",
       "CRYST_RES_VOL_CATEGORY_(500, 1250]                74275.0   0.403689   \n",
       "CRYST_RES_VOL_CATEGORY_NONE                       74275.0   0.150347   \n",
       "GLYCEMIA_BOTH                                     74275.0   0.072124   \n",
       "GLYCEMIA_HYPERGLYCEMIA                            74275.0   0.306913   \n",
       "GLYCEMIA_HYPOGLYCEMIA                             74275.0   0.028866   \n",
       "TIME_TO_ALB_CATEGORY_LOS_(0, 24]                  74275.0   0.142390   \n",
       "TIME_TO_ALB_CATEGORY_LOS_>24                      74275.0   0.139616   \n",
       "ADMISSION_TYPE_GROUP_Elective                     74275.0   0.090730   \n",
       "...                                                   ...        ...   \n",
       "BED_SIZE_300-499                                  74275.0   0.301892   \n",
       "BED_SIZE_500+                                     74275.0   0.304207   \n",
       "CENSUS_REGION_Midwest                             74275.0   0.191006   \n",
       "CENSUS_REGION_Northeast                           74275.0   0.263750   \n",
       "CENSUS_REGION_West                                74275.0   0.128213   \n",
       "INDEX_YEAR_2009                                   74275.0   0.041037   \n",
       "INDEX_YEAR_2010                                   74275.0   0.059064   \n",
       "INDEX_YEAR_2011                                   74275.0   0.073713   \n",
       "INDEX_YEAR_2012                                   74275.0   0.091417   \n",
       "INDEX_YEAR_2013                                   74275.0   0.141717   \n",
       "INDEX_YEAR_2014                                   74275.0   0.198519   \n",
       "INDEX_YEAR_2015                                   74275.0   0.190118   \n",
       "PAYER_GROUP_Medicaid                              74275.0   0.173423   \n",
       "PAYER_GROUP_Medicare                              74275.0   0.375173   \n",
       "PAYER_GROUP_Null or Exclude                       74275.0   0.134446   \n",
       "PAYER_GROUP_Oth. Govt. or Mil.                    74275.0   0.025567   \n",
       "PAYER_GROUP_Oth. NGO or Work Comp.                74275.0   0.014877   \n",
       "PAYER_GROUP_Self                                  74275.0   0.053504   \n",
       "RACE_GROUP_African American                       74275.0   0.137368   \n",
       "RACE_GROUP_Asian/Pacific Islander                 74275.0   0.013948   \n",
       "RACE_GROUP_Hispanic                               74275.0   0.013706   \n",
       "RACE_GROUP_Not Specified                          74275.0   0.013814   \n",
       "RACE_GROUP_Other                                  74275.0   0.072191   \n",
       "TEACHING_FACILITY_Not Specified                   74275.0   0.174446   \n",
       "TEACHING_FACILITY_Yes                             74275.0   0.669054   \n",
       "DISCHARGE_CATEGORY_HOSPICE                        74275.0   0.076324   \n",
       "DISCHARGE_CATEGORY_INPATIENT HOSPITAL             74275.0   0.008994   \n",
       "DISCHARGE_CATEGORY_NOT SPECIFIED                  74275.0   0.044174   \n",
       "DISCHARGE_CATEGORY_OTHER POST-ACUTE CARE SETTING  74275.0   0.070953   \n",
       "DISCHARGE_CATEGORY_SNF                            74275.0   0.116446   \n",
       "\n",
       "                                                        std   min   25%  \\\n",
       "ABX                                                0.490207   0.0   0.0   \n",
       "BETA_BLOCKER                                       0.376676   0.0   0.0   \n",
       "DIURETIC                                           0.495263   0.0   0.0   \n",
       "GIDX_BLEEDING                                      0.344025   0.0   0.0   \n",
       "HE                                                 0.384240   0.0   0.0   \n",
       "HRS                                                0.182700   0.0   0.0   \n",
       "LVP                                                0.437291   0.0   0.0   \n",
       "SBP                                                0.176402   0.0   0.0   \n",
       "SEPSIS                                             0.257264   0.0   0.0   \n",
       "STEROIDS                                           0.331310   0.0   0.0   \n",
       "VENTILATION                                        0.253227   0.0   0.0   \n",
       "VASOPRESSOR                                        0.344804   0.0   0.0   \n",
       "FEMALE                                             0.497122   0.0   0.0   \n",
       "RURAL                                              0.397713   0.0   0.0   \n",
       "ELIXHAUSER_INDEX                                  10.495290 -16.0  10.0   \n",
       "MELD_Na                                            8.163881   6.0   8.0   \n",
       "AKI_CATEGORY2_MILD                                 0.376452   0.0   0.0   \n",
       "AKI_CATEGORY2_SEVERE                               0.295121   0.0   0.0   \n",
       "ARDS_MILD ARDS                                     0.150957   0.0   0.0   \n",
       "ARDS_MODERATE ARDS                                 0.169574   0.0   0.0   \n",
       "ARDS_SEVERE ARDS                                   0.130738   0.0   0.0   \n",
       "CRYST_RES_VOL_CATEGORY_(0, 500]                    0.452549   0.0   0.0   \n",
       "CRYST_RES_VOL_CATEGORY_(500, 1250]                 0.490640   0.0   0.0   \n",
       "CRYST_RES_VOL_CATEGORY_NONE                        0.357413   0.0   0.0   \n",
       "GLYCEMIA_BOTH                                      0.258695   0.0   0.0   \n",
       "GLYCEMIA_HYPERGLYCEMIA                             0.461216   0.0   0.0   \n",
       "GLYCEMIA_HYPOGLYCEMIA                              0.167430   0.0   0.0   \n",
       "TIME_TO_ALB_CATEGORY_LOS_(0, 24]                   0.349452   0.0   0.0   \n",
       "TIME_TO_ALB_CATEGORY_LOS_>24                       0.346591   0.0   0.0   \n",
       "ADMISSION_TYPE_GROUP_Elective                      0.287227   0.0   0.0   \n",
       "...                                                     ...   ...   ...   \n",
       "BED_SIZE_300-499                                   0.459082   0.0   0.0   \n",
       "BED_SIZE_500+                                      0.460074   0.0   0.0   \n",
       "CENSUS_REGION_Midwest                              0.393097   0.0   0.0   \n",
       "CENSUS_REGION_Northeast                            0.440668   0.0   0.0   \n",
       "CENSUS_REGION_West                                 0.334329   0.0   0.0   \n",
       "INDEX_YEAR_2009                                    0.198376   0.0   0.0   \n",
       "INDEX_YEAR_2010                                    0.235747   0.0   0.0   \n",
       "INDEX_YEAR_2011                                    0.261304   0.0   0.0   \n",
       "INDEX_YEAR_2012                                    0.288203   0.0   0.0   \n",
       "INDEX_YEAR_2013                                    0.348762   0.0   0.0   \n",
       "INDEX_YEAR_2014                                    0.398888   0.0   0.0   \n",
       "INDEX_YEAR_2015                                    0.392397   0.0   0.0   \n",
       "PAYER_GROUP_Medicaid                               0.378615   0.0   0.0   \n",
       "PAYER_GROUP_Medicare                               0.484171   0.0   0.0   \n",
       "PAYER_GROUP_Null or Exclude                        0.341134   0.0   0.0   \n",
       "PAYER_GROUP_Oth. Govt. or Mil.                     0.157841   0.0   0.0   \n",
       "PAYER_GROUP_Oth. NGO or Work Comp.                 0.121062   0.0   0.0   \n",
       "PAYER_GROUP_Self                                   0.225038   0.0   0.0   \n",
       "RACE_GROUP_African American                        0.344238   0.0   0.0   \n",
       "RACE_GROUP_Asian/Pacific Islander                  0.117277   0.0   0.0   \n",
       "RACE_GROUP_Hispanic                                0.116268   0.0   0.0   \n",
       "RACE_GROUP_Not Specified                           0.116717   0.0   0.0   \n",
       "RACE_GROUP_Other                                   0.258806   0.0   0.0   \n",
       "TEACHING_FACILITY_Not Specified                    0.379495   0.0   0.0   \n",
       "TEACHING_FACILITY_Yes                              0.470557   0.0   0.0   \n",
       "DISCHARGE_CATEGORY_HOSPICE                         0.265518   0.0   0.0   \n",
       "DISCHARGE_CATEGORY_INPATIENT HOSPITAL              0.094408   0.0   0.0   \n",
       "DISCHARGE_CATEGORY_NOT SPECIFIED                   0.205482   0.0   0.0   \n",
       "DISCHARGE_CATEGORY_OTHER POST-ACUTE CARE SETTING   0.256747   0.0   0.0   \n",
       "DISCHARGE_CATEGORY_SNF                             0.320761   0.0   0.0   \n",
       "\n",
       "                                                     50%   75%   max  \n",
       "ABX                                                1.000   1.0   1.0  \n",
       "BETA_BLOCKER                                       0.000   0.0   1.0  \n",
       "DIURETIC                                           0.000   1.0   1.0  \n",
       "GIDX_BLEEDING                                      0.000   0.0   1.0  \n",
       "HE                                                 0.000   0.0   1.0  \n",
       "HRS                                                0.000   0.0   1.0  \n",
       "LVP                                                0.000   1.0   1.0  \n",
       "SBP                                                0.000   0.0   1.0  \n",
       "SEPSIS                                             0.000   0.0   1.0  \n",
       "STEROIDS                                           0.000   0.0   1.0  \n",
       "VENTILATION                                        0.000   0.0   1.0  \n",
       "VASOPRESSOR                                        0.000   0.0   1.0  \n",
       "FEMALE                                             0.000   1.0   1.0  \n",
       "RURAL                                              0.000   0.0   1.0  \n",
       "ELIXHAUSER_INDEX                                  16.000  23.0  69.0  \n",
       "MELD_Na                                           13.848  21.0  67.0  \n",
       "AKI_CATEGORY2_MILD                                 0.000   0.0   1.0  \n",
       "AKI_CATEGORY2_SEVERE                               0.000   0.0   1.0  \n",
       "ARDS_MILD ARDS                                     0.000   0.0   1.0  \n",
       "ARDS_MODERATE ARDS                                 0.000   0.0   1.0  \n",
       "ARDS_SEVERE ARDS                                   0.000   0.0   1.0  \n",
       "CRYST_RES_VOL_CATEGORY_(0, 500]                    0.000   1.0   1.0  \n",
       "CRYST_RES_VOL_CATEGORY_(500, 1250]                 0.000   1.0   1.0  \n",
       "CRYST_RES_VOL_CATEGORY_NONE                        0.000   0.0   1.0  \n",
       "GLYCEMIA_BOTH                                      0.000   0.0   1.0  \n",
       "GLYCEMIA_HYPERGLYCEMIA                             0.000   1.0   1.0  \n",
       "GLYCEMIA_HYPOGLYCEMIA                              0.000   0.0   1.0  \n",
       "TIME_TO_ALB_CATEGORY_LOS_(0, 24]                   0.000   0.0   1.0  \n",
       "TIME_TO_ALB_CATEGORY_LOS_>24                       0.000   0.0   1.0  \n",
       "ADMISSION_TYPE_GROUP_Elective                      0.000   0.0   1.0  \n",
       "...                                                  ...   ...   ...  \n",
       "BED_SIZE_300-499                                   0.000   1.0   1.0  \n",
       "BED_SIZE_500+                                      0.000   1.0   1.0  \n",
       "CENSUS_REGION_Midwest                              0.000   0.0   1.0  \n",
       "CENSUS_REGION_Northeast                            0.000   1.0   1.0  \n",
       "CENSUS_REGION_West                                 0.000   0.0   1.0  \n",
       "INDEX_YEAR_2009                                    0.000   0.0   1.0  \n",
       "INDEX_YEAR_2010                                    0.000   0.0   1.0  \n",
       "INDEX_YEAR_2011                                    0.000   0.0   1.0  \n",
       "INDEX_YEAR_2012                                    0.000   0.0   1.0  \n",
       "INDEX_YEAR_2013                                    0.000   0.0   1.0  \n",
       "INDEX_YEAR_2014                                    0.000   0.0   1.0  \n",
       "INDEX_YEAR_2015                                    0.000   0.0   1.0  \n",
       "PAYER_GROUP_Medicaid                               0.000   0.0   1.0  \n",
       "PAYER_GROUP_Medicare                               0.000   1.0   1.0  \n",
       "PAYER_GROUP_Null or Exclude                        0.000   0.0   1.0  \n",
       "PAYER_GROUP_Oth. Govt. or Mil.                     0.000   0.0   1.0  \n",
       "PAYER_GROUP_Oth. NGO or Work Comp.                 0.000   0.0   1.0  \n",
       "PAYER_GROUP_Self                                   0.000   0.0   1.0  \n",
       "RACE_GROUP_African American                        0.000   0.0   1.0  \n",
       "RACE_GROUP_Asian/Pacific Islander                  0.000   0.0   1.0  \n",
       "RACE_GROUP_Hispanic                                0.000   0.0   1.0  \n",
       "RACE_GROUP_Not Specified                           0.000   0.0   1.0  \n",
       "RACE_GROUP_Other                                   0.000   0.0   1.0  \n",
       "TEACHING_FACILITY_Not Specified                    0.000   0.0   1.0  \n",
       "TEACHING_FACILITY_Yes                              1.000   1.0   1.0  \n",
       "DISCHARGE_CATEGORY_HOSPICE                         0.000   0.0   1.0  \n",
       "DISCHARGE_CATEGORY_INPATIENT HOSPITAL              0.000   0.0   1.0  \n",
       "DISCHARGE_CATEGORY_NOT SPECIFIED                   0.000   0.0   1.0  \n",
       "DISCHARGE_CATEGORY_OTHER POST-ACUTE CARE SETTING   0.000   0.0   1.0  \n",
       "DISCHARGE_CATEGORY_SNF                             0.000   0.0   1.0  \n",
       "\n",
       "[66 rows x 8 columns]"
      ]
     },
     "execution_count": 110,
     "metadata": {},
     "output_type": "execute_result"
    }
   ],
   "source": [
    "# create the features matrix\n",
    "X = Cirrhosis_LOS5.iloc[:, Cirrhosis_LOS5.columns != 'LONG_LOS']\n",
    "X.describe().T"
   ]
  },
  {
   "cell_type": "markdown",
   "metadata": {
    "heading_collapsed": true
   },
   "source": [
    "## Data Summary"
   ]
  },
  {
   "cell_type": "markdown",
   "metadata": {
    "hidden": true
   },
   "source": [
    "* **74,275** unique patient visits with cirrhosis in total. \n",
    "\n",
    "\n",
    "* **Outcome:** 36,790 (49.5%) visits would stay longer in hospital. \n",
    "\n",
    "\n",
    "* **Features**:  \n",
    "\n",
    "  + Acute Kidney Injury (categorical)\n",
    "  \n",
    "  + Acute Respiratory Distress Syndrome (categorical)\n",
    "\n",
    "  + Antibiotics (binary)\n",
    " \n",
    "  + Beta Blockers (binary)\n",
    "  \n",
    "  + Volume of Crystalloids for Resuscitation (categorical)\n",
    "  \n",
    "  + Diuretics (binary)\n",
    "  \n",
    "  + Glucose Levels (binary)\n",
    "  \n",
    "  + Hepatic Encephalopathy (binary)\n",
    "  \n",
    "  + Hepatorenal Syndrome (binary)\n",
    "  \n",
    "  + Large Volume Paracentesis (binary)\n",
    "  \n",
    "  + Spontaneous Bacterial Peritonitis (binary)\n",
    "  \n",
    "  + Sepsis (binary)\n",
    "  \n",
    "  + Steroids (binary)\n",
    "  \n",
    "  + Time to Albumin (categorical)\n",
    "  \n",
    "  + Mechanical Ventilation (categorical)\n",
    "  \n",
    "  + Vasopressors (categorical)\n",
    "  \n",
    "  + Elixhauser Index (continuous)\n",
    "  \n",
    "  + MELD-Na Score (continuous)\n",
    "  \n",
    "  + Admission Type (categorical)\n",
    "  \n",
    "  + Age Group (categorical)\n",
    "  \n",
    "  + Bed Size (categorical)\n",
    "  \n",
    "  + Region (categorical)\n",
    "  \n",
    "  + Gender (binary)\n",
    "  \n",
    "  + Year (categorical)\n",
    "  \n",
    "  + Payer (categorical)\n",
    "  \n",
    "  + Race (categorical)\n",
    "  \n",
    "  + Teaching Facility (categorical)\n",
    "  \n",
    "  + Urban_Rural (binary)\n"
   ]
  },
  {
   "cell_type": "markdown",
   "metadata": {
    "heading_collapsed": true
   },
   "source": [
    "# Generalized Linear Model - Logistic Regression"
   ]
  },
  {
   "cell_type": "markdown",
   "metadata": {
    "heading_collapsed": true,
    "hidden": true
   },
   "source": [
    "## Fit Classical Logistic Regression"
   ]
  },
  {
   "cell_type": "code",
   "execution_count": 111,
   "metadata": {
    "hidden": true
   },
   "outputs": [],
   "source": [
    "# create a logistic regression model\n",
    "X_cons = sm.add_constant(X)\n",
    "glm_logit = sm.Logit(y, X_cons)"
   ]
  },
  {
   "cell_type": "code",
   "execution_count": 112,
   "metadata": {
    "hidden": true
   },
   "outputs": [
    {
     "name": "stdout",
     "output_type": "stream",
     "text": [
      "Optimization terminated successfully.\n",
      "         Current function value: 0.512952\n",
      "         Iterations 7\n"
     ]
    }
   ],
   "source": [
    "# fit logistic regression\n",
    "glm_logit_result = glm_logit.fit()"
   ]
  },
  {
   "cell_type": "code",
   "execution_count": 113,
   "metadata": {
    "hidden": true
   },
   "outputs": [
    {
     "name": "stdout",
     "output_type": "stream",
     "text": [
      "                           Logit Regression Results                           \n",
      "==============================================================================\n",
      "Dep. Variable:               LONG_LOS   No. Observations:                74275\n",
      "Model:                          Logit   Df Residuals:                    74208\n",
      "Method:                           MLE   Df Model:                           66\n",
      "Date:                Thu, 11 Apr 2019   Pseudo R-squ.:                  0.2599\n",
      "Time:                        16:21:56   Log-Likelihood:                -38100.\n",
      "converged:                       True   LL-Null:                       -51480.\n",
      "                                        LLR p-value:                     0.000\n",
      "====================================================================================================================\n",
      "                                                       coef    std err          z      P>|z|      [0.025      0.975]\n",
      "--------------------------------------------------------------------------------------------------------------------\n",
      "const                                               -2.2304      0.073    -30.447      0.000      -2.374      -2.087\n",
      "ABX                                                  0.7762      0.019     41.416      0.000       0.739       0.813\n",
      "BETA_BLOCKER                                        -0.2195      0.025     -8.797      0.000      -0.268      -0.171\n",
      "DIURETIC                                             0.4002      0.020     20.114      0.000       0.361       0.439\n",
      "GIDX_BLEEDING                                       -0.0169      0.027     -0.630      0.528      -0.069       0.036\n",
      "HE                                                  -0.0971      0.024     -3.962      0.000      -0.145      -0.049\n",
      "HRS                                                  0.1368      0.054      2.523      0.012       0.031       0.243\n",
      "LVP                                                  0.4323      0.024     18.318      0.000       0.386       0.479\n",
      "SBP                                                  0.0249      0.052      0.475      0.635      -0.078       0.127\n",
      "SEPSIS                                               0.7352      0.049     15.089      0.000       0.640       0.831\n",
      "STEROIDS                                             0.5284      0.029     18.415      0.000       0.472       0.585\n",
      "VENTILATION                                          0.7765      0.053     14.551      0.000       0.672       0.881\n",
      "VASOPRESSOR                                          1.0102      0.032     31.159      0.000       0.947       1.074\n",
      "FEMALE                                               0.0436      0.018      2.394      0.017       0.008       0.079\n",
      "RURAL                                                0.1611      0.025      6.350      0.000       0.111       0.211\n",
      "ELIXHAUSER_INDEX                                    -0.0074      0.001     -7.893      0.000      -0.009      -0.006\n",
      "MELD_Na                                             -0.0022      0.001     -1.626      0.104      -0.005       0.000\n",
      "AKI_CATEGORY2_MILD                                   0.9709      0.027     36.585      0.000       0.919       1.023\n",
      "AKI_CATEGORY2_SEVERE                                 0.8987      0.036     25.202      0.000       0.829       0.969\n",
      "ARDS_MILD ARDS                                       0.7335      0.074      9.881      0.000       0.588       0.879\n",
      "ARDS_MODERATE ARDS                                   0.6720      0.076      8.862      0.000       0.523       0.821\n",
      "ARDS_SEVERE ARDS                                     0.8962      0.117      7.653      0.000       0.667       1.126\n",
      "CRYST_RES_VOL_CATEGORY_(0, 500]                      1.5571      0.030     52.746      0.000       1.499       1.615\n",
      "CRYST_RES_VOL_CATEGORY_(500, 1250]                   0.6506      0.028     23.613      0.000       0.597       0.705\n",
      "CRYST_RES_VOL_CATEGORY_NONE                          0.1866      0.043      4.361      0.000       0.103       0.271\n",
      "GLYCEMIA_BOTH                                        0.9890      0.042     23.629      0.000       0.907       1.071\n",
      "GLYCEMIA_HYPERGLYCEMIA                               0.3438      0.020     17.005      0.000       0.304       0.383\n",
      "GLYCEMIA_HYPOGLYCEMIA                                0.4654      0.054      8.549      0.000       0.359       0.572\n",
      "TIME_TO_ALB_CATEGORY_LOS_(0, 24]                     0.0421      0.037      1.147      0.251      -0.030       0.114\n",
      "TIME_TO_ALB_CATEGORY_LOS_>24                         1.1229      0.038     29.420      0.000       1.048       1.198\n",
      "ADMISSION_TYPE_GROUP_Elective                       -0.0411      0.032     -1.272      0.203      -0.104       0.022\n",
      "ADMISSION_TYPE_GROUP_Urgent                          0.1367      0.027      4.991      0.000       0.083       0.190\n",
      "AGE_GROUP_30-49                                     -0.3548      0.055     -6.409      0.000      -0.463      -0.246\n",
      "AGE_GROUP_50-64                                     -0.4671      0.054     -8.626      0.000      -0.573      -0.361\n",
      "AGE_GROUP_65+                                       -0.3911      0.057     -6.817      0.000      -0.504      -0.279\n",
      "BED_SIZE_100-199                                    -0.2168      0.043     -5.067      0.000      -0.301      -0.133\n",
      "BED_SIZE_200-299                                     0.0369      0.042      0.869      0.385      -0.046       0.120\n",
      "BED_SIZE_300-499                                     0.1255      0.043      2.953      0.003       0.042       0.209\n",
      "BED_SIZE_500+                                        0.3297      0.044      7.509      0.000       0.244       0.416\n",
      "CENSUS_REGION_Midwest                               -0.0460      0.028     -1.649      0.099      -0.101       0.009\n",
      "CENSUS_REGION_Northeast                              0.3409      0.026     13.209      0.000       0.290       0.391\n",
      "CENSUS_REGION_West                                  -0.0304      0.034     -0.899      0.369      -0.097       0.036\n",
      "INDEX_YEAR_2009                                      0.0382      0.049      0.775      0.439      -0.059       0.135\n",
      "INDEX_YEAR_2010                                      0.0609      0.043      1.432      0.152      -0.022       0.144\n",
      "INDEX_YEAR_2011                                      0.1116      0.039      2.862      0.004       0.035       0.188\n",
      "INDEX_YEAR_2012                                      0.1421      0.036      3.937      0.000       0.071       0.213\n",
      "INDEX_YEAR_2013                                      0.0324      0.032      1.027      0.304      -0.029       0.094\n",
      "INDEX_YEAR_2014                                      0.0380      0.028      1.338      0.181      -0.018       0.094\n",
      "INDEX_YEAR_2015                                      0.0215      0.029      0.753      0.452      -0.034       0.077\n",
      "PAYER_GROUP_Medicaid                                -0.0729      0.029     -2.517      0.012      -0.130      -0.016\n",
      "PAYER_GROUP_Medicare                                -0.1206      0.027     -4.407      0.000      -0.174      -0.067\n",
      "PAYER_GROUP_Null or Exclude                         -0.0927      0.032     -2.903      0.004      -0.155      -0.030\n",
      "PAYER_GROUP_Oth. Govt. or Mil.                       0.0386      0.060      0.649      0.517      -0.078       0.155\n",
      "PAYER_GROUP_Oth. NGO or Work Comp.                  -0.0396      0.076     -0.523      0.601      -0.188       0.109\n",
      "PAYER_GROUP_Self                                     0.0143      0.043      0.330      0.741      -0.070       0.099\n",
      "RACE_GROUP_African American                          0.2541      0.027      9.277      0.000       0.200       0.308\n",
      "RACE_GROUP_Asian/Pacific Islander                    0.1033      0.076      1.361      0.174      -0.045       0.252\n",
      "RACE_GROUP_Hispanic                                 -0.1422      0.076     -1.864      0.062      -0.292       0.007\n",
      "RACE_GROUP_Not Specified                            -0.0679      0.077     -0.880      0.379      -0.219       0.083\n",
      "RACE_GROUP_Other                                    -0.1423      0.036     -3.938      0.000      -0.213      -0.071\n",
      "TEACHING_FACILITY_Not Specified                     -0.1072      0.037     -2.911      0.004      -0.179      -0.035\n",
      "TEACHING_FACILITY_Yes                                0.1051      0.035      2.989      0.003       0.036       0.174\n",
      "DISCHARGE_CATEGORY_HOSPICE                           0.3557      0.036      9.811      0.000       0.285       0.427\n",
      "DISCHARGE_CATEGORY_INPATIENT HOSPITAL               -0.3389      0.099     -3.426      0.001      -0.533      -0.145\n",
      "DISCHARGE_CATEGORY_NOT SPECIFIED                     0.4333      0.047      9.164      0.000       0.341       0.526\n",
      "DISCHARGE_CATEGORY_OTHER POST-ACUTE CARE SETTING     0.3717      0.038      9.668      0.000       0.296       0.447\n",
      "DISCHARGE_CATEGORY_SNF                               1.1319      0.032     35.473      0.000       1.069       1.194\n",
      "====================================================================================================================\n"
     ]
    }
   ],
   "source": [
    "# display model summary\n",
    "print(glm_logit_result.summary())"
   ]
  },
  {
   "cell_type": "markdown",
   "metadata": {
    "heading_collapsed": true,
    "hidden": true
   },
   "source": [
    "## GLM Model Summary"
   ]
  },
  {
   "cell_type": "markdown",
   "metadata": {
    "hidden": true
   },
   "source": [
    "The GLM Model shows the following features are **statistical significant**:\n",
    "\n",
    "  + **Acute Kidney Injury (categorical)**\n",
    "  \n",
    "  + **Acute Respiratory Distress Syndrome (categorical)**\n",
    "\n",
    "  + Antibiotics (binary)\n",
    " \n",
    "  + **Beta Blockers (binary)**\n",
    "  \n",
    "  + **Volume of Crystalloids for Resuscitation (categorical)**\n",
    "  \n",
    "  + **Diuretics (binary)**\n",
    "  \n",
    "  + GI Bleeding (binary)\n",
    "  \n",
    "  + **Glucose Levels (categorical)**\n",
    "  \n",
    "  + **Hepatic Encephalopathy (binary)**\n",
    "  \n",
    "  + **Hepatorenal Syndrome (binary)**\n",
    "  \n",
    "  + **Large Volume Paracentesis (binary)**\n",
    "  \n",
    "  + **Spontaneous Bacterial Peritonitis (binary)**\n",
    "  \n",
    "  + **Sepsis (binary)**\n",
    "  \n",
    "  + **Steroids (binary)**\n",
    "  \n",
    "  + **Time to Albumin (categorical)**\n",
    "  \n",
    "  + **Mechanical Ventilation (categorical)**\n",
    "  \n",
    "  + **Vasopressors (binary)**\n",
    "  \n",
    "  + **Elixhauser Index (binary)**\n",
    "  \n",
    "  + MELD-Na Score (continuous)\n",
    "  \n",
    "  + **Admission Type (categorical)**\n",
    "  \n",
    "  + **Age Group (categorical)**\n",
    "  \n",
    "  + **Bed Size (categorical)**\n",
    "  \n",
    "  + **Region (categorical)**\n",
    "  \n",
    "  + **Gender (binary)**\n",
    "  \n",
    "  + **Year (categorical)**\n",
    "  \n",
    "  + **Payer (categorical)**\n",
    "  \n",
    "  + **Race (categorical)**\n",
    "  \n",
    "  + **Teaching Facility (categorical)**\n",
    "  \n",
    "  + **Urban_Rural (binary)**\n",
    "  \n",
    "  + **Discharge (categorical)**"
   ]
  },
  {
   "cell_type": "markdown",
   "metadata": {
    "heading_collapsed": true
   },
   "source": [
    "# Split Data into Training and Test Sets"
   ]
  },
  {
   "cell_type": "code",
   "execution_count": 114,
   "metadata": {
    "hidden": true
   },
   "outputs": [
    {
     "name": "stdout",
     "output_type": "stream",
     "text": [
      "Training Features Shape: (51992, 66)\n",
      "Training Lable Shape: (51992, 1)\n",
      "Test Features Shape: (22283, 66)\n",
      "Test Lable Shape: (22283, 1)\n"
     ]
    }
   ],
   "source": [
    "# split data into training and test sets\n",
    "X_train, X_test, y_train, y_test = train_test_split(X, y, test_size = 0.30, random_state = 12345)\n",
    "print('Training Features Shape:', X_train.shape)\n",
    "print('Training Lable Shape:', y_train.shape)\n",
    "print('Test Features Shape:', X_test.shape)\n",
    "print('Test Lable Shape:', y_test.shape)"
   ]
  },
  {
   "cell_type": "code",
   "execution_count": 115,
   "metadata": {
    "hidden": true
   },
   "outputs": [
    {
     "data": {
      "text/plain": [
       "StandardScaler(copy=True, with_mean=True, with_std=True)"
      ]
     },
     "execution_count": 115,
     "metadata": {},
     "output_type": "execute_result"
    }
   ],
   "source": [
    "# fit standardizer to training set\n",
    "standardizer = StandardScaler()\n",
    "standardizer.fit(X_train)"
   ]
  },
  {
   "cell_type": "code",
   "execution_count": 116,
   "metadata": {
    "hidden": true
   },
   "outputs": [],
   "source": [
    "# apply to both training and test sets\n",
    "X_trian_std = standardizer.transform(X_train)\n",
    "X_test_std = standardizer.transform(X_test)"
   ]
  },
  {
   "cell_type": "code",
   "execution_count": 117,
   "metadata": {
    "hidden": true
   },
   "outputs": [],
   "source": [
    "# covert labels to arrays\n",
    "y_train = y_train.values.ravel()\n",
    "y_test = y_test.values.ravel()"
   ]
  },
  {
   "cell_type": "markdown",
   "metadata": {
    "heading_collapsed": true
   },
   "source": [
    "# Machine Learning Model - Logistic Regression"
   ]
  },
  {
   "cell_type": "markdown",
   "metadata": {
    "heading_collapsed": true,
    "hidden": true
   },
   "source": [
    "## Train Model"
   ]
  },
  {
   "cell_type": "code",
   "execution_count": 119,
   "metadata": {
    "hidden": true
   },
   "outputs": [],
   "source": [
    "# create a base Logistic model\n",
    "base_logit = LogisticRegression(random_state = 12345)"
   ]
  },
  {
   "cell_type": "code",
   "execution_count": 120,
   "metadata": {
    "hidden": true
   },
   "outputs": [
    {
     "data": {
      "text/plain": [
       "LogisticRegression(C=1.0, class_weight=None, dual=False, fit_intercept=True,\n",
       "          intercept_scaling=1, max_iter=100, multi_class='warn',\n",
       "          n_jobs=None, penalty='l2', random_state=12345, solver='warn',\n",
       "          tol=0.0001, verbose=0, warm_start=False)"
      ]
     },
     "execution_count": 120,
     "metadata": {},
     "output_type": "execute_result"
    }
   ],
   "source": [
    "# train the model on training data\n",
    "base_logit.fit(X_trian_std , y_train)"
   ]
  },
  {
   "cell_type": "markdown",
   "metadata": {
    "heading_collapsed": true,
    "hidden": true
   },
   "source": [
    "## Predict Test Data"
   ]
  },
  {
   "cell_type": "code",
   "execution_count": 121,
   "metadata": {
    "hidden": true
   },
   "outputs": [],
   "source": [
    "# predict test data\n",
    "y_pred_logit = base_logit.predict(X_test_std)\n",
    "y_pred_prob_logit = base_logit.predict_proba(X_test_std)"
   ]
  },
  {
   "cell_type": "markdown",
   "metadata": {
    "heading_collapsed": true,
    "hidden": true
   },
   "source": [
    "## Evaluate Performance"
   ]
  },
  {
   "cell_type": "markdown",
   "metadata": {
    "hidden": true
   },
   "source": [
    "Please refer to this [wikipedia](https://en.wikipedia.org/wiki/Confusion_matrix) link for better undertanding performance metrics"
   ]
  },
  {
   "cell_type": "code",
   "execution_count": 122,
   "metadata": {
    "hidden": true
   },
   "outputs": [
    {
     "data": {
      "image/png": "[encoded data removed]",
      "text/plain": [
       "<Figure size 432x288 with 2 Axes>"
      ]
     },
     "metadata": {
      "needs_background": "light"
     },
     "output_type": "display_data"
    }
   ],
   "source": [
    "# plot confusion matrix\n",
    "skplt.metrics.plot_confusion_matrix(y_test, y_pred_logit)\n",
    "plt.show()"
   ]
  },
  {
   "cell_type": "code",
   "execution_count": 123,
   "metadata": {
    "hidden": true
   },
   "outputs": [
    {
     "name": "stdout",
     "output_type": "stream",
     "text": [
      "True Negatives:  8763\n",
      "False Positives:  2458\n",
      "False Negatives:  3321\n",
      "True Positives:  7741\n",
      "Accuracy: 0.74:\n",
      "Precision: 0.76:\n",
      "Recall: 0.70:\n",
      "F1 Score: 0.73:\n"
     ]
    }
   ],
   "source": [
    "# calculate proformance metrics\n",
    "cm_matrix = confusion_matrix(y_test, y_pred_logit)\n",
    "tn, fp, fn, tp = cm_matrix.ravel()\n",
    "accuracy = (tn+tp)/(tp+tn+fp+fn)\n",
    "precision = tp/(tp+fp)\n",
    "recall = tp /(tp+fn)\n",
    "f1 = (2*precision*recall)/(precision+recall)\n",
    "print('True Negatives: ', tn)\n",
    "print('False Positives: ', fp)\n",
    "print('False Negatives: ', fn)\n",
    "print('True Positives: ', tp)\n",
    "print(\"Accuracy: {:0.2f}:\".format(accuracy))\n",
    "print(\"Precision: {:0.2f}:\".format(precision))\n",
    "print(\"Recall: {:0.2f}:\".format(recall))\n",
    "print(\"F1 Score: {:0.2f}:\".format(f1))"
   ]
  },
  {
   "cell_type": "code",
   "execution_count": 125,
   "metadata": {
    "hidden": true
   },
   "outputs": [
    {
     "name": "stdout",
     "output_type": "stream",
     "text": [
      "              precision    recall  f1-score   support\n",
      "\n",
      "           0       0.73      0.78      0.75     11221\n",
      "           1       0.76      0.70      0.73     11062\n",
      "\n",
      "   micro avg       0.74      0.74      0.74     22283\n",
      "   macro avg       0.74      0.74      0.74     22283\n",
      "weighted avg       0.74      0.74      0.74     22283\n",
      "\n"
     ]
    }
   ],
   "source": [
    "# print classification report\n",
    "print(classification_report(y_test, y_pred_logit))"
   ]
  },
  {
   "cell_type": "code",
   "execution_count": 126,
   "metadata": {
    "hidden": true
   },
   "outputs": [
    {
     "data": {
      "image/png": "[encoded data removed]",
      "text/plain": [
       "<Figure size 432x288 with 1 Axes>"
      ]
     },
     "metadata": {
      "needs_background": "light"
     },
     "output_type": "display_data"
    }
   ],
   "source": [
    "# plot ROC curves\n",
    "skplt.metrics.plot_roc_curve(y_test, y_pred_prob_logit, curves = ('each_class'))\n",
    "plt.show()"
   ]
  },
  {
   "cell_type": "code",
   "execution_count": 127,
   "metadata": {
    "hidden": true
   },
   "outputs": [
    {
     "data": {
      "image/png": "[encoded data removed]",
      "text/plain": [
       "<Figure size 432x288 with 1 Axes>"
      ]
     },
     "metadata": {
      "needs_background": "light"
     },
     "output_type": "display_data"
    }
   ],
   "source": [
    "# plot Precision-Recall curve\n",
    "skplt.metrics.plot_precision_recall_curve(y_test, y_pred_prob_logit, curves = ('each_class'))\n",
    "plt.show()"
   ]
  },
  {
   "cell_type": "code",
   "execution_count": 128,
   "metadata": {
    "hidden": true
   },
   "outputs": [
    {
     "data": {
      "text/html": [
       "<div>\n",
       "<style scoped>\n",
       "    .dataframe tbody tr th:only-of-type {\n",
       "        vertical-align: middle;\n",
       "    }\n",
       "\n",
       "    .dataframe tbody tr th {\n",
       "        vertical-align: top;\n",
       "    }\n",
       "\n",
       "    .dataframe thead th {\n",
       "        text-align: right;\n",
       "    }\n",
       "</style>\n",
       "<table border=\"1\" class=\"dataframe\">\n",
       "  <thead>\n",
       "    <tr style=\"text-align: right;\">\n",
       "      <th></th>\n",
       "      <th>Model</th>\n",
       "      <th>Precision</th>\n",
       "      <th>Recall</th>\n",
       "      <th>F1</th>\n",
       "      <th>Accuracy</th>\n",
       "      <th>ROC AUC</th>\n",
       "      <th>Precision-Recall AUC</th>\n",
       "    </tr>\n",
       "  </thead>\n",
       "  <tbody>\n",
       "    <tr>\n",
       "      <th>0</th>\n",
       "      <td>Logistic Regression</td>\n",
       "      <td>0.76</td>\n",
       "      <td>0.7</td>\n",
       "      <td>0.73</td>\n",
       "      <td>0.74</td>\n",
       "      <td>0.82</td>\n",
       "      <td>0.83</td>\n",
       "    </tr>\n",
       "  </tbody>\n",
       "</table>\n",
       "</div>"
      ],
      "text/plain": [
       "                 Model  Precision  Recall    F1  Accuracy  ROC AUC  \\\n",
       "0  Logistic Regression       0.76     0.7  0.73      0.74     0.82   \n",
       "\n",
       "   Precision-Recall AUC  \n",
       "0                  0.83  "
      ]
     },
     "execution_count": 128,
     "metadata": {},
     "output_type": "execute_result"
    }
   ],
   "source": [
    "# store proformance metrics\n",
    "col_names = ['Model', 'Precision', 'Recall', 'F1', 'Accuracy', 'ROC AUC', 'Precision-Recall AUC']\n",
    "metrics = pd.DataFrame(columns = col_names)\n",
    "logit_metric = {'Model': 'Logistic Regression', 'Precision': 0.76, 'Recall': 0.70, \n",
    "                'F1': 0.73, 'Accuracy': 0.74, 'ROC AUC': 0.82, 'Precision-Recall AUC': 0.83}\n",
    "metrics.loc[len(metrics)] = logit_metric\n",
    "metrics"
   ]
  },
  {
   "cell_type": "markdown",
   "metadata": {},
   "source": [
    "# Machine Learning Model - Random Forests"
   ]
  },
  {
   "cell_type": "markdown",
   "metadata": {
    "heading_collapsed": true
   },
   "source": [
    "## Train Model"
   ]
  },
  {
   "cell_type": "code",
   "execution_count": 130,
   "metadata": {
    "hidden": true
   },
   "outputs": [],
   "source": [
    "# create a base Random Forest model\n",
    "base_rf = RandomForestClassifier(n_estimators = 1000, random_state = 12345)"
   ]
  },
  {
   "cell_type": "code",
   "execution_count": 131,
   "metadata": {
    "hidden": true
   },
   "outputs": [
    {
     "data": {
      "text/plain": [
       "RandomForestClassifier(bootstrap=True, class_weight=None, criterion='gini',\n",
       "            max_depth=None, max_features='auto', max_leaf_nodes=None,\n",
       "            min_impurity_decrease=0.0, min_impurity_split=None,\n",
       "            min_samples_leaf=1, min_samples_split=2,\n",
       "            min_weight_fraction_leaf=0.0, n_estimators=1000, n_jobs=None,\n",
       "            oob_score=False, random_state=12345, verbose=0,\n",
       "            warm_start=False)"
      ]
     },
     "execution_count": 131,
     "metadata": {},
     "output_type": "execute_result"
    }
   ],
   "source": [
    "# train the model on training data\n",
    "base_rf.fit(X_trian_std , y_train)"
   ]
  },
  {
   "cell_type": "markdown",
   "metadata": {
    "heading_collapsed": true
   },
   "source": [
    "## Predict Test Data"
   ]
  },
  {
   "cell_type": "code",
   "execution_count": 132,
   "metadata": {
    "hidden": true
   },
   "outputs": [],
   "source": [
    "# predict test data\n",
    "y_pred_rf = base_rf.predict(X_test_std)\n",
    "y_pred_prob_rf = base_rf.predict_proba(X_test_std)"
   ]
  },
  {
   "cell_type": "markdown",
   "metadata": {
    "heading_collapsed": true
   },
   "source": [
    "## Evaluate Performance"
   ]
  },
  {
   "cell_type": "code",
   "execution_count": 133,
   "metadata": {
    "hidden": true
   },
   "outputs": [
    {
     "data": {
      "image/png": "[encoded data removed]",
      "text/plain": [
       "<Figure size 432x288 with 2 Axes>"
      ]
     },
     "metadata": {
      "needs_background": "light"
     },
     "output_type": "display_data"
    }
   ],
   "source": [
    "# plot confusion matrix\n",
    "skplt.metrics.plot_confusion_matrix(y_test, y_pred_rf)\n",
    "plt.show()"
   ]
  },
  {
   "cell_type": "code",
   "execution_count": 134,
   "metadata": {
    "hidden": true
   },
   "outputs": [
    {
     "name": "stdout",
     "output_type": "stream",
     "text": [
      "True Negatives:  8495\n",
      "False Positives:  2726\n",
      "False Negatives:  3044\n",
      "True Positives:  8018\n",
      "Accuracy: 0.74:\n",
      "Precision: 0.75:\n",
      "Recall: 0.72:\n",
      "F1 Score: 0.74:\n"
     ]
    }
   ],
   "source": [
    "# calculate proformance metrics\n",
    "cm_matrix = confusion_matrix(y_test, y_pred_rf)\n",
    "tn, fp, fn, tp = cm_matrix.ravel()\n",
    "accuracy = (tn+tp)/(tp+tn+fp+fn)\n",
    "precision = tp/(tp+fp)\n",
    "recall = tp /(tp+fn)\n",
    "f1 = (2*precision*recall)/(precision+recall)\n",
    "print('True Negatives: ', tn)\n",
    "print('False Positives: ', fp)\n",
    "print('False Negatives: ', fn)\n",
    "print('True Positives: ', tp)\n",
    "print(\"Accuracy: {:0.2f}:\".format(accuracy))\n",
    "print(\"Precision: {:0.2f}:\".format(precision))\n",
    "print(\"Recall: {:0.2f}:\".format(recall))\n",
    "print(\"F1 Score: {:0.2f}:\".format(f1))"
   ]
  },
  {
   "cell_type": "code",
   "execution_count": 135,
   "metadata": {
    "hidden": true
   },
   "outputs": [
    {
     "name": "stdout",
     "output_type": "stream",
     "text": [
      "              precision    recall  f1-score   support\n",
      "\n",
      "           0       0.74      0.76      0.75     11221\n",
      "           1       0.75      0.72      0.74     11062\n",
      "\n",
      "   micro avg       0.74      0.74      0.74     22283\n",
      "   macro avg       0.74      0.74      0.74     22283\n",
      "weighted avg       0.74      0.74      0.74     22283\n",
      "\n"
     ]
    }
   ],
   "source": [
    "# print classification report\n",
    "print(classification_report(y_test, y_pred_rf))"
   ]
  },
  {
   "cell_type": "code",
   "execution_count": 136,
   "metadata": {
    "hidden": true
   },
   "outputs": [
    {
     "data": {
      "image/png": "[encoded data removed]",
      "text/plain": [
       "<Figure size 432x288 with 1 Axes>"
      ]
     },
     "metadata": {
      "needs_background": "light"
     },
     "output_type": "display_data"
    }
   ],
   "source": [
    "# plot ROC curves\n",
    "skplt.metrics.plot_roc_curve(y_test, y_pred_prob_rf, curves = ('each_class'))\n",
    "plt.show()"
   ]
  },
  {
   "cell_type": "code",
   "execution_count": 137,
   "metadata": {
    "hidden": true
   },
   "outputs": [
    {
     "data": {
      "image/png": "[encoded data removed]",
      "text/plain": [
       "<Figure size 432x288 with 1 Axes>"
      ]
     },
     "metadata": {
      "needs_background": "light"
     },
     "output_type": "display_data"
    }
   ],
   "source": [
    "# plot Precision-Recall curve\n",
    "skplt.metrics.plot_precision_recall_curve(y_test, y_pred_prob_rf, curves = ('each_class'))\n",
    "plt.show()"
   ]
  },
  {
   "cell_type": "code",
   "execution_count": 138,
   "metadata": {
    "hidden": true
   },
   "outputs": [
    {
     "data": {
      "text/html": [
       "<div>\n",
       "<style scoped>\n",
       "    .dataframe tbody tr th:only-of-type {\n",
       "        vertical-align: middle;\n",
       "    }\n",
       "\n",
       "    .dataframe tbody tr th {\n",
       "        vertical-align: top;\n",
       "    }\n",
       "\n",
       "    .dataframe thead th {\n",
       "        text-align: right;\n",
       "    }\n",
       "</style>\n",
       "<table border=\"1\" class=\"dataframe\">\n",
       "  <thead>\n",
       "    <tr style=\"text-align: right;\">\n",
       "      <th></th>\n",
       "      <th>Model</th>\n",
       "      <th>Precision</th>\n",
       "      <th>Recall</th>\n",
       "      <th>F1</th>\n",
       "      <th>Accuracy</th>\n",
       "      <th>ROC AUC</th>\n",
       "      <th>Precision-Recall AUC</th>\n",
       "    </tr>\n",
       "  </thead>\n",
       "  <tbody>\n",
       "    <tr>\n",
       "      <th>0</th>\n",
       "      <td>Logistic Regression</td>\n",
       "      <td>0.76</td>\n",
       "      <td>0.70</td>\n",
       "      <td>0.73</td>\n",
       "      <td>0.74</td>\n",
       "      <td>0.82</td>\n",
       "      <td>0.83</td>\n",
       "    </tr>\n",
       "    <tr>\n",
       "      <th>1</th>\n",
       "      <td>Random Forests</td>\n",
       "      <td>0.75</td>\n",
       "      <td>0.72</td>\n",
       "      <td>0.74</td>\n",
       "      <td>0.74</td>\n",
       "      <td>0.82</td>\n",
       "      <td>0.83</td>\n",
       "    </tr>\n",
       "  </tbody>\n",
       "</table>\n",
       "</div>"
      ],
      "text/plain": [
       "                 Model  Precision  Recall    F1  Accuracy  ROC AUC  \\\n",
       "0  Logistic Regression       0.76    0.70  0.73      0.74     0.82   \n",
       "1       Random Forests       0.75    0.72  0.74      0.74     0.82   \n",
       "\n",
       "   Precision-Recall AUC  \n",
       "0                  0.83  \n",
       "1                  0.83  "
      ]
     },
     "execution_count": 138,
     "metadata": {},
     "output_type": "execute_result"
    }
   ],
   "source": [
    "# store proformance metrics\n",
    "rf_metric = {'Model': 'Random Forests', 'Precision': 0.75, 'Recall': 0.72, \n",
    "                'F1': 0.74, 'Accuracy': 0.74, 'ROC AUC': 0.82, 'Precision-Recall AUC': 0.83}\n",
    "metrics.loc[len(metrics)] = rf_metric\n",
    "metrics"
   ]
  },
  {
   "cell_type": "markdown",
   "metadata": {
    "heading_collapsed": true
   },
   "source": [
    "## Examine Variable Importances"
   ]
  },
  {
   "cell_type": "code",
   "execution_count": 139,
   "metadata": {
    "hidden": true
   },
   "outputs": [
    {
     "name": "stdout",
     "output_type": "stream",
     "text": [
      "<class 'pandas.core.frame.DataFrame'>\n",
      "RangeIndex: 66 entries, 0 to 65\n",
      "Data columns (total 2 columns):\n",
      "feature       66 non-null object\n",
      "importance    66 non-null float64\n",
      "dtypes: float64(1), object(1)\n",
      "memory usage: 1.1+ KB\n"
     ]
    }
   ],
   "source": [
    "# create a dataframe of feature importances\n",
    "feature_importances = pd.DataFrame()\n",
    "feature_importances['feature'] = X.columns\n",
    "feature_importances['importance'] = base_rf.feature_importances_\n",
    "feature_importances.info()"
   ]
  },
  {
   "cell_type": "code",
   "execution_count": 140,
   "metadata": {
    "hidden": true
   },
   "outputs": [
    {
     "data": {
      "text/html": [
       "<div>\n",
       "<style scoped>\n",
       "    .dataframe tbody tr th:only-of-type {\n",
       "        vertical-align: middle;\n",
       "    }\n",
       "\n",
       "    .dataframe tbody tr th {\n",
       "        vertical-align: top;\n",
       "    }\n",
       "\n",
       "    .dataframe thead th {\n",
       "        text-align: right;\n",
       "    }\n",
       "</style>\n",
       "<table border=\"1\" class=\"dataframe\">\n",
       "  <thead>\n",
       "    <tr style=\"text-align: right;\">\n",
       "      <th></th>\n",
       "      <th>index</th>\n",
       "      <th>feature</th>\n",
       "      <th>importance</th>\n",
       "    </tr>\n",
       "  </thead>\n",
       "  <tbody>\n",
       "    <tr>\n",
       "      <th>0</th>\n",
       "      <td>14</td>\n",
       "      <td>ELIXHAUSER_INDEX</td>\n",
       "      <td>0.096392</td>\n",
       "    </tr>\n",
       "    <tr>\n",
       "      <th>1</th>\n",
       "      <td>15</td>\n",
       "      <td>MELD_Na</td>\n",
       "      <td>0.092889</td>\n",
       "    </tr>\n",
       "    <tr>\n",
       "      <th>2</th>\n",
       "      <td>0</td>\n",
       "      <td>ABX</td>\n",
       "      <td>0.040987</td>\n",
       "    </tr>\n",
       "    <tr>\n",
       "      <th>3</th>\n",
       "      <td>21</td>\n",
       "      <td>CRYST_RES_VOL_CATEGORY_(0, 500]</td>\n",
       "      <td>0.039150</td>\n",
       "    </tr>\n",
       "    <tr>\n",
       "      <th>4</th>\n",
       "      <td>11</td>\n",
       "      <td>VASOPRESSOR</td>\n",
       "      <td>0.035237</td>\n",
       "    </tr>\n",
       "    <tr>\n",
       "      <th>5</th>\n",
       "      <td>16</td>\n",
       "      <td>AKI_CATEGORY2_MILD</td>\n",
       "      <td>0.032813</td>\n",
       "    </tr>\n",
       "    <tr>\n",
       "      <th>6</th>\n",
       "      <td>28</td>\n",
       "      <td>TIME_TO_ALB_CATEGORY_LOS_&gt;24</td>\n",
       "      <td>0.030584</td>\n",
       "    </tr>\n",
       "    <tr>\n",
       "      <th>7</th>\n",
       "      <td>65</td>\n",
       "      <td>DISCHARGE_CATEGORY_SNF</td>\n",
       "      <td>0.023440</td>\n",
       "    </tr>\n",
       "    <tr>\n",
       "      <th>8</th>\n",
       "      <td>12</td>\n",
       "      <td>FEMALE</td>\n",
       "      <td>0.022172</td>\n",
       "    </tr>\n",
       "    <tr>\n",
       "      <th>9</th>\n",
       "      <td>2</td>\n",
       "      <td>DIURETIC</td>\n",
       "      <td>0.020988</td>\n",
       "    </tr>\n",
       "    <tr>\n",
       "      <th>10</th>\n",
       "      <td>25</td>\n",
       "      <td>GLYCEMIA_HYPERGLYCEMIA</td>\n",
       "      <td>0.017636</td>\n",
       "    </tr>\n",
       "    <tr>\n",
       "      <th>11</th>\n",
       "      <td>6</td>\n",
       "      <td>LVP</td>\n",
       "      <td>0.017194</td>\n",
       "    </tr>\n",
       "    <tr>\n",
       "      <th>12</th>\n",
       "      <td>49</td>\n",
       "      <td>PAYER_GROUP_Medicare</td>\n",
       "      <td>0.016693</td>\n",
       "    </tr>\n",
       "    <tr>\n",
       "      <th>13</th>\n",
       "      <td>32</td>\n",
       "      <td>AGE_GROUP_50-64</td>\n",
       "      <td>0.016580</td>\n",
       "    </tr>\n",
       "    <tr>\n",
       "      <th>14</th>\n",
       "      <td>10</td>\n",
       "      <td>VENTILATION</td>\n",
       "      <td>0.016177</td>\n",
       "    </tr>\n",
       "    <tr>\n",
       "      <th>15</th>\n",
       "      <td>46</td>\n",
       "      <td>INDEX_YEAR_2014</td>\n",
       "      <td>0.016153</td>\n",
       "    </tr>\n",
       "    <tr>\n",
       "      <th>16</th>\n",
       "      <td>47</td>\n",
       "      <td>INDEX_YEAR_2015</td>\n",
       "      <td>0.015688</td>\n",
       "    </tr>\n",
       "    <tr>\n",
       "      <th>17</th>\n",
       "      <td>17</td>\n",
       "      <td>AKI_CATEGORY2_SEVERE</td>\n",
       "      <td>0.014806</td>\n",
       "    </tr>\n",
       "    <tr>\n",
       "      <th>18</th>\n",
       "      <td>4</td>\n",
       "      <td>HE</td>\n",
       "      <td>0.014762</td>\n",
       "    </tr>\n",
       "    <tr>\n",
       "      <th>19</th>\n",
       "      <td>8</td>\n",
       "      <td>SEPSIS</td>\n",
       "      <td>0.013930</td>\n",
       "    </tr>\n",
       "    <tr>\n",
       "      <th>20</th>\n",
       "      <td>1</td>\n",
       "      <td>BETA_BLOCKER</td>\n",
       "      <td>0.013650</td>\n",
       "    </tr>\n",
       "    <tr>\n",
       "      <th>21</th>\n",
       "      <td>33</td>\n",
       "      <td>AGE_GROUP_65+</td>\n",
       "      <td>0.013615</td>\n",
       "    </tr>\n",
       "    <tr>\n",
       "      <th>22</th>\n",
       "      <td>48</td>\n",
       "      <td>PAYER_GROUP_Medicaid</td>\n",
       "      <td>0.013591</td>\n",
       "    </tr>\n",
       "    <tr>\n",
       "      <th>23</th>\n",
       "      <td>9</td>\n",
       "      <td>STEROIDS</td>\n",
       "      <td>0.013440</td>\n",
       "    </tr>\n",
       "    <tr>\n",
       "      <th>24</th>\n",
       "      <td>3</td>\n",
       "      <td>GIDX_BLEEDING</td>\n",
       "      <td>0.013324</td>\n",
       "    </tr>\n",
       "    <tr>\n",
       "      <th>25</th>\n",
       "      <td>45</td>\n",
       "      <td>INDEX_YEAR_2013</td>\n",
       "      <td>0.013238</td>\n",
       "    </tr>\n",
       "    <tr>\n",
       "      <th>26</th>\n",
       "      <td>22</td>\n",
       "      <td>CRYST_RES_VOL_CATEGORY_(500, 1250]</td>\n",
       "      <td>0.013131</td>\n",
       "    </tr>\n",
       "    <tr>\n",
       "      <th>27</th>\n",
       "      <td>39</td>\n",
       "      <td>CENSUS_REGION_Northeast</td>\n",
       "      <td>0.013126</td>\n",
       "    </tr>\n",
       "    <tr>\n",
       "      <th>28</th>\n",
       "      <td>36</td>\n",
       "      <td>BED_SIZE_300-499</td>\n",
       "      <td>0.013105</td>\n",
       "    </tr>\n",
       "    <tr>\n",
       "      <th>29</th>\n",
       "      <td>31</td>\n",
       "      <td>AGE_GROUP_30-49</td>\n",
       "      <td>0.012991</td>\n",
       "    </tr>\n",
       "    <tr>\n",
       "      <th>...</th>\n",
       "      <td>...</td>\n",
       "      <td>...</td>\n",
       "      <td>...</td>\n",
       "    </tr>\n",
       "    <tr>\n",
       "      <th>36</th>\n",
       "      <td>38</td>\n",
       "      <td>CENSUS_REGION_Midwest</td>\n",
       "      <td>0.011366</td>\n",
       "    </tr>\n",
       "    <tr>\n",
       "      <th>37</th>\n",
       "      <td>35</td>\n",
       "      <td>BED_SIZE_200-299</td>\n",
       "      <td>0.011215</td>\n",
       "    </tr>\n",
       "    <tr>\n",
       "      <th>38</th>\n",
       "      <td>50</td>\n",
       "      <td>PAYER_GROUP_Null or Exclude</td>\n",
       "      <td>0.011073</td>\n",
       "    </tr>\n",
       "    <tr>\n",
       "      <th>39</th>\n",
       "      <td>44</td>\n",
       "      <td>INDEX_YEAR_2012</td>\n",
       "      <td>0.010563</td>\n",
       "    </tr>\n",
       "    <tr>\n",
       "      <th>40</th>\n",
       "      <td>29</td>\n",
       "      <td>ADMISSION_TYPE_GROUP_Elective</td>\n",
       "      <td>0.010223</td>\n",
       "    </tr>\n",
       "    <tr>\n",
       "      <th>41</th>\n",
       "      <td>43</td>\n",
       "      <td>INDEX_YEAR_2011</td>\n",
       "      <td>0.009273</td>\n",
       "    </tr>\n",
       "    <tr>\n",
       "      <th>42</th>\n",
       "      <td>34</td>\n",
       "      <td>BED_SIZE_100-199</td>\n",
       "      <td>0.009159</td>\n",
       "    </tr>\n",
       "    <tr>\n",
       "      <th>43</th>\n",
       "      <td>27</td>\n",
       "      <td>TIME_TO_ALB_CATEGORY_LOS_(0, 24]</td>\n",
       "      <td>0.009150</td>\n",
       "    </tr>\n",
       "    <tr>\n",
       "      <th>44</th>\n",
       "      <td>59</td>\n",
       "      <td>TEACHING_FACILITY_Not Specified</td>\n",
       "      <td>0.009082</td>\n",
       "    </tr>\n",
       "    <tr>\n",
       "      <th>45</th>\n",
       "      <td>61</td>\n",
       "      <td>DISCHARGE_CATEGORY_HOSPICE</td>\n",
       "      <td>0.008881</td>\n",
       "    </tr>\n",
       "    <tr>\n",
       "      <th>46</th>\n",
       "      <td>40</td>\n",
       "      <td>CENSUS_REGION_West</td>\n",
       "      <td>0.008748</td>\n",
       "    </tr>\n",
       "    <tr>\n",
       "      <th>47</th>\n",
       "      <td>58</td>\n",
       "      <td>RACE_GROUP_Other</td>\n",
       "      <td>0.008641</td>\n",
       "    </tr>\n",
       "    <tr>\n",
       "      <th>48</th>\n",
       "      <td>64</td>\n",
       "      <td>DISCHARGE_CATEGORY_OTHER POST-ACUTE CARE SETTING</td>\n",
       "      <td>0.008483</td>\n",
       "    </tr>\n",
       "    <tr>\n",
       "      <th>49</th>\n",
       "      <td>42</td>\n",
       "      <td>INDEX_YEAR_2010</td>\n",
       "      <td>0.007790</td>\n",
       "    </tr>\n",
       "    <tr>\n",
       "      <th>50</th>\n",
       "      <td>53</td>\n",
       "      <td>PAYER_GROUP_Self</td>\n",
       "      <td>0.007103</td>\n",
       "    </tr>\n",
       "    <tr>\n",
       "      <th>51</th>\n",
       "      <td>23</td>\n",
       "      <td>CRYST_RES_VOL_CATEGORY_NONE</td>\n",
       "      <td>0.006609</td>\n",
       "    </tr>\n",
       "    <tr>\n",
       "      <th>52</th>\n",
       "      <td>41</td>\n",
       "      <td>INDEX_YEAR_2009</td>\n",
       "      <td>0.005923</td>\n",
       "    </tr>\n",
       "    <tr>\n",
       "      <th>53</th>\n",
       "      <td>63</td>\n",
       "      <td>DISCHARGE_CATEGORY_NOT SPECIFIED</td>\n",
       "      <td>0.005802</td>\n",
       "    </tr>\n",
       "    <tr>\n",
       "      <th>54</th>\n",
       "      <td>26</td>\n",
       "      <td>GLYCEMIA_HYPOGLYCEMIA</td>\n",
       "      <td>0.004906</td>\n",
       "    </tr>\n",
       "    <tr>\n",
       "      <th>55</th>\n",
       "      <td>7</td>\n",
       "      <td>SBP</td>\n",
       "      <td>0.004430</td>\n",
       "    </tr>\n",
       "    <tr>\n",
       "      <th>56</th>\n",
       "      <td>19</td>\n",
       "      <td>ARDS_MODERATE ARDS</td>\n",
       "      <td>0.004429</td>\n",
       "    </tr>\n",
       "    <tr>\n",
       "      <th>57</th>\n",
       "      <td>51</td>\n",
       "      <td>PAYER_GROUP_Oth. Govt. or Mil.</td>\n",
       "      <td>0.004091</td>\n",
       "    </tr>\n",
       "    <tr>\n",
       "      <th>58</th>\n",
       "      <td>5</td>\n",
       "      <td>HRS</td>\n",
       "      <td>0.004087</td>\n",
       "    </tr>\n",
       "    <tr>\n",
       "      <th>59</th>\n",
       "      <td>18</td>\n",
       "      <td>ARDS_MILD ARDS</td>\n",
       "      <td>0.003733</td>\n",
       "    </tr>\n",
       "    <tr>\n",
       "      <th>60</th>\n",
       "      <td>56</td>\n",
       "      <td>RACE_GROUP_Hispanic</td>\n",
       "      <td>0.002854</td>\n",
       "    </tr>\n",
       "    <tr>\n",
       "      <th>61</th>\n",
       "      <td>55</td>\n",
       "      <td>RACE_GROUP_Asian/Pacific Islander</td>\n",
       "      <td>0.002809</td>\n",
       "    </tr>\n",
       "    <tr>\n",
       "      <th>62</th>\n",
       "      <td>52</td>\n",
       "      <td>PAYER_GROUP_Oth. NGO or Work Comp.</td>\n",
       "      <td>0.002744</td>\n",
       "    </tr>\n",
       "    <tr>\n",
       "      <th>63</th>\n",
       "      <td>57</td>\n",
       "      <td>RACE_GROUP_Not Specified</td>\n",
       "      <td>0.002631</td>\n",
       "    </tr>\n",
       "    <tr>\n",
       "      <th>64</th>\n",
       "      <td>20</td>\n",
       "      <td>ARDS_SEVERE ARDS</td>\n",
       "      <td>0.002362</td>\n",
       "    </tr>\n",
       "    <tr>\n",
       "      <th>65</th>\n",
       "      <td>62</td>\n",
       "      <td>DISCHARGE_CATEGORY_INPATIENT HOSPITAL</td>\n",
       "      <td>0.001915</td>\n",
       "    </tr>\n",
       "  </tbody>\n",
       "</table>\n",
       "<p>66 rows × 3 columns</p>\n",
       "</div>"
      ],
      "text/plain": [
       "    index                                           feature  importance\n",
       "0      14                                  ELIXHAUSER_INDEX    0.096392\n",
       "1      15                                           MELD_Na    0.092889\n",
       "2       0                                               ABX    0.040987\n",
       "3      21                   CRYST_RES_VOL_CATEGORY_(0, 500]    0.039150\n",
       "4      11                                       VASOPRESSOR    0.035237\n",
       "5      16                                AKI_CATEGORY2_MILD    0.032813\n",
       "6      28                      TIME_TO_ALB_CATEGORY_LOS_>24    0.030584\n",
       "7      65                            DISCHARGE_CATEGORY_SNF    0.023440\n",
       "8      12                                            FEMALE    0.022172\n",
       "9       2                                          DIURETIC    0.020988\n",
       "10     25                            GLYCEMIA_HYPERGLYCEMIA    0.017636\n",
       "11      6                                               LVP    0.017194\n",
       "12     49                              PAYER_GROUP_Medicare    0.016693\n",
       "13     32                                   AGE_GROUP_50-64    0.016580\n",
       "14     10                                       VENTILATION    0.016177\n",
       "15     46                                   INDEX_YEAR_2014    0.016153\n",
       "16     47                                   INDEX_YEAR_2015    0.015688\n",
       "17     17                              AKI_CATEGORY2_SEVERE    0.014806\n",
       "18      4                                                HE    0.014762\n",
       "19      8                                            SEPSIS    0.013930\n",
       "20      1                                      BETA_BLOCKER    0.013650\n",
       "21     33                                     AGE_GROUP_65+    0.013615\n",
       "22     48                              PAYER_GROUP_Medicaid    0.013591\n",
       "23      9                                          STEROIDS    0.013440\n",
       "24      3                                     GIDX_BLEEDING    0.013324\n",
       "25     45                                   INDEX_YEAR_2013    0.013238\n",
       "26     22                CRYST_RES_VOL_CATEGORY_(500, 1250]    0.013131\n",
       "27     39                           CENSUS_REGION_Northeast    0.013126\n",
       "28     36                                  BED_SIZE_300-499    0.013105\n",
       "29     31                                   AGE_GROUP_30-49    0.012991\n",
       "..    ...                                               ...         ...\n",
       "36     38                             CENSUS_REGION_Midwest    0.011366\n",
       "37     35                                  BED_SIZE_200-299    0.011215\n",
       "38     50                       PAYER_GROUP_Null or Exclude    0.011073\n",
       "39     44                                   INDEX_YEAR_2012    0.010563\n",
       "40     29                     ADMISSION_TYPE_GROUP_Elective    0.010223\n",
       "41     43                                   INDEX_YEAR_2011    0.009273\n",
       "42     34                                  BED_SIZE_100-199    0.009159\n",
       "43     27                  TIME_TO_ALB_CATEGORY_LOS_(0, 24]    0.009150\n",
       "44     59                   TEACHING_FACILITY_Not Specified    0.009082\n",
       "45     61                        DISCHARGE_CATEGORY_HOSPICE    0.008881\n",
       "46     40                                CENSUS_REGION_West    0.008748\n",
       "47     58                                  RACE_GROUP_Other    0.008641\n",
       "48     64  DISCHARGE_CATEGORY_OTHER POST-ACUTE CARE SETTING    0.008483\n",
       "49     42                                   INDEX_YEAR_2010    0.007790\n",
       "50     53                                  PAYER_GROUP_Self    0.007103\n",
       "51     23                       CRYST_RES_VOL_CATEGORY_NONE    0.006609\n",
       "52     41                                   INDEX_YEAR_2009    0.005923\n",
       "53     63                  DISCHARGE_CATEGORY_NOT SPECIFIED    0.005802\n",
       "54     26                             GLYCEMIA_HYPOGLYCEMIA    0.004906\n",
       "55      7                                               SBP    0.004430\n",
       "56     19                                ARDS_MODERATE ARDS    0.004429\n",
       "57     51                    PAYER_GROUP_Oth. Govt. or Mil.    0.004091\n",
       "58      5                                               HRS    0.004087\n",
       "59     18                                    ARDS_MILD ARDS    0.003733\n",
       "60     56                               RACE_GROUP_Hispanic    0.002854\n",
       "61     55                 RACE_GROUP_Asian/Pacific Islander    0.002809\n",
       "62     52                PAYER_GROUP_Oth. NGO or Work Comp.    0.002744\n",
       "63     57                          RACE_GROUP_Not Specified    0.002631\n",
       "64     20                                  ARDS_SEVERE ARDS    0.002362\n",
       "65     62             DISCHARGE_CATEGORY_INPATIENT HOSPITAL    0.001915\n",
       "\n",
       "[66 rows x 3 columns]"
      ]
     },
     "execution_count": 140,
     "metadata": {},
     "output_type": "execute_result"
    }
   ],
   "source": [
    "# sort dataframe by feature importances\n",
    "feature_importances_srt = feature_importances.sort_values(by='importance', ascending = False).reset_index()\n",
    "feature_importances_srt"
   ]
  },
  {
   "cell_type": "code",
   "execution_count": 141,
   "metadata": {
    "hidden": true
   },
   "outputs": [
    {
     "data": {
      "image/png": "[encoded data removed]",
      "text/plain": [
       "<Figure size 432x288 with 1 Axes>"
      ]
     },
     "metadata": {
      "needs_background": "light"
     },
     "output_type": "display_data"
    }
   ],
   "source": [
    "# plot Top 20 feature importances\n",
    "feature_importances_top20 = feature_importances_srt.iloc[0:20, :]\n",
    "feature_importances_top20.sort_values(by='importance', ascending = True, inplace = True)\n",
    "feature_importances_top20.plot(x = 'feature', y = 'importance', kind = 'barh', legend = False)\n",
    "plt.title('Feature Importance')\n",
    "plt.show()"
   ]
  },
  {
   "cell_type": "markdown",
   "metadata": {
    "heading_collapsed": true
   },
   "source": [
    "## Machine Learning Summary"
   ]
  },
  {
   "cell_type": "code",
   "execution_count": 142,
   "metadata": {
    "hidden": true
   },
   "outputs": [
    {
     "data": {
      "text/html": [
       "<div>\n",
       "<style scoped>\n",
       "    .dataframe tbody tr th:only-of-type {\n",
       "        vertical-align: middle;\n",
       "    }\n",
       "\n",
       "    .dataframe tbody tr th {\n",
       "        vertical-align: top;\n",
       "    }\n",
       "\n",
       "    .dataframe thead th {\n",
       "        text-align: right;\n",
       "    }\n",
       "</style>\n",
       "<table border=\"1\" class=\"dataframe\">\n",
       "  <thead>\n",
       "    <tr style=\"text-align: right;\">\n",
       "      <th></th>\n",
       "      <th>Model</th>\n",
       "      <th>Precision</th>\n",
       "      <th>Recall</th>\n",
       "      <th>F1</th>\n",
       "      <th>Accuracy</th>\n",
       "      <th>ROC AUC</th>\n",
       "      <th>Precision-Recall AUC</th>\n",
       "    </tr>\n",
       "  </thead>\n",
       "  <tbody>\n",
       "    <tr>\n",
       "      <th>0</th>\n",
       "      <td>Logistic Regression</td>\n",
       "      <td>0.76</td>\n",
       "      <td>0.70</td>\n",
       "      <td>0.73</td>\n",
       "      <td>0.74</td>\n",
       "      <td>0.82</td>\n",
       "      <td>0.83</td>\n",
       "    </tr>\n",
       "    <tr>\n",
       "      <th>1</th>\n",
       "      <td>Random Forests</td>\n",
       "      <td>0.75</td>\n",
       "      <td>0.72</td>\n",
       "      <td>0.74</td>\n",
       "      <td>0.74</td>\n",
       "      <td>0.82</td>\n",
       "      <td>0.83</td>\n",
       "    </tr>\n",
       "  </tbody>\n",
       "</table>\n",
       "</div>"
      ],
      "text/plain": [
       "                 Model  Precision  Recall    F1  Accuracy  ROC AUC  \\\n",
       "0  Logistic Regression       0.76    0.70  0.73      0.74     0.82   \n",
       "1       Random Forests       0.75    0.72  0.74      0.74     0.82   \n",
       "\n",
       "   Precision-Recall AUC  \n",
       "0                  0.83  \n",
       "1                  0.83  "
      ]
     },
     "execution_count": 142,
     "metadata": {},
     "output_type": "execute_result"
    }
   ],
   "source": [
    "metrics"
   ]
  },
  {
   "cell_type": "markdown",
   "metadata": {
    "hidden": true
   },
   "source": [
    "As is shown above, both Logistic Regression and Random Forests provide similar performance scores. "
   ]
  },
  {
   "cell_type": "markdown",
   "metadata": {
    "hidden": true
   },
   "source": [
    "The Random Forests Model shows the following features are in the **Top 20 list**:\n",
    "\n",
    "  + **Acute Kidney Injury (categorical)**\n",
    "  \n",
    "  + Acute Respiratory Distress Syndrome (categorical)\n",
    "\n",
    "  + **Antibiotics (binary)**\n",
    " \n",
    "  + Beta Blockers (binary)\n",
    "  \n",
    "  + **Volume of Crystalloids for Resuscitation (categorical)**\n",
    "  \n",
    "  + **Diuretics (binary)**\n",
    "  \n",
    "  + **Glucose Levels (categorical)**\n",
    "  \n",
    "  + **Hepatic Encephalopathy (binary)**\n",
    "  \n",
    "  + Hepatorenal Syndrome (binary)\n",
    "  \n",
    "  + **Large Volume Paracentesis (binary)**\n",
    "  \n",
    "  + Spontaneous Bacterial Peritonitis (binary)\n",
    "  \n",
    "  + **Sepsis (binary)**\n",
    "  \n",
    "  + Steroids (binary)\n",
    "  \n",
    "  + Time to Albumin (categorical)\n",
    "  \n",
    "  + Mechanical Ventilation (binary)\n",
    "  \n",
    "  + Vasopressors (binary)\n",
    "  \n",
    "  + **Elixhauser Index (continuous)**\n",
    "  \n",
    "  + **MELD-Na Score (continuous)**\n",
    "  \n",
    "  + Admission Type (categorical)\n",
    "  \n",
    "  + **Age Group (categorical)**\n",
    "  \n",
    "  + Bed Size (categorical)\n",
    "  \n",
    "  + Region (categorical)\n",
    "  \n",
    "  + **Gender (binary)**\n",
    "  \n",
    "  + **Year (categorical)**\n",
    "  \n",
    "  + **Payer (categorical)**\n",
    "  \n",
    "  + Race (categorical)\n",
    "  \n",
    "  + Teaching Facility (categorical)\n",
    "  \n",
    "  + Urban_Rural (binary)\n",
    "  \n",
    "  + **Discharge (categorical)**"
   ]
  },
  {
   "cell_type": "markdown",
   "metadata": {
    "heading_collapsed": true
   },
   "source": [
    "# Refine Model using Top Features"
   ]
  },
  {
   "cell_type": "markdown",
   "metadata": {
    "heading_collapsed": true,
    "hidden": true
   },
   "source": [
    "## Select Top Important Features"
   ]
  },
  {
   "cell_type": "code",
   "execution_count": 143,
   "metadata": {
    "hidden": true
   },
   "outputs": [
    {
     "data": {
      "text/plain": [
       "['ELIXHAUSER_INDEX',\n",
       " 'MELD_Na',\n",
       " 'ABX',\n",
       " 'CRYST_RES_VOL_CATEGORY_(0, 500]',\n",
       " 'VASOPRESSOR',\n",
       " 'AKI_CATEGORY2_MILD',\n",
       " 'TIME_TO_ALB_CATEGORY_LOS_>24',\n",
       " 'DISCHARGE_CATEGORY_SNF',\n",
       " 'FEMALE',\n",
       " 'DIURETIC']"
      ]
     },
     "execution_count": 143,
     "metadata": {},
     "output_type": "execute_result"
    }
   ],
   "source": [
    "# select Top 10 important features\n",
    "top10_features = list(feature_importances_srt.iloc[0:10, 1])\n",
    "top10_features"
   ]
  },
  {
   "cell_type": "code",
   "execution_count": 144,
   "metadata": {
    "hidden": true
   },
   "outputs": [],
   "source": [
    "# subset important features\n",
    "X_train_top = X_train[top10_features]\n",
    "X_test_top = X_test[top10_features]"
   ]
  },
  {
   "cell_type": "code",
   "execution_count": 145,
   "metadata": {
    "hidden": true
   },
   "outputs": [
    {
     "data": {
      "text/plain": [
       "StandardScaler(copy=True, with_mean=True, with_std=True)"
      ]
     },
     "execution_count": 145,
     "metadata": {},
     "output_type": "execute_result"
    }
   ],
   "source": [
    "# fit standardizer to training set\n",
    "standardizer_top = StandardScaler()\n",
    "standardizer_top.fit(X_train_top)"
   ]
  },
  {
   "cell_type": "code",
   "execution_count": 146,
   "metadata": {
    "hidden": true
   },
   "outputs": [],
   "source": [
    "# apply to both training and test sets\n",
    "X_train_top_std = standardizer_top.transform(X_train_top)\n",
    "X_test_top_std = standardizer_top.transform(X_test_top)"
   ]
  },
  {
   "cell_type": "markdown",
   "metadata": {
    "heading_collapsed": true,
    "hidden": true
   },
   "source": [
    "## Machine Learning Model - Refined Logistic Regression"
   ]
  },
  {
   "cell_type": "code",
   "execution_count": 147,
   "metadata": {
    "hidden": true
   },
   "outputs": [],
   "source": [
    "# create a refined Logistic model\n",
    "refined_logit = LogisticRegression(random_state = 12345)"
   ]
  },
  {
   "cell_type": "code",
   "execution_count": 148,
   "metadata": {
    "hidden": true
   },
   "outputs": [
    {
     "data": {
      "text/plain": [
       "LogisticRegression(C=1.0, class_weight=None, dual=False, fit_intercept=True,\n",
       "          intercept_scaling=1, max_iter=100, multi_class='warn',\n",
       "          n_jobs=None, penalty='l2', random_state=12345, solver='warn',\n",
       "          tol=0.0001, verbose=0, warm_start=False)"
      ]
     },
     "execution_count": 148,
     "metadata": {},
     "output_type": "execute_result"
    }
   ],
   "source": [
    "# train the model on training data\n",
    "refined_logit.fit(X_train_top_std , y_train)"
   ]
  },
  {
   "cell_type": "code",
   "execution_count": 149,
   "metadata": {
    "hidden": true
   },
   "outputs": [],
   "source": [
    "# predict test data\n",
    "y_pred_top_logit = refined_logit.predict(X_test_top_std)\n",
    "y_pred_prob_top_logit = refined_logit.predict_proba(X_test_top_std)"
   ]
  },
  {
   "cell_type": "code",
   "execution_count": 150,
   "metadata": {
    "hidden": true
   },
   "outputs": [
    {
     "data": {
      "image/png": "[encoded data removed]",
      "text/plain": [
       "<Figure size 432x288 with 2 Axes>"
      ]
     },
     "metadata": {
      "needs_background": "light"
     },
     "output_type": "display_data"
    }
   ],
   "source": [
    "# plot confusion matrix\n",
    "skplt.metrics.plot_confusion_matrix(y_test, y_pred_top_logit)\n",
    "plt.show()"
   ]
  },
  {
   "cell_type": "code",
   "execution_count": 151,
   "metadata": {
    "hidden": true
   },
   "outputs": [
    {
     "name": "stdout",
     "output_type": "stream",
     "text": [
      "True Negatives:  8581\n",
      "False Positives:  2640\n",
      "False Negatives:  3842\n",
      "True Positives:  7220\n",
      "Accuracy: 0.71:\n",
      "Precision: 0.73:\n",
      "Recall: 0.65:\n",
      "F1 Score: 0.69:\n"
     ]
    }
   ],
   "source": [
    "# calculate proformance metrics\n",
    "cm_matrix = confusion_matrix(y_test, y_pred_top_logit)\n",
    "tn, fp, fn, tp = cm_matrix.ravel()\n",
    "accuracy = (tn+tp)/(tp+tn+fp+fn)\n",
    "precision = tp/(tp+fp)\n",
    "recall = tp /(tp+fn)\n",
    "f1 = (2*precision*recall)/(precision+recall)\n",
    "print('True Negatives: ', tn)\n",
    "print('False Positives: ', fp)\n",
    "print('False Negatives: ', fn)\n",
    "print('True Positives: ', tp)\n",
    "print(\"Accuracy: {:0.2f}:\".format(accuracy))\n",
    "print(\"Precision: {:0.2f}:\".format(precision))\n",
    "print(\"Recall: {:0.2f}:\".format(recall))\n",
    "print(\"F1 Score: {:0.2f}:\".format(f1))"
   ]
  },
  {
   "cell_type": "code",
   "execution_count": 152,
   "metadata": {
    "hidden": true
   },
   "outputs": [
    {
     "name": "stdout",
     "output_type": "stream",
     "text": [
      "              precision    recall  f1-score   support\n",
      "\n",
      "           0       0.69      0.76      0.73     11221\n",
      "           1       0.73      0.65      0.69     11062\n",
      "\n",
      "   micro avg       0.71      0.71      0.71     22283\n",
      "   macro avg       0.71      0.71      0.71     22283\n",
      "weighted avg       0.71      0.71      0.71     22283\n",
      "\n"
     ]
    }
   ],
   "source": [
    "# print classification report\n",
    "print(classification_report(y_test, y_pred_top_logit))"
   ]
  },
  {
   "cell_type": "code",
   "execution_count": 153,
   "metadata": {
    "hidden": true
   },
   "outputs": [
    {
     "data": {
      "image/png": "[encoded data removed]",
      "text/plain": [
       "<Figure size 432x288 with 1 Axes>"
      ]
     },
     "metadata": {
      "needs_background": "light"
     },
     "output_type": "display_data"
    }
   ],
   "source": [
    "# plot ROC curves\n",
    "skplt.metrics.plot_roc_curve(y_test, y_pred_prob_top_logit, curves = ('each_class'))\n",
    "plt.show()"
   ]
  },
  {
   "cell_type": "code",
   "execution_count": 154,
   "metadata": {
    "hidden": true
   },
   "outputs": [
    {
     "data": {
      "image/png": "[encoded data removed]",
      "text/plain": [
       "<Figure size 432x288 with 1 Axes>"
      ]
     },
     "metadata": {
      "needs_background": "light"
     },
     "output_type": "display_data"
    }
   ],
   "source": [
    "# plot Precision-Recall curve\n",
    "skplt.metrics.plot_precision_recall_curve(y_test, y_pred_prob_top_logit, curves = ('each_class'))\n",
    "plt.show()"
   ]
  },
  {
   "cell_type": "code",
   "execution_count": 155,
   "metadata": {
    "hidden": true
   },
   "outputs": [
    {
     "data": {
      "text/html": [
       "<div>\n",
       "<style scoped>\n",
       "    .dataframe tbody tr th:only-of-type {\n",
       "        vertical-align: middle;\n",
       "    }\n",
       "\n",
       "    .dataframe tbody tr th {\n",
       "        vertical-align: top;\n",
       "    }\n",
       "\n",
       "    .dataframe thead th {\n",
       "        text-align: right;\n",
       "    }\n",
       "</style>\n",
       "<table border=\"1\" class=\"dataframe\">\n",
       "  <thead>\n",
       "    <tr style=\"text-align: right;\">\n",
       "      <th></th>\n",
       "      <th>Model</th>\n",
       "      <th>Precision</th>\n",
       "      <th>Recall</th>\n",
       "      <th>F1</th>\n",
       "      <th>Accuracy</th>\n",
       "      <th>ROC AUC</th>\n",
       "      <th>Precision-Recall AUC</th>\n",
       "    </tr>\n",
       "  </thead>\n",
       "  <tbody>\n",
       "    <tr>\n",
       "      <th>2</th>\n",
       "      <td>Refined Logistic Regression</td>\n",
       "      <td>0.73</td>\n",
       "      <td>0.65</td>\n",
       "      <td>0.69</td>\n",
       "      <td>0.71</td>\n",
       "      <td>0.78</td>\n",
       "      <td>0.79</td>\n",
       "    </tr>\n",
       "  </tbody>\n",
       "</table>\n",
       "</div>"
      ],
      "text/plain": [
       "                         Model  Precision  Recall    F1  Accuracy  ROC AUC  \\\n",
       "2  Refined Logistic Regression       0.73    0.65  0.69      0.71     0.78   \n",
       "\n",
       "   Precision-Recall AUC  \n",
       "2                  0.79  "
      ]
     },
     "execution_count": 155,
     "metadata": {},
     "output_type": "execute_result"
    }
   ],
   "source": [
    "# store proformance metrics\n",
    "col_names = ['Model', 'Precision', 'Recall', 'F1', 'Accuracy', 'ROC AUC', 'Precision-Recall AUC']\n",
    "metrics_refined = pd.DataFrame(columns = col_names)\n",
    "logit_refined_metric = {'Model': 'Refined Logistic Regression', 'Precision': 0.73, 'Recall': 0.65, \n",
    "                'F1': 0.69, 'Accuracy': 0.71, 'ROC AUC': 0.78, 'Precision-Recall AUC': 0.79}\n",
    "metrics_refined.loc[len(metrics)] = logit_refined_metric\n",
    "metrics_refined"
   ]
  },
  {
   "cell_type": "markdown",
   "metadata": {
    "heading_collapsed": true,
    "hidden": true
   },
   "source": [
    "## Machine Learning Model - Refined Random Forests"
   ]
  },
  {
   "cell_type": "code",
   "execution_count": 156,
   "metadata": {
    "hidden": true
   },
   "outputs": [],
   "source": [
    "# create a refined Random Forest model\n",
    "refined_rf = RandomForestClassifier(n_estimators = 1000, random_state = 12345)"
   ]
  },
  {
   "cell_type": "code",
   "execution_count": 157,
   "metadata": {
    "hidden": true
   },
   "outputs": [
    {
     "data": {
      "text/plain": [
       "RandomForestClassifier(bootstrap=True, class_weight=None, criterion='gini',\n",
       "            max_depth=None, max_features='auto', max_leaf_nodes=None,\n",
       "            min_impurity_decrease=0.0, min_impurity_split=None,\n",
       "            min_samples_leaf=1, min_samples_split=2,\n",
       "            min_weight_fraction_leaf=0.0, n_estimators=1000, n_jobs=None,\n",
       "            oob_score=False, random_state=12345, verbose=0,\n",
       "            warm_start=False)"
      ]
     },
     "execution_count": 157,
     "metadata": {},
     "output_type": "execute_result"
    }
   ],
   "source": [
    "# train the model on training data\n",
    "refined_rf.fit(X_train_top_std, y_train)"
   ]
  },
  {
   "cell_type": "code",
   "execution_count": 158,
   "metadata": {
    "hidden": true
   },
   "outputs": [],
   "source": [
    "# predict test data\n",
    "y_pred_top_rf = refined_rf.predict(X_test_top_std)\n",
    "y_pred_prob_top_rf = refined_rf.predict_proba(X_test_top_std)"
   ]
  },
  {
   "cell_type": "code",
   "execution_count": 159,
   "metadata": {
    "hidden": true
   },
   "outputs": [
    {
     "data": {
      "image/png": "[encoded data removed]",
      "text/plain": [
       "<Figure size 432x288 with 2 Axes>"
      ]
     },
     "metadata": {
      "needs_background": "light"
     },
     "output_type": "display_data"
    }
   ],
   "source": [
    "# plot confusion matrix\n",
    "skplt.metrics.plot_confusion_matrix(y_test, y_pred_top_rf)\n",
    "plt.show()"
   ]
  },
  {
   "cell_type": "code",
   "execution_count": 160,
   "metadata": {
    "hidden": true
   },
   "outputs": [
    {
     "name": "stdout",
     "output_type": "stream",
     "text": [
      "True Negatives:  7828\n",
      "False Positives:  3393\n",
      "False Negatives:  3909\n",
      "True Positives:  7153\n",
      "Accuracy: 0.67:\n",
      "Precision: 0.68:\n",
      "Recall: 0.65:\n",
      "F1 Score: 0.66:\n"
     ]
    }
   ],
   "source": [
    "# calculate proformance metrics\n",
    "cm_matrix = confusion_matrix(y_test, y_pred_top_rf)\n",
    "tn, fp, fn, tp = cm_matrix.ravel()\n",
    "accuracy = (tn+tp)/(tp+tn+fp+fn)\n",
    "precision = tp/(tp+fp)\n",
    "recall = tp /(tp+fn)\n",
    "f1 = (2*precision*recall)/(precision+recall)\n",
    "print('True Negatives: ', tn)\n",
    "print('False Positives: ', fp)\n",
    "print('False Negatives: ', fn)\n",
    "print('True Positives: ', tp)\n",
    "print(\"Accuracy: {:0.2f}:\".format(accuracy))\n",
    "print(\"Precision: {:0.2f}:\".format(precision))\n",
    "print(\"Recall: {:0.2f}:\".format(recall))\n",
    "print(\"F1 Score: {:0.2f}:\".format(f1))"
   ]
  },
  {
   "cell_type": "code",
   "execution_count": 161,
   "metadata": {
    "hidden": true
   },
   "outputs": [
    {
     "name": "stdout",
     "output_type": "stream",
     "text": [
      "              precision    recall  f1-score   support\n",
      "\n",
      "           0       0.67      0.70      0.68     11221\n",
      "           1       0.68      0.65      0.66     11062\n",
      "\n",
      "   micro avg       0.67      0.67      0.67     22283\n",
      "   macro avg       0.67      0.67      0.67     22283\n",
      "weighted avg       0.67      0.67      0.67     22283\n",
      "\n"
     ]
    }
   ],
   "source": [
    "# print classification report\n",
    "print(classification_report(y_test, y_pred_top_rf))"
   ]
  },
  {
   "cell_type": "code",
   "execution_count": 162,
   "metadata": {
    "hidden": true
   },
   "outputs": [
    {
     "data": {
      "image/png": "[encoded data removed]",
      "text/plain": [
       "<Figure size 432x288 with 1 Axes>"
      ]
     },
     "metadata": {
      "needs_background": "light"
     },
     "output_type": "display_data"
    }
   ],
   "source": [
    "# plot ROC curves\n",
    "skplt.metrics.plot_roc_curve(y_test, y_pred_prob_top_rf, curves = ('each_class'))\n",
    "plt.show()"
   ]
  },
  {
   "cell_type": "code",
   "execution_count": 163,
   "metadata": {
    "hidden": true
   },
   "outputs": [
    {
     "data": {
      "image/png": "[encoded data removed]",
      "text/plain": [
       "<Figure size 432x288 with 1 Axes>"
      ]
     },
     "metadata": {
      "needs_background": "light"
     },
     "output_type": "display_data"
    }
   ],
   "source": [
    "# plot Precision-Recall curve\n",
    "skplt.metrics.plot_precision_recall_curve(y_test, y_pred_prob_top_rf, curves = ('each_class'))\n",
    "plt.show()"
   ]
  },
  {
   "cell_type": "code",
   "execution_count": 164,
   "metadata": {
    "hidden": true
   },
   "outputs": [
    {
     "data": {
      "text/html": [
       "<div>\n",
       "<style scoped>\n",
       "    .dataframe tbody tr th:only-of-type {\n",
       "        vertical-align: middle;\n",
       "    }\n",
       "\n",
       "    .dataframe tbody tr th {\n",
       "        vertical-align: top;\n",
       "    }\n",
       "\n",
       "    .dataframe thead th {\n",
       "        text-align: right;\n",
       "    }\n",
       "</style>\n",
       "<table border=\"1\" class=\"dataframe\">\n",
       "  <thead>\n",
       "    <tr style=\"text-align: right;\">\n",
       "      <th></th>\n",
       "      <th>Model</th>\n",
       "      <th>Precision</th>\n",
       "      <th>Recall</th>\n",
       "      <th>F1</th>\n",
       "      <th>Accuracy</th>\n",
       "      <th>ROC AUC</th>\n",
       "      <th>Precision-Recall AUC</th>\n",
       "    </tr>\n",
       "  </thead>\n",
       "  <tbody>\n",
       "    <tr>\n",
       "      <th>2</th>\n",
       "      <td>Refined Logistic Regression</td>\n",
       "      <td>0.73</td>\n",
       "      <td>0.65</td>\n",
       "      <td>0.69</td>\n",
       "      <td>0.71</td>\n",
       "      <td>0.78</td>\n",
       "      <td>0.79</td>\n",
       "    </tr>\n",
       "    <tr>\n",
       "      <th>1</th>\n",
       "      <td>Refined Random Forests</td>\n",
       "      <td>0.68</td>\n",
       "      <td>0.65</td>\n",
       "      <td>0.66</td>\n",
       "      <td>0.67</td>\n",
       "      <td>0.73</td>\n",
       "      <td>0.73</td>\n",
       "    </tr>\n",
       "  </tbody>\n",
       "</table>\n",
       "</div>"
      ],
      "text/plain": [
       "                         Model  Precision  Recall    F1  Accuracy  ROC AUC  \\\n",
       "2  Refined Logistic Regression       0.73    0.65  0.69      0.71     0.78   \n",
       "1       Refined Random Forests       0.68    0.65  0.66      0.67     0.73   \n",
       "\n",
       "   Precision-Recall AUC  \n",
       "2                  0.79  \n",
       "1                  0.73  "
      ]
     },
     "execution_count": 164,
     "metadata": {},
     "output_type": "execute_result"
    }
   ],
   "source": [
    "# store proformance metrics\n",
    "rf_refined_metric = {'Model': 'Refined Random Forests', 'Precision': 0.68, 'Recall': 0.65, \n",
    "                'F1': 0.66, 'Accuracy': 0.67, 'ROC AUC': 0.73, 'Precision-Recall AUC': 0.73}\n",
    "metrics_refined.loc[len(metrics_refined)] = rf_refined_metric\n",
    "metrics_refined"
   ]
  },
  {
   "cell_type": "markdown",
   "metadata": {
    "heading_collapsed": true
   },
   "source": [
    "# Conclusion"
   ]
  },
  {
   "cell_type": "markdown",
   "metadata": {
    "hidden": true
   },
   "source": [
    "The major difference between machine learning and classical statistics is their purpose. Machine learning models are designed to make the most accurate predictions possible. Classical statistical models are designed for inference about the relationships between variables. \n",
    "\n",
    "While there is room for improvement in the proformance of machine learning for the cirrhosis study, machine learning models can complement classical statistical models and have promising potential for complicated problems."
   ]
  }
 ],
 "metadata": {
  "kernelspec": {
   "display_name": "Python 3",
   "language": "python",
   "name": "python3"
  },
  "language_info": {
   "codemirror_mode": {
    "name": "ipython",
    "version": 3
   },
   "file_extension": ".py",
   "mimetype": "text/x-python",
   "name": "python",
   "nbconvert_exporter": "python",
   "pygments_lexer": "ipython3",
   "version": "3.7.1"
  },
  "toc": {
   "base_numbering": 1,
   "nav_menu": {},
   "number_sections": true,
   "sideBar": true,
   "skip_h1_title": false,
   "title_cell": "Table of Contents",
   "title_sidebar": "Contents",
   "toc_cell": false,
   "toc_position": {},
   "toc_section_display": true,
   "toc_window_display": false
  },
  "varInspector": {
   "cols": {
    "lenName": 16,
    "lenType": 16,
    "lenVar": 40
   },
   "kernels_config": {
    "python": {
     "delete_cmd_postfix": "",
     "delete_cmd_prefix": "del ",
     "library": "var_list.py",
     "varRefreshCmd": "print(var_dic_list())"
    },
    "r": {
     "delete_cmd_postfix": ") ",
     "delete_cmd_prefix": "rm(",
     "library": "var_list.r",
     "varRefreshCmd": "cat(var_dic_list()) "
    }
   },
   "types_to_exclude": [
    "module",
    "function",
    "builtin_function_or_method",
    "instance",
    "_Feature"
   ],
   "window_display": false
  }
 },
 "nbformat": 4,
 "nbformat_minor": 2
}
